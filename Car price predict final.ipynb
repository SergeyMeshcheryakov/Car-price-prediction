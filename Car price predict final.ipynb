{
 "cells": [
  {
   "cell_type": "markdown",
   "id": "ce204a41",
   "metadata": {},
   "source": [
    "# **Цель проекта**"
   ]
  },
  {
   "cell_type": "markdown",
   "id": "8a2aea03",
   "metadata": {},
   "source": [
    "\n",
    "**Создание модели на основе данных, собранных из открытых источников, которая будет предсказывать стоимость автомобиля на вторичном рынке по его характеристикам с целью нахождения предложений ниже среднего по рынку**"
   ]
  },
  {
   "cell_type": "markdown",
   "id": "a36de820",
   "metadata": {},
   "source": [
    "# Подготовка"
   ]
  },
  {
   "cell_type": "markdown",
   "id": "992ceb21",
   "metadata": {},
   "source": [
    "## Загрузка данных и подключение необходимых библиотек"
   ]
  },
  {
   "cell_type": "code",
   "execution_count": null,
   "id": "5acae545",
   "metadata": {},
   "outputs": [],
   "source": [
    "# pip install catboost"
   ]
  },
  {
   "cell_type": "code",
   "execution_count": 2,
   "id": "3f5p6Vpx5Xhs",
   "metadata": {
    "executionInfo": {
     "elapsed": 263,
     "status": "ok",
     "timestamp": 1627470992816,
     "user": {
      "displayName": "Сергей",
      "photoUrl": "",
      "userId": "16958243466904798794"
     },
     "user_tz": -180
    },
    "id": "3f5p6Vpx5Xhs"
   },
   "outputs": [],
   "source": [
    "# pip install --upgrade pandas --user"
   ]
  },
  {
   "cell_type": "code",
   "execution_count": 3,
   "id": "cf2480c4",
   "metadata": {
    "executionInfo": {
     "elapsed": 11,
     "status": "ok",
     "timestamp": 1627470992818,
     "user": {
      "displayName": "Сергей",
      "photoUrl": "",
      "userId": "16958243466904798794"
     },
     "user_tz": -180
    },
    "id": "cf2480c4"
   },
   "outputs": [],
   "source": [
    "# !pip install pandas-profiling==2.7.1 # необходимо выполнить при запуске ноутбука в colab"
   ]
  },
  {
   "cell_type": "code",
   "execution_count": 4,
   "id": "dom8kLhAXLEA",
   "metadata": {
    "executionInfo": {
     "elapsed": 11,
     "status": "ok",
     "timestamp": 1627470992819,
     "user": {
      "displayName": "Сергей",
      "photoUrl": "",
      "userId": "16958243466904798794"
     },
     "user_tz": -180
    },
    "id": "dom8kLhAXLEA"
   },
   "outputs": [],
   "source": [
    "# pip install -U scikit-learn # если версия <0.24"
   ]
  },
  {
   "cell_type": "code",
   "execution_count": 5,
   "id": "j9ApHWso4_7N",
   "metadata": {
    "executionInfo": {
     "elapsed": 769,
     "status": "ok",
     "timestamp": 1627470993578,
     "user": {
      "displayName": "Сергей",
      "photoUrl": "",
      "userId": "16958243466904798794"
     },
     "user_tz": -180
    },
    "id": "j9ApHWso4_7N"
   },
   "outputs": [],
   "source": [
    "import pandas as pd\n",
    "import numpy as np\n",
    "import re\n",
    "import pandas_profiling\n",
    "from pandas_profiling import ProfileReport\n",
    "from unicodedata import normalize\n",
    "from pandas.api.types import CategoricalDtype\n",
    "# import lazypredict\n",
    "import seaborn as sns\n",
    "import matplotlib.pyplot as plt\n",
    "import lightgbm as lgb\n",
    "%matplotlib inline\n",
    "\n",
    "from sklearn.model_selection import train_test_split, KFold\n",
    "from sklearn.metrics import mean_absolute_percentage_error # версия sklearn должна быть >= 0.24\n",
    "from sklearn.preprocessing import LabelEncoder\n",
    "from sklearn.linear_model import LinearRegression\n",
    "from sklearn.ensemble import RandomForestRegressor\n",
    "from sklearn.ensemble import ExtraTreesRegressor\n",
    "from sklearn.ensemble import BaggingRegressor\n",
    "from sklearn.ensemble import GradientBoostingRegressor\n",
    "from sklearn.ensemble import StackingRegressor\n",
    "from sklearn.tree import DecisionTreeRegressor\n",
    "from sklearn.neighbors import KNeighborsRegressor\n",
    "from catboost import CatBoostRegressor\n",
    "\n",
    "np.set_printoptions(threshold=100, edgeitems=10)\n",
    "pd.set_option('display.max_columns',None)\n",
    "# pd.set_option('display.float_format','{:,.4f}'.format)"
   ]
  },
  {
   "cell_type": "code",
   "execution_count": 6,
   "id": "c1af19fd",
   "metadata": {
    "colab": {
     "base_uri": "https://localhost:8080/",
     "height": 315
    },
    "executionInfo": {
     "elapsed": 1546,
     "status": "ok",
     "timestamp": 1627470995120,
     "user": {
      "displayName": "Сергей",
      "photoUrl": "",
      "userId": "16958243466904798794"
     },
     "user_tz": -180
    },
    "id": "c1af19fd",
    "outputId": "ad52c4b2-33a4-4756-b365-94711ca85e4d"
   },
   "outputs": [
    {
     "data": {
      "text/html": [
       "<div>\n",
       "<style scoped>\n",
       "    .dataframe tbody tr th:only-of-type {\n",
       "        vertical-align: middle;\n",
       "    }\n",
       "\n",
       "    .dataframe tbody tr th {\n",
       "        vertical-align: top;\n",
       "    }\n",
       "\n",
       "    .dataframe thead th {\n",
       "        text-align: right;\n",
       "    }\n",
       "</style>\n",
       "<table border=\"1\" class=\"dataframe\">\n",
       "  <thead>\n",
       "    <tr style=\"text-align: right;\">\n",
       "      <th></th>\n",
       "      <th>owners</th>\n",
       "      <th>length_of_ownership</th>\n",
       "      <th>engine</th>\n",
       "      <th>vehicleTransmission</th>\n",
       "      <th>bodyType</th>\n",
       "      <th>vehicle_passport</th>\n",
       "      <th>vehicle_drive</th>\n",
       "      <th>mileage</th>\n",
       "      <th>steering</th>\n",
       "      <th>color</th>\n",
       "      <th>brand</th>\n",
       "      <th>productionDate</th>\n",
       "      <th>model_name</th>\n",
       "      <th>vehicle_price</th>\n",
       "    </tr>\n",
       "  </thead>\n",
       "  <tbody>\n",
       "    <tr>\n",
       "      <th>0</th>\n",
       "      <td>1 владелец</td>\n",
       "      <td>NaN</td>\n",
       "      <td>1.4 л / 150 л.с. / Бензин</td>\n",
       "      <td>роботизированная</td>\n",
       "      <td>седан</td>\n",
       "      <td>Оригинал</td>\n",
       "      <td>передний</td>\n",
       "      <td>13 000 км</td>\n",
       "      <td>Левый</td>\n",
       "      <td>белый</td>\n",
       "      <td>Audi</td>\n",
       "      <td>2019</td>\n",
       "      <td>A3 III (8V) Рестайлинг</td>\n",
       "      <td>1 550 000 ₽</td>\n",
       "    </tr>\n",
       "    <tr>\n",
       "      <th>1</th>\n",
       "      <td>3 или более</td>\n",
       "      <td>3 месяца</td>\n",
       "      <td>4.2 л / 450 л.с. / Бензин</td>\n",
       "      <td>роботизированная</td>\n",
       "      <td>универсал 5 дв.</td>\n",
       "      <td>Оригинал</td>\n",
       "      <td>полный</td>\n",
       "      <td>122 000 км</td>\n",
       "      <td>Левый</td>\n",
       "      <td>синий</td>\n",
       "      <td>Audi</td>\n",
       "      <td>2013</td>\n",
       "      <td>RS 4 III (B8)</td>\n",
       "      <td>2 100 000 ₽</td>\n",
       "    </tr>\n",
       "    <tr>\n",
       "      <th>2</th>\n",
       "      <td>3 или более</td>\n",
       "      <td>3 года и 3 месяца</td>\n",
       "      <td>2.0 л / 225 л.с. / Бензин</td>\n",
       "      <td>роботизированная</td>\n",
       "      <td>лифтбек</td>\n",
       "      <td>Оригинал</td>\n",
       "      <td>полный</td>\n",
       "      <td>95 000 км</td>\n",
       "      <td>Левый</td>\n",
       "      <td>коричневый</td>\n",
       "      <td>Audi</td>\n",
       "      <td>2014</td>\n",
       "      <td>A5 Sportback I (8T) Рестайлинг</td>\n",
       "      <td>1 600 000 ₽</td>\n",
       "    </tr>\n",
       "  </tbody>\n",
       "</table>\n",
       "</div>"
      ],
      "text/plain": [
       "        owners length_of_ownership                     engine  \\\n",
       "0   1 владелец                 NaN  1.4 л / 150 л.с. / Бензин   \n",
       "1  3 или более            3 месяца  4.2 л / 450 л.с. / Бензин   \n",
       "2  3 или более   3 года и 3 месяца  2.0 л / 225 л.с. / Бензин   \n",
       "\n",
       "  vehicleTransmission         bodyType vehicle_passport vehicle_drive  \\\n",
       "0    роботизированная            седан         Оригинал      передний   \n",
       "1    роботизированная  универсал 5 дв.         Оригинал        полный   \n",
       "2    роботизированная          лифтбек         Оригинал        полный   \n",
       "\n",
       "      mileage steering       color brand  productionDate  \\\n",
       "0   13 000 км    Левый       белый  Audi            2019   \n",
       "1  122 000 км    Левый       синий  Audi            2013   \n",
       "2   95 000 км    Левый  коричневый  Audi            2014   \n",
       "\n",
       "                       model_name vehicle_price  \n",
       "0          A3 III (8V) Рестайлинг   1 550 000 ₽  \n",
       "1                   RS 4 III (B8)   2 100 000 ₽  \n",
       "2  A5 Sportback I (8T) Рестайлинг   1 600 000 ₽  "
      ]
     },
     "execution_count": 6,
     "metadata": {},
     "output_type": "execute_result"
    }
   ],
   "source": [
    "df = pd.read_csv('parsing_data_07_2021.csv') # данные, полученнные с auto.ru\n",
    "test = pd.read_csv('test_kaggle.csv')\n",
    "df.head(3)"
   ]
  },
  {
   "cell_type": "code",
   "execution_count": 7,
   "id": "d942aed7",
   "metadata": {
    "colab": {
     "base_uri": "https://localhost:8080/",
     "height": 366
    },
    "executionInfo": {
     "elapsed": 131,
     "status": "ok",
     "timestamp": 1627470995122,
     "user": {
      "displayName": "Сергей",
      "photoUrl": "",
      "userId": "16958243466904798794"
     },
     "user_tz": -180
    },
    "id": "d942aed7",
    "outputId": "66c18af9-fac0-4d86-e384-9471bd39b753"
   },
   "outputs": [
    {
     "data": {
      "text/html": [
       "<div>\n",
       "<style scoped>\n",
       "    .dataframe tbody tr th:only-of-type {\n",
       "        vertical-align: middle;\n",
       "    }\n",
       "\n",
       "    .dataframe tbody tr th {\n",
       "        vertical-align: top;\n",
       "    }\n",
       "\n",
       "    .dataframe thead th {\n",
       "        text-align: right;\n",
       "    }\n",
       "</style>\n",
       "<table border=\"1\" class=\"dataframe\">\n",
       "  <thead>\n",
       "    <tr style=\"text-align: right;\">\n",
       "      <th></th>\n",
       "      <th>bodyType</th>\n",
       "      <th>brand</th>\n",
       "      <th>car_url</th>\n",
       "      <th>color</th>\n",
       "      <th>complectation_dict</th>\n",
       "      <th>description</th>\n",
       "      <th>engineDisplacement</th>\n",
       "      <th>enginePower</th>\n",
       "      <th>equipment_dict</th>\n",
       "      <th>fuelType</th>\n",
       "      <th>image</th>\n",
       "      <th>mileage</th>\n",
       "      <th>modelDate</th>\n",
       "      <th>model_info</th>\n",
       "      <th>model_name</th>\n",
       "      <th>name</th>\n",
       "      <th>numberOfDoors</th>\n",
       "      <th>parsing_unixtime</th>\n",
       "      <th>priceCurrency</th>\n",
       "      <th>productionDate</th>\n",
       "      <th>sell_id</th>\n",
       "      <th>super_gen</th>\n",
       "      <th>vehicleConfiguration</th>\n",
       "      <th>vehicleTransmission</th>\n",
       "      <th>vendor</th>\n",
       "      <th>Владельцы</th>\n",
       "      <th>Владение</th>\n",
       "      <th>ПТС</th>\n",
       "      <th>Привод</th>\n",
       "      <th>Руль</th>\n",
       "      <th>Состояние</th>\n",
       "      <th>Таможня</th>\n",
       "    </tr>\n",
       "  </thead>\n",
       "  <tbody>\n",
       "    <tr>\n",
       "      <th>0</th>\n",
       "      <td>лифтбек</td>\n",
       "      <td>SKODA</td>\n",
       "      <td>https://auto.ru/cars/used/sale/skoda/octavia/1...</td>\n",
       "      <td>синий</td>\n",
       "      <td>NaN</td>\n",
       "      <td>Все автомобили, представленные в продаже, прох...</td>\n",
       "      <td>1.2 LTR</td>\n",
       "      <td>105 N12</td>\n",
       "      <td>{\"engine-proof\":true,\"tinted-glass\":true,\"airb...</td>\n",
       "      <td>бензин</td>\n",
       "      <td>https://autoru.naydex.net/o9DBXQ270/5ac010hAY0...</td>\n",
       "      <td>74000</td>\n",
       "      <td>2013</td>\n",
       "      <td>{\"code\":\"OCTAVIA\",\"name\":\"Octavia\",\"ru_name\":\"...</td>\n",
       "      <td>OCTAVIA</td>\n",
       "      <td>1.2 AMT (105 л.с.)</td>\n",
       "      <td>5</td>\n",
       "      <td>1603226273</td>\n",
       "      <td>RUB</td>\n",
       "      <td>2014</td>\n",
       "      <td>1100575026</td>\n",
       "      <td>{\"id\":\"10373605\",\"displacement\":1197,\"engine_t...</td>\n",
       "      <td>LIFTBACK ROBOT 1.2</td>\n",
       "      <td>роботизированная</td>\n",
       "      <td>EUROPEAN</td>\n",
       "      <td>3 или более</td>\n",
       "      <td>NaN</td>\n",
       "      <td>Оригинал</td>\n",
       "      <td>передний</td>\n",
       "      <td>Левый</td>\n",
       "      <td>Не требует ремонта</td>\n",
       "      <td>Растаможен</td>\n",
       "    </tr>\n",
       "    <tr>\n",
       "      <th>1</th>\n",
       "      <td>лифтбек</td>\n",
       "      <td>SKODA</td>\n",
       "      <td>https://auto.ru/cars/used/sale/skoda/octavia/1...</td>\n",
       "      <td>чёрный</td>\n",
       "      <td>NaN</td>\n",
       "      <td>ЛОТ: 01217195\\nАвтопрага Север\\nДанный автомоб...</td>\n",
       "      <td>1.6 LTR</td>\n",
       "      <td>110 N12</td>\n",
       "      <td>{\"cruise-control\":true,\"asr\":true,\"esp\":true,\"...</td>\n",
       "      <td>бензин</td>\n",
       "      <td>https://autoru.naydex.net/o9DBXQ270/5ac010hAY0...</td>\n",
       "      <td>60563</td>\n",
       "      <td>2017</td>\n",
       "      <td>{\"code\":\"OCTAVIA\",\"name\":\"Octavia\",\"ru_name\":\"...</td>\n",
       "      <td>OCTAVIA</td>\n",
       "      <td>1.6 MT (110 л.с.)</td>\n",
       "      <td>5</td>\n",
       "      <td>1603226277</td>\n",
       "      <td>RUB</td>\n",
       "      <td>2017</td>\n",
       "      <td>1100549428</td>\n",
       "      <td>{\"id\":\"20913311\",\"displacement\":1598,\"engine_t...</td>\n",
       "      <td>LIFTBACK MECHANICAL 1.6</td>\n",
       "      <td>механическая</td>\n",
       "      <td>EUROPEAN</td>\n",
       "      <td>1 владелец</td>\n",
       "      <td>NaN</td>\n",
       "      <td>Оригинал</td>\n",
       "      <td>передний</td>\n",
       "      <td>Левый</td>\n",
       "      <td>Не требует ремонта</td>\n",
       "      <td>Растаможен</td>\n",
       "    </tr>\n",
       "    <tr>\n",
       "      <th>2</th>\n",
       "      <td>лифтбек</td>\n",
       "      <td>SKODA</td>\n",
       "      <td>https://auto.ru/cars/used/sale/skoda/superb/11...</td>\n",
       "      <td>серый</td>\n",
       "      <td>{\"id\":\"20026336\",\"name\":\"Ambition\",\"available_...</td>\n",
       "      <td>Все автомобили, представленные в продаже, прох...</td>\n",
       "      <td>1.8 LTR</td>\n",
       "      <td>152 N12</td>\n",
       "      <td>{\"cruise-control\":true,\"tinted-glass\":true,\"es...</td>\n",
       "      <td>бензин</td>\n",
       "      <td>https://avatars.mds.yandex.net/get-autoru-vos/...</td>\n",
       "      <td>88000</td>\n",
       "      <td>2013</td>\n",
       "      <td>{\"code\":\"SUPERB\",\"name\":\"Superb\",\"ru_name\":\"Су...</td>\n",
       "      <td>SUPERB</td>\n",
       "      <td>DSG 1.8 AMT (152 л.с.)</td>\n",
       "      <td>5</td>\n",
       "      <td>1603226280</td>\n",
       "      <td>RUB</td>\n",
       "      <td>2014</td>\n",
       "      <td>1100658222</td>\n",
       "      <td>{\"id\":\"20026323\",\"nameplate\":\"DSG\",\"displaceme...</td>\n",
       "      <td>LIFTBACK ROBOT 1.8</td>\n",
       "      <td>роботизированная</td>\n",
       "      <td>EUROPEAN</td>\n",
       "      <td>1 владелец</td>\n",
       "      <td>NaN</td>\n",
       "      <td>Оригинал</td>\n",
       "      <td>передний</td>\n",
       "      <td>Левый</td>\n",
       "      <td>Не требует ремонта</td>\n",
       "      <td>Растаможен</td>\n",
       "    </tr>\n",
       "  </tbody>\n",
       "</table>\n",
       "</div>"
      ],
      "text/plain": [
       "  bodyType  brand                                            car_url   color  \\\n",
       "0  лифтбек  SKODA  https://auto.ru/cars/used/sale/skoda/octavia/1...   синий   \n",
       "1  лифтбек  SKODA  https://auto.ru/cars/used/sale/skoda/octavia/1...  чёрный   \n",
       "2  лифтбек  SKODA  https://auto.ru/cars/used/sale/skoda/superb/11...   серый   \n",
       "\n",
       "                                  complectation_dict  \\\n",
       "0                                                NaN   \n",
       "1                                                NaN   \n",
       "2  {\"id\":\"20026336\",\"name\":\"Ambition\",\"available_...   \n",
       "\n",
       "                                         description engineDisplacement  \\\n",
       "0  Все автомобили, представленные в продаже, прох...            1.2 LTR   \n",
       "1  ЛОТ: 01217195\\nАвтопрага Север\\nДанный автомоб...            1.6 LTR   \n",
       "2  Все автомобили, представленные в продаже, прох...            1.8 LTR   \n",
       "\n",
       "  enginePower                                     equipment_dict fuelType  \\\n",
       "0     105 N12  {\"engine-proof\":true,\"tinted-glass\":true,\"airb...   бензин   \n",
       "1     110 N12  {\"cruise-control\":true,\"asr\":true,\"esp\":true,\"...   бензин   \n",
       "2     152 N12  {\"cruise-control\":true,\"tinted-glass\":true,\"es...   бензин   \n",
       "\n",
       "                                               image  mileage  modelDate  \\\n",
       "0  https://autoru.naydex.net/o9DBXQ270/5ac010hAY0...    74000       2013   \n",
       "1  https://autoru.naydex.net/o9DBXQ270/5ac010hAY0...    60563       2017   \n",
       "2  https://avatars.mds.yandex.net/get-autoru-vos/...    88000       2013   \n",
       "\n",
       "                                          model_info model_name  \\\n",
       "0  {\"code\":\"OCTAVIA\",\"name\":\"Octavia\",\"ru_name\":\"...    OCTAVIA   \n",
       "1  {\"code\":\"OCTAVIA\",\"name\":\"Octavia\",\"ru_name\":\"...    OCTAVIA   \n",
       "2  {\"code\":\"SUPERB\",\"name\":\"Superb\",\"ru_name\":\"Су...     SUPERB   \n",
       "\n",
       "                     name  numberOfDoors  parsing_unixtime priceCurrency  \\\n",
       "0      1.2 AMT (105 л.с.)              5        1603226273           RUB   \n",
       "1       1.6 MT (110 л.с.)              5        1603226277           RUB   \n",
       "2  DSG 1.8 AMT (152 л.с.)              5        1603226280           RUB   \n",
       "\n",
       "   productionDate     sell_id  \\\n",
       "0            2014  1100575026   \n",
       "1            2017  1100549428   \n",
       "2            2014  1100658222   \n",
       "\n",
       "                                           super_gen     vehicleConfiguration  \\\n",
       "0  {\"id\":\"10373605\",\"displacement\":1197,\"engine_t...       LIFTBACK ROBOT 1.2   \n",
       "1  {\"id\":\"20913311\",\"displacement\":1598,\"engine_t...  LIFTBACK MECHANICAL 1.6   \n",
       "2  {\"id\":\"20026323\",\"nameplate\":\"DSG\",\"displaceme...       LIFTBACK ROBOT 1.8   \n",
       "\n",
       "  vehicleTransmission    vendor    Владельцы Владение       ПТС    Привод  \\\n",
       "0    роботизированная  EUROPEAN  3 или более      NaN  Оригинал  передний   \n",
       "1        механическая  EUROPEAN   1 владелец      NaN  Оригинал  передний   \n",
       "2    роботизированная  EUROPEAN   1 владелец      NaN  Оригинал  передний   \n",
       "\n",
       "    Руль           Состояние     Таможня  \n",
       "0  Левый  Не требует ремонта  Растаможен  \n",
       "1  Левый  Не требует ремонта  Растаможен  \n",
       "2  Левый  Не требует ремонта  Растаможен  "
      ]
     },
     "execution_count": 7,
     "metadata": {},
     "output_type": "execute_result"
    }
   ],
   "source": [
    "test.head(3)"
   ]
  },
  {
   "cell_type": "code",
   "execution_count": 8,
   "id": "ea069ce9",
   "metadata": {},
   "outputs": [
    {
     "data": {
      "text/plain": [
       "['car_url',\n",
       " 'complectation_dict',\n",
       " 'description',\n",
       " 'engineDisplacement',\n",
       " 'enginePower',\n",
       " 'equipment_dict',\n",
       " 'fuelType',\n",
       " 'image',\n",
       " 'modelDate',\n",
       " 'model_info',\n",
       " 'name',\n",
       " 'numberOfDoors',\n",
       " 'parsing_unixtime',\n",
       " 'priceCurrency',\n",
       " 'sell_id',\n",
       " 'super_gen',\n",
       " 'vehicleConfiguration',\n",
       " 'vendor',\n",
       " 'Владельцы',\n",
       " 'Владение',\n",
       " 'ПТС',\n",
       " 'Привод',\n",
       " 'Руль',\n",
       " 'Состояние',\n",
       " 'Таможня']"
      ]
     },
     "execution_count": 8,
     "metadata": {},
     "output_type": "execute_result"
    }
   ],
   "source": [
    "# Признаки, которые есть в test, но нет в df\n",
    "[col for col in test.columns if col not in df.columns]"
   ]
  },
  {
   "cell_type": "markdown",
   "id": "aefe7324",
   "metadata": {
    "id": "aefe7324"
   },
   "source": [
    "Удалим из test признаки, которые не имеют значения для обучения, дублируют даные в других признаках, отсутствуют в данных парсинга."
   ]
  },
  {
   "cell_type": "code",
   "execution_count": 9,
   "id": "1c39ce3e",
   "metadata": {
    "executionInfo": {
     "elapsed": 128,
     "status": "ok",
     "timestamp": 1627470995122,
     "user": {
      "displayName": "Сергей",
      "photoUrl": "",
      "userId": "16958243466904798794"
     },
     "user_tz": -180
    },
    "id": "1c39ce3e"
   },
   "outputs": [],
   "source": [
    "test.drop(['car_url', 'complectation_dict', 'description', 'equipment_dict', 'image',\n",
    "           'modelDate', 'model_info', 'name', 'parsing_unixtime', 'priceCurrency',\n",
    "           'sell_id', 'super_gen', 'vehicleConfiguration','vendor',\n",
    "          'Состояние','Таможня'], axis=1, inplace=True)"
   ]
  },
  {
   "cell_type": "markdown",
   "id": "5d095229",
   "metadata": {
    "id": "5d095229"
   },
   "source": [
    "Приведем наименования признаков test в соответствие наименованиям признаков df"
   ]
  },
  {
   "cell_type": "code",
   "execution_count": 10,
   "id": "64e83243",
   "metadata": {
    "executionInfo": {
     "elapsed": 128,
     "status": "ok",
     "timestamp": 1627470995123,
     "user": {
      "displayName": "Сергей",
      "photoUrl": "",
      "userId": "16958243466904798794"
     },
     "user_tz": -180
    },
    "id": "64e83243"
   },
   "outputs": [],
   "source": [
    "columns_dict = {'Владельцы': 'owners',\n",
    "                   'Владение': 'length_of_ownership',\n",
    "                   'ПТС': 'vehicle_passport',\n",
    "                   'Привод': 'vehicle_drive',\n",
    "                   'Руль': 'steering'}\n",
    "test.rename(columns_dict, axis=1, inplace=True)"
   ]
  },
  {
   "cell_type": "code",
   "execution_count": 11,
   "id": "e914d5a8",
   "metadata": {
    "colab": {
     "base_uri": "https://localhost:8080/",
     "height": 213
    },
    "executionInfo": {
     "elapsed": 129,
     "status": "ok",
     "timestamp": 1627470995124,
     "user": {
      "displayName": "Сергей",
      "photoUrl": "",
      "userId": "16958243466904798794"
     },
     "user_tz": -180
    },
    "id": "e914d5a8",
    "outputId": "572e1cc0-df70-44c6-ae19-a068b74bada3"
   },
   "outputs": [
    {
     "data": {
      "text/html": [
       "<div>\n",
       "<style scoped>\n",
       "    .dataframe tbody tr th:only-of-type {\n",
       "        vertical-align: middle;\n",
       "    }\n",
       "\n",
       "    .dataframe tbody tr th {\n",
       "        vertical-align: top;\n",
       "    }\n",
       "\n",
       "    .dataframe thead th {\n",
       "        text-align: right;\n",
       "    }\n",
       "</style>\n",
       "<table border=\"1\" class=\"dataframe\">\n",
       "  <thead>\n",
       "    <tr style=\"text-align: right;\">\n",
       "      <th></th>\n",
       "      <th>bodyType</th>\n",
       "      <th>brand</th>\n",
       "      <th>color</th>\n",
       "      <th>engineDisplacement</th>\n",
       "      <th>enginePower</th>\n",
       "      <th>fuelType</th>\n",
       "      <th>mileage</th>\n",
       "      <th>model_name</th>\n",
       "      <th>numberOfDoors</th>\n",
       "      <th>productionDate</th>\n",
       "      <th>vehicleTransmission</th>\n",
       "      <th>owners</th>\n",
       "      <th>length_of_ownership</th>\n",
       "      <th>vehicle_passport</th>\n",
       "      <th>vehicle_drive</th>\n",
       "      <th>steering</th>\n",
       "    </tr>\n",
       "  </thead>\n",
       "  <tbody>\n",
       "    <tr>\n",
       "      <th>29414</th>\n",
       "      <td>седан</td>\n",
       "      <td>BMW</td>\n",
       "      <td>серебристый</td>\n",
       "      <td>2.0 LTR</td>\n",
       "      <td>184 N12</td>\n",
       "      <td>бензин</td>\n",
       "      <td>85000</td>\n",
       "      <td>3ER</td>\n",
       "      <td>4</td>\n",
       "      <td>2013</td>\n",
       "      <td>автоматическая</td>\n",
       "      <td>1 владелец</td>\n",
       "      <td>7 лет и 6 месяцев</td>\n",
       "      <td>Оригинал</td>\n",
       "      <td>задний</td>\n",
       "      <td>Левый</td>\n",
       "    </tr>\n",
       "    <tr>\n",
       "      <th>26206</th>\n",
       "      <td>минивэн</td>\n",
       "      <td>VOLKSWAGEN</td>\n",
       "      <td>серебристый</td>\n",
       "      <td>2.0 LTR</td>\n",
       "      <td>140 N12</td>\n",
       "      <td>дизель</td>\n",
       "      <td>210000</td>\n",
       "      <td>CARAVELLE</td>\n",
       "      <td>4</td>\n",
       "      <td>2011</td>\n",
       "      <td>механическая</td>\n",
       "      <td>3 или более</td>\n",
       "      <td>8 лет и 9 месяцев</td>\n",
       "      <td>Дубликат</td>\n",
       "      <td>передний</td>\n",
       "      <td>Левый</td>\n",
       "    </tr>\n",
       "    <tr>\n",
       "      <th>5282</th>\n",
       "      <td>внедорожник 5 дв.</td>\n",
       "      <td>HONDA</td>\n",
       "      <td>коричневый</td>\n",
       "      <td>2.4 LTR</td>\n",
       "      <td>194 N12</td>\n",
       "      <td>бензин</td>\n",
       "      <td>117554</td>\n",
       "      <td>CROSSTOUR</td>\n",
       "      <td>5</td>\n",
       "      <td>2013</td>\n",
       "      <td>автоматическая</td>\n",
       "      <td>1 владелец</td>\n",
       "      <td>NaN</td>\n",
       "      <td>Оригинал</td>\n",
       "      <td>передний</td>\n",
       "      <td>Левый</td>\n",
       "    </tr>\n",
       "  </tbody>\n",
       "</table>\n",
       "</div>"
      ],
      "text/plain": [
       "                bodyType       brand        color engineDisplacement  \\\n",
       "29414              седан         BMW  серебристый            2.0 LTR   \n",
       "26206            минивэн  VOLKSWAGEN  серебристый            2.0 LTR   \n",
       "5282   внедорожник 5 дв.       HONDA   коричневый            2.4 LTR   \n",
       "\n",
       "      enginePower fuelType  mileage model_name  numberOfDoors  productionDate  \\\n",
       "29414     184 N12   бензин    85000        3ER              4            2013   \n",
       "26206     140 N12   дизель   210000  CARAVELLE              4            2011   \n",
       "5282      194 N12   бензин   117554  CROSSTOUR              5            2013   \n",
       "\n",
       "      vehicleTransmission       owners length_of_ownership vehicle_passport  \\\n",
       "29414      автоматическая   1 владелец   7 лет и 6 месяцев         Оригинал   \n",
       "26206        механическая  3 или более   8 лет и 9 месяцев         Дубликат   \n",
       "5282       автоматическая   1 владелец                 NaN         Оригинал   \n",
       "\n",
       "      vehicle_drive steering  \n",
       "29414        задний    Левый  \n",
       "26206      передний    Левый  \n",
       "5282       передний    Левый  "
      ]
     },
     "execution_count": 11,
     "metadata": {},
     "output_type": "execute_result"
    }
   ],
   "source": [
    "test.sample(3)"
   ]
  },
  {
   "cell_type": "markdown",
   "id": "c2a1280a",
   "metadata": {
    "id": "c2a1280a"
   },
   "source": [
    "## Первоначальный анализ данных"
   ]
  },
  {
   "cell_type": "markdown",
   "id": "078de882",
   "metadata": {},
   "source": [
    "### Сравнение признаков в датасетах"
   ]
  },
  {
   "cell_type": "code",
   "execution_count": 12,
   "id": "86359070",
   "metadata": {
    "colab": {
     "base_uri": "https://localhost:8080/"
    },
    "executionInfo": {
     "elapsed": 128,
     "status": "ok",
     "timestamp": 1627470995125,
     "user": {
      "displayName": "Сергей",
      "photoUrl": "",
      "userId": "16958243466904798794"
     },
     "user_tz": -180
    },
    "id": "86359070",
    "outputId": "f3b74f23-70c7-4a57-942f-b07ec3379f64"
   },
   "outputs": [
    {
     "data": {
      "text/plain": [
       "['engine', 'vehicle_price']"
      ]
     },
     "execution_count": 12,
     "metadata": {},
     "output_type": "execute_result"
    }
   ],
   "source": [
    "# Признаки, которые есть в df, но нет в test\n",
    "[col for col in df.columns if col not in test.columns]"
   ]
  },
  {
   "cell_type": "code",
   "execution_count": 13,
   "id": "75ad2f93",
   "metadata": {
    "colab": {
     "base_uri": "https://localhost:8080/"
    },
    "executionInfo": {
     "elapsed": 103,
     "status": "ok",
     "timestamp": 1627470995128,
     "user": {
      "displayName": "Сергей",
      "photoUrl": "",
      "userId": "16958243466904798794"
     },
     "user_tz": -180
    },
    "id": "75ad2f93",
    "outputId": "8e79777a-1cde-419e-9011-b9f7fe29ae65"
   },
   "outputs": [
    {
     "data": {
      "text/plain": [
       "['engineDisplacement', 'enginePower', 'fuelType', 'numberOfDoors']"
      ]
     },
     "execution_count": 13,
     "metadata": {},
     "output_type": "execute_result"
    }
   ],
   "source": [
    "# Признаки, которые есть в test, но нет в df\n",
    "[col for col in test.columns if col not in df.columns]"
   ]
  },
  {
   "cell_type": "markdown",
   "id": "09946cf3",
   "metadata": {
    "id": "09946cf3"
   },
   "source": [
    "Посмотрим на них"
   ]
  },
  {
   "cell_type": "code",
   "execution_count": 14,
   "id": "56a4a14c",
   "metadata": {
    "colab": {
     "base_uri": "https://localhost:8080/"
    },
    "executionInfo": {
     "elapsed": 91,
     "status": "ok",
     "timestamp": 1627470995131,
     "user": {
      "displayName": "Сергей",
      "photoUrl": "",
      "userId": "16958243466904798794"
     },
     "user_tz": -180
    },
    "id": "56a4a14c",
    "outputId": "8ccea0d9-81ec-4291-9420-ab2420ca4b2f"
   },
   "outputs": [
    {
     "data": {
      "text/plain": [
       "3463    3.0 л / 286 л.с. / Дизель\n",
       "1478    1.8 л / 190 л.с. / Бензин\n",
       "3111    2.0 л / 150 л.с. / Дизель\n",
       "Name: engine, dtype: object"
      ]
     },
     "execution_count": 14,
     "metadata": {},
     "output_type": "execute_result"
    }
   ],
   "source": [
    "df.engine.sample(3)"
   ]
  },
  {
   "cell_type": "code",
   "execution_count": 15,
   "id": "9fc05782",
   "metadata": {
    "colab": {
     "base_uri": "https://localhost:8080/",
     "height": 142
    },
    "executionInfo": {
     "elapsed": 77,
     "status": "ok",
     "timestamp": 1627470995132,
     "user": {
      "displayName": "Сергей",
      "photoUrl": "",
      "userId": "16958243466904798794"
     },
     "user_tz": -180
    },
    "id": "9fc05782",
    "outputId": "1de3eb1e-7657-45ea-d9d2-e2019ba9ec10"
   },
   "outputs": [
    {
     "data": {
      "text/html": [
       "<div>\n",
       "<style scoped>\n",
       "    .dataframe tbody tr th:only-of-type {\n",
       "        vertical-align: middle;\n",
       "    }\n",
       "\n",
       "    .dataframe tbody tr th {\n",
       "        vertical-align: top;\n",
       "    }\n",
       "\n",
       "    .dataframe thead th {\n",
       "        text-align: right;\n",
       "    }\n",
       "</style>\n",
       "<table border=\"1\" class=\"dataframe\">\n",
       "  <thead>\n",
       "    <tr style=\"text-align: right;\">\n",
       "      <th></th>\n",
       "      <th>engineDisplacement</th>\n",
       "      <th>enginePower</th>\n",
       "      <th>fuelType</th>\n",
       "    </tr>\n",
       "  </thead>\n",
       "  <tbody>\n",
       "    <tr>\n",
       "      <th>22090</th>\n",
       "      <td>2.0 LTR</td>\n",
       "      <td>152 N12</td>\n",
       "      <td>бензин</td>\n",
       "    </tr>\n",
       "    <tr>\n",
       "      <th>21482</th>\n",
       "      <td>1.6 LTR</td>\n",
       "      <td>132 N12</td>\n",
       "      <td>бензин</td>\n",
       "    </tr>\n",
       "    <tr>\n",
       "      <th>17741</th>\n",
       "      <td>2.0 LTR</td>\n",
       "      <td>245 N12</td>\n",
       "      <td>бензин</td>\n",
       "    </tr>\n",
       "  </tbody>\n",
       "</table>\n",
       "</div>"
      ],
      "text/plain": [
       "      engineDisplacement enginePower fuelType\n",
       "22090            2.0 LTR     152 N12   бензин\n",
       "21482            1.6 LTR     132 N12   бензин\n",
       "17741            2.0 LTR     245 N12   бензин"
      ]
     },
     "execution_count": 15,
     "metadata": {},
     "output_type": "execute_result"
    }
   ],
   "source": [
    "test[['engineDisplacement', 'enginePower', 'fuelType']].sample(3)"
   ]
  },
  {
   "cell_type": "code",
   "execution_count": 16,
   "id": "a6c53416",
   "metadata": {
    "colab": {
     "base_uri": "https://localhost:8080/"
    },
    "executionInfo": {
     "elapsed": 76,
     "status": "ok",
     "timestamp": 1627470995133,
     "user": {
      "displayName": "Сергей",
      "photoUrl": "",
      "userId": "16958243466904798794"
     },
     "user_tz": -180
    },
    "id": "a6c53416",
    "outputId": "00895a95-7b25-4e74-ef67-586884e9fa70"
   },
   "outputs": [
    {
     "data": {
      "text/plain": [
       "10439    4\n",
       "27303    4\n",
       "23497    4\n",
       "Name: numberOfDoors, dtype: int64"
      ]
     },
     "execution_count": 16,
     "metadata": {},
     "output_type": "execute_result"
    }
   ],
   "source": [
    "test['numberOfDoors'].sample(3)"
   ]
  },
  {
   "cell_type": "markdown",
   "id": "d614e756",
   "metadata": {
    "id": "d614e756"
   },
   "source": [
    "- **'vehicle_price'** - стоимость автомобиля. Целевая переменная.\n",
    "- **'engine'** и **'engineDisplacement', 'enginePower', 'fuelType'** содержат одни и те же сведения. **'engine'** следует разделить на три признака \n",
    "- **'numberOfDoors'** - количество дверей. Информация в df частично присутствует в признаке **bodyType**. Следует извлечь её."
   ]
  },
  {
   "cell_type": "code",
   "execution_count": 17,
   "id": "fd230a21",
   "metadata": {
    "colab": {
     "base_uri": "https://localhost:8080/",
     "height": 117
    },
    "executionInfo": {
     "elapsed": 60,
     "status": "ok",
     "timestamp": 1627470995133,
     "user": {
      "displayName": "Сергей",
      "photoUrl": "",
      "userId": "16958243466904798794"
     },
     "user_tz": -180
    },
    "id": "fd230a21",
    "outputId": "522c262a-8152-4b6b-d7e6-67a8edab5869"
   },
   "outputs": [
    {
     "data": {
      "text/html": [
       "<div>\n",
       "<style scoped>\n",
       "    .dataframe tbody tr th:only-of-type {\n",
       "        vertical-align: middle;\n",
       "    }\n",
       "\n",
       "    .dataframe tbody tr th {\n",
       "        vertical-align: top;\n",
       "    }\n",
       "\n",
       "    .dataframe thead th {\n",
       "        text-align: right;\n",
       "    }\n",
       "</style>\n",
       "<table border=\"1\" class=\"dataframe\">\n",
       "  <thead>\n",
       "    <tr style=\"text-align: right;\">\n",
       "      <th></th>\n",
       "      <th>owners</th>\n",
       "      <th>length_of_ownership</th>\n",
       "      <th>engine</th>\n",
       "      <th>vehicleTransmission</th>\n",
       "      <th>bodyType</th>\n",
       "      <th>vehicle_passport</th>\n",
       "      <th>vehicle_drive</th>\n",
       "      <th>mileage</th>\n",
       "      <th>steering</th>\n",
       "      <th>color</th>\n",
       "      <th>brand</th>\n",
       "      <th>productionDate</th>\n",
       "      <th>model_name</th>\n",
       "      <th>vehicle_price</th>\n",
       "    </tr>\n",
       "  </thead>\n",
       "  <tbody>\n",
       "    <tr>\n",
       "      <th>7403</th>\n",
       "      <td>3 или более</td>\n",
       "      <td>NaN</td>\n",
       "      <td>NaN</td>\n",
       "      <td>NaN</td>\n",
       "      <td>NaN</td>\n",
       "      <td>Оригинал</td>\n",
       "      <td>NaN</td>\n",
       "      <td>400 000 км</td>\n",
       "      <td>Левый</td>\n",
       "      <td>серебристый</td>\n",
       "      <td>Honda</td>\n",
       "      <td>1989</td>\n",
       "      <td>Civic</td>\n",
       "      <td>120 000 ₽</td>\n",
       "    </tr>\n",
       "  </tbody>\n",
       "</table>\n",
       "</div>"
      ],
      "text/plain": [
       "           owners length_of_ownership engine vehicleTransmission bodyType  \\\n",
       "7403  3 или более                 NaN    NaN                 NaN      NaN   \n",
       "\n",
       "     vehicle_passport vehicle_drive     mileage steering        color  brand  \\\n",
       "7403         Оригинал           NaN  400 000 км    Левый  серебристый  Honda   \n",
       "\n",
       "      productionDate model_name vehicle_price  \n",
       "7403            1989      Civic     120 000 ₽  "
      ]
     },
     "execution_count": 17,
     "metadata": {},
     "output_type": "execute_result"
    }
   ],
   "source": [
    "df[df.engine.isna()]"
   ]
  },
  {
   "cell_type": "markdown",
   "id": "1a936386",
   "metadata": {
    "id": "1a936386"
   },
   "source": [
    "Учитывая, что основных параметров по Civic в df нет, удалим данный экземпляр"
   ]
  },
  {
   "cell_type": "code",
   "execution_count": 18,
   "id": "518e09eb",
   "metadata": {
    "executionInfo": {
     "elapsed": 573,
     "status": "ok",
     "timestamp": 1627470995648,
     "user": {
      "displayName": "Сергей",
      "photoUrl": "",
      "userId": "16958243466904798794"
     },
     "user_tz": -180
    },
    "id": "518e09eb"
   },
   "outputs": [],
   "source": [
    "df.drop([7403],inplace=True)"
   ]
  },
  {
   "cell_type": "markdown",
   "id": "dc63fc8f",
   "metadata": {},
   "source": [
    "### Приведение данных в признаках к одной форме, очистка данных, заполнение недостающих сведений"
   ]
  },
  {
   "cell_type": "markdown",
   "id": "9a4f2e7f",
   "metadata": {},
   "source": [
    "#### **engine**"
   ]
  },
  {
   "cell_type": "markdown",
   "id": "b153cf94",
   "metadata": {
    "id": "b153cf94"
   },
   "source": [
    "Разделим данные из engine на три признака: объем двигателя, мощность двигателя, вид топлива"
   ]
  },
  {
   "cell_type": "code",
   "execution_count": 19,
   "id": "fb2b3c44",
   "metadata": {
    "colab": {
     "base_uri": "https://localhost:8080/",
     "height": 230
    },
    "executionInfo": {
     "elapsed": 51,
     "status": "ok",
     "timestamp": 1627470995649,
     "user": {
      "displayName": "Сергей",
      "photoUrl": "",
      "userId": "16958243466904798794"
     },
     "user_tz": -180
    },
    "id": "fb2b3c44",
    "outputId": "63e30bcb-f94c-40b6-a76a-7b7686d3c6a3"
   },
   "outputs": [
    {
     "data": {
      "text/html": [
       "<div>\n",
       "<style scoped>\n",
       "    .dataframe tbody tr th:only-of-type {\n",
       "        vertical-align: middle;\n",
       "    }\n",
       "\n",
       "    .dataframe tbody tr th {\n",
       "        vertical-align: top;\n",
       "    }\n",
       "\n",
       "    .dataframe thead th {\n",
       "        text-align: right;\n",
       "    }\n",
       "</style>\n",
       "<table border=\"1\" class=\"dataframe\">\n",
       "  <thead>\n",
       "    <tr style=\"text-align: right;\">\n",
       "      <th></th>\n",
       "      <th>owners</th>\n",
       "      <th>length_of_ownership</th>\n",
       "      <th>vehicleTransmission</th>\n",
       "      <th>bodyType</th>\n",
       "      <th>vehicle_passport</th>\n",
       "      <th>vehicle_drive</th>\n",
       "      <th>mileage</th>\n",
       "      <th>steering</th>\n",
       "      <th>color</th>\n",
       "      <th>brand</th>\n",
       "      <th>productionDate</th>\n",
       "      <th>model_name</th>\n",
       "      <th>vehicle_price</th>\n",
       "      <th>engineDisplacement</th>\n",
       "      <th>enginePower</th>\n",
       "      <th>fuelType</th>\n",
       "    </tr>\n",
       "  </thead>\n",
       "  <tbody>\n",
       "    <tr>\n",
       "      <th>10316</th>\n",
       "      <td>1 владелец</td>\n",
       "      <td>NaN</td>\n",
       "      <td>автоматическая</td>\n",
       "      <td>внедорожник 5 дв.</td>\n",
       "      <td>Оригинал</td>\n",
       "      <td>полный</td>\n",
       "      <td>56 766 км</td>\n",
       "      <td>Левый</td>\n",
       "      <td>коричневый</td>\n",
       "      <td>Mercedes-Benz</td>\n",
       "      <td>2017</td>\n",
       "      <td>GLC I (X253) 220 d</td>\n",
       "      <td>2 619 000 ₽</td>\n",
       "      <td>2.1 л</td>\n",
       "      <td>170 л.с.</td>\n",
       "      <td>Дизель</td>\n",
       "    </tr>\n",
       "    <tr>\n",
       "      <th>3764</th>\n",
       "      <td>1 владелец</td>\n",
       "      <td>5 лет и 2 месяца</td>\n",
       "      <td>автоматическая</td>\n",
       "      <td>седан</td>\n",
       "      <td>Оригинал</td>\n",
       "      <td>задний</td>\n",
       "      <td>114 000 км</td>\n",
       "      <td>Левый</td>\n",
       "      <td>чёрный</td>\n",
       "      <td>BMW</td>\n",
       "      <td>2015</td>\n",
       "      <td>3 серии VI (F3x) Рестайлинг 318i</td>\n",
       "      <td>1 410 000 ₽</td>\n",
       "      <td>1.5 л</td>\n",
       "      <td>136 л.с.</td>\n",
       "      <td>Бензин</td>\n",
       "    </tr>\n",
       "    <tr>\n",
       "      <th>7102</th>\n",
       "      <td>3 или более</td>\n",
       "      <td>8 лет и 6 месяцев</td>\n",
       "      <td>вариатор</td>\n",
       "      <td>хэтчбек 5 дв.</td>\n",
       "      <td>Оригинал</td>\n",
       "      <td>передний</td>\n",
       "      <td>256 000 км</td>\n",
       "      <td>Правый</td>\n",
       "      <td>белый</td>\n",
       "      <td>Honda</td>\n",
       "      <td>2008</td>\n",
       "      <td>Fit II</td>\n",
       "      <td>380 000 ₽</td>\n",
       "      <td>1.3 л</td>\n",
       "      <td>100 л.с.</td>\n",
       "      <td>Бензин</td>\n",
       "    </tr>\n",
       "  </tbody>\n",
       "</table>\n",
       "</div>"
      ],
      "text/plain": [
       "            owners length_of_ownership vehicleTransmission           bodyType  \\\n",
       "10316   1 владелец                 NaN      автоматическая  внедорожник 5 дв.   \n",
       "3764    1 владелец    5 лет и 2 месяца      автоматическая              седан   \n",
       "7102   3 или более   8 лет и 6 месяцев            вариатор      хэтчбек 5 дв.   \n",
       "\n",
       "      vehicle_passport vehicle_drive     mileage steering       color  \\\n",
       "10316         Оригинал        полный   56 766 км    Левый  коричневый   \n",
       "3764          Оригинал        задний  114 000 км    Левый      чёрный   \n",
       "7102          Оригинал      передний  256 000 км   Правый       белый   \n",
       "\n",
       "               brand  productionDate                        model_name  \\\n",
       "10316  Mercedes-Benz            2017                GLC I (X253) 220 d   \n",
       "3764             BMW            2015  3 серии VI (F3x) Рестайлинг 318i   \n",
       "7102           Honda            2008                            Fit II   \n",
       "\n",
       "      vehicle_price engineDisplacement enginePower fuelType  \n",
       "10316   2 619 000 ₽              2.1 л    170 л.с.   Дизель  \n",
       "3764    1 410 000 ₽              1.5 л    136 л.с.   Бензин  \n",
       "7102      380 000 ₽              1.3 л    100 л.с.   Бензин  "
      ]
     },
     "execution_count": 19,
     "metadata": {},
     "output_type": "execute_result"
    }
   ],
   "source": [
    "df[['engineDisplacement', 'enginePower', 'fuelType']\n",
    "   ] = df.engine.str.split(pat=' / ', n=2, expand=True)\n",
    "df.drop('engine', axis=1, inplace=True)\n",
    "df.sample(3)"
   ]
  },
  {
   "cell_type": "markdown",
   "id": "848a590f",
   "metadata": {},
   "source": [
    "#### **fuelType, engineDisplacement, enginePower**"
   ]
  },
  {
   "cell_type": "markdown",
   "id": "6fc5a544",
   "metadata": {},
   "source": [
    "Посмотрим на форму данных в обоих датасетах"
   ]
  },
  {
   "cell_type": "code",
   "execution_count": 20,
   "id": "7cb4d896",
   "metadata": {
    "colab": {
     "base_uri": "https://localhost:8080/",
     "height": 390
    },
    "executionInfo": {
     "elapsed": 50,
     "status": "ok",
     "timestamp": 1627470995651,
     "user": {
      "displayName": "Сергей",
      "photoUrl": "",
      "userId": "16958243466904798794"
     },
     "user_tz": -180
    },
    "id": "7cb4d896",
    "outputId": "efd93d12-10a6-4d24-9642-ef954212ea17"
   },
   "outputs": [
    {
     "data": {
      "text/html": [
       "<div>\n",
       "<style scoped>\n",
       "    .dataframe tbody tr th:only-of-type {\n",
       "        vertical-align: middle;\n",
       "    }\n",
       "\n",
       "    .dataframe tbody tr th {\n",
       "        vertical-align: top;\n",
       "    }\n",
       "\n",
       "    .dataframe thead th {\n",
       "        text-align: right;\n",
       "    }\n",
       "</style>\n",
       "<table border=\"1\" class=\"dataframe\">\n",
       "  <thead>\n",
       "    <tr style=\"text-align: right;\">\n",
       "      <th></th>\n",
       "      <th>df</th>\n",
       "      <th>test</th>\n",
       "    </tr>\n",
       "  </thead>\n",
       "  <tbody>\n",
       "    <tr>\n",
       "      <th>Бензин</th>\n",
       "      <td>16735.0</td>\n",
       "      <td>NaN</td>\n",
       "    </tr>\n",
       "    <tr>\n",
       "      <th>Дизель</th>\n",
       "      <td>4193.0</td>\n",
       "      <td>NaN</td>\n",
       "    </tr>\n",
       "    <tr>\n",
       "      <th>Гибрид</th>\n",
       "      <td>201.0</td>\n",
       "      <td>NaN</td>\n",
       "    </tr>\n",
       "    <tr>\n",
       "      <th>Бензин, газобаллонное оборудование</th>\n",
       "      <td>166.0</td>\n",
       "      <td>NaN</td>\n",
       "    </tr>\n",
       "    <tr>\n",
       "      <th>Электро</th>\n",
       "      <td>28.0</td>\n",
       "      <td>NaN</td>\n",
       "    </tr>\n",
       "    <tr>\n",
       "      <th>Дизель, газобаллонное оборудование</th>\n",
       "      <td>1.0</td>\n",
       "      <td>NaN</td>\n",
       "    </tr>\n",
       "    <tr>\n",
       "      <th>бензин</th>\n",
       "      <td>NaN</td>\n",
       "      <td>28601.0</td>\n",
       "    </tr>\n",
       "    <tr>\n",
       "      <th>дизель</th>\n",
       "      <td>NaN</td>\n",
       "      <td>5800.0</td>\n",
       "    </tr>\n",
       "    <tr>\n",
       "      <th>гибрид</th>\n",
       "      <td>NaN</td>\n",
       "      <td>223.0</td>\n",
       "    </tr>\n",
       "    <tr>\n",
       "      <th>электро</th>\n",
       "      <td>NaN</td>\n",
       "      <td>55.0</td>\n",
       "    </tr>\n",
       "    <tr>\n",
       "      <th>газ</th>\n",
       "      <td>NaN</td>\n",
       "      <td>7.0</td>\n",
       "    </tr>\n",
       "  </tbody>\n",
       "</table>\n",
       "</div>"
      ],
      "text/plain": [
       "                                         df     test\n",
       "Бензин                              16735.0      NaN\n",
       "Дизель                               4193.0      NaN\n",
       "Гибрид                                201.0      NaN\n",
       "Бензин, газобаллонное оборудование    166.0      NaN\n",
       "Электро                                28.0      NaN\n",
       "Дизель, газобаллонное оборудование      1.0      NaN\n",
       "бензин                                  NaN  28601.0\n",
       "дизель                                  NaN   5800.0\n",
       "гибрид                                  NaN    223.0\n",
       "электро                                 NaN     55.0\n",
       "газ                                     NaN      7.0"
      ]
     },
     "execution_count": 20,
     "metadata": {},
     "output_type": "execute_result"
    }
   ],
   "source": [
    "pd.concat([pd.Series(df.fuelType.value_counts(), name='df'),\n",
    "          pd.Series(test.fuelType.value_counts(),name='test')], axis=1)"
   ]
  },
  {
   "cell_type": "markdown",
   "id": "3232f0f7",
   "metadata": {
    "id": "3232f0f7"
   },
   "source": [
    "Наименование не совпадают, необходимо привести к одной форме. Посмотрим на электродвигатели"
   ]
  },
  {
   "cell_type": "code",
   "execution_count": 21,
   "id": "2a949229",
   "metadata": {
    "colab": {
     "base_uri": "https://localhost:8080/",
     "height": 204
    },
    "executionInfo": {
     "elapsed": 50,
     "status": "ok",
     "timestamp": 1627470995652,
     "user": {
      "displayName": "Сергей",
      "photoUrl": "",
      "userId": "16958243466904798794"
     },
     "user_tz": -180
    },
    "id": "2a949229",
    "outputId": "cd21d1c6-f57d-4b64-bd5b-a89779fae594"
   },
   "outputs": [
    {
     "data": {
      "text/html": [
       "<div>\n",
       "<style scoped>\n",
       "    .dataframe tbody tr th:only-of-type {\n",
       "        vertical-align: middle;\n",
       "    }\n",
       "\n",
       "    .dataframe tbody tr th {\n",
       "        vertical-align: top;\n",
       "    }\n",
       "\n",
       "    .dataframe thead th {\n",
       "        text-align: right;\n",
       "    }\n",
       "</style>\n",
       "<table border=\"1\" class=\"dataframe\">\n",
       "  <thead>\n",
       "    <tr style=\"text-align: right;\">\n",
       "      <th></th>\n",
       "      <th>engineDisplacement</th>\n",
       "      <th>enginePower</th>\n",
       "    </tr>\n",
       "  </thead>\n",
       "  <tbody>\n",
       "    <tr>\n",
       "      <th>120</th>\n",
       "      <td>408 л.с.</td>\n",
       "      <td>300 кВт</td>\n",
       "    </tr>\n",
       "    <tr>\n",
       "      <th>147</th>\n",
       "      <td>408 л.с.</td>\n",
       "      <td>300 кВт</td>\n",
       "    </tr>\n",
       "    <tr>\n",
       "      <th>527</th>\n",
       "      <td>408 л.с.</td>\n",
       "      <td>300 кВт</td>\n",
       "    </tr>\n",
       "    <tr>\n",
       "      <th>2099</th>\n",
       "      <td>408 л.с.</td>\n",
       "      <td>300 кВт</td>\n",
       "    </tr>\n",
       "    <tr>\n",
       "      <th>2872</th>\n",
       "      <td>530 л.с.</td>\n",
       "      <td>390 кВт</td>\n",
       "    </tr>\n",
       "  </tbody>\n",
       "</table>\n",
       "</div>"
      ],
      "text/plain": [
       "     engineDisplacement enginePower\n",
       "120            408 л.с.     300 кВт\n",
       "147            408 л.с.     300 кВт\n",
       "527            408 л.с.     300 кВт\n",
       "2099           408 л.с.     300 кВт\n",
       "2872           530 л.с.     390 кВт"
      ]
     },
     "execution_count": 21,
     "metadata": {},
     "output_type": "execute_result"
    }
   ],
   "source": [
    "df[df.fuelType=='Электро'][['engineDisplacement','enginePower']].head()"
   ]
  },
  {
   "cell_type": "code",
   "execution_count": 22,
   "id": "51ce0ef1",
   "metadata": {
    "colab": {
     "base_uri": "https://localhost:8080/",
     "height": 204
    },
    "executionInfo": {
     "elapsed": 49,
     "status": "ok",
     "timestamp": 1627470995654,
     "user": {
      "displayName": "Сергей",
      "photoUrl": "",
      "userId": "16958243466904798794"
     },
     "user_tz": -180
    },
    "id": "51ce0ef1",
    "outputId": "df3faa15-00b6-4b25-dc5a-62fbb46dea1c"
   },
   "outputs": [
    {
     "data": {
      "text/html": [
       "<div>\n",
       "<style scoped>\n",
       "    .dataframe tbody tr th:only-of-type {\n",
       "        vertical-align: middle;\n",
       "    }\n",
       "\n",
       "    .dataframe tbody tr th {\n",
       "        vertical-align: top;\n",
       "    }\n",
       "\n",
       "    .dataframe thead th {\n",
       "        text-align: right;\n",
       "    }\n",
       "</style>\n",
       "<table border=\"1\" class=\"dataframe\">\n",
       "  <thead>\n",
       "    <tr style=\"text-align: right;\">\n",
       "      <th></th>\n",
       "      <th>engineDisplacement</th>\n",
       "      <th>enginePower</th>\n",
       "    </tr>\n",
       "  </thead>\n",
       "  <tbody>\n",
       "    <tr>\n",
       "      <th>5241</th>\n",
       "      <td>LTR</td>\n",
       "      <td>408 N12</td>\n",
       "    </tr>\n",
       "    <tr>\n",
       "      <th>7992</th>\n",
       "      <td>LTR</td>\n",
       "      <td>170 N12</td>\n",
       "    </tr>\n",
       "    <tr>\n",
       "      <th>8252</th>\n",
       "      <td>LTR</td>\n",
       "      <td>170 N12</td>\n",
       "    </tr>\n",
       "    <tr>\n",
       "      <th>8350</th>\n",
       "      <td>LTR</td>\n",
       "      <td>170 N12</td>\n",
       "    </tr>\n",
       "    <tr>\n",
       "      <th>8684</th>\n",
       "      <td>LTR</td>\n",
       "      <td>170 N12</td>\n",
       "    </tr>\n",
       "  </tbody>\n",
       "</table>\n",
       "</div>"
      ],
      "text/plain": [
       "     engineDisplacement enginePower\n",
       "5241                LTR     408 N12\n",
       "7992                LTR     170 N12\n",
       "8252                LTR     170 N12\n",
       "8350                LTR     170 N12\n",
       "8684                LTR     170 N12"
      ]
     },
     "execution_count": 22,
     "metadata": {},
     "output_type": "execute_result"
    }
   ],
   "source": [
    "test[test.fuelType=='электро'][['engineDisplacement','enginePower']].head()"
   ]
  },
  {
   "cell_type": "markdown",
   "id": "55e8f975",
   "metadata": {
    "id": "55e8f975"
   },
   "source": [
    "Электродвигатели не обладают объемом, исходя из этого заполним **'engineDisplacement','enginePower'** соответствующим образом, дополнительно убрав из признаков лишнюю информацию и приведя типы двигателя к единой форме"
   ]
  },
  {
   "cell_type": "code",
   "execution_count": 23,
   "id": "8d313405",
   "metadata": {
    "executionInfo": {
     "elapsed": 49,
     "status": "ok",
     "timestamp": 1627470995656,
     "user": {
      "displayName": "Сергей",
      "photoUrl": "",
      "userId": "16958243466904798794"
     },
     "user_tz": -180
    },
    "id": "8d313405"
   },
   "outputs": [],
   "source": [
    "df.fuelType = df.fuelType.str.replace('Бензин, газобаллонное оборудование','газ')\n",
    "df.fuelType = df.fuelType.str.replace('Дизель, газобаллонное оборудование','газ')\n",
    "df.fuelType = df.fuelType.str.lower()"
   ]
  },
  {
   "cell_type": "code",
   "execution_count": 24,
   "id": "aaa2f860",
   "metadata": {
    "executionInfo": {
     "elapsed": 547,
     "status": "ok",
     "timestamp": 1627470996154,
     "user": {
      "displayName": "Сергей",
      "photoUrl": "",
      "userId": "16958243466904798794"
     },
     "user_tz": -180
    },
    "id": "aaa2f860"
   },
   "outputs": [],
   "source": [
    "df['enginePower'] = df[['fuelType', 'engineDisplacement', 'enginePower']].apply(\n",
    "    lambda x: x[1] if x[0] == 'электро' else x[2],axis=1)\n",
    "df['enginePower'] = df['enginePower'].apply(lambda x: x.split()[0]).astype('float64')\n",
    "df['engineDisplacement'] = df['engineDisplacement'].apply(lambda x: x.split()[0])\n",
    "df['engineDisplacement'] = df[['fuelType', 'engineDisplacement']].apply(\n",
    "    lambda x: 0 if x[0] == 'электро' else x[1],axis=1).astype('float64')"
   ]
  },
  {
   "cell_type": "code",
   "execution_count": 25,
   "id": "a317524d",
   "metadata": {
    "colab": {
     "base_uri": "https://localhost:8080/",
     "height": 204
    },
    "executionInfo": {
     "elapsed": 110,
     "status": "ok",
     "timestamp": 1627470996155,
     "user": {
      "displayName": "Сергей",
      "photoUrl": "",
      "userId": "16958243466904798794"
     },
     "user_tz": -180
    },
    "id": "a317524d",
    "outputId": "84578479-ed21-4e38-9cd0-6513498609c3"
   },
   "outputs": [
    {
     "data": {
      "text/html": [
       "<div>\n",
       "<style scoped>\n",
       "    .dataframe tbody tr th:only-of-type {\n",
       "        vertical-align: middle;\n",
       "    }\n",
       "\n",
       "    .dataframe tbody tr th {\n",
       "        vertical-align: top;\n",
       "    }\n",
       "\n",
       "    .dataframe thead th {\n",
       "        text-align: right;\n",
       "    }\n",
       "</style>\n",
       "<table border=\"1\" class=\"dataframe\">\n",
       "  <thead>\n",
       "    <tr style=\"text-align: right;\">\n",
       "      <th></th>\n",
       "      <th>engineDisplacement</th>\n",
       "      <th>enginePower</th>\n",
       "    </tr>\n",
       "  </thead>\n",
       "  <tbody>\n",
       "    <tr>\n",
       "      <th>120</th>\n",
       "      <td>0.0</td>\n",
       "      <td>408.0</td>\n",
       "    </tr>\n",
       "    <tr>\n",
       "      <th>147</th>\n",
       "      <td>0.0</td>\n",
       "      <td>408.0</td>\n",
       "    </tr>\n",
       "    <tr>\n",
       "      <th>527</th>\n",
       "      <td>0.0</td>\n",
       "      <td>408.0</td>\n",
       "    </tr>\n",
       "    <tr>\n",
       "      <th>2099</th>\n",
       "      <td>0.0</td>\n",
       "      <td>408.0</td>\n",
       "    </tr>\n",
       "    <tr>\n",
       "      <th>2872</th>\n",
       "      <td>0.0</td>\n",
       "      <td>530.0</td>\n",
       "    </tr>\n",
       "  </tbody>\n",
       "</table>\n",
       "</div>"
      ],
      "text/plain": [
       "      engineDisplacement  enginePower\n",
       "120                  0.0        408.0\n",
       "147                  0.0        408.0\n",
       "527                  0.0        408.0\n",
       "2099                 0.0        408.0\n",
       "2872                 0.0        530.0"
      ]
     },
     "execution_count": 25,
     "metadata": {},
     "output_type": "execute_result"
    }
   ],
   "source": [
    "df[df.fuelType=='электро'][['engineDisplacement','enginePower']].head()"
   ]
  },
  {
   "cell_type": "code",
   "execution_count": 26,
   "id": "5ff883b2",
   "metadata": {
    "executionInfo": {
     "elapsed": 114,
     "status": "ok",
     "timestamp": 1627470996162,
     "user": {
      "displayName": "Сергей",
      "photoUrl": "",
      "userId": "16958243466904798794"
     },
     "user_tz": -180
    },
    "id": "5ff883b2"
   },
   "outputs": [],
   "source": [
    "test['enginePower'] = test['enginePower'].apply(lambda x: x.split()[0])\n",
    "test['engineDisplacement'] = test['engineDisplacement'].str.replace(' LTR', '')\n",
    "test['engineDisplacement'] = test['engineDisplacement'].apply(\n",
    "    lambda x: 0 if x == '' else x).astype('float64')"
   ]
  },
  {
   "cell_type": "code",
   "execution_count": 27,
   "id": "ad5dca54",
   "metadata": {
    "colab": {
     "base_uri": "https://localhost:8080/",
     "height": 204
    },
    "executionInfo": {
     "elapsed": 113,
     "status": "ok",
     "timestamp": 1627470996163,
     "user": {
      "displayName": "Сергей",
      "photoUrl": "",
      "userId": "16958243466904798794"
     },
     "user_tz": -180
    },
    "id": "ad5dca54",
    "outputId": "29f22595-4ad5-4bc2-b2cc-3bb6c893a3ff"
   },
   "outputs": [
    {
     "data": {
      "text/html": [
       "<div>\n",
       "<style scoped>\n",
       "    .dataframe tbody tr th:only-of-type {\n",
       "        vertical-align: middle;\n",
       "    }\n",
       "\n",
       "    .dataframe tbody tr th {\n",
       "        vertical-align: top;\n",
       "    }\n",
       "\n",
       "    .dataframe thead th {\n",
       "        text-align: right;\n",
       "    }\n",
       "</style>\n",
       "<table border=\"1\" class=\"dataframe\">\n",
       "  <thead>\n",
       "    <tr style=\"text-align: right;\">\n",
       "      <th></th>\n",
       "      <th>engineDisplacement</th>\n",
       "      <th>enginePower</th>\n",
       "    </tr>\n",
       "  </thead>\n",
       "  <tbody>\n",
       "    <tr>\n",
       "      <th>5241</th>\n",
       "      <td>0.0</td>\n",
       "      <td>408</td>\n",
       "    </tr>\n",
       "    <tr>\n",
       "      <th>7992</th>\n",
       "      <td>0.0</td>\n",
       "      <td>170</td>\n",
       "    </tr>\n",
       "    <tr>\n",
       "      <th>8252</th>\n",
       "      <td>0.0</td>\n",
       "      <td>170</td>\n",
       "    </tr>\n",
       "    <tr>\n",
       "      <th>8350</th>\n",
       "      <td>0.0</td>\n",
       "      <td>170</td>\n",
       "    </tr>\n",
       "    <tr>\n",
       "      <th>8684</th>\n",
       "      <td>0.0</td>\n",
       "      <td>170</td>\n",
       "    </tr>\n",
       "  </tbody>\n",
       "</table>\n",
       "</div>"
      ],
      "text/plain": [
       "      engineDisplacement enginePower\n",
       "5241                 0.0         408\n",
       "7992                 0.0         170\n",
       "8252                 0.0         170\n",
       "8350                 0.0         170\n",
       "8684                 0.0         170"
      ]
     },
     "execution_count": 27,
     "metadata": {},
     "output_type": "execute_result"
    }
   ],
   "source": [
    "test[test.fuelType=='электро'][['engineDisplacement','enginePower']].head()"
   ]
  },
  {
   "cell_type": "markdown",
   "id": "55c5f049",
   "metadata": {},
   "source": [
    "Проверим, совпадают ли теперь данные по форме"
   ]
  },
  {
   "cell_type": "code",
   "execution_count": 28,
   "id": "4e0551f7",
   "metadata": {
    "colab": {
     "base_uri": "https://localhost:8080/",
     "height": 204
    },
    "executionInfo": {
     "elapsed": 112,
     "status": "ok",
     "timestamp": 1627470996165,
     "user": {
      "displayName": "Сергей",
      "photoUrl": "",
      "userId": "16958243466904798794"
     },
     "user_tz": -180
    },
    "id": "4e0551f7",
    "outputId": "43034fd9-379b-4984-cb38-386ebc6b4bc0"
   },
   "outputs": [
    {
     "data": {
      "text/html": [
       "<div>\n",
       "<style scoped>\n",
       "    .dataframe tbody tr th:only-of-type {\n",
       "        vertical-align: middle;\n",
       "    }\n",
       "\n",
       "    .dataframe tbody tr th {\n",
       "        vertical-align: top;\n",
       "    }\n",
       "\n",
       "    .dataframe thead th {\n",
       "        text-align: right;\n",
       "    }\n",
       "</style>\n",
       "<table border=\"1\" class=\"dataframe\">\n",
       "  <thead>\n",
       "    <tr style=\"text-align: right;\">\n",
       "      <th></th>\n",
       "      <th>df</th>\n",
       "      <th>test</th>\n",
       "    </tr>\n",
       "  </thead>\n",
       "  <tbody>\n",
       "    <tr>\n",
       "      <th>бензин</th>\n",
       "      <td>16735</td>\n",
       "      <td>28601</td>\n",
       "    </tr>\n",
       "    <tr>\n",
       "      <th>дизель</th>\n",
       "      <td>4193</td>\n",
       "      <td>5800</td>\n",
       "    </tr>\n",
       "    <tr>\n",
       "      <th>гибрид</th>\n",
       "      <td>201</td>\n",
       "      <td>223</td>\n",
       "    </tr>\n",
       "    <tr>\n",
       "      <th>газ</th>\n",
       "      <td>167</td>\n",
       "      <td>7</td>\n",
       "    </tr>\n",
       "    <tr>\n",
       "      <th>электро</th>\n",
       "      <td>28</td>\n",
       "      <td>55</td>\n",
       "    </tr>\n",
       "  </tbody>\n",
       "</table>\n",
       "</div>"
      ],
      "text/plain": [
       "            df   test\n",
       "бензин   16735  28601\n",
       "дизель    4193   5800\n",
       "гибрид     201    223\n",
       "газ        167      7\n",
       "электро     28     55"
      ]
     },
     "execution_count": 28,
     "metadata": {},
     "output_type": "execute_result"
    }
   ],
   "source": [
    "pd.concat([pd.Series(df.fuelType.value_counts(), name='df'),\n",
    "          pd.Series(test.fuelType.value_counts(),name='test')], axis=1)"
   ]
  },
  {
   "cell_type": "markdown",
   "id": "01a0487a",
   "metadata": {},
   "source": [
    "#### **numberOfDoors**"
   ]
  },
  {
   "cell_type": "markdown",
   "id": "c4f1d5b1",
   "metadata": {
    "id": "c4f1d5b1"
   },
   "source": [
    "Посмотрим соответствие типов кузовов количеству дверей"
   ]
  },
  {
   "cell_type": "code",
   "execution_count": 29,
   "id": "2803e205",
   "metadata": {
    "colab": {
     "base_uri": "https://localhost:8080/"
    },
    "executionInfo": {
     "elapsed": 109,
     "status": "ok",
     "timestamp": 1627470996166,
     "user": {
      "displayName": "Сергей",
      "photoUrl": "",
      "userId": "16958243466904798794"
     },
     "user_tz": -180
    },
    "id": "2803e205",
    "outputId": "91d5c853-8593-4967-f9c3-1b89f4c34e02"
   },
   "outputs": [
    {
     "data": {
      "text/plain": [
       "MultiIndex([(0,               'кабриолет'),\n",
       "            (2,                    'купе'),\n",
       "            (2,            'купе-хардтоп'),\n",
       "            (2,                 'родстер'),\n",
       "            (2,               'кабриолет'),\n",
       "            (2,           'хэтчбек 3 дв.'),\n",
       "            (2,             'седан 2 дв.'),\n",
       "            (2,  'пикап одинарная кабина'),\n",
       "            (2, 'пикап полуторная кабина'),\n",
       "            (2,                   'тарга')],\n",
       "           names=['numberOfDoors', 'bodyType'])"
      ]
     },
     "execution_count": 29,
     "metadata": {},
     "output_type": "execute_result"
    }
   ],
   "source": [
    "doors_body = pd.DataFrame(test.groupby('numberOfDoors').bodyType.value_counts()).index\n",
    "doors_body[:10]"
   ]
  },
  {
   "cell_type": "markdown",
   "id": "1b26c023",
   "metadata": {
    "id": "1b26c023"
   },
   "source": [
    "Поместим полученные кортежи в датафрейм, разделим их элементы на отдельные столбцы и сгруппируем данные по типам кузовов"
   ]
  },
  {
   "cell_type": "code",
   "execution_count": 30,
   "id": "ac9c813e",
   "metadata": {
    "colab": {
     "base_uri": "https://localhost:8080/"
    },
    "executionInfo": {
     "elapsed": 71,
     "status": "ok",
     "timestamp": 1627470996166,
     "user": {
      "displayName": "Сергей",
      "photoUrl": "",
      "userId": "16958243466904798794"
     },
     "user_tz": -180
    },
    "id": "ac9c813e",
    "outputId": "9fcee724-bba1-4ee1-8b7f-72746062b033"
   },
   "outputs": [
    {
     "data": {
      "text/plain": [
       "bode_type                number_of_doors\n",
       "внедорожник 3 дв.        3                  1\n",
       "внедорожник 5 дв.        5                  1\n",
       "внедорожник открытый     2                  1\n",
       "                         3                  1\n",
       "кабриолет                0                  1\n",
       "                         2                  1\n",
       "компактвэн               3                  1\n",
       "                         4                  1\n",
       "                         5                  1\n",
       "купе                     2                  1\n",
       "купе-хардтоп             2                  1\n",
       "лимузин                  4                  1\n",
       "лифтбек                  5                  1\n",
       "микровэн                 5                  1\n",
       "минивэн                  3                  1\n",
       "                         4                  1\n",
       "                         5                  1\n",
       "пикап двойная кабина     4                  1\n",
       "пикап одинарная кабина   2                  1\n",
       "пикап полуторная кабина  2                  1\n",
       "                         4                  1\n",
       "родстер                  2                  1\n",
       "седан                    4                  1\n",
       "седан 2 дв.              2                  1\n",
       "седан-хардтоп            4                  1\n",
       "тарга                    2                  1\n",
       "универсал 5 дв.          5                  1\n",
       "фастбек                  3                  1\n",
       "фургон                   3                  1\n",
       "                         4                  1\n",
       "хэтчбек 3 дв.            2                  1\n",
       "                         3                  1\n",
       "хэтчбек 5 дв.            5                  1\n",
       "Name: number_of_doors, dtype: int64"
      ]
     },
     "execution_count": 30,
     "metadata": {},
     "output_type": "execute_result"
    }
   ],
   "source": [
    "df_doors_body = pd.DataFrame(doors_body)\n",
    "df_doors_body['number_of_doors'] = df_doors_body[0].apply(lambda x: x[0])\n",
    "df_doors_body['bode_type'] = df_doors_body[0].apply(lambda x: x[1])\n",
    "df_doors_body.groupby('bode_type').number_of_doors.value_counts()"
   ]
  },
  {
   "cell_type": "markdown",
   "id": "d03b5883",
   "metadata": {
    "id": "d03b5883"
   },
   "source": [
    "Проверим типы кузовов с множеством значений"
   ]
  },
  {
   "cell_type": "code",
   "execution_count": 31,
   "id": "38fff69a",
   "metadata": {
    "colab": {
     "base_uri": "https://localhost:8080/",
     "height": 142
    },
    "executionInfo": {
     "elapsed": 57,
     "status": "ok",
     "timestamp": 1627470996167,
     "user": {
      "displayName": "Сергей",
      "photoUrl": "",
      "userId": "16958243466904798794"
     },
     "user_tz": -180
    },
    "id": "38fff69a",
    "outputId": "06b0f0b3-f0b8-4a8a-c916-f099bc30a603"
   },
   "outputs": [
    {
     "data": {
      "text/html": [
       "<div>\n",
       "<style scoped>\n",
       "    .dataframe tbody tr th:only-of-type {\n",
       "        vertical-align: middle;\n",
       "    }\n",
       "\n",
       "    .dataframe tbody tr th {\n",
       "        vertical-align: top;\n",
       "    }\n",
       "\n",
       "    .dataframe thead th {\n",
       "        text-align: right;\n",
       "    }\n",
       "</style>\n",
       "<table border=\"1\" class=\"dataframe\">\n",
       "  <thead>\n",
       "    <tr style=\"text-align: right;\">\n",
       "      <th></th>\n",
       "      <th>numberOfDoors</th>\n",
       "      <th>model_name</th>\n",
       "      <th>brand</th>\n",
       "    </tr>\n",
       "  </thead>\n",
       "  <tbody>\n",
       "    <tr>\n",
       "      <th>15779</th>\n",
       "      <td>3</td>\n",
       "      <td>G_KLASSE</td>\n",
       "      <td>MERCEDES</td>\n",
       "    </tr>\n",
       "    <tr>\n",
       "      <th>17738</th>\n",
       "      <td>2</td>\n",
       "      <td>G_KLASSE</td>\n",
       "      <td>MERCEDES</td>\n",
       "    </tr>\n",
       "    <tr>\n",
       "      <th>33492</th>\n",
       "      <td>3</td>\n",
       "      <td>RAV_4</td>\n",
       "      <td>TOYOTA</td>\n",
       "    </tr>\n",
       "  </tbody>\n",
       "</table>\n",
       "</div>"
      ],
      "text/plain": [
       "       numberOfDoors model_name     brand\n",
       "15779              3   G_KLASSE  MERCEDES\n",
       "17738              2   G_KLASSE  MERCEDES\n",
       "33492              3      RAV_4    TOYOTA"
      ]
     },
     "execution_count": 31,
     "metadata": {},
     "output_type": "execute_result"
    }
   ],
   "source": [
    "test[test.bodyType=='внедорожник открытый'][['numberOfDoors','model_name','brand']]"
   ]
  },
  {
   "cell_type": "markdown",
   "id": "a3879330",
   "metadata": {
    "id": "a3879330"
   },
   "source": [
    "Видимо это так называемые внедорожники-кабриолеты. Оставим количество дверей - 3"
   ]
  },
  {
   "cell_type": "code",
   "execution_count": 32,
   "id": "e6a9e1a8",
   "metadata": {
    "colab": {
     "base_uri": "https://localhost:8080/",
     "height": 80
    },
    "executionInfo": {
     "elapsed": 57,
     "status": "ok",
     "timestamp": 1627470996169,
     "user": {
      "displayName": "Сергей",
      "photoUrl": "",
      "userId": "16958243466904798794"
     },
     "user_tz": -180
    },
    "id": "e6a9e1a8",
    "outputId": "faab8df4-441f-458f-ff27-ffd491b56b2b"
   },
   "outputs": [
    {
     "data": {
      "text/html": [
       "<div>\n",
       "<style scoped>\n",
       "    .dataframe tbody tr th:only-of-type {\n",
       "        vertical-align: middle;\n",
       "    }\n",
       "\n",
       "    .dataframe tbody tr th {\n",
       "        vertical-align: top;\n",
       "    }\n",
       "\n",
       "    .dataframe thead th {\n",
       "        text-align: right;\n",
       "    }\n",
       "</style>\n",
       "<table border=\"1\" class=\"dataframe\">\n",
       "  <thead>\n",
       "    <tr style=\"text-align: right;\">\n",
       "      <th></th>\n",
       "      <th>numberOfDoors</th>\n",
       "      <th>model_name</th>\n",
       "      <th>brand</th>\n",
       "      <th>productionDate</th>\n",
       "    </tr>\n",
       "  </thead>\n",
       "  <tbody>\n",
       "    <tr>\n",
       "      <th>16944</th>\n",
       "      <td>0</td>\n",
       "      <td>SIMPLEX</td>\n",
       "      <td>MERCEDES</td>\n",
       "      <td>1904</td>\n",
       "    </tr>\n",
       "  </tbody>\n",
       "</table>\n",
       "</div>"
      ],
      "text/plain": [
       "       numberOfDoors model_name     brand  productionDate\n",
       "16944              0    SIMPLEX  MERCEDES            1904"
      ]
     },
     "execution_count": 32,
     "metadata": {},
     "output_type": "execute_result"
    }
   ],
   "source": [
    "test[(test.bodyType == 'кабриолет') & (test.numberOfDoors == 0)][[\n",
    "    'numberOfDoors', 'model_name', 'brand', 'productionDate']]"
   ]
  },
  {
   "cell_type": "markdown",
   "id": "e75d0f92",
   "metadata": {
    "id": "e75d0f92"
   },
   "source": [
    "Автомобиль эксклюзивный, действительно без дверей. Учитывая его редкость, для кабриолетов оставим количество дверей - 2 "
   ]
  },
  {
   "cell_type": "markdown",
   "id": "19ccfacc",
   "metadata": {
    "id": "19ccfacc"
   },
   "source": [
    "**компактвэн, минивэн, пикап полуторная кабина, фургон** - для них возможны варианты с разным количеством дверей. Пока не будем их учитывать при составлении словаря"
   ]
  },
  {
   "cell_type": "markdown",
   "id": "cde80cc5",
   "metadata": {
    "id": "cde80cc5"
   },
   "source": [
    "Для **хэтчбек 3 дв** произведем замену значений на 3 "
   ]
  },
  {
   "cell_type": "code",
   "execution_count": 33,
   "id": "4f538fd7",
   "metadata": {
    "executionInfo": {
     "elapsed": 815,
     "status": "ok",
     "timestamp": 1627470996928,
     "user": {
      "displayName": "Сергей",
      "photoUrl": "",
      "userId": "16958243466904798794"
     },
     "user_tz": -180
    },
    "id": "4f538fd7"
   },
   "outputs": [],
   "source": [
    "test.numberOfDoors = test[['bodyType', 'numberOfDoors']].apply(\n",
    "    lambda x: 3 if x[0] == 'хэтчбек 3 дв.' and x[1] == 2 else x[1], axis=1)"
   ]
  },
  {
   "cell_type": "markdown",
   "id": "38769a6f",
   "metadata": {
    "id": "38769a6f"
   },
   "source": [
    "Получим словарь соответствия кузова количеству дверей"
   ]
  },
  {
   "cell_type": "code",
   "execution_count": 34,
   "id": "dc3dbaba",
   "metadata": {
    "colab": {
     "base_uri": "https://localhost:8080/"
    },
    "executionInfo": {
     "elapsed": 204,
     "status": "ok",
     "timestamp": 1627470996930,
     "user": {
      "displayName": "Сергей",
      "photoUrl": "",
      "userId": "16958243466904798794"
     },
     "user_tz": -180
    },
    "id": "dc3dbaba",
    "outputId": "b0bb3a69-08f2-45c3-a1ab-7be7e6209e3d"
   },
   "outputs": [
    {
     "data": {
      "text/plain": [
       "{'кабриолет': 2,\n",
       " 'купе': 2,\n",
       " 'купе-хардтоп': 2,\n",
       " 'родстер': 2,\n",
       " 'хэтчбек 3 дв.': 3,\n",
       " 'седан 2 дв.': 2,\n",
       " 'пикап одинарная кабина': 2,\n",
       " 'пикап полуторная кабина': 4,\n",
       " 'тарга': 2,\n",
       " 'внедорожник открытый': 3,\n",
       " 'внедорожник 3 дв.': 3,\n",
       " 'фургон': 4,\n",
       " 'минивэн': 5,\n",
       " 'компактвэн': 5,\n",
       " 'фастбек': 3,\n",
       " 'седан': 4,\n",
       " 'пикап двойная кабина': 4,\n",
       " 'седан-хардтоп': 4,\n",
       " 'лимузин': 4,\n",
       " 'внедорожник 5 дв.': 5,\n",
       " 'лифтбек': 5,\n",
       " 'хэтчбек 5 дв.': 5,\n",
       " 'универсал 5 дв.': 5,\n",
       " 'микровэн': 5}"
      ]
     },
     "execution_count": 34,
     "metadata": {},
     "output_type": "execute_result"
    }
   ],
   "source": [
    "dict_x = {doors_body[i][1]:doors_body[i][0] for i in range(len(doors_body))}\n",
    "dict_x"
   ]
  },
  {
   "cell_type": "markdown",
   "id": "31aa9696",
   "metadata": {
    "id": "31aa9696"
   },
   "source": [
    "Удалим из него **компактвэн, минивэн, пикап полуторная кабина, фургон**"
   ]
  },
  {
   "cell_type": "code",
   "execution_count": 35,
   "id": "5c201238",
   "metadata": {
    "executionInfo": {
     "elapsed": 197,
     "status": "ok",
     "timestamp": 1627470996931,
     "user": {
      "displayName": "Сергей",
      "photoUrl": "",
      "userId": "16958243466904798794"
     },
     "user_tz": -180
    },
    "id": "5c201238"
   },
   "outputs": [],
   "source": [
    "body_mis_doors = ['компактвэн', 'минивэн', 'пикап полуторная кабина', 'фургон']\n",
    "for key in body_mis_doors:\n",
    "    del dict_x[key]"
   ]
  },
  {
   "cell_type": "markdown",
   "id": "093e8fe9",
   "metadata": {
    "id": "093e8fe9"
   },
   "source": [
    "Создадим в df новый столбец numberOfDoors и заполним его в соответствии со словарем."
   ]
  },
  {
   "cell_type": "code",
   "execution_count": 36,
   "id": "cb135f1d",
   "metadata": {
    "executionInfo": {
     "elapsed": 197,
     "status": "ok",
     "timestamp": 1627470996932,
     "user": {
      "displayName": "Сергей",
      "photoUrl": "",
      "userId": "16958243466904798794"
     },
     "user_tz": -180
    },
    "id": "cb135f1d"
   },
   "outputs": [],
   "source": [
    "df['numberOfDoors'] = df.bodyType.apply(lambda x: dict_x[x] if x in dict_x.keys() else np.nan)"
   ]
  },
  {
   "cell_type": "code",
   "execution_count": 37,
   "id": "ec3051f2",
   "metadata": {
    "colab": {
     "base_uri": "https://localhost:8080/"
    },
    "executionInfo": {
     "elapsed": 198,
     "status": "ok",
     "timestamp": 1627470996934,
     "user": {
      "displayName": "Сергей",
      "photoUrl": "",
      "userId": "16958243466904798794"
     },
     "user_tz": -180
    },
    "id": "ec3051f2",
    "outputId": "7999ebcd-b4ee-4e23-c566-21cbe41812a9"
   },
   "outputs": [
    {
     "data": {
      "text/plain": [
       "array(['компактвэн', 'минивэн', 'фургон', 'пикап полуторная кабина'],\n",
       "      dtype=object)"
      ]
     },
     "execution_count": 37,
     "metadata": {},
     "output_type": "execute_result"
    }
   ],
   "source": [
    "df[df.numberOfDoors.isna()].bodyType.unique()"
   ]
  },
  {
   "cell_type": "markdown",
   "id": "cddf48eb",
   "metadata": {
    "id": "cddf48eb"
   },
   "source": [
    "Для каждого из 4 оставшихся типов кузова сопоставим бренд и марку ТС с количеством дверей составив соответствующие группы (по кол-ву дверей)"
   ]
  },
  {
   "cell_type": "code",
   "execution_count": 38,
   "id": "cb85ddf1",
   "metadata": {
    "colab": {
     "base_uri": "https://localhost:8080/"
    },
    "executionInfo": {
     "elapsed": 181,
     "status": "ok",
     "timestamp": 1627470996935,
     "user": {
      "displayName": "Сергей",
      "photoUrl": "",
      "userId": "16958243466904798794"
     },
     "user_tz": -180
    },
    "id": "cb85ddf1",
    "outputId": "815dcd81-84ae-417d-8284-06ea455b6838"
   },
   "outputs": [
    {
     "data": {
      "text/plain": [
       "[('VOLKSWAGEN', 'TOURAN'),\n",
       " ('VOLKSWAGEN', 'CADDY'),\n",
       " ('TOYOTA', 'VERSO'),\n",
       " ('MITSUBISHI', 'SPACE_STAR'),\n",
       " ('MITSUBISHI', 'SPACE_WAGON')]"
      ]
     },
     "execution_count": 38,
     "metadata": {},
     "output_type": "execute_result"
    }
   ],
   "source": [
    "# компактвэн\n",
    "\n",
    "compact_3 = test[(test.bodyType == 'компактвэн') & (test.numberOfDoors == 3)][[\n",
    "    'brand', 'model_name']].value_counts().index\n",
    "compact_3 = pd.DataFrame(compact_3)[0].to_list()\n",
    "compact_4 = test[(test.bodyType == 'компактвэн') & (test.numberOfDoors == 4)][[\n",
    "    'brand', 'model_name']].value_counts().index\n",
    "compact_4 = pd.DataFrame(compact_4)[0].to_list()\n",
    "compact_5 = test[(test.bodyType == 'компактвэн') & (test.numberOfDoors == 5)][[\n",
    "    'brand', 'model_name']].value_counts().index\n",
    "compact_5 = pd.DataFrame(compact_5)[0].to_list()\n",
    "compact_5[:5]"
   ]
  },
  {
   "cell_type": "markdown",
   "id": "68e4383a",
   "metadata": {
    "id": "68e4383a"
   },
   "source": [
    "Проведем проверку, нет ли совпадений наименований в группах"
   ]
  },
  {
   "cell_type": "code",
   "execution_count": 39,
   "id": "88a3f55a",
   "metadata": {
    "colab": {
     "base_uri": "https://localhost:8080/"
    },
    "executionInfo": {
     "elapsed": 166,
     "status": "ok",
     "timestamp": 1627470996937,
     "user": {
      "displayName": "Сергей",
      "photoUrl": "",
      "userId": "16958243466904798794"
     },
     "user_tz": -180
    },
    "id": "88a3f55a",
    "outputId": "cf2cbe3a-475c-4f02-a155-8c46fd5caf0f"
   },
   "outputs": [
    {
     "name": "stdout",
     "output_type": "stream",
     "text": [
      "3 6 43\n"
     ]
    }
   ],
   "source": [
    "# Определим самую большую группу и остальные будем сравнивать с ней\n",
    "print(len(compact_3),len(compact_4),len(compact_5))"
   ]
  },
  {
   "cell_type": "code",
   "execution_count": 40,
   "id": "f2170f2d",
   "metadata": {
    "colab": {
     "base_uri": "https://localhost:8080/"
    },
    "executionInfo": {
     "elapsed": 149,
     "status": "ok",
     "timestamp": 1627470996939,
     "user": {
      "displayName": "Сергей",
      "photoUrl": "",
      "userId": "16958243466904798794"
     },
     "user_tz": -180
    },
    "id": "f2170f2d",
    "outputId": "83b6e7aa-07b6-4342-e00c-bd380e0178da"
   },
   "outputs": [
    {
     "name": "stdout",
     "output_type": "stream",
     "text": [
      "compact_3:  ('VOLKSWAGEN', 'CADDY')\n",
      "compact_4:  ('VOLKSWAGEN', 'CADDY')\n",
      "compact_4:  ('MITSUBISHI', 'RVR')\n",
      "compact_4:  ('TOYOTA', 'TOWN_ACE')\n"
     ]
    }
   ],
   "source": [
    "for i in range(len(compact_5)):\n",
    "    if compact_5[i] in compact_3:\n",
    "        print('compact_3: ',compact_5[i])\n",
    "    if compact_5[i] in compact_4:\n",
    "        print('compact_4: ',compact_5[i])"
   ]
  },
  {
   "cell_type": "markdown",
   "id": "4787d671",
   "metadata": {
    "id": "4787d671"
   },
   "source": [
    "Присвоим совпадающим наименованиям значения из бОльших по численности групп (начнем добавлять в самую маленькую группу элементы из следующей по численности группы, если ключ совпадает, ему присваивается значение из добавляемой группы, далее операция повторяется с добавлениме элементов из самой большой группы)."
   ]
  },
  {
   "cell_type": "code",
   "execution_count": 41,
   "id": "1510557f",
   "metadata": {
    "colab": {
     "base_uri": "https://localhost:8080/"
    },
    "executionInfo": {
     "elapsed": 129,
     "status": "ok",
     "timestamp": 1627470996940,
     "user": {
      "displayName": "Сергей",
      "photoUrl": "",
      "userId": "16958243466904798794"
     },
     "user_tz": -180
    },
    "id": "1510557f",
    "outputId": "f33e935e-aaea-46f4-868c-a652984e7615"
   },
   "outputs": [
    {
     "data": {
      "text/plain": [
       "{('VOLKSWAGEN', 'CADDY'): 5,\n",
       " ('TOYOTA', 'PORTE'): 3,\n",
       " ('TOYOTA', 'SPADE'): 3,\n",
       " ('TOYOTA', 'TOWN_ACE'): 5,\n",
       " ('TOYOTA', 'LITE_ACE'): 4,\n",
       " ('NISSAN', 'SERENA'): 4,\n",
       " ('MITSUBISHI', 'SPACE_RUNNER'): 4,\n",
       " ('MITSUBISHI', 'RVR'): 5,\n",
       " ('VOLKSWAGEN', 'TOURAN'): 5,\n",
       " ('TOYOTA', 'VERSO'): 5,\n",
       " ('MITSUBISHI', 'SPACE_STAR'): 5,\n",
       " ('MITSUBISHI', 'SPACE_WAGON'): 5,\n",
       " ('SKODA', 'ROOMSTER'): 5,\n",
       " ('NISSAN', 'CUBE'): 5,\n",
       " ('HONDA', 'STREAM'): 5,\n",
       " ('MITSUBISHI', 'CHARIOT'): 5,\n",
       " ('HONDA', 'FREED'): 5,\n",
       " ('TOYOTA', 'COROLLA_SPACIO'): 5,\n",
       " ('NISSAN', 'LIBERTY'): 5,\n",
       " ('NISSAN', 'ALMERA_TINO'): 5,\n",
       " ('TOYOTA', 'BB'): 5,\n",
       " ('MITSUBISHI', 'DION'): 5,\n",
       " ('HONDA', 'SHUTTLE'): 5,\n",
       " ('HONDA', 'ODYSSEY'): 5,\n",
       " ('TOYOTA', 'IPSUM'): 5,\n",
       " ('TOYOTA', 'FUNCARGO'): 5,\n",
       " ('TOYOTA', 'COROLLA_VERSO'): 5,\n",
       " ('TOYOTA', 'ISIS'): 5,\n",
       " ('BMW', '2ACTIVETOURER'): 5,\n",
       " ('HONDA', 'MOBILIO'): 5,\n",
       " ('BMW', '2GRANDTOURER'): 5,\n",
       " ('TOYOTA', 'AVENSIS_VERSO'): 5,\n",
       " ('HONDA', 'FR_V'): 5,\n",
       " ('TOYOTA', 'RAUM'): 5,\n",
       " ('TOYOTA', 'PICNIC'): 5,\n",
       " ('NISSAN', 'TINO'): 5,\n",
       " ('HONDA', 'MOBILIO_SPIKE'): 5,\n",
       " ('MERCEDES', 'CITAN'): 5,\n",
       " ('MITSUBISHI', 'DELICA_D2'): 5,\n",
       " ('NISSAN', 'PRAIRIE'): 5,\n",
       " ('TOYOTA', 'MARK_X_ZIO'): 5,\n",
       " ('TOYOTA', 'GAIA'): 5,\n",
       " ('MERCEDES', 'VANEO'): 5,\n",
       " ('TOYOTA', 'SIENTA'): 5,\n",
       " ('TOYOTA', 'VOXY'): 5,\n",
       " ('TOYOTA', 'WISH'): 5,\n",
       " ('TOYOTA', 'YARIS_VERSO'): 5,\n",
       " ('TOYOTA', 'NADIA'): 5}"
      ]
     },
     "execution_count": 41,
     "metadata": {},
     "output_type": "execute_result"
    }
   ],
   "source": [
    "compact_temp_3 = {compact_3[i]:3 for i in range(len(compact_3))}\n",
    "compact_temp_4 = {compact_4[i]:4 for i in range(len(compact_4))}\n",
    "compact_temp_5 = {compact_5[i]:5 for i in range(len(compact_5))}\n",
    "compact_all = compact_temp_3.copy()\n",
    "for key in compact_temp_4.keys():\n",
    "    compact_all[key] = 4\n",
    "for key in compact_temp_5.keys():\n",
    "    compact_all[key] = 5\n",
    "compact_all"
   ]
  },
  {
   "cell_type": "markdown",
   "id": "0bd2f13f",
   "metadata": {
    "id": "0bd2f13f"
   },
   "source": [
    "Повторим для остальных типов кузовов"
   ]
  },
  {
   "cell_type": "code",
   "execution_count": 42,
   "id": "b830fed8",
   "metadata": {
    "executionInfo": {
     "elapsed": 111,
     "status": "ok",
     "timestamp": 1627470996941,
     "user": {
      "displayName": "Сергей",
      "photoUrl": "",
      "userId": "16958243466904798794"
     },
     "user_tz": -180
    },
    "id": "b830fed8"
   },
   "outputs": [],
   "source": [
    "# минивэн\n",
    "\n",
    "mini_3 = test[(test.bodyType == 'минивэн') & (test.numberOfDoors == 3)][[\n",
    "    'brand', 'model_name']].value_counts().index\n",
    "mini_3 = pd.DataFrame(mini_3)[0].to_list()\n",
    "mini_4 = test[(test.bodyType == 'минивэн') & (test.numberOfDoors == 4)][[\n",
    "    'brand', 'model_name']].value_counts().index\n",
    "mini_4 = pd.DataFrame(mini_4)[0].to_list()\n",
    "mini_5 = test[(test.bodyType == 'минивэн') & (test.numberOfDoors == 5)][[\n",
    "    'brand', 'model_name']].value_counts().index\n",
    "mini_5 = pd.DataFrame(mini_5)[0].to_list()"
   ]
  },
  {
   "cell_type": "code",
   "execution_count": 43,
   "id": "45a54bee",
   "metadata": {
    "colab": {
     "base_uri": "https://localhost:8080/"
    },
    "executionInfo": {
     "elapsed": 111,
     "status": "ok",
     "timestamp": 1627470996942,
     "user": {
      "displayName": "Сергей",
      "photoUrl": "",
      "userId": "16958243466904798794"
     },
     "user_tz": -180
    },
    "id": "45a54bee",
    "outputId": "9041238d-064d-4006-effc-f38e6a6d270f"
   },
   "outputs": [
    {
     "name": "stdout",
     "output_type": "stream",
     "text": [
      "3 19 36\n"
     ]
    }
   ],
   "source": [
    "print(len(mini_3),len(mini_4),len(mini_5))"
   ]
  },
  {
   "cell_type": "code",
   "execution_count": 44,
   "id": "060c2ab4",
   "metadata": {
    "executionInfo": {
     "elapsed": 96,
     "status": "ok",
     "timestamp": 1627470996944,
     "user": {
      "displayName": "Сергей",
      "photoUrl": "",
      "userId": "16958243466904798794"
     },
     "user_tz": -180
    },
    "id": "060c2ab4"
   },
   "outputs": [],
   "source": [
    "mini_temp_3 = {mini_3[i]:3 for i in range(len(mini_3))}\n",
    "mini_temp_4 = {mini_4[i]:4 for i in range(len(mini_4))}\n",
    "mini_temp_5 = {mini_5[i]:5 for i in range(len(mini_5))}\n",
    "mini_all = mini_temp_3.copy()\n",
    "for key in mini_temp_4.keys():\n",
    "    mini_all[key] = 4\n",
    "for key in mini_temp_5.keys():\n",
    "    mini_all[key] = 5"
   ]
  },
  {
   "cell_type": "code",
   "execution_count": 45,
   "id": "47267e55",
   "metadata": {
    "executionInfo": {
     "elapsed": 96,
     "status": "ok",
     "timestamp": 1627470996945,
     "user": {
      "displayName": "Сергей",
      "photoUrl": "",
      "userId": "16958243466904798794"
     },
     "user_tz": -180
    },
    "id": "47267e55"
   },
   "outputs": [],
   "source": [
    "# пикап полуторная кабина\n",
    "\n",
    "pickup_2 = test[(test.bodyType == 'пикап полуторная кабина') & (test.numberOfDoors == 2)][[\n",
    "    'brand', 'model_name']].value_counts().index\n",
    "pickup_2 = pd.DataFrame(pickup_2)[0].to_list()\n",
    "pickup_4 = test[(test.bodyType == 'пикап полуторная кабина') & (test.numberOfDoors == 4)][[\n",
    "    'brand', 'model_name']].value_counts().index\n",
    "pickup_4 = pd.DataFrame(pickup_4)[0].to_list()"
   ]
  },
  {
   "cell_type": "code",
   "execution_count": 46,
   "id": "c2381e97",
   "metadata": {
    "colab": {
     "base_uri": "https://localhost:8080/"
    },
    "executionInfo": {
     "elapsed": 97,
     "status": "ok",
     "timestamp": 1627470996947,
     "user": {
      "displayName": "Сергей",
      "photoUrl": "",
      "userId": "16958243466904798794"
     },
     "user_tz": -180
    },
    "id": "c2381e97",
    "outputId": "2908573b-933e-4fe6-a74c-3f09442ccfdc"
   },
   "outputs": [
    {
     "name": "stdout",
     "output_type": "stream",
     "text": [
      "3 1\n"
     ]
    }
   ],
   "source": [
    "print(len(pickup_2),len(pickup_4))"
   ]
  },
  {
   "cell_type": "code",
   "execution_count": 47,
   "id": "2ca4223d",
   "metadata": {
    "executionInfo": {
     "elapsed": 80,
     "status": "ok",
     "timestamp": 1627470996948,
     "user": {
      "displayName": "Сергей",
      "photoUrl": "",
      "userId": "16958243466904798794"
     },
     "user_tz": -180
    },
    "id": "2ca4223d"
   },
   "outputs": [],
   "source": [
    "pickup_temp_2 = {pickup_2[i]:3 for i in range(len(pickup_2))}\n",
    "pickup_temp_4 = {pickup_4[i]:4 for i in range(len(pickup_4))}\n",
    "pickup_all = pickup_temp_4.copy()\n",
    "for key in pickup_temp_2.keys():\n",
    "    pickup_temp_4[key] = 2"
   ]
  },
  {
   "cell_type": "code",
   "execution_count": 48,
   "id": "064631c9",
   "metadata": {
    "executionInfo": {
     "elapsed": 82,
     "status": "ok",
     "timestamp": 1627470996950,
     "user": {
      "displayName": "Сергей",
      "photoUrl": "",
      "userId": "16958243466904798794"
     },
     "user_tz": -180
    },
    "id": "064631c9"
   },
   "outputs": [],
   "source": [
    "# фургон\n",
    "\n",
    "van_3 = test[(test.bodyType == 'фургон') & (test.numberOfDoors == 3)][[\n",
    "    'brand', 'model_name']].value_counts().index\n",
    "van_3 = pd.DataFrame(van_3)[0].to_list()\n",
    "van_4 = test[(test.bodyType == 'фургон') & (test.numberOfDoors == 4)][[\n",
    "    'brand', 'model_name']].value_counts().index\n",
    "van_4 = pd.DataFrame(van_4)[0].to_list()"
   ]
  },
  {
   "cell_type": "code",
   "execution_count": 49,
   "id": "f35eee91",
   "metadata": {
    "colab": {
     "base_uri": "https://localhost:8080/"
    },
    "executionInfo": {
     "elapsed": 81,
     "status": "ok",
     "timestamp": 1627470996951,
     "user": {
      "displayName": "Сергей",
      "photoUrl": "",
      "userId": "16958243466904798794"
     },
     "user_tz": -180
    },
    "id": "f35eee91",
    "outputId": "b4208f29-879a-4d67-cb17-69a857c178a4"
   },
   "outputs": [
    {
     "name": "stdout",
     "output_type": "stream",
     "text": [
      "1 1\n"
     ]
    }
   ],
   "source": [
    "print(len(van_3),len(van_4))"
   ]
  },
  {
   "cell_type": "code",
   "execution_count": 50,
   "id": "9f17920d",
   "metadata": {
    "colab": {
     "base_uri": "https://localhost:8080/"
    },
    "executionInfo": {
     "elapsed": 68,
     "status": "ok",
     "timestamp": 1627470996954,
     "user": {
      "displayName": "Сергей",
      "photoUrl": "",
      "userId": "16958243466904798794"
     },
     "user_tz": -180
    },
    "id": "9f17920d",
    "outputId": "c86ee12a-c50a-40ef-d94e-db4b51649155"
   },
   "outputs": [
    {
     "name": "stdout",
     "output_type": "stream",
     "text": [
      "[('VOLKSWAGEN', 'TRANSPORTER')] [('VOLKSWAGEN', 'TRANSPORTER')]\n"
     ]
    }
   ],
   "source": [
    "print(van_3,van_4)"
   ]
  },
  {
   "cell_type": "code",
   "execution_count": 51,
   "id": "baef898c",
   "metadata": {
    "executionInfo": {
     "elapsed": 54,
     "status": "ok",
     "timestamp": 1627470996955,
     "user": {
      "displayName": "Сергей",
      "photoUrl": "",
      "userId": "16958243466904798794"
     },
     "user_tz": -180
    },
    "id": "baef898c"
   },
   "outputs": [],
   "source": [
    "van_all = {van_4[0]:4}"
   ]
  },
  {
   "cell_type": "code",
   "execution_count": 52,
   "id": "16ba0468",
   "metadata": {
    "executionInfo": {
     "elapsed": 54,
     "status": "ok",
     "timestamp": 1627470996957,
     "user": {
      "displayName": "Сергей",
      "photoUrl": "",
      "userId": "16958243466904798794"
     },
     "user_tz": -180
    },
    "id": "16ba0468"
   },
   "outputs": [],
   "source": [
    "body_door_dict = {'компактвэн': compact_all,\n",
    "                  'минивэн':mini_all,\n",
    "                  'пикап полуторная кабина':pickup_all,\n",
    "                  'фургон':van_all}"
   ]
  },
  {
   "cell_type": "markdown",
   "id": "99cf0482",
   "metadata": {},
   "source": [
    "#### **brand и model_name**"
   ]
  },
  {
   "cell_type": "markdown",
   "id": "02c1abba",
   "metadata": {
    "id": "02c1abba"
   },
   "source": [
    "Теперь посмотрим на значения **brand** и **model_name** в обоих датасетах"
   ]
  },
  {
   "cell_type": "code",
   "execution_count": 53,
   "id": "cecad71c",
   "metadata": {
    "colab": {
     "base_uri": "https://localhost:8080/",
     "height": 148
    },
    "executionInfo": {
     "elapsed": 55,
     "status": "ok",
     "timestamp": 1627470996959,
     "user": {
      "displayName": "Сергей",
      "photoUrl": "",
      "userId": "16958243466904798794"
     },
     "user_tz": -180
    },
    "id": "cecad71c",
    "outputId": "d3aa8c5c-2868-40e5-fc1d-fc8bcf484484"
   },
   "outputs": [
    {
     "data": {
      "text/html": [
       "<div>\n",
       "<style scoped>\n",
       "    .dataframe tbody tr th:only-of-type {\n",
       "        vertical-align: middle;\n",
       "    }\n",
       "\n",
       "    .dataframe tbody tr th {\n",
       "        vertical-align: top;\n",
       "    }\n",
       "\n",
       "    .dataframe thead th {\n",
       "        text-align: right;\n",
       "    }\n",
       "</style>\n",
       "<table border=\"1\" class=\"dataframe\">\n",
       "  <thead>\n",
       "    <tr style=\"text-align: right;\">\n",
       "      <th></th>\n",
       "      <th>0</th>\n",
       "      <th>1</th>\n",
       "      <th>2</th>\n",
       "      <th>3</th>\n",
       "      <th>4</th>\n",
       "      <th>5</th>\n",
       "      <th>6</th>\n",
       "      <th>7</th>\n",
       "      <th>8</th>\n",
       "      <th>9</th>\n",
       "      <th>10</th>\n",
       "      <th>11</th>\n",
       "      <th>12</th>\n",
       "      <th>13</th>\n",
       "      <th>14</th>\n",
       "      <th>15</th>\n",
       "      <th>16</th>\n",
       "      <th>17</th>\n",
       "      <th>18</th>\n",
       "      <th>19</th>\n",
       "      <th>20</th>\n",
       "      <th>21</th>\n",
       "      <th>22</th>\n",
       "    </tr>\n",
       "  </thead>\n",
       "  <tbody>\n",
       "    <tr>\n",
       "      <th>df</th>\n",
       "      <td>Audi</td>\n",
       "      <td>BMW</td>\n",
       "      <td>Honda</td>\n",
       "      <td>Infiniti</td>\n",
       "      <td>Lexus</td>\n",
       "      <td>Mercedes-Benz</td>\n",
       "      <td>Mitsubishi</td>\n",
       "      <td>Nissan</td>\n",
       "      <td>Skoda</td>\n",
       "      <td>Toyota</td>\n",
       "      <td>Volkswagen</td>\n",
       "      <td>Volvo</td>\n",
       "      <td>NaN</td>\n",
       "      <td>NaN</td>\n",
       "      <td>NaN</td>\n",
       "      <td>NaN</td>\n",
       "      <td>NaN</td>\n",
       "      <td>NaN</td>\n",
       "      <td>NaN</td>\n",
       "      <td>NaN</td>\n",
       "      <td>NaN</td>\n",
       "      <td>NaN</td>\n",
       "      <td>NaN</td>\n",
       "    </tr>\n",
       "    <tr>\n",
       "      <th>test</th>\n",
       "      <td>NaN</td>\n",
       "      <td>BMW</td>\n",
       "      <td>NaN</td>\n",
       "      <td>NaN</td>\n",
       "      <td>NaN</td>\n",
       "      <td>NaN</td>\n",
       "      <td>NaN</td>\n",
       "      <td>NaN</td>\n",
       "      <td>NaN</td>\n",
       "      <td>NaN</td>\n",
       "      <td>NaN</td>\n",
       "      <td>NaN</td>\n",
       "      <td>AUDI</td>\n",
       "      <td>HONDA</td>\n",
       "      <td>INFINITI</td>\n",
       "      <td>LEXUS</td>\n",
       "      <td>MERCEDES</td>\n",
       "      <td>MITSUBISHI</td>\n",
       "      <td>NISSAN</td>\n",
       "      <td>SKODA</td>\n",
       "      <td>TOYOTA</td>\n",
       "      <td>VOLKSWAGEN</td>\n",
       "      <td>VOLVO</td>\n",
       "    </tr>\n",
       "  </tbody>\n",
       "</table>\n",
       "</div>"
      ],
      "text/plain": [
       "        0    1      2         3      4              5           6       7   \\\n",
       "df    Audi  BMW  Honda  Infiniti  Lexus  Mercedes-Benz  Mitsubishi  Nissan   \n",
       "test   NaN  BMW    NaN       NaN    NaN            NaN         NaN     NaN   \n",
       "\n",
       "         8       9           10     11    12     13        14     15  \\\n",
       "df    Skoda  Toyota  Volkswagen  Volvo   NaN    NaN       NaN    NaN   \n",
       "test    NaN     NaN         NaN    NaN  AUDI  HONDA  INFINITI  LEXUS   \n",
       "\n",
       "            16          17      18     19      20          21     22  \n",
       "df         NaN         NaN     NaN    NaN     NaN         NaN    NaN  \n",
       "test  MERCEDES  MITSUBISHI  NISSAN  SKODA  TOYOTA  VOLKSWAGEN  VOLVO  "
      ]
     },
     "execution_count": 53,
     "metadata": {},
     "output_type": "execute_result"
    }
   ],
   "source": [
    "pd.merge(pd.DataFrame(sorted(df.brand.unique()),columns=['df']),\n",
    "           pd.DataFrame(sorted(test.brand.unique()),columns=['test']),\n",
    "         how='outer', left_on='df', right_on='test').T"
   ]
  },
  {
   "cell_type": "markdown",
   "id": "907330f6",
   "metadata": {
    "id": "907330f6"
   },
   "source": [
    "Приведем значения в df в соответствие с test"
   ]
  },
  {
   "cell_type": "code",
   "execution_count": 54,
   "id": "79996b31",
   "metadata": {
    "colab": {
     "base_uri": "https://localhost:8080/",
     "height": 111
    },
    "executionInfo": {
     "elapsed": 1190,
     "status": "ok",
     "timestamp": 1627470998096,
     "user": {
      "displayName": "Сергей",
      "photoUrl": "",
      "userId": "16958243466904798794"
     },
     "user_tz": -180
    },
    "id": "79996b31",
    "outputId": "aef1a37c-6d4c-4c25-f4f6-3d8a0955d149"
   },
   "outputs": [
    {
     "data": {
      "text/html": [
       "<div>\n",
       "<style scoped>\n",
       "    .dataframe tbody tr th:only-of-type {\n",
       "        vertical-align: middle;\n",
       "    }\n",
       "\n",
       "    .dataframe tbody tr th {\n",
       "        vertical-align: top;\n",
       "    }\n",
       "\n",
       "    .dataframe thead th {\n",
       "        text-align: right;\n",
       "    }\n",
       "</style>\n",
       "<table border=\"1\" class=\"dataframe\">\n",
       "  <thead>\n",
       "    <tr style=\"text-align: right;\">\n",
       "      <th></th>\n",
       "      <th>0</th>\n",
       "      <th>1</th>\n",
       "      <th>2</th>\n",
       "      <th>3</th>\n",
       "      <th>4</th>\n",
       "      <th>5</th>\n",
       "      <th>6</th>\n",
       "      <th>7</th>\n",
       "      <th>8</th>\n",
       "      <th>9</th>\n",
       "      <th>10</th>\n",
       "      <th>11</th>\n",
       "    </tr>\n",
       "  </thead>\n",
       "  <tbody>\n",
       "    <tr>\n",
       "      <th>df</th>\n",
       "      <td>AUDI</td>\n",
       "      <td>BMW</td>\n",
       "      <td>HONDA</td>\n",
       "      <td>INFINITI</td>\n",
       "      <td>LEXUS</td>\n",
       "      <td>MERCEDES</td>\n",
       "      <td>MITSUBISHI</td>\n",
       "      <td>NISSAN</td>\n",
       "      <td>SKODA</td>\n",
       "      <td>TOYOTA</td>\n",
       "      <td>VOLKSWAGEN</td>\n",
       "      <td>VOLVO</td>\n",
       "    </tr>\n",
       "    <tr>\n",
       "      <th>test</th>\n",
       "      <td>AUDI</td>\n",
       "      <td>BMW</td>\n",
       "      <td>HONDA</td>\n",
       "      <td>INFINITI</td>\n",
       "      <td>LEXUS</td>\n",
       "      <td>MERCEDES</td>\n",
       "      <td>MITSUBISHI</td>\n",
       "      <td>NISSAN</td>\n",
       "      <td>SKODA</td>\n",
       "      <td>TOYOTA</td>\n",
       "      <td>VOLKSWAGEN</td>\n",
       "      <td>VOLVO</td>\n",
       "    </tr>\n",
       "  </tbody>\n",
       "</table>\n",
       "</div>"
      ],
      "text/plain": [
       "        0    1      2         3      4         5           6       7      8   \\\n",
       "df    AUDI  BMW  HONDA  INFINITI  LEXUS  MERCEDES  MITSUBISHI  NISSAN  SKODA   \n",
       "test  AUDI  BMW  HONDA  INFINITI  LEXUS  MERCEDES  MITSUBISHI  NISSAN  SKODA   \n",
       "\n",
       "          9           10     11  \n",
       "df    TOYOTA  VOLKSWAGEN  VOLVO  \n",
       "test  TOYOTA  VOLKSWAGEN  VOLVO  "
      ]
     },
     "execution_count": 54,
     "metadata": {},
     "output_type": "execute_result"
    }
   ],
   "source": [
    "df.brand = df.brand.str.upper().replace('MERCEDES-BENZ','MERCEDES')\n",
    "pd.merge(pd.DataFrame(sorted(df.brand.unique()),columns=['df']),\n",
    "           pd.DataFrame(sorted(test.brand.unique()),columns=['test']),\n",
    "         how='outer', left_on='df', right_on='test').T"
   ]
  },
  {
   "cell_type": "markdown",
   "id": "d06b0d89",
   "metadata": {
    "id": "d06b0d89"
   },
   "source": [
    "Наименования моделей в датасетах"
   ]
  },
  {
   "cell_type": "code",
   "execution_count": 55,
   "id": "5976ade1",
   "metadata": {
    "colab": {
     "base_uri": "https://localhost:8080/"
    },
    "executionInfo": {
     "elapsed": 112,
     "status": "ok",
     "timestamp": 1627470998098,
     "user": {
      "displayName": "Сергей",
      "photoUrl": "",
      "userId": "16958243466904798794"
     },
     "user_tz": -180
    },
    "id": "5976ade1",
    "outputId": "d80f7131-9bf9-4d6a-b42e-a2766581dcfe"
   },
   "outputs": [
    {
     "data": {
      "text/plain": [
       "array(['A3 III (8V) Рестайлинг', 'RS 4 III (B8)',\n",
       "       'A5 Sportback I (8T) Рестайлинг',\n",
       "       'RS 7 Sportback I (4G) Рестайлинг', 'S6 IV (C7) Рестайлинг',\n",
       "       'A7 I (4G) Рестайлинг', 'A6 IV (C7) Рестайлинг', 'Q3 I (8U)',\n",
       "       'A4 IV (B8)', 'Q7 I (4L) Рестайлинг', ..., 'V70 II',\n",
       "       'S60 I Рестайлинг R', 'C70 I', '240 Series', 'C70 II', '740',\n",
       "       '460', 'S40 I', 'V70 I', '960 I'], dtype=object)"
      ]
     },
     "execution_count": 55,
     "metadata": {},
     "output_type": "execute_result"
    }
   ],
   "source": [
    "df.model_name.unique()"
   ]
  },
  {
   "cell_type": "code",
   "execution_count": 56,
   "id": "c2c96f41",
   "metadata": {
    "colab": {
     "base_uri": "https://localhost:8080/"
    },
    "executionInfo": {
     "elapsed": 89,
     "status": "ok",
     "timestamp": 1627470998099,
     "user": {
      "displayName": "Сергей",
      "photoUrl": "",
      "userId": "16958243466904798794"
     },
     "user_tz": -180
    },
    "id": "c2c96f41",
    "outputId": "e66c8d8c-3100-4f13-bfb8-f4a91484202c"
   },
   "outputs": [
    {
     "data": {
      "text/plain": [
       "array(['OCTAVIA', 'SUPERB', 'OCTAVIA_RS', 'YETI', 'KODIAQ', 'RAPID',\n",
       "       'FABIA', 'ROOMSTER', 'FELICIA', 'KAROQ', ..., 'LIBERO', 'DION',\n",
       "       'EMERAUDE', 'ASPIRE', 'MINICA', 'ATLAS', 'WILL_CYPHA', 'PASEO',\n",
       "       'WILL', 'PLATZ'], dtype=object)"
      ]
     },
     "execution_count": 56,
     "metadata": {},
     "output_type": "execute_result"
    }
   ],
   "source": [
    "test.model_name.unique()"
   ]
  },
  {
   "cell_type": "markdown",
   "id": "dd61d49e",
   "metadata": {
    "id": "dd61d49e"
   },
   "source": [
    "Видно, что наименования в test более обобщенные, необходимо привести собранные данные к такой же форме"
   ]
  },
  {
   "cell_type": "markdown",
   "id": "3beca90c",
   "metadata": {
    "id": "3beca90c"
   },
   "source": [
    "##### **AUDI**"
   ]
  },
  {
   "cell_type": "code",
   "execution_count": 57,
   "id": "d1eba538",
   "metadata": {
    "colab": {
     "base_uri": "https://localhost:8080/",
     "height": 204
    },
    "executionInfo": {
     "elapsed": 72,
     "status": "ok",
     "timestamp": 1627470998099,
     "user": {
      "displayName": "Сергей",
      "photoUrl": "",
      "userId": "16958243466904798794"
     },
     "user_tz": -180
    },
    "id": "d1eba538",
    "outputId": "fa0e5444-98e9-41b7-a546-4ea9bec54d77"
   },
   "outputs": [
    {
     "data": {
      "text/plain": [
       "array(['100 III (C3)', '100 III (C3) Рестайлинг', '100 IV (C4)',\n",
       "       '100 IV (C4) S4', '200 II (C3)', '200 II (C3) Рестайлинг',\n",
       "       '80 IV (B3)', '80 V (B4)', '90 I (B2)', '90 II (B3)', ...,\n",
       "       'SQ8 I (4M)', 'TT I (8N)', 'TT I (8N) Рестайлинг', 'TT II (8J)',\n",
       "       'TT II (8J) Рестайлинг', 'TT III (8S)', 'TT Roadster I (8N)',\n",
       "       'TTS III (8S)', 'e-tron GT', 'e-tron I 55'], dtype='<U39')"
      ]
     },
     "metadata": {},
     "output_type": "display_data"
    },
    {
     "data": {
      "text/plain": [
       "array(['100', '200', '80', '90', '920', 'A1', 'A2', 'A3', 'A4',\n",
       "       'A4_ALLROAD', 'A5', 'A6', 'A7', 'A8', 'ALLROAD', 'COUPE', 'E_TRON',\n",
       "       'Q3', 'Q5', 'Q7', 'Q8', 'R8', 'RS3', 'RS4', 'RS5', 'RS6', 'RS7',\n",
       "       'RSQ3', 'S3', 'S4', 'S5', 'S6', 'S7', 'S8', 'SQ5', 'TT', 'TTS',\n",
       "       'TT_RS', 'V8'], dtype='<U10')"
      ]
     },
     "execution_count": 57,
     "metadata": {},
     "output_type": "execute_result"
    }
   ],
   "source": [
    "audi_models_df = sorted((df.groupby('brand').model_name.unique())['AUDI'])\n",
    "audi_models_test = sorted((test.groupby('brand').model_name.unique())['AUDI'])\n",
    "display(np.array(audi_models_df))\n",
    "np.array(audi_models_test)"
   ]
  },
  {
   "cell_type": "markdown",
   "id": "7a024917",
   "metadata": {
    "id": "7a024917"
   },
   "source": [
    "В test есть A4_ALLROAD и ALLROAD, в df A4 allroad и A6 allroad. Посмотрим на них"
   ]
  },
  {
   "cell_type": "code",
   "execution_count": 58,
   "id": "ba5fc08d",
   "metadata": {
    "colab": {
     "base_uri": "https://localhost:8080/"
    },
    "executionInfo": {
     "elapsed": 71,
     "status": "ok",
     "timestamp": 1627470998100,
     "user": {
      "displayName": "Сергей",
      "photoUrl": "",
      "userId": "16958243466904798794"
     },
     "user_tz": -180
    },
    "id": "ba5fc08d",
    "outputId": "dc44a390-4b50-434f-dd6e-49165d66abca"
   },
   "outputs": [
    {
     "data": {
      "text/plain": [
       "engineDisplacement  model_name\n",
       "2.0                 A4_ALLROAD    30\n",
       "2.5                 ALLROAD        7\n",
       "2.7                 ALLROAD       32\n",
       "3.0                 ALLROAD       26\n",
       "                    A4_ALLROAD     1\n",
       "3.1                 ALLROAD       19\n",
       "4.2                 ALLROAD        1\n",
       "Name: model_name, dtype: int64"
      ]
     },
     "execution_count": 58,
     "metadata": {},
     "output_type": "execute_result"
    }
   ],
   "source": [
    "test[test.model_name.str.contains('ALLROAD')].groupby('engineDisplacement').model_name.value_counts()"
   ]
  },
  {
   "cell_type": "markdown",
   "id": "e7a80fce",
   "metadata": {
    "id": "e7a80fce"
   },
   "source": [
    "Согласно данным из [википедии](https://ru.wikipedia.org/wiki/Audi_Allroad_Quattro) А4 выпускались только с двигателями объемом 2.0 и 3.0 литра. Соответственно заменим ALLROAD на A6 allroad"
   ]
  },
  {
   "cell_type": "code",
   "execution_count": 59,
   "id": "0a417544",
   "metadata": {
    "executionInfo": {
     "elapsed": 56,
     "status": "ok",
     "timestamp": 1627470998101,
     "user": {
      "displayName": "Сергей",
      "photoUrl": "",
      "userId": "16958243466904798794"
     },
     "user_tz": -180
    },
    "id": "0a417544"
   },
   "outputs": [],
   "source": [
    "test.model_name = test.model_name.apply(lambda x: 'A6 ALLROAD' if x == 'ALLROAD' else x)\n",
    "test.model_name = test.model_name.str.replace('_',' ')"
   ]
  },
  {
   "cell_type": "markdown",
   "id": "016c879a",
   "metadata": {
    "id": "016c879a"
   },
   "source": [
    "Напишем функцию обработки значений в df до формата данных в test"
   ]
  },
  {
   "cell_type": "code",
   "execution_count": 60,
   "id": "1c39e514",
   "metadata": {
    "executionInfo": {
     "elapsed": 56,
     "status": "ok",
     "timestamp": 1627470998102,
     "user": {
      "displayName": "Сергей",
      "photoUrl": "",
      "userId": "16958243466904798794"
     },
     "user_tz": -180
    },
    "id": "1c39e514"
   },
   "outputs": [],
   "source": [
    "def models_formatting(string):\n",
    "    mod_list = []\n",
    "    exclude_list = ['I', 'II', 'III', 'IV', 'V', 'VI',\n",
    "                    'VII', 'VIII', 'IX', 'X', 'XI', 'XII', 'XIII']\n",
    "    re_list = string.split()\n",
    "    mod_list.append(re_list[0].upper())\n",
    "    for i in range(1, len(re_list)):\n",
    "        if i == 1 and re_list[i].isdigit():\n",
    "            mod_list[0] = mod_list[0]+re_list[i]\n",
    "            return ' '.join(mod_list).upper()\n",
    "        elif i == 1 and (re_list[i].isalpha() and len(re_list[i]) == 1 and re_list[i] not in exclude_list):\n",
    "            mod_list[0] = mod_list[0]+' '+re_list[i]\n",
    "            return ' '.join(mod_list).upper()\n",
    "        elif i == 2 or (re_list[i] not in exclude_list and re_list[i].find('/') == -1 and re_list[i].find('(') == -1):\n",
    "            mod_list.append(re_list[i])\n",
    "            return ' '.join(mod_list).upper()\n",
    "        else:\n",
    "            return ' '.join(mod_list).upper()\n",
    "    return string.upper()"
   ]
  },
  {
   "cell_type": "code",
   "execution_count": 61,
   "id": "aa3ad64c",
   "metadata": {
    "executionInfo": {
     "elapsed": 51,
     "status": "ok",
     "timestamp": 1627470998103,
     "user": {
      "displayName": "Сергей",
      "photoUrl": "",
      "userId": "16958243466904798794"
     },
     "user_tz": -180
    },
    "id": "aa3ad64c"
   },
   "outputs": [],
   "source": [
    "df.model_name = df[['brand', 'model_name']].apply(\n",
    "    lambda x: models_formatting(x[1]) if x[0] == 'AUDI' else x[1], axis=1)"
   ]
  },
  {
   "cell_type": "markdown",
   "id": "fa7a8c79",
   "metadata": {
    "id": "fa7a8c79"
   },
   "source": [
    "Результаты:"
   ]
  },
  {
   "cell_type": "code",
   "execution_count": 62,
   "id": "9c6cc358",
   "metadata": {
    "colab": {
     "base_uri": "https://localhost:8080/",
     "height": 182
    },
    "executionInfo": {
     "elapsed": 50,
     "status": "ok",
     "timestamp": 1627470998104,
     "user": {
      "displayName": "Сергей",
      "photoUrl": "",
      "userId": "16958243466904798794"
     },
     "user_tz": -180
    },
    "id": "9c6cc358",
    "outputId": "37ec073b-128f-4f70-9272-7375e71cb401"
   },
   "outputs": [
    {
     "data": {
      "text/html": [
       "<div>\n",
       "<style scoped>\n",
       "    .dataframe tbody tr th:only-of-type {\n",
       "        vertical-align: middle;\n",
       "    }\n",
       "\n",
       "    .dataframe tbody tr th {\n",
       "        vertical-align: top;\n",
       "    }\n",
       "\n",
       "    .dataframe thead th {\n",
       "        text-align: right;\n",
       "    }\n",
       "</style>\n",
       "<table border=\"1\" class=\"dataframe\">\n",
       "  <thead>\n",
       "    <tr style=\"text-align: right;\">\n",
       "      <th></th>\n",
       "      <th>0</th>\n",
       "      <th>1</th>\n",
       "      <th>2</th>\n",
       "      <th>3</th>\n",
       "      <th>4</th>\n",
       "      <th>5</th>\n",
       "      <th>6</th>\n",
       "      <th>7</th>\n",
       "      <th>8</th>\n",
       "      <th>9</th>\n",
       "      <th>10</th>\n",
       "      <th>11</th>\n",
       "      <th>12</th>\n",
       "      <th>13</th>\n",
       "      <th>14</th>\n",
       "      <th>15</th>\n",
       "      <th>16</th>\n",
       "      <th>17</th>\n",
       "      <th>18</th>\n",
       "      <th>19</th>\n",
       "      <th>20</th>\n",
       "      <th>21</th>\n",
       "      <th>22</th>\n",
       "      <th>23</th>\n",
       "      <th>24</th>\n",
       "      <th>25</th>\n",
       "      <th>26</th>\n",
       "      <th>27</th>\n",
       "      <th>28</th>\n",
       "      <th>29</th>\n",
       "      <th>30</th>\n",
       "      <th>31</th>\n",
       "      <th>32</th>\n",
       "      <th>33</th>\n",
       "      <th>34</th>\n",
       "      <th>35</th>\n",
       "      <th>36</th>\n",
       "      <th>37</th>\n",
       "      <th>38</th>\n",
       "      <th>39</th>\n",
       "      <th>40</th>\n",
       "      <th>41</th>\n",
       "      <th>42</th>\n",
       "      <th>43</th>\n",
       "      <th>44</th>\n",
       "      <th>45</th>\n",
       "      <th>46</th>\n",
       "      <th>47</th>\n",
       "      <th>48</th>\n",
       "      <th>49</th>\n",
       "      <th>50</th>\n",
       "      <th>51</th>\n",
       "      <th>52</th>\n",
       "      <th>53</th>\n",
       "      <th>54</th>\n",
       "      <th>55</th>\n",
       "    </tr>\n",
       "  </thead>\n",
       "  <tbody>\n",
       "    <tr>\n",
       "      <th>AUDI_df</th>\n",
       "      <td>100</td>\n",
       "      <td>200</td>\n",
       "      <td>80</td>\n",
       "      <td>90</td>\n",
       "      <td>920</td>\n",
       "      <td>A1</td>\n",
       "      <td>A1 SPORTBACK</td>\n",
       "      <td>A3</td>\n",
       "      <td>A3 SPORTBACK</td>\n",
       "      <td>A4</td>\n",
       "      <td>A4 ALLROAD</td>\n",
       "      <td>A5</td>\n",
       "      <td>A5 SPORTBACK</td>\n",
       "      <td>A6</td>\n",
       "      <td>A6 ALLROAD</td>\n",
       "      <td>A7</td>\n",
       "      <td>A8</td>\n",
       "      <td>A8 LONG</td>\n",
       "      <td>CABRIOLET</td>\n",
       "      <td>COUPE</td>\n",
       "      <td>E-TRON</td>\n",
       "      <td>E-TRON GT</td>\n",
       "      <td>Q3</td>\n",
       "      <td>Q3 SPORTBACK</td>\n",
       "      <td>Q5</td>\n",
       "      <td>Q7</td>\n",
       "      <td>Q8</td>\n",
       "      <td>R8</td>\n",
       "      <td>R8 GT</td>\n",
       "      <td>RS E-TRON</td>\n",
       "      <td>RS Q3</td>\n",
       "      <td>RS Q8</td>\n",
       "      <td>RS3</td>\n",
       "      <td>RS4</td>\n",
       "      <td>RS5</td>\n",
       "      <td>RS6</td>\n",
       "      <td>RS7</td>\n",
       "      <td>S3</td>\n",
       "      <td>S4</td>\n",
       "      <td>S5</td>\n",
       "      <td>S5 SPORTBACK</td>\n",
       "      <td>S6</td>\n",
       "      <td>S7 SPORTBACK</td>\n",
       "      <td>S8</td>\n",
       "      <td>SQ5</td>\n",
       "      <td>SQ7</td>\n",
       "      <td>SQ8</td>\n",
       "      <td>TT</td>\n",
       "      <td>TT ROADSTER</td>\n",
       "      <td>TTS</td>\n",
       "      <td>NaN</td>\n",
       "      <td>NaN</td>\n",
       "      <td>NaN</td>\n",
       "      <td>NaN</td>\n",
       "      <td>NaN</td>\n",
       "      <td>NaN</td>\n",
       "    </tr>\n",
       "    <tr>\n",
       "      <th>AUDI_test</th>\n",
       "      <td>100</td>\n",
       "      <td>200</td>\n",
       "      <td>80</td>\n",
       "      <td>90</td>\n",
       "      <td>920</td>\n",
       "      <td>A1</td>\n",
       "      <td>NaN</td>\n",
       "      <td>A3</td>\n",
       "      <td>NaN</td>\n",
       "      <td>A4</td>\n",
       "      <td>A4 ALLROAD</td>\n",
       "      <td>A5</td>\n",
       "      <td>NaN</td>\n",
       "      <td>A6</td>\n",
       "      <td>A6 ALLROAD</td>\n",
       "      <td>A7</td>\n",
       "      <td>A8</td>\n",
       "      <td>NaN</td>\n",
       "      <td>NaN</td>\n",
       "      <td>COUPE</td>\n",
       "      <td>NaN</td>\n",
       "      <td>NaN</td>\n",
       "      <td>Q3</td>\n",
       "      <td>NaN</td>\n",
       "      <td>Q5</td>\n",
       "      <td>Q7</td>\n",
       "      <td>Q8</td>\n",
       "      <td>R8</td>\n",
       "      <td>NaN</td>\n",
       "      <td>NaN</td>\n",
       "      <td>NaN</td>\n",
       "      <td>NaN</td>\n",
       "      <td>RS3</td>\n",
       "      <td>RS4</td>\n",
       "      <td>RS5</td>\n",
       "      <td>RS6</td>\n",
       "      <td>RS7</td>\n",
       "      <td>S3</td>\n",
       "      <td>S4</td>\n",
       "      <td>S5</td>\n",
       "      <td>NaN</td>\n",
       "      <td>S6</td>\n",
       "      <td>NaN</td>\n",
       "      <td>S8</td>\n",
       "      <td>SQ5</td>\n",
       "      <td>NaN</td>\n",
       "      <td>NaN</td>\n",
       "      <td>TT</td>\n",
       "      <td>NaN</td>\n",
       "      <td>TTS</td>\n",
       "      <td>A2</td>\n",
       "      <td>E TRON</td>\n",
       "      <td>RSQ3</td>\n",
       "      <td>S7</td>\n",
       "      <td>TT RS</td>\n",
       "      <td>V8</td>\n",
       "    </tr>\n",
       "  </tbody>\n",
       "</table>\n",
       "</div>"
      ],
      "text/plain": [
       "            0    1   2   3    4   5             6   7             8   9   \\\n",
       "AUDI_df    100  200  80  90  920  A1  A1 SPORTBACK  A3  A3 SPORTBACK  A4   \n",
       "AUDI_test  100  200  80  90  920  A1           NaN  A3           NaN  A4   \n",
       "\n",
       "                   10  11            12  13          14  15  16       17  \\\n",
       "AUDI_df    A4 ALLROAD  A5  A5 SPORTBACK  A6  A6 ALLROAD  A7  A8  A8 LONG   \n",
       "AUDI_test  A4 ALLROAD  A5           NaN  A6  A6 ALLROAD  A7  A8      NaN   \n",
       "\n",
       "                  18     19      20         21  22            23  24  25  26  \\\n",
       "AUDI_df    CABRIOLET  COUPE  E-TRON  E-TRON GT  Q3  Q3 SPORTBACK  Q5  Q7  Q8   \n",
       "AUDI_test        NaN  COUPE     NaN        NaN  Q3           NaN  Q5  Q7  Q8   \n",
       "\n",
       "           27     28         29     30     31   32   33   34   35   36  37  \\\n",
       "AUDI_df    R8  R8 GT  RS E-TRON  RS Q3  RS Q8  RS3  RS4  RS5  RS6  RS7  S3   \n",
       "AUDI_test  R8    NaN        NaN    NaN    NaN  RS3  RS4  RS5  RS6  RS7  S3   \n",
       "\n",
       "           38  39            40  41            42  43   44   45   46  47  \\\n",
       "AUDI_df    S4  S5  S5 SPORTBACK  S6  S7 SPORTBACK  S8  SQ5  SQ7  SQ8  TT   \n",
       "AUDI_test  S4  S5           NaN  S6           NaN  S8  SQ5  NaN  NaN  TT   \n",
       "\n",
       "                    48   49   50      51    52   53     54   55  \n",
       "AUDI_df    TT ROADSTER  TTS  NaN     NaN   NaN  NaN    NaN  NaN  \n",
       "AUDI_test          NaN  TTS   A2  E TRON  RSQ3   S7  TT RS   V8  "
      ]
     },
     "execution_count": 62,
     "metadata": {},
     "output_type": "execute_result"
    }
   ],
   "source": [
    "def models_comparison(f_name, df, test):\n",
    "    temp_df = pd.DataFrame(sorted((df.groupby('brand').model_name.unique())[\n",
    "                            f_name]), columns=[f_name+'_df'])\n",
    "    temp_test = pd.DataFrame(sorted((test.groupby('brand').model_name.unique())[\n",
    "        f_name]), columns=[f_name+'_test'])\n",
    "    temp_both = pd.merge(temp_df, temp_test, how='outer',\n",
    "                     left_on=temp_df.columns[0], right_on=temp_test.columns[0]).T\n",
    "    return temp_both\n",
    "\n",
    "\n",
    "models_comparison('AUDI', df, test)"
   ]
  },
  {
   "cell_type": "markdown",
   "id": "84167449",
   "metadata": {},
   "source": [
    "Дополнительно обработаем получившиеся наименования"
   ]
  },
  {
   "cell_type": "code",
   "execution_count": 63,
   "id": "e5103a1b",
   "metadata": {
    "executionInfo": {
     "elapsed": 3073,
     "status": "ok",
     "timestamp": 1627471001129,
     "user": {
      "displayName": "Сергей",
      "photoUrl": "",
      "userId": "16958243466904798794"
     },
     "user_tz": -180
    },
    "id": "e5103a1b"
   },
   "outputs": [],
   "source": [
    "test.model_name = test[['brand', 'model_name']].apply(\n",
    "    lambda x: 'E-TRON' if x[0] == 'AUDI' and x[1]=='E TRON' else x[1], axis=1)\n",
    "test.model_name = test[['brand', 'model_name']].apply(\n",
    "    lambda x: 'RS Q3' if x[0] == 'AUDI' and x[1]=='RSQ3' else x[1], axis=1)\n",
    "test.model_name = test[['brand', 'model_name']].apply(\n",
    "    lambda x: 'S7 SPORTBACK' if x[0] == 'AUDI' and x[1]=='S7' else x[1], axis=1)"
   ]
  },
  {
   "cell_type": "code",
   "execution_count": 64,
   "id": "ea976421",
   "metadata": {
    "colab": {
     "base_uri": "https://localhost:8080/",
     "height": 182
    },
    "executionInfo": {
     "elapsed": 53,
     "status": "ok",
     "timestamp": 1627471001132,
     "user": {
      "displayName": "Сергей",
      "photoUrl": "",
      "userId": "16958243466904798794"
     },
     "user_tz": -180
    },
    "id": "ea976421",
    "outputId": "322b55ab-a571-429e-cd4b-7f48130eca97"
   },
   "outputs": [
    {
     "data": {
      "text/html": [
       "<div>\n",
       "<style scoped>\n",
       "    .dataframe tbody tr th:only-of-type {\n",
       "        vertical-align: middle;\n",
       "    }\n",
       "\n",
       "    .dataframe tbody tr th {\n",
       "        vertical-align: top;\n",
       "    }\n",
       "\n",
       "    .dataframe thead th {\n",
       "        text-align: right;\n",
       "    }\n",
       "</style>\n",
       "<table border=\"1\" class=\"dataframe\">\n",
       "  <thead>\n",
       "    <tr style=\"text-align: right;\">\n",
       "      <th></th>\n",
       "      <th>0</th>\n",
       "      <th>1</th>\n",
       "      <th>2</th>\n",
       "      <th>3</th>\n",
       "      <th>4</th>\n",
       "      <th>5</th>\n",
       "      <th>6</th>\n",
       "      <th>7</th>\n",
       "      <th>8</th>\n",
       "      <th>9</th>\n",
       "      <th>10</th>\n",
       "      <th>11</th>\n",
       "      <th>12</th>\n",
       "      <th>13</th>\n",
       "      <th>14</th>\n",
       "      <th>15</th>\n",
       "      <th>16</th>\n",
       "      <th>17</th>\n",
       "      <th>18</th>\n",
       "      <th>19</th>\n",
       "      <th>20</th>\n",
       "      <th>21</th>\n",
       "      <th>22</th>\n",
       "      <th>23</th>\n",
       "      <th>24</th>\n",
       "      <th>25</th>\n",
       "      <th>26</th>\n",
       "      <th>27</th>\n",
       "      <th>28</th>\n",
       "      <th>29</th>\n",
       "      <th>30</th>\n",
       "      <th>31</th>\n",
       "      <th>32</th>\n",
       "      <th>33</th>\n",
       "      <th>34</th>\n",
       "      <th>35</th>\n",
       "      <th>36</th>\n",
       "      <th>37</th>\n",
       "      <th>38</th>\n",
       "      <th>39</th>\n",
       "      <th>40</th>\n",
       "      <th>41</th>\n",
       "      <th>42</th>\n",
       "      <th>43</th>\n",
       "      <th>44</th>\n",
       "      <th>45</th>\n",
       "      <th>46</th>\n",
       "      <th>47</th>\n",
       "      <th>48</th>\n",
       "      <th>49</th>\n",
       "      <th>50</th>\n",
       "      <th>51</th>\n",
       "      <th>52</th>\n",
       "    </tr>\n",
       "  </thead>\n",
       "  <tbody>\n",
       "    <tr>\n",
       "      <th>AUDI_df</th>\n",
       "      <td>100</td>\n",
       "      <td>200</td>\n",
       "      <td>80</td>\n",
       "      <td>90</td>\n",
       "      <td>920</td>\n",
       "      <td>A1</td>\n",
       "      <td>A1 SPORTBACK</td>\n",
       "      <td>A3</td>\n",
       "      <td>A3 SPORTBACK</td>\n",
       "      <td>A4</td>\n",
       "      <td>A4 ALLROAD</td>\n",
       "      <td>A5</td>\n",
       "      <td>A5 SPORTBACK</td>\n",
       "      <td>A6</td>\n",
       "      <td>A6 ALLROAD</td>\n",
       "      <td>A7</td>\n",
       "      <td>A8</td>\n",
       "      <td>A8 LONG</td>\n",
       "      <td>CABRIOLET</td>\n",
       "      <td>COUPE</td>\n",
       "      <td>E-TRON</td>\n",
       "      <td>E-TRON GT</td>\n",
       "      <td>Q3</td>\n",
       "      <td>Q3 SPORTBACK</td>\n",
       "      <td>Q5</td>\n",
       "      <td>Q7</td>\n",
       "      <td>Q8</td>\n",
       "      <td>R8</td>\n",
       "      <td>R8 GT</td>\n",
       "      <td>RS E-TRON</td>\n",
       "      <td>RS Q3</td>\n",
       "      <td>RS Q8</td>\n",
       "      <td>RS3</td>\n",
       "      <td>RS4</td>\n",
       "      <td>RS5</td>\n",
       "      <td>RS6</td>\n",
       "      <td>RS7</td>\n",
       "      <td>S3</td>\n",
       "      <td>S4</td>\n",
       "      <td>S5</td>\n",
       "      <td>S5 SPORTBACK</td>\n",
       "      <td>S6</td>\n",
       "      <td>S7 SPORTBACK</td>\n",
       "      <td>S8</td>\n",
       "      <td>SQ5</td>\n",
       "      <td>SQ7</td>\n",
       "      <td>SQ8</td>\n",
       "      <td>TT</td>\n",
       "      <td>TT ROADSTER</td>\n",
       "      <td>TTS</td>\n",
       "      <td>NaN</td>\n",
       "      <td>NaN</td>\n",
       "      <td>NaN</td>\n",
       "    </tr>\n",
       "    <tr>\n",
       "      <th>AUDI_test</th>\n",
       "      <td>100</td>\n",
       "      <td>200</td>\n",
       "      <td>80</td>\n",
       "      <td>90</td>\n",
       "      <td>920</td>\n",
       "      <td>A1</td>\n",
       "      <td>NaN</td>\n",
       "      <td>A3</td>\n",
       "      <td>NaN</td>\n",
       "      <td>A4</td>\n",
       "      <td>A4 ALLROAD</td>\n",
       "      <td>A5</td>\n",
       "      <td>NaN</td>\n",
       "      <td>A6</td>\n",
       "      <td>A6 ALLROAD</td>\n",
       "      <td>A7</td>\n",
       "      <td>A8</td>\n",
       "      <td>NaN</td>\n",
       "      <td>NaN</td>\n",
       "      <td>COUPE</td>\n",
       "      <td>E-TRON</td>\n",
       "      <td>NaN</td>\n",
       "      <td>Q3</td>\n",
       "      <td>NaN</td>\n",
       "      <td>Q5</td>\n",
       "      <td>Q7</td>\n",
       "      <td>Q8</td>\n",
       "      <td>R8</td>\n",
       "      <td>NaN</td>\n",
       "      <td>NaN</td>\n",
       "      <td>RS Q3</td>\n",
       "      <td>NaN</td>\n",
       "      <td>RS3</td>\n",
       "      <td>RS4</td>\n",
       "      <td>RS5</td>\n",
       "      <td>RS6</td>\n",
       "      <td>RS7</td>\n",
       "      <td>S3</td>\n",
       "      <td>S4</td>\n",
       "      <td>S5</td>\n",
       "      <td>NaN</td>\n",
       "      <td>S6</td>\n",
       "      <td>S7 SPORTBACK</td>\n",
       "      <td>S8</td>\n",
       "      <td>SQ5</td>\n",
       "      <td>NaN</td>\n",
       "      <td>NaN</td>\n",
       "      <td>TT</td>\n",
       "      <td>NaN</td>\n",
       "      <td>TTS</td>\n",
       "      <td>A2</td>\n",
       "      <td>TT RS</td>\n",
       "      <td>V8</td>\n",
       "    </tr>\n",
       "  </tbody>\n",
       "</table>\n",
       "</div>"
      ],
      "text/plain": [
       "            0    1   2   3    4   5             6   7             8   9   \\\n",
       "AUDI_df    100  200  80  90  920  A1  A1 SPORTBACK  A3  A3 SPORTBACK  A4   \n",
       "AUDI_test  100  200  80  90  920  A1           NaN  A3           NaN  A4   \n",
       "\n",
       "                   10  11            12  13          14  15  16       17  \\\n",
       "AUDI_df    A4 ALLROAD  A5  A5 SPORTBACK  A6  A6 ALLROAD  A7  A8  A8 LONG   \n",
       "AUDI_test  A4 ALLROAD  A5           NaN  A6  A6 ALLROAD  A7  A8      NaN   \n",
       "\n",
       "                  18     19      20         21  22            23  24  25  26  \\\n",
       "AUDI_df    CABRIOLET  COUPE  E-TRON  E-TRON GT  Q3  Q3 SPORTBACK  Q5  Q7  Q8   \n",
       "AUDI_test        NaN  COUPE  E-TRON        NaN  Q3           NaN  Q5  Q7  Q8   \n",
       "\n",
       "           27     28         29     30     31   32   33   34   35   36  37  \\\n",
       "AUDI_df    R8  R8 GT  RS E-TRON  RS Q3  RS Q8  RS3  RS4  RS5  RS6  RS7  S3   \n",
       "AUDI_test  R8    NaN        NaN  RS Q3    NaN  RS3  RS4  RS5  RS6  RS7  S3   \n",
       "\n",
       "           38  39            40  41            42  43   44   45   46  47  \\\n",
       "AUDI_df    S4  S5  S5 SPORTBACK  S6  S7 SPORTBACK  S8  SQ5  SQ7  SQ8  TT   \n",
       "AUDI_test  S4  S5           NaN  S6  S7 SPORTBACK  S8  SQ5  NaN  NaN  TT   \n",
       "\n",
       "                    48   49   50     51   52  \n",
       "AUDI_df    TT ROADSTER  TTS  NaN    NaN  NaN  \n",
       "AUDI_test          NaN  TTS   A2  TT RS   V8  "
      ]
     },
     "execution_count": 64,
     "metadata": {},
     "output_type": "execute_result"
    }
   ],
   "source": [
    "models_comparison('AUDI', df, test)"
   ]
  },
  {
   "cell_type": "markdown",
   "id": "bf483c53",
   "metadata": {
    "id": "bf483c53"
   },
   "source": [
    "Сохраним модели, присутствующие в test, но отсутствующие в df, в отдельный список mismatch_model_withtest"
   ]
  },
  {
   "cell_type": "code",
   "execution_count": 65,
   "id": "e93ef5ab",
   "metadata": {
    "executionInfo": {
     "elapsed": 52,
     "status": "ok",
     "timestamp": 1627471001133,
     "user": {
      "displayName": "Сергей",
      "photoUrl": "",
      "userId": "16958243466904798794"
     },
     "user_tz": -180
    },
    "id": "e93ef5ab"
   },
   "outputs": [],
   "source": [
    "mismatch_model_withtest = []\n",
    "mismatch_audi = models_comparison('AUDI', df, test).T\n",
    "mismatch_audi = mismatch_audi[mismatch_audi.AUDI_df.isna()].AUDI_test.to_list()\n",
    "mismatch_model_withtest.extend(mismatch_audi)"
   ]
  },
  {
   "cell_type": "markdown",
   "id": "4da7cade",
   "metadata": {},
   "source": [
    "Далее проведем такие же операции с моделями остальных производителей"
   ]
  },
  {
   "cell_type": "markdown",
   "id": "a8ce919b",
   "metadata": {
    "id": "a8ce919b"
   },
   "source": [
    "##### **BMW**"
   ]
  },
  {
   "cell_type": "code",
   "execution_count": 66,
   "id": "d9225034",
   "metadata": {
    "colab": {
     "base_uri": "https://localhost:8080/",
     "height": 340
    },
    "executionInfo": {
     "elapsed": 52,
     "status": "ok",
     "timestamp": 1627471001134,
     "user": {
      "displayName": "Сергей",
      "photoUrl": "",
      "userId": "16958243466904798794"
     },
     "user_tz": -180
    },
    "id": "d9225034",
    "outputId": "90eb531e-cbd5-4a84-e95d-f429f71753f6"
   },
   "outputs": [
    {
     "data": {
      "text/plain": [
       "array(['1 серии I (E81/E82/E87/E88) 116i',\n",
       "       '1 серии I (E81/E82/E87/E88) 118i',\n",
       "       '1 серии I (E81/E82/E87/E88) 120i',\n",
       "       '1 серии I (E81/E82/E87/E88) 130i',\n",
       "       '1 серии I (E81/E82/E87/E88) Рестайлинг 116d',\n",
       "       '1 серии I (E81/E82/E87/E88) Рестайлинг 116i',\n",
       "       '1 серии I (E81/E82/E87/E88) Рестайлинг 118d',\n",
       "       '1 серии I (E81/E82/E87/E88) Рестайлинг 118i',\n",
       "       '1 серии I (E81/E82/E87/E88) Рестайлинг 120d',\n",
       "       '1 серии I (E81/E82/E87/E88) Рестайлинг 125i', ...,\n",
       "       'Z4 II (E89) 23i', 'Z4 II (E89) 30i', 'Z4 II (E89) 35is',\n",
       "       'Z4 II (E89) Рестайлинг 20i', 'i3 I (I01)', 'i3 I (I01) 94Ah',\n",
       "       'i3 I (I01) Рестайлинг', 'i3 I (I01) Рестайлинг S', 'i8 I',\n",
       "       'i8 I Рестайлинг'], dtype='<U60')"
      ]
     },
     "metadata": {},
     "output_type": "display_data"
    },
    {
     "data": {
      "text/plain": [
       "array(['02', '1ER', '2ACTIVETOURER', '2ER', '2GRANDTOURER', '321', '326',\n",
       "       '340', '3ER', '4', '5ER', '6ER', '7ER', '8ER', 'E3', 'I3', 'I8',\n",
       "       'M1', 'M2', 'M3', 'M4', 'M5', 'M6', 'X1', 'X2', 'X3', 'X3 M', 'X4',\n",
       "       'X4 M', 'X5', 'X5 M', 'X6', 'X6 M', 'X7', 'Z1', 'Z3', 'Z3M', 'Z4'],\n",
       "      dtype='<U13')"
      ]
     },
     "execution_count": 66,
     "metadata": {},
     "output_type": "execute_result"
    }
   ],
   "source": [
    "bmw_models_df = sorted((df.groupby('brand').model_name.unique())['BMW'])\n",
    "bmw_models_test = sorted((test.groupby('brand').model_name.unique())['BMW'])\n",
    "display(np.array(bmw_models_df))\n",
    "np.array(bmw_models_test)"
   ]
  },
  {
   "cell_type": "markdown",
   "id": "f497047d",
   "metadata": {
    "id": "f497047d"
   },
   "source": [
    "Заменим серии на их аббревиатуры"
   ]
  },
  {
   "cell_type": "code",
   "execution_count": 67,
   "id": "be14bcac",
   "metadata": {
    "colab": {
     "base_uri": "https://localhost:8080/"
    },
    "executionInfo": {
     "elapsed": 51,
     "status": "ok",
     "timestamp": 1627471001135,
     "user": {
      "displayName": "Сергей",
      "photoUrl": "",
      "userId": "16958243466904798794"
     },
     "user_tz": -180
    },
    "id": "be14bcac",
    "outputId": "a1fafa44-e873-4780-a47a-bfaee0bf75d0"
   },
   "outputs": [
    {
     "data": {
      "text/plain": [
       "{'1 серии': '1ER',\n",
       " '2 серии': '2ER',\n",
       " '3 серии': '3ER',\n",
       " '4 серии': '4ER',\n",
       " '5 серии': '5ER',\n",
       " '6 серии': '6ER',\n",
       " '7 серии': '7ER',\n",
       " '8 серии': '8ER'}"
      ]
     },
     "execution_count": 67,
     "metadata": {},
     "output_type": "execute_result"
    }
   ],
   "source": [
    "bmw_model_dict = {}\n",
    "for i in range(1, 9):\n",
    "    bmw_model_dict[str(i)+' серии'] = str(i)+'ER'\n",
    "bmw_model_dict"
   ]
  },
  {
   "cell_type": "code",
   "execution_count": 68,
   "id": "042d4cf3",
   "metadata": {
    "executionInfo": {
     "elapsed": 28,
     "status": "ok",
     "timestamp": 1627471001136,
     "user": {
      "displayName": "Сергей",
      "photoUrl": "",
      "userId": "16958243466904798794"
     },
     "user_tz": -180
    },
    "id": "042d4cf3"
   },
   "outputs": [],
   "source": [
    "def change_bmw_name(string):\n",
    "    if string[:7] in bmw_model_dict.keys():\n",
    "        return bmw_model_dict[string[:7]]\n",
    "    return string\n",
    "\n",
    "\n",
    "df.model_name = df[['brand', 'model_name']].apply(\n",
    "    lambda x: change_bmw_name(x[1]) if x[0] == 'BMW' else x[1], axis=1)\n",
    "bmw_models_df = sorted((df.groupby('brand').model_name.unique())['BMW'])"
   ]
  },
  {
   "cell_type": "code",
   "execution_count": 69,
   "id": "9c7253d9",
   "metadata": {
    "executionInfo": {
     "elapsed": 3863,
     "status": "ok",
     "timestamp": 1627471004974,
     "user": {
      "displayName": "Сергей",
      "photoUrl": "",
      "userId": "16958243466904798794"
     },
     "user_tz": -180
    },
    "id": "9c7253d9"
   },
   "outputs": [],
   "source": [
    "df.model_name = df[['brand', 'model_name']].apply(\n",
    "    lambda x: models_formatting(x[1]) if x[0] == 'BMW' else x[1], axis=1)"
   ]
  },
  {
   "cell_type": "code",
   "execution_count": 70,
   "id": "81432de5",
   "metadata": {
    "colab": {
     "base_uri": "https://localhost:8080/",
     "height": 165
    },
    "executionInfo": {
     "elapsed": 186,
     "status": "ok",
     "timestamp": 1627471004975,
     "user": {
      "displayName": "Сергей",
      "photoUrl": "",
      "userId": "16958243466904798794"
     },
     "user_tz": -180
    },
    "id": "81432de5",
    "outputId": "ae173637-5a27-44fe-edfd-bdae02d657f4"
   },
   "outputs": [
    {
     "data": {
      "text/html": [
       "<div>\n",
       "<style scoped>\n",
       "    .dataframe tbody tr th:only-of-type {\n",
       "        vertical-align: middle;\n",
       "    }\n",
       "\n",
       "    .dataframe tbody tr th {\n",
       "        vertical-align: top;\n",
       "    }\n",
       "\n",
       "    .dataframe thead th {\n",
       "        text-align: right;\n",
       "    }\n",
       "</style>\n",
       "<table border=\"1\" class=\"dataframe\">\n",
       "  <thead>\n",
       "    <tr style=\"text-align: right;\">\n",
       "      <th></th>\n",
       "      <th>0</th>\n",
       "      <th>1</th>\n",
       "      <th>2</th>\n",
       "      <th>3</th>\n",
       "      <th>4</th>\n",
       "      <th>5</th>\n",
       "      <th>6</th>\n",
       "      <th>7</th>\n",
       "      <th>8</th>\n",
       "      <th>9</th>\n",
       "      <th>10</th>\n",
       "      <th>11</th>\n",
       "      <th>12</th>\n",
       "      <th>13</th>\n",
       "      <th>14</th>\n",
       "      <th>15</th>\n",
       "      <th>16</th>\n",
       "      <th>17</th>\n",
       "      <th>18</th>\n",
       "      <th>19</th>\n",
       "      <th>20</th>\n",
       "      <th>21</th>\n",
       "      <th>22</th>\n",
       "      <th>23</th>\n",
       "      <th>24</th>\n",
       "      <th>25</th>\n",
       "      <th>26</th>\n",
       "      <th>27</th>\n",
       "      <th>28</th>\n",
       "      <th>29</th>\n",
       "      <th>30</th>\n",
       "      <th>31</th>\n",
       "      <th>32</th>\n",
       "      <th>33</th>\n",
       "      <th>34</th>\n",
       "      <th>35</th>\n",
       "      <th>36</th>\n",
       "      <th>37</th>\n",
       "      <th>38</th>\n",
       "      <th>39</th>\n",
       "      <th>40</th>\n",
       "      <th>41</th>\n",
       "      <th>42</th>\n",
       "    </tr>\n",
       "  </thead>\n",
       "  <tbody>\n",
       "    <tr>\n",
       "      <th>BMW_df</th>\n",
       "      <td>1ER</td>\n",
       "      <td>2ER</td>\n",
       "      <td>340</td>\n",
       "      <td>3ER</td>\n",
       "      <td>4ER</td>\n",
       "      <td>5ER</td>\n",
       "      <td>6ER</td>\n",
       "      <td>7ER</td>\n",
       "      <td>8ER</td>\n",
       "      <td>I3</td>\n",
       "      <td>I8</td>\n",
       "      <td>M2 F87</td>\n",
       "      <td>M3</td>\n",
       "      <td>M4</td>\n",
       "      <td>M4 G82</td>\n",
       "      <td>M5</td>\n",
       "      <td>M6</td>\n",
       "      <td>M8 GRAN</td>\n",
       "      <td>X1</td>\n",
       "      <td>X2</td>\n",
       "      <td>X3</td>\n",
       "      <td>X4</td>\n",
       "      <td>X4 M</td>\n",
       "      <td>X5</td>\n",
       "      <td>X5 M</td>\n",
       "      <td>X6</td>\n",
       "      <td>X6 M</td>\n",
       "      <td>X7</td>\n",
       "      <td>Z3</td>\n",
       "      <td>Z3 M</td>\n",
       "      <td>Z4</td>\n",
       "      <td>NaN</td>\n",
       "      <td>NaN</td>\n",
       "      <td>NaN</td>\n",
       "      <td>NaN</td>\n",
       "      <td>NaN</td>\n",
       "      <td>NaN</td>\n",
       "      <td>NaN</td>\n",
       "      <td>NaN</td>\n",
       "      <td>NaN</td>\n",
       "      <td>NaN</td>\n",
       "      <td>NaN</td>\n",
       "      <td>NaN</td>\n",
       "    </tr>\n",
       "    <tr>\n",
       "      <th>BMW_test</th>\n",
       "      <td>1ER</td>\n",
       "      <td>2ER</td>\n",
       "      <td>340</td>\n",
       "      <td>3ER</td>\n",
       "      <td>NaN</td>\n",
       "      <td>5ER</td>\n",
       "      <td>6ER</td>\n",
       "      <td>7ER</td>\n",
       "      <td>8ER</td>\n",
       "      <td>I3</td>\n",
       "      <td>I8</td>\n",
       "      <td>NaN</td>\n",
       "      <td>M3</td>\n",
       "      <td>M4</td>\n",
       "      <td>NaN</td>\n",
       "      <td>M5</td>\n",
       "      <td>M6</td>\n",
       "      <td>NaN</td>\n",
       "      <td>X1</td>\n",
       "      <td>X2</td>\n",
       "      <td>X3</td>\n",
       "      <td>X4</td>\n",
       "      <td>X4 M</td>\n",
       "      <td>X5</td>\n",
       "      <td>X5 M</td>\n",
       "      <td>X6</td>\n",
       "      <td>X6 M</td>\n",
       "      <td>X7</td>\n",
       "      <td>Z3</td>\n",
       "      <td>NaN</td>\n",
       "      <td>Z4</td>\n",
       "      <td>02</td>\n",
       "      <td>2ACTIVETOURER</td>\n",
       "      <td>2GRANDTOURER</td>\n",
       "      <td>321</td>\n",
       "      <td>326</td>\n",
       "      <td>4</td>\n",
       "      <td>E3</td>\n",
       "      <td>M1</td>\n",
       "      <td>M2</td>\n",
       "      <td>X3 M</td>\n",
       "      <td>Z1</td>\n",
       "      <td>Z3M</td>\n",
       "    </tr>\n",
       "  </tbody>\n",
       "</table>\n",
       "</div>"
      ],
      "text/plain": [
       "           0    1    2    3    4    5    6    7    8   9   10      11  12  13  \\\n",
       "BMW_df    1ER  2ER  340  3ER  4ER  5ER  6ER  7ER  8ER  I3  I8  M2 F87  M3  M4   \n",
       "BMW_test  1ER  2ER  340  3ER  NaN  5ER  6ER  7ER  8ER  I3  I8     NaN  M3  M4   \n",
       "\n",
       "              14  15  16       17  18  19  20  21    22  23    24  25    26  \\\n",
       "BMW_df    M4 G82  M5  M6  M8 GRAN  X1  X2  X3  X4  X4 M  X5  X5 M  X6  X6 M   \n",
       "BMW_test     NaN  M5  M6      NaN  X1  X2  X3  X4  X4 M  X5  X5 M  X6  X6 M   \n",
       "\n",
       "          27  28    29  30   31             32            33   34   35   36  \\\n",
       "BMW_df    X7  Z3  Z3 M  Z4  NaN            NaN           NaN  NaN  NaN  NaN   \n",
       "BMW_test  X7  Z3   NaN  Z4   02  2ACTIVETOURER  2GRANDTOURER  321  326    4   \n",
       "\n",
       "           37   38   39    40   41   42  \n",
       "BMW_df    NaN  NaN  NaN   NaN  NaN  NaN  \n",
       "BMW_test   E3   M1   M2  X3 M   Z1  Z3M  "
      ]
     },
     "execution_count": 70,
     "metadata": {},
     "output_type": "execute_result"
    }
   ],
   "source": [
    "models_comparison('BMW', df, test)"
   ]
  },
  {
   "cell_type": "code",
   "execution_count": 71,
   "id": "417cbf38",
   "metadata": {
    "executionInfo": {
     "elapsed": 185,
     "status": "ok",
     "timestamp": 1627471004976,
     "user": {
      "displayName": "Сергей",
      "photoUrl": "",
      "userId": "16958243466904798794"
     },
     "user_tz": -180
    },
    "id": "417cbf38"
   },
   "outputs": [],
   "source": [
    "df.model_name = df[['brand', 'model_name']].apply(\n",
    "    lambda x: 'M2' if x[0] == 'BMW' and x[1]=='M2 F87' else x[1], axis=1)\n",
    "df.model_name = df[['brand', 'model_name']].apply(\n",
    "    lambda x: 'M4' if x[0] == 'BMW' and x[1]=='M4 G82' else x[1], axis=1)\n",
    "df.model_name = df[['brand', 'model_name']].apply(\n",
    "    lambda x: 'M8' if x[0] == 'BMW' and x[1]=='M8 GRAN' else x[1], axis=1)\n",
    "test.model_name = test[['brand', 'model_name']].apply(\n",
    "    lambda x: '2ER' if x[0] == 'BMW' and x[1] in (['02','2ACTIVETOURER','2GRANDTOURER']) else x[1], axis=1)\n",
    "test.model_name = test[['brand', 'model_name']].apply(\n",
    "    lambda x: '4ER' if x[0] == 'BMW' and x[1] == '4' else x[1], axis=1)\n",
    "test.model_name = test[['brand', 'model_name']].apply(\n",
    "    lambda x: 'Z3 M' if x[0] == 'BMW' and x[1] == 'Z3M' else x[1], axis=1)"
   ]
  },
  {
   "cell_type": "code",
   "execution_count": 72,
   "id": "db6bdbd6",
   "metadata": {
    "colab": {
     "base_uri": "https://localhost:8080/",
     "height": 165
    },
    "executionInfo": {
     "elapsed": 188,
     "status": "ok",
     "timestamp": 1627471004980,
     "user": {
      "displayName": "Сергей",
      "photoUrl": "",
      "userId": "16958243466904798794"
     },
     "user_tz": -180
    },
    "id": "db6bdbd6",
    "outputId": "88e5a993-b4b2-4c11-f5f6-42e8ef29bbe0"
   },
   "outputs": [
    {
     "data": {
      "text/html": [
       "<div>\n",
       "<style scoped>\n",
       "    .dataframe tbody tr th:only-of-type {\n",
       "        vertical-align: middle;\n",
       "    }\n",
       "\n",
       "    .dataframe tbody tr th {\n",
       "        vertical-align: top;\n",
       "    }\n",
       "\n",
       "    .dataframe thead th {\n",
       "        text-align: right;\n",
       "    }\n",
       "</style>\n",
       "<table border=\"1\" class=\"dataframe\">\n",
       "  <thead>\n",
       "    <tr style=\"text-align: right;\">\n",
       "      <th></th>\n",
       "      <th>0</th>\n",
       "      <th>1</th>\n",
       "      <th>2</th>\n",
       "      <th>3</th>\n",
       "      <th>4</th>\n",
       "      <th>5</th>\n",
       "      <th>6</th>\n",
       "      <th>7</th>\n",
       "      <th>8</th>\n",
       "      <th>9</th>\n",
       "      <th>10</th>\n",
       "      <th>11</th>\n",
       "      <th>12</th>\n",
       "      <th>13</th>\n",
       "      <th>14</th>\n",
       "      <th>15</th>\n",
       "      <th>16</th>\n",
       "      <th>17</th>\n",
       "      <th>18</th>\n",
       "      <th>19</th>\n",
       "      <th>20</th>\n",
       "      <th>21</th>\n",
       "      <th>22</th>\n",
       "      <th>23</th>\n",
       "      <th>24</th>\n",
       "      <th>25</th>\n",
       "      <th>26</th>\n",
       "      <th>27</th>\n",
       "      <th>28</th>\n",
       "      <th>29</th>\n",
       "      <th>30</th>\n",
       "      <th>31</th>\n",
       "      <th>32</th>\n",
       "      <th>33</th>\n",
       "      <th>34</th>\n",
       "      <th>35</th>\n",
       "    </tr>\n",
       "  </thead>\n",
       "  <tbody>\n",
       "    <tr>\n",
       "      <th>BMW_df</th>\n",
       "      <td>1ER</td>\n",
       "      <td>2ER</td>\n",
       "      <td>340</td>\n",
       "      <td>3ER</td>\n",
       "      <td>4ER</td>\n",
       "      <td>5ER</td>\n",
       "      <td>6ER</td>\n",
       "      <td>7ER</td>\n",
       "      <td>8ER</td>\n",
       "      <td>I3</td>\n",
       "      <td>I8</td>\n",
       "      <td>M2</td>\n",
       "      <td>M3</td>\n",
       "      <td>M4</td>\n",
       "      <td>M5</td>\n",
       "      <td>M6</td>\n",
       "      <td>M8</td>\n",
       "      <td>X1</td>\n",
       "      <td>X2</td>\n",
       "      <td>X3</td>\n",
       "      <td>X4</td>\n",
       "      <td>X4 M</td>\n",
       "      <td>X5</td>\n",
       "      <td>X5 M</td>\n",
       "      <td>X6</td>\n",
       "      <td>X6 M</td>\n",
       "      <td>X7</td>\n",
       "      <td>Z3</td>\n",
       "      <td>Z3 M</td>\n",
       "      <td>Z4</td>\n",
       "      <td>NaN</td>\n",
       "      <td>NaN</td>\n",
       "      <td>NaN</td>\n",
       "      <td>NaN</td>\n",
       "      <td>NaN</td>\n",
       "      <td>NaN</td>\n",
       "    </tr>\n",
       "    <tr>\n",
       "      <th>BMW_test</th>\n",
       "      <td>1ER</td>\n",
       "      <td>2ER</td>\n",
       "      <td>340</td>\n",
       "      <td>3ER</td>\n",
       "      <td>4ER</td>\n",
       "      <td>5ER</td>\n",
       "      <td>6ER</td>\n",
       "      <td>7ER</td>\n",
       "      <td>8ER</td>\n",
       "      <td>I3</td>\n",
       "      <td>I8</td>\n",
       "      <td>M2</td>\n",
       "      <td>M3</td>\n",
       "      <td>M4</td>\n",
       "      <td>M5</td>\n",
       "      <td>M6</td>\n",
       "      <td>NaN</td>\n",
       "      <td>X1</td>\n",
       "      <td>X2</td>\n",
       "      <td>X3</td>\n",
       "      <td>X4</td>\n",
       "      <td>X4 M</td>\n",
       "      <td>X5</td>\n",
       "      <td>X5 M</td>\n",
       "      <td>X6</td>\n",
       "      <td>X6 M</td>\n",
       "      <td>X7</td>\n",
       "      <td>Z3</td>\n",
       "      <td>Z3 M</td>\n",
       "      <td>Z4</td>\n",
       "      <td>321</td>\n",
       "      <td>326</td>\n",
       "      <td>E3</td>\n",
       "      <td>M1</td>\n",
       "      <td>X3 M</td>\n",
       "      <td>Z1</td>\n",
       "    </tr>\n",
       "  </tbody>\n",
       "</table>\n",
       "</div>"
      ],
      "text/plain": [
       "           0    1    2    3    4    5    6    7    8   9   10  11  12  13  14  \\\n",
       "BMW_df    1ER  2ER  340  3ER  4ER  5ER  6ER  7ER  8ER  I3  I8  M2  M3  M4  M5   \n",
       "BMW_test  1ER  2ER  340  3ER  4ER  5ER  6ER  7ER  8ER  I3  I8  M2  M3  M4  M5   \n",
       "\n",
       "          15   16  17  18  19  20    21  22    23  24    25  26  27    28  29  \\\n",
       "BMW_df    M6   M8  X1  X2  X3  X4  X4 M  X5  X5 M  X6  X6 M  X7  Z3  Z3 M  Z4   \n",
       "BMW_test  M6  NaN  X1  X2  X3  X4  X4 M  X5  X5 M  X6  X6 M  X7  Z3  Z3 M  Z4   \n",
       "\n",
       "           30   31   32   33    34   35  \n",
       "BMW_df    NaN  NaN  NaN  NaN   NaN  NaN  \n",
       "BMW_test  321  326   E3   M1  X3 M   Z1  "
      ]
     },
     "execution_count": 72,
     "metadata": {},
     "output_type": "execute_result"
    }
   ],
   "source": [
    "models_comparison('BMW', df, test)"
   ]
  },
  {
   "cell_type": "code",
   "execution_count": 73,
   "id": "2abb53e2",
   "metadata": {
    "executionInfo": {
     "elapsed": 192,
     "status": "ok",
     "timestamp": 1627471004985,
     "user": {
      "displayName": "Сергей",
      "photoUrl": "",
      "userId": "16958243466904798794"
     },
     "user_tz": -180
    },
    "id": "2abb53e2"
   },
   "outputs": [],
   "source": [
    "mismatch_bmw = models_comparison('BMW', df, test).T\n",
    "mismatch_bmw = mismatch_bmw[mismatch_bmw.BMW_df.isna()].BMW_test.to_list()\n",
    "mismatch_model_withtest.extend(mismatch_bmw)"
   ]
  },
  {
   "cell_type": "markdown",
   "id": "174ac998",
   "metadata": {
    "id": "174ac998"
   },
   "source": [
    "##### **HONDA**"
   ]
  },
  {
   "cell_type": "code",
   "execution_count": 74,
   "id": "c5b8ecf1",
   "metadata": {
    "colab": {
     "base_uri": "https://localhost:8080/",
     "height": 272
    },
    "executionInfo": {
     "elapsed": 192,
     "status": "ok",
     "timestamp": 1627471004986,
     "user": {
      "displayName": "Сергей",
      "photoUrl": "",
      "userId": "16958243466904798794"
     },
     "user_tz": -180
    },
    "id": "c5b8ecf1",
    "outputId": "d0aeef57-8a8b-4f67-81af-8c9cf2e40a9b"
   },
   "outputs": [
    {
     "data": {
      "text/plain": [
       "array(['Accord IV', 'Accord IX', 'Accord Type-S VII Type S',\n",
       "       'Accord Type-S VII Рестайлинг Type S', 'Accord Type-S VIII Type S',\n",
       "       'Accord Type-S VIII Рестайлинг Type S', 'Accord V', 'Accord VI',\n",
       "       'Accord VII', 'Accord VII Sport', ..., 'S2000 I (AP1)',\n",
       "       'Shuttle I', 'Shuttle II', 'Stepwgn I', 'Stepwgn II',\n",
       "       'Stepwgn III', 'Stepwgn IV Рестайлинг Spada', 'Stream I', 'Torneo',\n",
       "       'Vezel'], dtype='<U36')"
      ]
     },
     "metadata": {},
     "output_type": "display_data"
    },
    {
     "data": {
      "text/plain": [
       "array(['ACCORD', 'ACTY', 'AIRWAVE', 'ASCOT', 'AVANCIER', 'CITY', 'CIVIC',\n",
       "       'CIVIC FERIO', 'CIVIC TYPE R', 'CONCERTO', 'CR V', 'CR X', 'CR Z',\n",
       "       'CROSSROAD', 'CROSSTOUR', 'DOMANI', 'ELEMENT', 'ELYSION', 'FIT',\n",
       "       'FR V', 'FREED', 'HR V', 'INSIGHT', 'INSPIRE', 'INTEGRA', 'JAZZ',\n",
       "       'LEGEND', 'LOGO', 'MOBILIO', 'MOBILIO SPIKE', 'N BOX', 'N WGN',\n",
       "       'ODYSSEY', 'ODYSSEY NA', 'ORTHIA', 'PARTNER', 'PILOT', 'PRELUDE',\n",
       "       'RAFAGA', 'RIDGELINE', 'S2000', 'SABER', 'SHUTTLE', 'STEPWAGON',\n",
       "       'STREAM', 'TORNEO', 'VEZEL', 'VIGOR', 'Z', 'ZEST'], dtype='<U13')"
      ]
     },
     "execution_count": 74,
     "metadata": {},
     "output_type": "execute_result"
    }
   ],
   "source": [
    "honda_models_df = sorted((df.groupby('brand').model_name.unique())['HONDA'])\n",
    "honda_models_test = sorted((test.groupby('brand').model_name.unique())['HONDA'])\n",
    "display(np.array(honda_models_df))\n",
    "np.array(honda_models_test)"
   ]
  },
  {
   "cell_type": "code",
   "execution_count": 75,
   "id": "8344e098",
   "metadata": {
    "colab": {
     "base_uri": "https://localhost:8080/",
     "height": 182
    },
    "executionInfo": {
     "elapsed": 192,
     "status": "ok",
     "timestamp": 1627471004988,
     "user": {
      "displayName": "Сергей",
      "photoUrl": "",
      "userId": "16958243466904798794"
     },
     "user_tz": -180
    },
    "id": "8344e098",
    "outputId": "cbce227f-71cb-4d82-91db-a35b57113348"
   },
   "outputs": [
    {
     "data": {
      "text/html": [
       "<div>\n",
       "<style scoped>\n",
       "    .dataframe tbody tr th:only-of-type {\n",
       "        vertical-align: middle;\n",
       "    }\n",
       "\n",
       "    .dataframe tbody tr th {\n",
       "        vertical-align: top;\n",
       "    }\n",
       "\n",
       "    .dataframe thead th {\n",
       "        text-align: right;\n",
       "    }\n",
       "</style>\n",
       "<table border=\"1\" class=\"dataframe\">\n",
       "  <thead>\n",
       "    <tr style=\"text-align: right;\">\n",
       "      <th></th>\n",
       "      <th>0</th>\n",
       "      <th>1</th>\n",
       "      <th>2</th>\n",
       "      <th>3</th>\n",
       "      <th>4</th>\n",
       "      <th>5</th>\n",
       "      <th>6</th>\n",
       "      <th>7</th>\n",
       "      <th>8</th>\n",
       "      <th>9</th>\n",
       "      <th>10</th>\n",
       "      <th>11</th>\n",
       "      <th>12</th>\n",
       "      <th>13</th>\n",
       "      <th>14</th>\n",
       "      <th>15</th>\n",
       "      <th>16</th>\n",
       "      <th>17</th>\n",
       "      <th>18</th>\n",
       "      <th>19</th>\n",
       "      <th>20</th>\n",
       "      <th>21</th>\n",
       "      <th>22</th>\n",
       "      <th>23</th>\n",
       "      <th>24</th>\n",
       "      <th>25</th>\n",
       "      <th>26</th>\n",
       "      <th>27</th>\n",
       "      <th>28</th>\n",
       "      <th>29</th>\n",
       "      <th>30</th>\n",
       "      <th>31</th>\n",
       "      <th>32</th>\n",
       "      <th>33</th>\n",
       "      <th>34</th>\n",
       "      <th>35</th>\n",
       "      <th>36</th>\n",
       "      <th>37</th>\n",
       "      <th>38</th>\n",
       "      <th>39</th>\n",
       "      <th>40</th>\n",
       "      <th>41</th>\n",
       "      <th>42</th>\n",
       "      <th>43</th>\n",
       "      <th>44</th>\n",
       "      <th>45</th>\n",
       "      <th>46</th>\n",
       "      <th>47</th>\n",
       "      <th>48</th>\n",
       "      <th>49</th>\n",
       "      <th>50</th>\n",
       "      <th>51</th>\n",
       "      <th>52</th>\n",
       "      <th>53</th>\n",
       "      <th>54</th>\n",
       "      <th>55</th>\n",
       "      <th>56</th>\n",
       "      <th>57</th>\n",
       "      <th>58</th>\n",
       "      <th>59</th>\n",
       "      <th>60</th>\n",
       "      <th>61</th>\n",
       "      <th>62</th>\n",
       "      <th>63</th>\n",
       "    </tr>\n",
       "  </thead>\n",
       "  <tbody>\n",
       "    <tr>\n",
       "      <th>HONDA_df</th>\n",
       "      <td>ACCORD</td>\n",
       "      <td>ACCORD TYPE-S</td>\n",
       "      <td>ACTY</td>\n",
       "      <td>ASCOT</td>\n",
       "      <td>AVANCIER</td>\n",
       "      <td>BEAT</td>\n",
       "      <td>CIVIC</td>\n",
       "      <td>CIVIC FERIO</td>\n",
       "      <td>CIVIC TYPE</td>\n",
       "      <td>CLARITY</td>\n",
       "      <td>CONCERTO</td>\n",
       "      <td>CR-V</td>\n",
       "      <td>CR-Z HYBRID</td>\n",
       "      <td>CROSSTOUR</td>\n",
       "      <td>DOMANI</td>\n",
       "      <td>EDIX</td>\n",
       "      <td>ELEMENT</td>\n",
       "      <td>ELYSION</td>\n",
       "      <td>FIT</td>\n",
       "      <td>FR-V</td>\n",
       "      <td>FREED</td>\n",
       "      <td>HR-V</td>\n",
       "      <td>INSIGHT</td>\n",
       "      <td>INSPIRE</td>\n",
       "      <td>INTEGRA</td>\n",
       "      <td>INTEGRA SJ</td>\n",
       "      <td>JADE</td>\n",
       "      <td>JAZZ</td>\n",
       "      <td>LEGEND</td>\n",
       "      <td>LOGO</td>\n",
       "      <td>MOBILIO</td>\n",
       "      <td>MOBILIO SPIKE</td>\n",
       "      <td>N-BOX</td>\n",
       "      <td>N-WGN</td>\n",
       "      <td>ODYSSEY</td>\n",
       "      <td>ORTHIA</td>\n",
       "      <td>PARTNER</td>\n",
       "      <td>PILOT</td>\n",
       "      <td>PRELUDE</td>\n",
       "      <td>RIDGELINE</td>\n",
       "      <td>S2000</td>\n",
       "      <td>SHUTTLE</td>\n",
       "      <td>STEPWGN</td>\n",
       "      <td>STREAM</td>\n",
       "      <td>TORNEO</td>\n",
       "      <td>VEZEL</td>\n",
       "      <td>NaN</td>\n",
       "      <td>NaN</td>\n",
       "      <td>NaN</td>\n",
       "      <td>NaN</td>\n",
       "      <td>NaN</td>\n",
       "      <td>NaN</td>\n",
       "      <td>NaN</td>\n",
       "      <td>NaN</td>\n",
       "      <td>NaN</td>\n",
       "      <td>NaN</td>\n",
       "      <td>NaN</td>\n",
       "      <td>NaN</td>\n",
       "      <td>NaN</td>\n",
       "      <td>NaN</td>\n",
       "      <td>NaN</td>\n",
       "      <td>NaN</td>\n",
       "      <td>NaN</td>\n",
       "      <td>NaN</td>\n",
       "    </tr>\n",
       "    <tr>\n",
       "      <th>HONDA_test</th>\n",
       "      <td>ACCORD</td>\n",
       "      <td>NaN</td>\n",
       "      <td>ACTY</td>\n",
       "      <td>ASCOT</td>\n",
       "      <td>AVANCIER</td>\n",
       "      <td>NaN</td>\n",
       "      <td>CIVIC</td>\n",
       "      <td>CIVIC FERIO</td>\n",
       "      <td>NaN</td>\n",
       "      <td>NaN</td>\n",
       "      <td>CONCERTO</td>\n",
       "      <td>NaN</td>\n",
       "      <td>NaN</td>\n",
       "      <td>CROSSTOUR</td>\n",
       "      <td>DOMANI</td>\n",
       "      <td>NaN</td>\n",
       "      <td>ELEMENT</td>\n",
       "      <td>ELYSION</td>\n",
       "      <td>FIT</td>\n",
       "      <td>NaN</td>\n",
       "      <td>FREED</td>\n",
       "      <td>NaN</td>\n",
       "      <td>INSIGHT</td>\n",
       "      <td>INSPIRE</td>\n",
       "      <td>INTEGRA</td>\n",
       "      <td>NaN</td>\n",
       "      <td>NaN</td>\n",
       "      <td>JAZZ</td>\n",
       "      <td>LEGEND</td>\n",
       "      <td>LOGO</td>\n",
       "      <td>MOBILIO</td>\n",
       "      <td>MOBILIO SPIKE</td>\n",
       "      <td>NaN</td>\n",
       "      <td>NaN</td>\n",
       "      <td>ODYSSEY</td>\n",
       "      <td>ORTHIA</td>\n",
       "      <td>PARTNER</td>\n",
       "      <td>PILOT</td>\n",
       "      <td>PRELUDE</td>\n",
       "      <td>RIDGELINE</td>\n",
       "      <td>S2000</td>\n",
       "      <td>SHUTTLE</td>\n",
       "      <td>NaN</td>\n",
       "      <td>STREAM</td>\n",
       "      <td>TORNEO</td>\n",
       "      <td>VEZEL</td>\n",
       "      <td>AIRWAVE</td>\n",
       "      <td>CITY</td>\n",
       "      <td>CIVIC TYPE R</td>\n",
       "      <td>CR V</td>\n",
       "      <td>CR X</td>\n",
       "      <td>CR Z</td>\n",
       "      <td>CROSSROAD</td>\n",
       "      <td>FR V</td>\n",
       "      <td>HR V</td>\n",
       "      <td>N BOX</td>\n",
       "      <td>N WGN</td>\n",
       "      <td>ODYSSEY NA</td>\n",
       "      <td>RAFAGA</td>\n",
       "      <td>SABER</td>\n",
       "      <td>STEPWAGON</td>\n",
       "      <td>VIGOR</td>\n",
       "      <td>Z</td>\n",
       "      <td>ZEST</td>\n",
       "    </tr>\n",
       "  </tbody>\n",
       "</table>\n",
       "</div>"
      ],
      "text/plain": [
       "                0              1     2      3         4     5      6   \\\n",
       "HONDA_df    ACCORD  ACCORD TYPE-S  ACTY  ASCOT  AVANCIER  BEAT  CIVIC   \n",
       "HONDA_test  ACCORD            NaN  ACTY  ASCOT  AVANCIER   NaN  CIVIC   \n",
       "\n",
       "                     7           8        9         10    11           12  \\\n",
       "HONDA_df    CIVIC FERIO  CIVIC TYPE  CLARITY  CONCERTO  CR-V  CR-Z HYBRID   \n",
       "HONDA_test  CIVIC FERIO         NaN      NaN  CONCERTO   NaN          NaN   \n",
       "\n",
       "                   13      14    15       16       17   18    19     20    21  \\\n",
       "HONDA_df    CROSSTOUR  DOMANI  EDIX  ELEMENT  ELYSION  FIT  FR-V  FREED  HR-V   \n",
       "HONDA_test  CROSSTOUR  DOMANI   NaN  ELEMENT  ELYSION  FIT   NaN  FREED   NaN   \n",
       "\n",
       "                 22       23       24          25    26    27      28    29  \\\n",
       "HONDA_df    INSIGHT  INSPIRE  INTEGRA  INTEGRA SJ  JADE  JAZZ  LEGEND  LOGO   \n",
       "HONDA_test  INSIGHT  INSPIRE  INTEGRA         NaN   NaN  JAZZ  LEGEND  LOGO   \n",
       "\n",
       "                 30             31     32     33       34      35       36  \\\n",
       "HONDA_df    MOBILIO  MOBILIO SPIKE  N-BOX  N-WGN  ODYSSEY  ORTHIA  PARTNER   \n",
       "HONDA_test  MOBILIO  MOBILIO SPIKE    NaN    NaN  ODYSSEY  ORTHIA  PARTNER   \n",
       "\n",
       "               37       38         39     40       41       42      43  \\\n",
       "HONDA_df    PILOT  PRELUDE  RIDGELINE  S2000  SHUTTLE  STEPWGN  STREAM   \n",
       "HONDA_test  PILOT  PRELUDE  RIDGELINE  S2000  SHUTTLE      NaN  STREAM   \n",
       "\n",
       "                44     45       46    47            48    49    50    51  \\\n",
       "HONDA_df    TORNEO  VEZEL      NaN   NaN           NaN   NaN   NaN   NaN   \n",
       "HONDA_test  TORNEO  VEZEL  AIRWAVE  CITY  CIVIC TYPE R  CR V  CR X  CR Z   \n",
       "\n",
       "                   52    53    54     55     56          57      58     59  \\\n",
       "HONDA_df          NaN   NaN   NaN    NaN    NaN         NaN     NaN    NaN   \n",
       "HONDA_test  CROSSROAD  FR V  HR V  N BOX  N WGN  ODYSSEY NA  RAFAGA  SABER   \n",
       "\n",
       "                   60     61   62    63  \n",
       "HONDA_df          NaN    NaN  NaN   NaN  \n",
       "HONDA_test  STEPWAGON  VIGOR    Z  ZEST  "
      ]
     },
     "execution_count": 75,
     "metadata": {},
     "output_type": "execute_result"
    }
   ],
   "source": [
    "df.model_name = df[['brand', 'model_name']].apply(\n",
    "    lambda x: models_formatting(x[1]) if x[0] == 'HONDA' else x[1], axis=1)\n",
    "models_comparison('HONDA', df, test)"
   ]
  },
  {
   "cell_type": "code",
   "execution_count": 76,
   "id": "435f5440",
   "metadata": {
    "executionInfo": {
     "elapsed": 191,
     "status": "ok",
     "timestamp": 1627471004989,
     "user": {
      "displayName": "Сергей",
      "photoUrl": "",
      "userId": "16958243466904798794"
     },
     "user_tz": -180
    },
    "id": "435f5440"
   },
   "outputs": [],
   "source": [
    "df.model_name = df.model_name.str.replace('ACCORD TYPE-S','ACCORD TYPE')\n",
    "df.model_name = df.model_name.apply(lambda x: 'CIVIC TYPE R' if x == 'CIVIC TYPE' else x )\n",
    "df.model_name = df.model_name.str.replace('CR-Z HYBRID','CR-Z')\n",
    "df.model_name = df.model_name.str.replace('INTEGRA SJ','INTEGRA')\n",
    "df.model_name = df.model_name.apply(lambda x: 'ODYSSEY' if x == 'ODYSSEY (NORTH' else x)\n",
    "df.model_name = df.model_name.str.replace('STEPWGN','STEPWAGON')\n",
    "\n",
    "test.model_name = test.model_name.str.replace('CR V','CR-V')\n",
    "test.model_name = test.model_name.str.replace('CR Z','CR-Z')\n",
    "test.model_name = test.model_name.str.replace('FR V','FR-V')\n",
    "test.model_name = test.model_name.str.replace('HR V','HR-V')\n",
    "test.model_name = test.model_name.str.replace('N BOX','N-BOX')\n",
    "test.model_name = test.model_name.str.replace('N WGN','N-WGN')\n",
    "test.model_name = test.model_name.str.replace('ODYSSEY NA','ODYSSEY')"
   ]
  },
  {
   "cell_type": "code",
   "execution_count": 77,
   "id": "5a99f019",
   "metadata": {
    "colab": {
     "base_uri": "https://localhost:8080/",
     "height": 199
    },
    "executionInfo": {
     "elapsed": 192,
     "status": "ok",
     "timestamp": 1627471004990,
     "user": {
      "displayName": "Сергей",
      "photoUrl": "",
      "userId": "16958243466904798794"
     },
     "user_tz": -180
    },
    "id": "5a99f019",
    "outputId": "558f9552-709b-4c6d-ada8-63ea26a4099d"
   },
   "outputs": [
    {
     "data": {
      "text/html": [
       "<div>\n",
       "<style scoped>\n",
       "    .dataframe tbody tr th:only-of-type {\n",
       "        vertical-align: middle;\n",
       "    }\n",
       "\n",
       "    .dataframe tbody tr th {\n",
       "        vertical-align: top;\n",
       "    }\n",
       "\n",
       "    .dataframe thead th {\n",
       "        text-align: right;\n",
       "    }\n",
       "</style>\n",
       "<table border=\"1\" class=\"dataframe\">\n",
       "  <thead>\n",
       "    <tr style=\"text-align: right;\">\n",
       "      <th></th>\n",
       "      <th>0</th>\n",
       "      <th>1</th>\n",
       "      <th>2</th>\n",
       "      <th>3</th>\n",
       "      <th>4</th>\n",
       "      <th>5</th>\n",
       "      <th>6</th>\n",
       "      <th>7</th>\n",
       "      <th>8</th>\n",
       "      <th>9</th>\n",
       "      <th>10</th>\n",
       "      <th>11</th>\n",
       "      <th>12</th>\n",
       "      <th>13</th>\n",
       "      <th>14</th>\n",
       "      <th>15</th>\n",
       "      <th>16</th>\n",
       "      <th>17</th>\n",
       "      <th>18</th>\n",
       "      <th>19</th>\n",
       "      <th>20</th>\n",
       "      <th>21</th>\n",
       "      <th>22</th>\n",
       "      <th>23</th>\n",
       "      <th>24</th>\n",
       "      <th>25</th>\n",
       "      <th>26</th>\n",
       "      <th>27</th>\n",
       "      <th>28</th>\n",
       "      <th>29</th>\n",
       "      <th>30</th>\n",
       "      <th>31</th>\n",
       "      <th>32</th>\n",
       "      <th>33</th>\n",
       "      <th>34</th>\n",
       "      <th>35</th>\n",
       "      <th>36</th>\n",
       "      <th>37</th>\n",
       "      <th>38</th>\n",
       "      <th>39</th>\n",
       "      <th>40</th>\n",
       "      <th>41</th>\n",
       "      <th>42</th>\n",
       "      <th>43</th>\n",
       "      <th>44</th>\n",
       "      <th>45</th>\n",
       "      <th>46</th>\n",
       "      <th>47</th>\n",
       "      <th>48</th>\n",
       "      <th>49</th>\n",
       "      <th>50</th>\n",
       "      <th>51</th>\n",
       "      <th>52</th>\n",
       "      <th>53</th>\n",
       "    </tr>\n",
       "  </thead>\n",
       "  <tbody>\n",
       "    <tr>\n",
       "      <th>HONDA_df</th>\n",
       "      <td>ACCORD</td>\n",
       "      <td>ACCORD TYPE</td>\n",
       "      <td>ACTY</td>\n",
       "      <td>ASCOT</td>\n",
       "      <td>AVANCIER</td>\n",
       "      <td>BEAT</td>\n",
       "      <td>CIVIC</td>\n",
       "      <td>CIVIC FERIO</td>\n",
       "      <td>CIVIC TYPE R</td>\n",
       "      <td>CLARITY</td>\n",
       "      <td>CONCERTO</td>\n",
       "      <td>CR-V</td>\n",
       "      <td>CR-Z</td>\n",
       "      <td>CROSSTOUR</td>\n",
       "      <td>DOMANI</td>\n",
       "      <td>EDIX</td>\n",
       "      <td>ELEMENT</td>\n",
       "      <td>ELYSION</td>\n",
       "      <td>FIT</td>\n",
       "      <td>FR-V</td>\n",
       "      <td>FREED</td>\n",
       "      <td>HR-V</td>\n",
       "      <td>INSIGHT</td>\n",
       "      <td>INSPIRE</td>\n",
       "      <td>INTEGRA</td>\n",
       "      <td>JADE</td>\n",
       "      <td>JAZZ</td>\n",
       "      <td>LEGEND</td>\n",
       "      <td>LOGO</td>\n",
       "      <td>MOBILIO</td>\n",
       "      <td>MOBILIO SPIKE</td>\n",
       "      <td>N-BOX</td>\n",
       "      <td>N-WGN</td>\n",
       "      <td>ODYSSEY</td>\n",
       "      <td>ORTHIA</td>\n",
       "      <td>PARTNER</td>\n",
       "      <td>PILOT</td>\n",
       "      <td>PRELUDE</td>\n",
       "      <td>RIDGELINE</td>\n",
       "      <td>S2000</td>\n",
       "      <td>SHUTTLE</td>\n",
       "      <td>STEPWAGON</td>\n",
       "      <td>STREAM</td>\n",
       "      <td>TORNEO</td>\n",
       "      <td>VEZEL</td>\n",
       "      <td>NaN</td>\n",
       "      <td>NaN</td>\n",
       "      <td>NaN</td>\n",
       "      <td>NaN</td>\n",
       "      <td>NaN</td>\n",
       "      <td>NaN</td>\n",
       "      <td>NaN</td>\n",
       "      <td>NaN</td>\n",
       "      <td>NaN</td>\n",
       "    </tr>\n",
       "    <tr>\n",
       "      <th>HONDA_test</th>\n",
       "      <td>ACCORD</td>\n",
       "      <td>NaN</td>\n",
       "      <td>ACTY</td>\n",
       "      <td>ASCOT</td>\n",
       "      <td>AVANCIER</td>\n",
       "      <td>NaN</td>\n",
       "      <td>CIVIC</td>\n",
       "      <td>CIVIC FERIO</td>\n",
       "      <td>CIVIC TYPE R</td>\n",
       "      <td>NaN</td>\n",
       "      <td>CONCERTO</td>\n",
       "      <td>CR-V</td>\n",
       "      <td>CR-Z</td>\n",
       "      <td>CROSSTOUR</td>\n",
       "      <td>DOMANI</td>\n",
       "      <td>NaN</td>\n",
       "      <td>ELEMENT</td>\n",
       "      <td>ELYSION</td>\n",
       "      <td>FIT</td>\n",
       "      <td>FR-V</td>\n",
       "      <td>FREED</td>\n",
       "      <td>HR-V</td>\n",
       "      <td>INSIGHT</td>\n",
       "      <td>INSPIRE</td>\n",
       "      <td>INTEGRA</td>\n",
       "      <td>NaN</td>\n",
       "      <td>JAZZ</td>\n",
       "      <td>LEGEND</td>\n",
       "      <td>LOGO</td>\n",
       "      <td>MOBILIO</td>\n",
       "      <td>MOBILIO SPIKE</td>\n",
       "      <td>N-BOX</td>\n",
       "      <td>N-WGN</td>\n",
       "      <td>ODYSSEY</td>\n",
       "      <td>ORTHIA</td>\n",
       "      <td>PARTNER</td>\n",
       "      <td>PILOT</td>\n",
       "      <td>PRELUDE</td>\n",
       "      <td>RIDGELINE</td>\n",
       "      <td>S2000</td>\n",
       "      <td>SHUTTLE</td>\n",
       "      <td>STEPWAGON</td>\n",
       "      <td>STREAM</td>\n",
       "      <td>TORNEO</td>\n",
       "      <td>VEZEL</td>\n",
       "      <td>AIRWAVE</td>\n",
       "      <td>CITY</td>\n",
       "      <td>CR X</td>\n",
       "      <td>CROSSROAD</td>\n",
       "      <td>RAFAGA</td>\n",
       "      <td>SABER</td>\n",
       "      <td>VIGOR</td>\n",
       "      <td>Z</td>\n",
       "      <td>ZEST</td>\n",
       "    </tr>\n",
       "  </tbody>\n",
       "</table>\n",
       "</div>"
      ],
      "text/plain": [
       "                0            1     2      3         4     5      6   \\\n",
       "HONDA_df    ACCORD  ACCORD TYPE  ACTY  ASCOT  AVANCIER  BEAT  CIVIC   \n",
       "HONDA_test  ACCORD          NaN  ACTY  ASCOT  AVANCIER   NaN  CIVIC   \n",
       "\n",
       "                     7             8        9         10    11    12  \\\n",
       "HONDA_df    CIVIC FERIO  CIVIC TYPE R  CLARITY  CONCERTO  CR-V  CR-Z   \n",
       "HONDA_test  CIVIC FERIO  CIVIC TYPE R      NaN  CONCERTO  CR-V  CR-Z   \n",
       "\n",
       "                   13      14    15       16       17   18    19     20    21  \\\n",
       "HONDA_df    CROSSTOUR  DOMANI  EDIX  ELEMENT  ELYSION  FIT  FR-V  FREED  HR-V   \n",
       "HONDA_test  CROSSTOUR  DOMANI   NaN  ELEMENT  ELYSION  FIT  FR-V  FREED  HR-V   \n",
       "\n",
       "                 22       23       24    25    26      27    28       29  \\\n",
       "HONDA_df    INSIGHT  INSPIRE  INTEGRA  JADE  JAZZ  LEGEND  LOGO  MOBILIO   \n",
       "HONDA_test  INSIGHT  INSPIRE  INTEGRA   NaN  JAZZ  LEGEND  LOGO  MOBILIO   \n",
       "\n",
       "                       30     31     32       33      34       35     36  \\\n",
       "HONDA_df    MOBILIO SPIKE  N-BOX  N-WGN  ODYSSEY  ORTHIA  PARTNER  PILOT   \n",
       "HONDA_test  MOBILIO SPIKE  N-BOX  N-WGN  ODYSSEY  ORTHIA  PARTNER  PILOT   \n",
       "\n",
       "                 37         38     39       40         41      42      43  \\\n",
       "HONDA_df    PRELUDE  RIDGELINE  S2000  SHUTTLE  STEPWAGON  STREAM  TORNEO   \n",
       "HONDA_test  PRELUDE  RIDGELINE  S2000  SHUTTLE  STEPWAGON  STREAM  TORNEO   \n",
       "\n",
       "               44       45    46    47         48      49     50     51   52  \\\n",
       "HONDA_df    VEZEL      NaN   NaN   NaN        NaN     NaN    NaN    NaN  NaN   \n",
       "HONDA_test  VEZEL  AIRWAVE  CITY  CR X  CROSSROAD  RAFAGA  SABER  VIGOR    Z   \n",
       "\n",
       "              53  \n",
       "HONDA_df     NaN  \n",
       "HONDA_test  ZEST  "
      ]
     },
     "execution_count": 77,
     "metadata": {},
     "output_type": "execute_result"
    }
   ],
   "source": [
    "models_comparison('HONDA', df, test)"
   ]
  },
  {
   "cell_type": "code",
   "execution_count": 78,
   "id": "99ea608e",
   "metadata": {
    "executionInfo": {
     "elapsed": 190,
     "status": "ok",
     "timestamp": 1627471004991,
     "user": {
      "displayName": "Сергей",
      "photoUrl": "",
      "userId": "16958243466904798794"
     },
     "user_tz": -180
    },
    "id": "99ea608e"
   },
   "outputs": [],
   "source": [
    "mismatch_honda = models_comparison('HONDA', df, test).T\n",
    "mismatch_honda = mismatch_honda[mismatch_honda.HONDA_df.isna()].HONDA_test.to_list()\n",
    "mismatch_model_withtest.extend(mismatch_honda)"
   ]
  },
  {
   "cell_type": "markdown",
   "id": "d5b8a7cd",
   "metadata": {
    "id": "d5b8a7cd"
   },
   "source": [
    "##### **INFINITI**"
   ]
  },
  {
   "cell_type": "code",
   "execution_count": 79,
   "id": "81761e1a",
   "metadata": {
    "colab": {
     "base_uri": "https://localhost:8080/",
     "height": 289
    },
    "executionInfo": {
     "elapsed": 193,
     "status": "ok",
     "timestamp": 1627471004994,
     "user": {
      "displayName": "Сергей",
      "photoUrl": "",
      "userId": "16958243466904798794"
     },
     "user_tz": -180
    },
    "id": "81761e1a",
    "outputId": "9e3d76a3-0d6f-46b9-91a4-8d3bf98122d8"
   },
   "outputs": [
    {
     "data": {
      "text/plain": [
       "array(['EX I (J50) EX25', 'EX I (J50) EX35', 'EX I (J50) EX37',\n",
       "       'FX I (S50) FX35', 'FX I (S50) FX45', 'FX I (S50) Рестайлинг FX35',\n",
       "       'FX I (S50) Рестайлинг FX45', 'FX II (S51) FX35',\n",
       "       'FX II (S51) FX37', 'FX II (S51) FX50',\n",
       "       'FX II (S51) Рестайлинг FX Vettel Edition',\n",
       "       'FX II (S51) Рестайлинг FX30d', 'FX II (S51) Рестайлинг FX37',\n",
       "       'FX II (S51) Рестайлинг FX50', 'G III G35', 'G IV G25', 'G IV G35',\n",
       "       'G IV G37', 'I I I30', 'JX JX35', 'M III M35',\n",
       "       'M III Рестайлинг M35', 'M IV M25', 'M IV M37', 'M IV M56',\n",
       "       'Q III Q45', 'Q30', 'Q50 I', 'Q50 I Рестайлинг', 'Q60 I', 'Q60 II',\n",
       "       'Q70 I', 'Q70 I Рестайлинг', 'QX4 I', 'QX50 I',\n",
       "       'QX50 I Рестайлинг', 'QX50 II', 'QX56 I', 'QX56 I Рестайлинг',\n",
       "       'QX56 II', 'QX60 I', 'QX60 I Рестайлинг', 'QX70', 'QX80 I',\n",
       "       'QX80 I Рестайлинг', 'QX80 I Рестайлинг 2'], dtype='<U40')"
      ]
     },
     "metadata": {},
     "output_type": "display_data"
    },
    {
     "data": {
      "text/plain": [
       "array(['EX', 'FX', 'G35', 'I', 'JX', 'M', 'Q', 'Q30', 'Q50', 'Q60', 'Q70',\n",
       "       'QX30', 'QX4', 'QX50', 'QX56', 'QX60', 'QX70', 'QX80'], dtype='<U4')"
      ]
     },
     "execution_count": 79,
     "metadata": {},
     "output_type": "execute_result"
    }
   ],
   "source": [
    "infiniti_models_df = sorted((df.groupby('brand').model_name.unique())['INFINITI'])\n",
    "infiniti_models_test = sorted((test.groupby('brand').model_name.unique())['INFINITI'])\n",
    "display(np.array(infiniti_models_df))\n",
    "np.array(infiniti_models_test)"
   ]
  },
  {
   "cell_type": "code",
   "execution_count": 80,
   "id": "c5737100",
   "metadata": {
    "colab": {
     "base_uri": "https://localhost:8080/",
     "height": 111
    },
    "executionInfo": {
     "elapsed": 192,
     "status": "ok",
     "timestamp": 1627471004995,
     "user": {
      "displayName": "Сергей",
      "photoUrl": "",
      "userId": "16958243466904798794"
     },
     "user_tz": -180
    },
    "id": "c5737100",
    "outputId": "91162fe2-47e7-4da4-a481-480e22510628"
   },
   "outputs": [
    {
     "data": {
      "text/html": [
       "<div>\n",
       "<style scoped>\n",
       "    .dataframe tbody tr th:only-of-type {\n",
       "        vertical-align: middle;\n",
       "    }\n",
       "\n",
       "    .dataframe tbody tr th {\n",
       "        vertical-align: top;\n",
       "    }\n",
       "\n",
       "    .dataframe thead th {\n",
       "        text-align: right;\n",
       "    }\n",
       "</style>\n",
       "<table border=\"1\" class=\"dataframe\">\n",
       "  <thead>\n",
       "    <tr style=\"text-align: right;\">\n",
       "      <th></th>\n",
       "      <th>0</th>\n",
       "      <th>1</th>\n",
       "      <th>2</th>\n",
       "      <th>3</th>\n",
       "      <th>4</th>\n",
       "      <th>5</th>\n",
       "      <th>6</th>\n",
       "      <th>7</th>\n",
       "      <th>8</th>\n",
       "      <th>9</th>\n",
       "      <th>10</th>\n",
       "      <th>11</th>\n",
       "      <th>12</th>\n",
       "      <th>13</th>\n",
       "      <th>14</th>\n",
       "      <th>15</th>\n",
       "      <th>16</th>\n",
       "      <th>17</th>\n",
       "      <th>18</th>\n",
       "      <th>19</th>\n",
       "    </tr>\n",
       "  </thead>\n",
       "  <tbody>\n",
       "    <tr>\n",
       "      <th>INFINITI_df</th>\n",
       "      <td>EX</td>\n",
       "      <td>FX</td>\n",
       "      <td>G</td>\n",
       "      <td>I</td>\n",
       "      <td>JX JX35</td>\n",
       "      <td>M</td>\n",
       "      <td>Q</td>\n",
       "      <td>Q30</td>\n",
       "      <td>Q50</td>\n",
       "      <td>Q60</td>\n",
       "      <td>Q70</td>\n",
       "      <td>QX4</td>\n",
       "      <td>QX50</td>\n",
       "      <td>QX56</td>\n",
       "      <td>QX60</td>\n",
       "      <td>QX70</td>\n",
       "      <td>QX80</td>\n",
       "      <td>NaN</td>\n",
       "      <td>NaN</td>\n",
       "      <td>NaN</td>\n",
       "    </tr>\n",
       "    <tr>\n",
       "      <th>INFINITI_test</th>\n",
       "      <td>EX</td>\n",
       "      <td>FX</td>\n",
       "      <td>NaN</td>\n",
       "      <td>I</td>\n",
       "      <td>NaN</td>\n",
       "      <td>M</td>\n",
       "      <td>Q</td>\n",
       "      <td>Q30</td>\n",
       "      <td>Q50</td>\n",
       "      <td>Q60</td>\n",
       "      <td>Q70</td>\n",
       "      <td>QX4</td>\n",
       "      <td>QX50</td>\n",
       "      <td>QX56</td>\n",
       "      <td>QX60</td>\n",
       "      <td>QX70</td>\n",
       "      <td>QX80</td>\n",
       "      <td>G35</td>\n",
       "      <td>JX</td>\n",
       "      <td>QX30</td>\n",
       "    </tr>\n",
       "  </tbody>\n",
       "</table>\n",
       "</div>"
      ],
      "text/plain": [
       "               0   1    2  3        4  5  6    7    8    9    10   11    12  \\\n",
       "INFINITI_df    EX  FX    G  I  JX JX35  M  Q  Q30  Q50  Q60  Q70  QX4  QX50   \n",
       "INFINITI_test  EX  FX  NaN  I      NaN  M  Q  Q30  Q50  Q60  Q70  QX4  QX50   \n",
       "\n",
       "                 13    14    15    16   17   18    19  \n",
       "INFINITI_df    QX56  QX60  QX70  QX80  NaN  NaN   NaN  \n",
       "INFINITI_test  QX56  QX60  QX70  QX80  G35   JX  QX30  "
      ]
     },
     "execution_count": 80,
     "metadata": {},
     "output_type": "execute_result"
    }
   ],
   "source": [
    "df.model_name = df[['brand', 'model_name']].apply(\n",
    "    lambda x: models_formatting(x[1]) if x[0] == 'INFINITI' else x[1], axis=1)\n",
    "models_comparison('INFINITI', df, test)"
   ]
  },
  {
   "cell_type": "code",
   "execution_count": 81,
   "id": "196a356d",
   "metadata": {
    "executionInfo": {
     "elapsed": 193,
     "status": "ok",
     "timestamp": 1627471004997,
     "user": {
      "displayName": "Сергей",
      "photoUrl": "",
      "userId": "16958243466904798794"
     },
     "user_tz": -180
    },
    "id": "196a356d"
   },
   "outputs": [],
   "source": [
    "df.model_name = df[['brand', 'model_name']].apply(\n",
    "    lambda x: 'JX' if x[0] == 'INFINITI' and x[1]=='JX JX35' else x[1], axis=1)"
   ]
  },
  {
   "cell_type": "code",
   "execution_count": 82,
   "id": "e0281e09",
   "metadata": {
    "colab": {
     "base_uri": "https://localhost:8080/",
     "height": 111
    },
    "executionInfo": {
     "elapsed": 193,
     "status": "ok",
     "timestamp": 1627471004998,
     "user": {
      "displayName": "Сергей",
      "photoUrl": "",
      "userId": "16958243466904798794"
     },
     "user_tz": -180
    },
    "id": "e0281e09",
    "outputId": "2d81d3d4-8927-49a4-80ee-9d2cd21d5051"
   },
   "outputs": [
    {
     "data": {
      "text/html": [
       "<div>\n",
       "<style scoped>\n",
       "    .dataframe tbody tr th:only-of-type {\n",
       "        vertical-align: middle;\n",
       "    }\n",
       "\n",
       "    .dataframe tbody tr th {\n",
       "        vertical-align: top;\n",
       "    }\n",
       "\n",
       "    .dataframe thead th {\n",
       "        text-align: right;\n",
       "    }\n",
       "</style>\n",
       "<table border=\"1\" class=\"dataframe\">\n",
       "  <thead>\n",
       "    <tr style=\"text-align: right;\">\n",
       "      <th></th>\n",
       "      <th>0</th>\n",
       "      <th>1</th>\n",
       "      <th>2</th>\n",
       "      <th>3</th>\n",
       "      <th>4</th>\n",
       "      <th>5</th>\n",
       "      <th>6</th>\n",
       "      <th>7</th>\n",
       "      <th>8</th>\n",
       "      <th>9</th>\n",
       "      <th>10</th>\n",
       "      <th>11</th>\n",
       "      <th>12</th>\n",
       "      <th>13</th>\n",
       "      <th>14</th>\n",
       "      <th>15</th>\n",
       "      <th>16</th>\n",
       "      <th>17</th>\n",
       "      <th>18</th>\n",
       "    </tr>\n",
       "  </thead>\n",
       "  <tbody>\n",
       "    <tr>\n",
       "      <th>INFINITI_df</th>\n",
       "      <td>EX</td>\n",
       "      <td>FX</td>\n",
       "      <td>G</td>\n",
       "      <td>I</td>\n",
       "      <td>JX</td>\n",
       "      <td>M</td>\n",
       "      <td>Q</td>\n",
       "      <td>Q30</td>\n",
       "      <td>Q50</td>\n",
       "      <td>Q60</td>\n",
       "      <td>Q70</td>\n",
       "      <td>QX4</td>\n",
       "      <td>QX50</td>\n",
       "      <td>QX56</td>\n",
       "      <td>QX60</td>\n",
       "      <td>QX70</td>\n",
       "      <td>QX80</td>\n",
       "      <td>NaN</td>\n",
       "      <td>NaN</td>\n",
       "    </tr>\n",
       "    <tr>\n",
       "      <th>INFINITI_test</th>\n",
       "      <td>EX</td>\n",
       "      <td>FX</td>\n",
       "      <td>NaN</td>\n",
       "      <td>I</td>\n",
       "      <td>JX</td>\n",
       "      <td>M</td>\n",
       "      <td>Q</td>\n",
       "      <td>Q30</td>\n",
       "      <td>Q50</td>\n",
       "      <td>Q60</td>\n",
       "      <td>Q70</td>\n",
       "      <td>QX4</td>\n",
       "      <td>QX50</td>\n",
       "      <td>QX56</td>\n",
       "      <td>QX60</td>\n",
       "      <td>QX70</td>\n",
       "      <td>QX80</td>\n",
       "      <td>G35</td>\n",
       "      <td>QX30</td>\n",
       "    </tr>\n",
       "  </tbody>\n",
       "</table>\n",
       "</div>"
      ],
      "text/plain": [
       "               0   1    2  3   4  5  6    7    8    9    10   11    12    13  \\\n",
       "INFINITI_df    EX  FX    G  I  JX  M  Q  Q30  Q50  Q60  Q70  QX4  QX50  QX56   \n",
       "INFINITI_test  EX  FX  NaN  I  JX  M  Q  Q30  Q50  Q60  Q70  QX4  QX50  QX56   \n",
       "\n",
       "                 14    15    16   17    18  \n",
       "INFINITI_df    QX60  QX70  QX80  NaN   NaN  \n",
       "INFINITI_test  QX60  QX70  QX80  G35  QX30  "
      ]
     },
     "execution_count": 82,
     "metadata": {},
     "output_type": "execute_result"
    }
   ],
   "source": [
    "models_comparison('INFINITI', df, test)"
   ]
  },
  {
   "cell_type": "code",
   "execution_count": 83,
   "id": "ad5824e4",
   "metadata": {
    "executionInfo": {
     "elapsed": 194,
     "status": "ok",
     "timestamp": 1627471005000,
     "user": {
      "displayName": "Сергей",
      "photoUrl": "",
      "userId": "16958243466904798794"
     },
     "user_tz": -180
    },
    "id": "ad5824e4"
   },
   "outputs": [],
   "source": [
    "mismatch_infiniti = models_comparison('INFINITI', df, test).T\n",
    "mismatch_infiniti = mismatch_infiniti[mismatch_infiniti.INFINITI_df.isna()].INFINITI_test.to_list()\n",
    "mismatch_model_withtest.extend(mismatch_infiniti)"
   ]
  },
  {
   "cell_type": "markdown",
   "id": "7598c773",
   "metadata": {
    "id": "7598c773"
   },
   "source": [
    "##### **LEXUS**"
   ]
  },
  {
   "cell_type": "code",
   "execution_count": 84,
   "id": "5d2e7bdf",
   "metadata": {
    "colab": {
     "base_uri": "https://localhost:8080/",
     "height": 544
    },
    "executionInfo": {
     "elapsed": 194,
     "status": "ok",
     "timestamp": 1627471005001,
     "user": {
      "displayName": "Сергей",
      "photoUrl": "",
      "userId": "16958243466904798794"
     },
     "user_tz": -180
    },
    "id": "5d2e7bdf",
    "outputId": "a77bcb1e-4d86-41d7-dcd5-34c1df36a0d3"
   },
   "outputs": [
    {
     "data": {
      "text/plain": [
       "array(['CT I 200h', 'ES V Рестайлинг 350', 'ES VI 250', 'ES VI 300h',\n",
       "       'ES VI 350', 'ES VI Рестайлинг 200', 'ES VI Рестайлинг 250',\n",
       "       'ES VII 200', 'ES VII 250', 'ES VII 350', 'GS I 300', 'GS II 300',\n",
       "       'GS II Рестайлинг 300', 'GS III 300', 'GS III 350', 'GS III 430',\n",
       "       'GS III 450h', 'GS III Рестайлинг 300', 'GS III Рестайлинг 350',\n",
       "       'GS III Рестайлинг 450h', 'GS III Рестайлинг 460', 'GS IV 250',\n",
       "       'GS IV 350', 'GS IV 450h', 'GX I 470', 'GX II 460',\n",
       "       'GX II Рестайлинг 2 460', 'GX II Рестайлинг 460', 'IS I 200',\n",
       "       'IS II 250', 'IS II Рестайлинг 2 250', 'IS II Рестайлинг 250',\n",
       "       'IS II Рестайлинг 250C', 'IS III 250', 'IS III 300h',\n",
       "       'IS III Рестайлинг 300', 'LC I 500', 'LS III 430',\n",
       "       'LS III Рестайлинг 430', 'LS IV 460', 'LS IV Рестайлинг 2 460',\n",
       "       'LS IV Рестайлинг 460', 'LS Long IV 460 L', 'LS Long IV 600h L',\n",
       "       'LS Long IV Рестайлинг 2 460 L', 'LS Long IV Рестайлинг 2 600h L',\n",
       "       'LS Long IV Рестайлинг 460 L', 'LS Long IV Рестайлинг 600h L',\n",
       "       'LS V 500',\n",
       "       'LX Arctic Trucks III Рестайлинг 2 Arctic Trucks 450d AT35',\n",
       "       'LX Arctic Trucks III Рестайлинг 2 Arctic Trucks 570 AT33',\n",
       "       'LX I 450', 'LX II 470', 'LX II Рестайлинг 470', 'LX III 570',\n",
       "       'LX III Рестайлинг 2 450d', 'LX III Рестайлинг 2 570',\n",
       "       'LX III Рестайлинг 570', 'NX I 200', 'NX I 200t', 'NX I 300h',\n",
       "       'NX I Рестайлинг 200', 'NX I Рестайлинг 300', 'RC I 200t',\n",
       "       'RX I 300', 'RX II 300', 'RX II 330', 'RX II 400h',\n",
       "       'RX II Рестайлинг 350', 'RX II Рестайлинг 400h', 'RX III 270',\n",
       "       'RX III 350', 'RX III 450h', 'RX III Рестайлинг 270',\n",
       "       'RX III Рестайлинг 350', 'RX III Рестайлинг 450h', 'RX IV 200t',\n",
       "       'RX IV 300', 'RX IV 350', 'RX IV 450h', 'RX IV Рестайлинг 300',\n",
       "       'RX IV Рестайлинг 350', 'RX L IV 350L', 'SC II 430',\n",
       "       'SC II Рестайлинг 430', 'UX I 200', 'UX I 250h'], dtype='<U57')"
      ]
     },
     "metadata": {},
     "output_type": "display_data"
    },
    {
     "data": {
      "text/plain": [
       "array(['CT', 'ES', 'GS', 'GX', 'HS', 'IS', 'LM', 'LS', 'LX', 'NX', 'RC',\n",
       "       'RX', 'SC', 'UX'], dtype='<U2')"
      ]
     },
     "execution_count": 84,
     "metadata": {},
     "output_type": "execute_result"
    }
   ],
   "source": [
    "lexus_models_df = sorted((df.groupby('brand').model_name.unique())['LEXUS'])\n",
    "lexus_models_test = sorted((test.groupby('brand').model_name.unique())['LEXUS'])\n",
    "display(np.array(lexus_models_df))\n",
    "np.array(lexus_models_test)"
   ]
  },
  {
   "cell_type": "code",
   "execution_count": 85,
   "id": "173ef24a",
   "metadata": {
    "colab": {
     "base_uri": "https://localhost:8080/",
     "height": 111
    },
    "executionInfo": {
     "elapsed": 194,
     "status": "ok",
     "timestamp": 1627471005003,
     "user": {
      "displayName": "Сергей",
      "photoUrl": "",
      "userId": "16958243466904798794"
     },
     "user_tz": -180
    },
    "id": "173ef24a",
    "outputId": "87c80833-aa7a-4d29-b524-275467524e39"
   },
   "outputs": [
    {
     "data": {
      "text/html": [
       "<div>\n",
       "<style scoped>\n",
       "    .dataframe tbody tr th:only-of-type {\n",
       "        vertical-align: middle;\n",
       "    }\n",
       "\n",
       "    .dataframe tbody tr th {\n",
       "        vertical-align: top;\n",
       "    }\n",
       "\n",
       "    .dataframe thead th {\n",
       "        text-align: right;\n",
       "    }\n",
       "</style>\n",
       "<table border=\"1\" class=\"dataframe\">\n",
       "  <thead>\n",
       "    <tr style=\"text-align: right;\">\n",
       "      <th></th>\n",
       "      <th>0</th>\n",
       "      <th>1</th>\n",
       "      <th>2</th>\n",
       "      <th>3</th>\n",
       "      <th>4</th>\n",
       "      <th>5</th>\n",
       "      <th>6</th>\n",
       "      <th>7</th>\n",
       "      <th>8</th>\n",
       "      <th>9</th>\n",
       "      <th>10</th>\n",
       "      <th>11</th>\n",
       "      <th>12</th>\n",
       "      <th>13</th>\n",
       "      <th>14</th>\n",
       "      <th>15</th>\n",
       "      <th>16</th>\n",
       "      <th>17</th>\n",
       "    </tr>\n",
       "  </thead>\n",
       "  <tbody>\n",
       "    <tr>\n",
       "      <th>LEXUS_df</th>\n",
       "      <td>CT</td>\n",
       "      <td>ES</td>\n",
       "      <td>GS</td>\n",
       "      <td>GX</td>\n",
       "      <td>IS</td>\n",
       "      <td>LC</td>\n",
       "      <td>LS</td>\n",
       "      <td>LS LONG</td>\n",
       "      <td>LX</td>\n",
       "      <td>LX ARCTIC</td>\n",
       "      <td>NX</td>\n",
       "      <td>RC</td>\n",
       "      <td>RX</td>\n",
       "      <td>RX L</td>\n",
       "      <td>SC</td>\n",
       "      <td>UX</td>\n",
       "      <td>NaN</td>\n",
       "      <td>NaN</td>\n",
       "    </tr>\n",
       "    <tr>\n",
       "      <th>LEXUS_test</th>\n",
       "      <td>CT</td>\n",
       "      <td>ES</td>\n",
       "      <td>GS</td>\n",
       "      <td>GX</td>\n",
       "      <td>IS</td>\n",
       "      <td>NaN</td>\n",
       "      <td>LS</td>\n",
       "      <td>NaN</td>\n",
       "      <td>LX</td>\n",
       "      <td>NaN</td>\n",
       "      <td>NX</td>\n",
       "      <td>RC</td>\n",
       "      <td>RX</td>\n",
       "      <td>NaN</td>\n",
       "      <td>SC</td>\n",
       "      <td>UX</td>\n",
       "      <td>HS</td>\n",
       "      <td>LM</td>\n",
       "    </tr>\n",
       "  </tbody>\n",
       "</table>\n",
       "</div>"
      ],
      "text/plain": [
       "            0   1   2   3   4    5   6        7   8          9   10  11  12  \\\n",
       "LEXUS_df    CT  ES  GS  GX  IS   LC  LS  LS LONG  LX  LX ARCTIC  NX  RC  RX   \n",
       "LEXUS_test  CT  ES  GS  GX  IS  NaN  LS      NaN  LX        NaN  NX  RC  RX   \n",
       "\n",
       "              13  14  15   16   17  \n",
       "LEXUS_df    RX L  SC  UX  NaN  NaN  \n",
       "LEXUS_test   NaN  SC  UX   HS   LM  "
      ]
     },
     "execution_count": 85,
     "metadata": {},
     "output_type": "execute_result"
    }
   ],
   "source": [
    "df.model_name = df[['brand', 'model_name']].apply(\n",
    "    lambda x: models_formatting(x[1]) if x[0] == 'LEXUS' else x[1], axis=1)\n",
    "models_comparison('LEXUS', df, test)"
   ]
  },
  {
   "cell_type": "code",
   "execution_count": 86,
   "id": "18bd0521",
   "metadata": {
    "executionInfo": {
     "elapsed": 192,
     "status": "ok",
     "timestamp": 1627471005004,
     "user": {
      "displayName": "Сергей",
      "photoUrl": "",
      "userId": "16958243466904798794"
     },
     "user_tz": -180
    },
    "id": "18bd0521"
   },
   "outputs": [],
   "source": [
    "mismatch_lexus = models_comparison('LEXUS', df, test).T\n",
    "mismatch_lexus = mismatch_lexus[mismatch_lexus.LEXUS_df.isna()].LEXUS_test.to_list()\n",
    "mismatch_model_withtest.extend(mismatch_lexus)"
   ]
  },
  {
   "cell_type": "markdown",
   "id": "4b555c7d",
   "metadata": {
    "id": "4b555c7d"
   },
   "source": [
    "##### **MERCEDES**"
   ]
  },
  {
   "cell_type": "code",
   "execution_count": 87,
   "id": "2c53f90a",
   "metadata": {
    "colab": {
     "base_uri": "https://localhost:8080/",
     "height": 408
    },
    "executionInfo": {
     "elapsed": 192,
     "status": "ok",
     "timestamp": 1627471005005,
     "user": {
      "displayName": "Сергей",
      "photoUrl": "",
      "userId": "16958243466904798794"
     },
     "user_tz": -180
    },
    "id": "2c53f90a",
    "outputId": "4adf1595-1745-4fb3-8da0-f9106b73b782"
   },
   "outputs": [
    {
     "data": {
      "text/plain": [
       "array(['190 (W201)', 'A-Класс AMG I (W176) 45 AMG',\n",
       "       'A-Класс AMG II (W177) 35 AMG', 'A-Класс II (W169) 150',\n",
       "       'A-Класс II (W169) 200', 'A-Класс II (W169) Рестайлинг 170',\n",
       "       'A-Класс II (W169) Рестайлинг 180', 'A-Класс III (W176) 180',\n",
       "       'A-Класс III (W176) 200', 'A-Класс III (W176) Рестайлинг 180', ...,\n",
       "       'W114 280', 'W124 200', 'W124 220', 'W124 230', 'W124 300',\n",
       "       'W124 400', 'W128', 'W136', 'W189', 'X-Класс I 250 d'],\n",
       "      dtype='<U58')"
      ]
     },
     "metadata": {},
     "output_type": "display_data"
    },
    {
     "data": {
      "text/plain": [
       "array(['190 SL', 'A KLASSE', 'A KLASSE AMG', 'AMG GLC COUPE', 'AMG GT',\n",
       "       'B KLASSE', 'C KLASSE', 'C KLASSE AMG', 'CITAN', 'CL KLASSE',\n",
       "       'CL KLASSE AMG', 'CLA KLASSE', 'CLA KLASSE AMG', 'CLC KLASSE',\n",
       "       'CLK KLASSE', 'CLS KLASSE', 'CLS KLASSE AMG', 'E KLASSE',\n",
       "       'E KLASSE AMG', 'G KLASSE', 'G KLASSE AMG', 'GL KLASSE',\n",
       "       'GL KLASSE AMG', 'GLA CLASS', 'GLA CLASS AMG', 'GLB KLASSE',\n",
       "       'GLC COUPE', 'GLC KLASSE', 'GLC KLASSE AMG', 'GLE KLASSE',\n",
       "       'GLE KLASSE AMG', 'GLE KLASSE COUPE', 'GLE KLASSE COUPE AMG',\n",
       "       'GLK KLASSE', 'GLS KLASSE', 'GLS KLASSE AMG', 'M KLASSE',\n",
       "       'M KLASSE AMG', 'MAYBACH GLS', 'R KLASSE', 'S CLASS MAYBACH',\n",
       "       'S KLASSE', 'S KLASSE AMG', 'SIMPLEX', 'SL KLASSE',\n",
       "       'SL KLASSE AMG', 'SLC KLASSE', 'SLK KLASSE', 'SLR KLASSE',\n",
       "       'SLS AMG', 'V KLASSE', 'VANEO', 'VIANO', 'VITO', 'W111', 'W114',\n",
       "       'W123', 'W124', 'W128', 'W136', 'W186', 'W188', 'W201', 'X KLASSE'],\n",
       "      dtype='<U20')"
      ]
     },
     "execution_count": 87,
     "metadata": {},
     "output_type": "execute_result"
    }
   ],
   "source": [
    "mercedes_models_df = sorted((df.groupby('brand').model_name.unique())['MERCEDES'])\n",
    "mercedes_models_test = sorted((test.groupby('brand').model_name.unique())['MERCEDES'])\n",
    "display(np.array(mercedes_models_df))\n",
    "np.array(mercedes_models_test)"
   ]
  },
  {
   "cell_type": "code",
   "execution_count": 88,
   "id": "905135cb",
   "metadata": {
    "executionInfo": {
     "elapsed": 191,
     "status": "ok",
     "timestamp": 1627471005006,
     "user": {
      "displayName": "Сергей",
      "photoUrl": "",
      "userId": "16958243466904798794"
     },
     "user_tz": -180
    },
    "id": "905135cb"
   },
   "outputs": [],
   "source": [
    "test.model_name = test[['brand', 'model_name']].model_name.str.replace(' KLASSE','-CLASS')\n",
    "test.model_name = test[['brand', 'model_name']].model_name.str.replace(' CLASS','-CLASS')\n",
    "df.model_name = df[['brand', 'model_name']].model_name.str.replace('-Класс','-CLASS')"
   ]
  },
  {
   "cell_type": "code",
   "execution_count": 89,
   "id": "ec6dfa44",
   "metadata": {
    "colab": {
     "base_uri": "https://localhost:8080/",
     "height": 216
    },
    "executionInfo": {
     "elapsed": 1366,
     "status": "ok",
     "timestamp": 1627471006182,
     "user": {
      "displayName": "Сергей",
      "photoUrl": "",
      "userId": "16958243466904798794"
     },
     "user_tz": -180
    },
    "id": "ec6dfa44",
    "outputId": "60c9ce00-2655-42d2-837f-47e246929bde"
   },
   "outputs": [
    {
     "data": {
      "text/html": [
       "<div>\n",
       "<style scoped>\n",
       "    .dataframe tbody tr th:only-of-type {\n",
       "        vertical-align: middle;\n",
       "    }\n",
       "\n",
       "    .dataframe tbody tr th {\n",
       "        vertical-align: top;\n",
       "    }\n",
       "\n",
       "    .dataframe thead th {\n",
       "        text-align: right;\n",
       "    }\n",
       "</style>\n",
       "<table border=\"1\" class=\"dataframe\">\n",
       "  <thead>\n",
       "    <tr style=\"text-align: right;\">\n",
       "      <th></th>\n",
       "      <th>0</th>\n",
       "      <th>1</th>\n",
       "      <th>2</th>\n",
       "      <th>3</th>\n",
       "      <th>4</th>\n",
       "      <th>5</th>\n",
       "      <th>6</th>\n",
       "      <th>7</th>\n",
       "      <th>8</th>\n",
       "      <th>9</th>\n",
       "      <th>10</th>\n",
       "      <th>11</th>\n",
       "      <th>12</th>\n",
       "      <th>13</th>\n",
       "      <th>14</th>\n",
       "      <th>15</th>\n",
       "      <th>16</th>\n",
       "      <th>17</th>\n",
       "      <th>18</th>\n",
       "      <th>19</th>\n",
       "      <th>20</th>\n",
       "      <th>21</th>\n",
       "      <th>22</th>\n",
       "      <th>23</th>\n",
       "      <th>24</th>\n",
       "      <th>25</th>\n",
       "      <th>26</th>\n",
       "      <th>27</th>\n",
       "      <th>28</th>\n",
       "      <th>29</th>\n",
       "      <th>30</th>\n",
       "      <th>31</th>\n",
       "      <th>32</th>\n",
       "      <th>33</th>\n",
       "      <th>34</th>\n",
       "      <th>35</th>\n",
       "      <th>36</th>\n",
       "      <th>37</th>\n",
       "      <th>38</th>\n",
       "      <th>39</th>\n",
       "      <th>40</th>\n",
       "      <th>41</th>\n",
       "      <th>42</th>\n",
       "      <th>43</th>\n",
       "      <th>44</th>\n",
       "      <th>45</th>\n",
       "      <th>46</th>\n",
       "      <th>47</th>\n",
       "      <th>48</th>\n",
       "      <th>49</th>\n",
       "      <th>50</th>\n",
       "      <th>51</th>\n",
       "      <th>52</th>\n",
       "      <th>53</th>\n",
       "      <th>54</th>\n",
       "      <th>55</th>\n",
       "      <th>56</th>\n",
       "      <th>57</th>\n",
       "      <th>58</th>\n",
       "      <th>59</th>\n",
       "      <th>60</th>\n",
       "      <th>61</th>\n",
       "      <th>62</th>\n",
       "      <th>63</th>\n",
       "      <th>64</th>\n",
       "      <th>65</th>\n",
       "      <th>66</th>\n",
       "      <th>67</th>\n",
       "      <th>68</th>\n",
       "      <th>69</th>\n",
       "      <th>70</th>\n",
       "      <th>71</th>\n",
       "      <th>72</th>\n",
       "      <th>73</th>\n",
       "      <th>74</th>\n",
       "      <th>75</th>\n",
       "      <th>76</th>\n",
       "      <th>77</th>\n",
       "      <th>78</th>\n",
       "      <th>79</th>\n",
       "      <th>80</th>\n",
       "      <th>81</th>\n",
       "      <th>82</th>\n",
       "      <th>83</th>\n",
       "      <th>84</th>\n",
       "      <th>85</th>\n",
       "      <th>86</th>\n",
       "      <th>87</th>\n",
       "      <th>88</th>\n",
       "      <th>89</th>\n",
       "      <th>90</th>\n",
       "      <th>91</th>\n",
       "      <th>92</th>\n",
       "      <th>93</th>\n",
       "      <th>94</th>\n",
       "      <th>95</th>\n",
       "      <th>96</th>\n",
       "      <th>97</th>\n",
       "      <th>98</th>\n",
       "      <th>99</th>\n",
       "      <th>100</th>\n",
       "      <th>101</th>\n",
       "      <th>102</th>\n",
       "      <th>103</th>\n",
       "      <th>104</th>\n",
       "      <th>105</th>\n",
       "      <th>106</th>\n",
       "      <th>107</th>\n",
       "      <th>108</th>\n",
       "      <th>109</th>\n",
       "      <th>110</th>\n",
       "    </tr>\n",
       "  </thead>\n",
       "  <tbody>\n",
       "    <tr>\n",
       "      <th>MERCEDES_df</th>\n",
       "      <td>190</td>\n",
       "      <td>A-CLASS</td>\n",
       "      <td>A-CLASS AMG</td>\n",
       "      <td>A-CLASS LONG</td>\n",
       "      <td>AMG GT</td>\n",
       "      <td>B-CLASS</td>\n",
       "      <td>C-CLASS</td>\n",
       "      <td>C-CLASS AMG</td>\n",
       "      <td>CL-CLASS</td>\n",
       "      <td>CL-CLASS AMG</td>\n",
       "      <td>CLA</td>\n",
       "      <td>CLA AMG</td>\n",
       "      <td>CLC-CLASS180</td>\n",
       "      <td>CLC-CLASS200</td>\n",
       "      <td>CLC-CLASS230</td>\n",
       "      <td>CLK-CLASS</td>\n",
       "      <td>CLS</td>\n",
       "      <td>CLS AMG</td>\n",
       "      <td>E-CLASS</td>\n",
       "      <td>E-CLASS ALL-TERRAIN</td>\n",
       "      <td>E-CLASS AMG</td>\n",
       "      <td>EQC</td>\n",
       "      <td>EQV EXTRA-LONG</td>\n",
       "      <td>G-CLASS</td>\n",
       "      <td>G-CLASS 4X4</td>\n",
       "      <td>G-CLASS AMG</td>\n",
       "      <td>GL-CLASS</td>\n",
       "      <td>GL-CLASS AMG</td>\n",
       "      <td>GLA</td>\n",
       "      <td>GLA AMG</td>\n",
       "      <td>GLB</td>\n",
       "      <td>GLC</td>\n",
       "      <td>GLC AMG</td>\n",
       "      <td>GLC COUPE</td>\n",
       "      <td>GLE</td>\n",
       "      <td>GLE AMG</td>\n",
       "      <td>GLE COUPE</td>\n",
       "      <td>GLK-CLASS</td>\n",
       "      <td>GLS</td>\n",
       "      <td>GLS AMG</td>\n",
       "      <td>M-CLASS</td>\n",
       "      <td>M-CLASS AMG</td>\n",
       "      <td>MAYBACH GLS</td>\n",
       "      <td>MAYBACH S-CLASS</td>\n",
       "      <td>METRIS</td>\n",
       "      <td>R-CLASS</td>\n",
       "      <td>R-CLASS LONG</td>\n",
       "      <td>S-CLASS</td>\n",
       "      <td>S-CLASS AMG</td>\n",
       "      <td>S-CLASS LONG</td>\n",
       "      <td>S-CLASS W108</td>\n",
       "      <td>SL-CLASS</td>\n",
       "      <td>SL-CLASS AMG</td>\n",
       "      <td>SLK-CLASS</td>\n",
       "      <td>SLK-CLASS AMG</td>\n",
       "      <td>SLR MCLAREN</td>\n",
       "      <td>SLS AMG</td>\n",
       "      <td>V-CLASS</td>\n",
       "      <td>V-CLASS L</td>\n",
       "      <td>V-CLASS MARCO</td>\n",
       "      <td>V-CLASS XL</td>\n",
       "      <td>VANEO</td>\n",
       "      <td>VIANO</td>\n",
       "      <td>VIANO EXTRA</td>\n",
       "      <td>VIANO EXTRALONG</td>\n",
       "      <td>VIANO LONG</td>\n",
       "      <td>VITO</td>\n",
       "      <td>VITO L1</td>\n",
       "      <td>VITO L2</td>\n",
       "      <td>VITO L3</td>\n",
       "      <td>VITO MARCO</td>\n",
       "      <td>W114280</td>\n",
       "      <td>W124200</td>\n",
       "      <td>W124220</td>\n",
       "      <td>W124230</td>\n",
       "      <td>W124300</td>\n",
       "      <td>W124400</td>\n",
       "      <td>W128</td>\n",
       "      <td>W136</td>\n",
       "      <td>W189</td>\n",
       "      <td>X-CLASS</td>\n",
       "      <td>NaN</td>\n",
       "      <td>NaN</td>\n",
       "      <td>NaN</td>\n",
       "      <td>NaN</td>\n",
       "      <td>NaN</td>\n",
       "      <td>NaN</td>\n",
       "      <td>NaN</td>\n",
       "      <td>NaN</td>\n",
       "      <td>NaN</td>\n",
       "      <td>NaN</td>\n",
       "      <td>NaN</td>\n",
       "      <td>NaN</td>\n",
       "      <td>NaN</td>\n",
       "      <td>NaN</td>\n",
       "      <td>NaN</td>\n",
       "      <td>NaN</td>\n",
       "      <td>NaN</td>\n",
       "      <td>NaN</td>\n",
       "      <td>NaN</td>\n",
       "      <td>NaN</td>\n",
       "      <td>NaN</td>\n",
       "      <td>NaN</td>\n",
       "      <td>NaN</td>\n",
       "      <td>NaN</td>\n",
       "      <td>NaN</td>\n",
       "      <td>NaN</td>\n",
       "      <td>NaN</td>\n",
       "      <td>NaN</td>\n",
       "      <td>NaN</td>\n",
       "      <td>NaN</td>\n",
       "    </tr>\n",
       "    <tr>\n",
       "      <th>MERCEDES_test</th>\n",
       "      <td>NaN</td>\n",
       "      <td>A-CLASS</td>\n",
       "      <td>A-CLASS AMG</td>\n",
       "      <td>NaN</td>\n",
       "      <td>AMG GT</td>\n",
       "      <td>B-CLASS</td>\n",
       "      <td>C-CLASS</td>\n",
       "      <td>C-CLASS AMG</td>\n",
       "      <td>CL-CLASS</td>\n",
       "      <td>CL-CLASS AMG</td>\n",
       "      <td>NaN</td>\n",
       "      <td>NaN</td>\n",
       "      <td>NaN</td>\n",
       "      <td>NaN</td>\n",
       "      <td>NaN</td>\n",
       "      <td>CLK-CLASS</td>\n",
       "      <td>NaN</td>\n",
       "      <td>NaN</td>\n",
       "      <td>E-CLASS</td>\n",
       "      <td>NaN</td>\n",
       "      <td>E-CLASS AMG</td>\n",
       "      <td>NaN</td>\n",
       "      <td>NaN</td>\n",
       "      <td>G-CLASS</td>\n",
       "      <td>NaN</td>\n",
       "      <td>G-CLASS AMG</td>\n",
       "      <td>GL-CLASS</td>\n",
       "      <td>GL-CLASS AMG</td>\n",
       "      <td>NaN</td>\n",
       "      <td>NaN</td>\n",
       "      <td>NaN</td>\n",
       "      <td>NaN</td>\n",
       "      <td>NaN</td>\n",
       "      <td>GLC COUPE</td>\n",
       "      <td>NaN</td>\n",
       "      <td>NaN</td>\n",
       "      <td>NaN</td>\n",
       "      <td>GLK-CLASS</td>\n",
       "      <td>NaN</td>\n",
       "      <td>NaN</td>\n",
       "      <td>M-CLASS</td>\n",
       "      <td>M-CLASS AMG</td>\n",
       "      <td>MAYBACH GLS</td>\n",
       "      <td>NaN</td>\n",
       "      <td>NaN</td>\n",
       "      <td>R-CLASS</td>\n",
       "      <td>NaN</td>\n",
       "      <td>S-CLASS</td>\n",
       "      <td>S-CLASS AMG</td>\n",
       "      <td>NaN</td>\n",
       "      <td>NaN</td>\n",
       "      <td>SL-CLASS</td>\n",
       "      <td>SL-CLASS AMG</td>\n",
       "      <td>SLK-CLASS</td>\n",
       "      <td>NaN</td>\n",
       "      <td>NaN</td>\n",
       "      <td>SLS AMG</td>\n",
       "      <td>V-CLASS</td>\n",
       "      <td>NaN</td>\n",
       "      <td>NaN</td>\n",
       "      <td>NaN</td>\n",
       "      <td>VANEO</td>\n",
       "      <td>VIANO</td>\n",
       "      <td>NaN</td>\n",
       "      <td>NaN</td>\n",
       "      <td>NaN</td>\n",
       "      <td>VITO</td>\n",
       "      <td>NaN</td>\n",
       "      <td>NaN</td>\n",
       "      <td>NaN</td>\n",
       "      <td>NaN</td>\n",
       "      <td>NaN</td>\n",
       "      <td>NaN</td>\n",
       "      <td>NaN</td>\n",
       "      <td>NaN</td>\n",
       "      <td>NaN</td>\n",
       "      <td>NaN</td>\n",
       "      <td>W128</td>\n",
       "      <td>W136</td>\n",
       "      <td>NaN</td>\n",
       "      <td>X-CLASS</td>\n",
       "      <td>190 SL</td>\n",
       "      <td>AMG GLC COUPE</td>\n",
       "      <td>CITAN</td>\n",
       "      <td>CLA-CLASS</td>\n",
       "      <td>CLA-CLASS AMG</td>\n",
       "      <td>CLC-CLASS</td>\n",
       "      <td>CLS-CLASS</td>\n",
       "      <td>CLS-CLASS AMG</td>\n",
       "      <td>GLA-CLASS</td>\n",
       "      <td>GLA-CLASS AMG</td>\n",
       "      <td>GLB-CLASS</td>\n",
       "      <td>GLC-CLASS</td>\n",
       "      <td>GLC-CLASS AMG</td>\n",
       "      <td>GLE-CLASS</td>\n",
       "      <td>GLE-CLASS AMG</td>\n",
       "      <td>GLE-CLASS COUPE</td>\n",
       "      <td>GLE-CLASS COUPE AMG</td>\n",
       "      <td>GLS-CLASS</td>\n",
       "      <td>GLS-CLASS AMG</td>\n",
       "      <td>S-CLASS MAYBACH</td>\n",
       "      <td>SIMPLEX</td>\n",
       "      <td>SLC-CLASS</td>\n",
       "      <td>SLR-CLASS</td>\n",
       "      <td>W111</td>\n",
       "      <td>W114</td>\n",
       "      <td>W123</td>\n",
       "      <td>W124</td>\n",
       "      <td>W186</td>\n",
       "      <td>W188</td>\n",
       "      <td>W201</td>\n",
       "    </tr>\n",
       "  </tbody>\n",
       "</table>\n",
       "</div>"
      ],
      "text/plain": [
       "               0        1            2             3       4        5    \\\n",
       "MERCEDES_df    190  A-CLASS  A-CLASS AMG  A-CLASS LONG  AMG GT  B-CLASS   \n",
       "MERCEDES_test  NaN  A-CLASS  A-CLASS AMG           NaN  AMG GT  B-CLASS   \n",
       "\n",
       "                   6            7         8             9    10       11   \\\n",
       "MERCEDES_df    C-CLASS  C-CLASS AMG  CL-CLASS  CL-CLASS AMG  CLA  CLA AMG   \n",
       "MERCEDES_test  C-CLASS  C-CLASS AMG  CL-CLASS  CL-CLASS AMG  NaN      NaN   \n",
       "\n",
       "                        12            13            14         15   16   \\\n",
       "MERCEDES_df    CLC-CLASS180  CLC-CLASS200  CLC-CLASS230  CLK-CLASS  CLS   \n",
       "MERCEDES_test           NaN           NaN           NaN  CLK-CLASS  NaN   \n",
       "\n",
       "                   17       18                   19           20   21   \\\n",
       "MERCEDES_df    CLS AMG  E-CLASS  E-CLASS ALL-TERRAIN  E-CLASS AMG  EQC   \n",
       "MERCEDES_test      NaN  E-CLASS                  NaN  E-CLASS AMG  NaN   \n",
       "\n",
       "                          22       23           24           25        26   \\\n",
       "MERCEDES_df    EQV EXTRA-LONG  G-CLASS  G-CLASS 4X4  G-CLASS AMG  GL-CLASS   \n",
       "MERCEDES_test             NaN  G-CLASS          NaN  G-CLASS AMG  GL-CLASS   \n",
       "\n",
       "                        27   28       29   30   31       32         33   34   \\\n",
       "MERCEDES_df    GL-CLASS AMG  GLA  GLA AMG  GLB  GLC  GLC AMG  GLC COUPE  GLE   \n",
       "MERCEDES_test  GL-CLASS AMG  NaN      NaN  NaN  NaN      NaN  GLC COUPE  NaN   \n",
       "\n",
       "                   35         36         37   38       39       40   \\\n",
       "MERCEDES_df    GLE AMG  GLE COUPE  GLK-CLASS  GLS  GLS AMG  M-CLASS   \n",
       "MERCEDES_test      NaN        NaN  GLK-CLASS  NaN      NaN  M-CLASS   \n",
       "\n",
       "                       41           42               43      44       45   \\\n",
       "MERCEDES_df    M-CLASS AMG  MAYBACH GLS  MAYBACH S-CLASS  METRIS  R-CLASS   \n",
       "MERCEDES_test  M-CLASS AMG  MAYBACH GLS              NaN     NaN  R-CLASS   \n",
       "\n",
       "                        46       47           48            49            50   \\\n",
       "MERCEDES_df    R-CLASS LONG  S-CLASS  S-CLASS AMG  S-CLASS LONG  S-CLASS W108   \n",
       "MERCEDES_test           NaN  S-CLASS  S-CLASS AMG           NaN           NaN   \n",
       "\n",
       "                    51            52         53             54           55   \\\n",
       "MERCEDES_df    SL-CLASS  SL-CLASS AMG  SLK-CLASS  SLK-CLASS AMG  SLR MCLAREN   \n",
       "MERCEDES_test  SL-CLASS  SL-CLASS AMG  SLK-CLASS            NaN          NaN   \n",
       "\n",
       "                   56       57         58             59          60     61   \\\n",
       "MERCEDES_df    SLS AMG  V-CLASS  V-CLASS L  V-CLASS MARCO  V-CLASS XL  VANEO   \n",
       "MERCEDES_test  SLS AMG  V-CLASS        NaN            NaN         NaN  VANEO   \n",
       "\n",
       "                 62           63               64          65    66       67   \\\n",
       "MERCEDES_df    VIANO  VIANO EXTRA  VIANO EXTRALONG  VIANO LONG  VITO  VITO L1   \n",
       "MERCEDES_test  VIANO          NaN              NaN         NaN  VITO      NaN   \n",
       "\n",
       "                   68       69          70       71       72       73   \\\n",
       "MERCEDES_df    VITO L2  VITO L3  VITO MARCO  W114280  W124200  W124220   \n",
       "MERCEDES_test      NaN      NaN         NaN      NaN      NaN      NaN   \n",
       "\n",
       "                   74       75       76    77    78    79       80      81   \\\n",
       "MERCEDES_df    W124230  W124300  W124400  W128  W136  W189  X-CLASS     NaN   \n",
       "MERCEDES_test      NaN      NaN      NaN  W128  W136   NaN  X-CLASS  190 SL   \n",
       "\n",
       "                         82     83         84             85         86   \\\n",
       "MERCEDES_df              NaN    NaN        NaN            NaN        NaN   \n",
       "MERCEDES_test  AMG GLC COUPE  CITAN  CLA-CLASS  CLA-CLASS AMG  CLC-CLASS   \n",
       "\n",
       "                     87             88         89             90         91   \\\n",
       "MERCEDES_df          NaN            NaN        NaN            NaN        NaN   \n",
       "MERCEDES_test  CLS-CLASS  CLS-CLASS AMG  GLA-CLASS  GLA-CLASS AMG  GLB-CLASS   \n",
       "\n",
       "                     92             93         94             95   \\\n",
       "MERCEDES_df          NaN            NaN        NaN            NaN   \n",
       "MERCEDES_test  GLC-CLASS  GLC-CLASS AMG  GLE-CLASS  GLE-CLASS AMG   \n",
       "\n",
       "                           96                   97         98             99   \\\n",
       "MERCEDES_df                NaN                  NaN        NaN            NaN   \n",
       "MERCEDES_test  GLE-CLASS COUPE  GLE-CLASS COUPE AMG  GLS-CLASS  GLS-CLASS AMG   \n",
       "\n",
       "                           100      101        102        103   104   105  \\\n",
       "MERCEDES_df                NaN      NaN        NaN        NaN   NaN   NaN   \n",
       "MERCEDES_test  S-CLASS MAYBACH  SIMPLEX  SLC-CLASS  SLR-CLASS  W111  W114   \n",
       "\n",
       "                106   107   108   109   110  \n",
       "MERCEDES_df     NaN   NaN   NaN   NaN   NaN  \n",
       "MERCEDES_test  W123  W124  W186  W188  W201  "
      ]
     },
     "execution_count": 89,
     "metadata": {},
     "output_type": "execute_result"
    }
   ],
   "source": [
    "df.model_name = df[['brand', 'model_name']].apply(\n",
    "    lambda x: models_formatting(x[1]) if x[0] == 'MERCEDES' else x[1], axis=1)\n",
    "models_comparison('MERCEDES', df, test)"
   ]
  },
  {
   "cell_type": "code",
   "execution_count": 90,
   "id": "c707bc27",
   "metadata": {
    "executionInfo": {
     "elapsed": 120,
     "status": "ok",
     "timestamp": 1627471006184,
     "user": {
      "displayName": "Сергей",
      "photoUrl": "",
      "userId": "16958243466904798794"
     },
     "user_tz": -180
    },
    "id": "c707bc27"
   },
   "outputs": [],
   "source": [
    "df.model_name = df[['brand', 'model_name']].model_name.str.replace('CLC-CLASS180','CLC-CLASS')\n",
    "df.model_name = df[['brand', 'model_name']].model_name.str.replace('CLC-CLASS200','CLC-CLASS')\n",
    "df.model_name = df[['brand', 'model_name']].model_name.str.replace('CLC-CLASS230','CLC-CLASS')\n",
    "df.model_name = df[['brand', 'model_name']].model_name.str.replace('S-CLASS W108','S-CLASS')\n",
    "df.model_name = df[['brand', 'model_name']].apply(\n",
    "    lambda x: 'CLA-CLASS' if x[0] == 'MERCEDES' and x[1]=='CLA' else x[1], axis=1)\n",
    "df.model_name = df[['brand', 'model_name']].model_name.str.replace('VITO L1','VITO L')\n",
    "df.model_name = df[['brand', 'model_name']].model_name.str.replace('VITO L2','VITO L')\n",
    "df.model_name = df[['brand', 'model_name']].model_name.str.replace('VITO L3','VITO L')\n",
    "df.model_name = df[['brand', 'model_name']].model_name.str.replace('W114280','W114')\n",
    "df.model_name = df[['brand', 'model_name']].model_name.str.replace('W124200','W124')\n",
    "df.model_name = df[['brand', 'model_name']].model_name.str.replace('W124220','W124')\n",
    "df.model_name = df[['brand', 'model_name']].model_name.str.replace('W124230','W124')\n",
    "df.model_name = df[['brand', 'model_name']].model_name.str.replace('W124300','W124')\n",
    "df.model_name = df[['brand', 'model_name']].model_name.str.replace('W124400','W124')\n",
    "df.model_name = df[['brand', 'model_name']].model_name.str.replace('CLA AMG','CLA-CLASS AMG')\n",
    "df.model_name = df[['brand', 'model_name']].apply(\n",
    "    lambda x: 'CLS-CLASS' if x[0] == 'MERCEDES' and x[1]=='CLS' else x[1], axis=1)\n",
    "df.model_name = df[['brand', 'model_name']].model_name.str.replace('CLS AMG','CLS-CLASS AMG')\n",
    "df.model_name = df[['brand', 'model_name']].model_name.str.replace('G-CLASS 4X4','G-CLASS')\n",
    "df.model_name = df[['brand', 'model_name']].apply(\n",
    "    lambda x: 'GLA-CLASS' if x[0] == 'MERCEDES' and x[1]=='GLA' else x[1], axis=1)\n",
    "df.model_name = df[['brand', 'model_name']].apply(\n",
    "    lambda x: 'GLA-CLASS AMG' if x[0] == 'MERCEDES' and x[1]=='GLA AMG' else x[1], axis=1)\n",
    "df.model_name = df[['brand', 'model_name']].apply(\n",
    "    lambda x: 'GLB-CLASS' if x[0] == 'MERCEDES' and x[1]=='GLB' else x[1], axis=1)\n",
    "df.model_name = df[['brand', 'model_name']].apply(\n",
    "    lambda x: 'GLC-CLASS' if x[0] == 'MERCEDES' and x[1]=='GLC' else x[1], axis=1)\n",
    "df.model_name = df[['brand', 'model_name']].apply(\n",
    "    lambda x: 'GLC-CLASS AMG' if x[0] == 'MERCEDES' and x[1]=='GLC AMG' else x[1], axis=1)\n",
    "df.model_name = df[['brand', 'model_name']].model_name.str.replace('GLC COUPE','GLC-CLASS COUPE')\n",
    "df.model_name = df[['brand', 'model_name']].apply(\n",
    "    lambda x: 'GLE-CLASS' if x[0] == 'MERCEDES' and x[1]=='GLE' else x[1], axis=1)\n",
    "df.model_name = df[['brand', 'model_name']].model_name.str.replace('GLE AMG','GLE-CLASS AMG')\n",
    "df.model_name = df[['brand', 'model_name']].model_name.str.replace('GLE COUPE','GLE-CLASS COUPE')\n",
    "df.model_name = df[['brand', 'model_name']].apply(\n",
    "    lambda x: 'GLS-CLASS' if x[0] == 'MERCEDES' and x[1]=='GLS' else x[1], axis=1)\n",
    "df.model_name = df[['brand', 'model_name']].model_name.str.replace('GLS AMG','GLS-CLASS AMG')\n",
    "df.model_name = df[['brand', 'model_name']].model_name.str.replace('VIANO EXTRALONG','VIANO LONG')\n",
    "df.model_name = df[['brand', 'model_name']].model_name.str.replace('VIANO EXTRA','VIANO LONG')\n",
    "test.model_name = test[['brand', 'model_name']].apply(\n",
    "    lambda x: 'SL-CLASS' if x[0] == 'MERCEDES' and x[1]=='190 SL' else x[1], axis=1)\n",
    "test.model_name = test[['brand', 'model_name']].model_name.str.replace('AMG GLC COUPE','GLC-CLASS COUPE')\n",
    "test.model_name = test[['brand', 'model_name']].model_name.str.replace('GLC COUPE','GLC-CLASS COUPE')\n",
    "test.model_name = test[['brand', 'model_name']].model_name.str.replace('GLE-CLASS COUPE AMG','GLE-CLASS COUPE')\n",
    "test.model_name = test[['brand', 'model_name']].model_name.str.replace('S-CLASS MAYBACH','MAYBACH S-CLASS')"
   ]
  },
  {
   "cell_type": "code",
   "execution_count": 91,
   "id": "c7d781da",
   "metadata": {
    "colab": {
     "base_uri": "https://localhost:8080/",
     "height": 199
    },
    "executionInfo": {
     "elapsed": 120,
     "status": "ok",
     "timestamp": 1627471006186,
     "user": {
      "displayName": "Сергей",
      "photoUrl": "",
      "userId": "16958243466904798794"
     },
     "user_tz": -180
    },
    "id": "c7d781da",
    "outputId": "9d9b7a0a-2ff9-48bd-d30b-6ba81e638bfe"
   },
   "outputs": [
    {
     "data": {
      "text/html": [
       "<div>\n",
       "<style scoped>\n",
       "    .dataframe tbody tr th:only-of-type {\n",
       "        vertical-align: middle;\n",
       "    }\n",
       "\n",
       "    .dataframe tbody tr th {\n",
       "        vertical-align: top;\n",
       "    }\n",
       "\n",
       "    .dataframe thead th {\n",
       "        text-align: right;\n",
       "    }\n",
       "</style>\n",
       "<table border=\"1\" class=\"dataframe\">\n",
       "  <thead>\n",
       "    <tr style=\"text-align: right;\">\n",
       "      <th></th>\n",
       "      <th>0</th>\n",
       "      <th>1</th>\n",
       "      <th>2</th>\n",
       "      <th>3</th>\n",
       "      <th>4</th>\n",
       "      <th>5</th>\n",
       "      <th>6</th>\n",
       "      <th>7</th>\n",
       "      <th>8</th>\n",
       "      <th>9</th>\n",
       "      <th>10</th>\n",
       "      <th>11</th>\n",
       "      <th>12</th>\n",
       "      <th>13</th>\n",
       "      <th>14</th>\n",
       "      <th>15</th>\n",
       "      <th>16</th>\n",
       "      <th>17</th>\n",
       "      <th>18</th>\n",
       "      <th>19</th>\n",
       "      <th>20</th>\n",
       "      <th>21</th>\n",
       "      <th>22</th>\n",
       "      <th>23</th>\n",
       "      <th>24</th>\n",
       "      <th>25</th>\n",
       "      <th>26</th>\n",
       "      <th>27</th>\n",
       "      <th>28</th>\n",
       "      <th>29</th>\n",
       "      <th>30</th>\n",
       "      <th>31</th>\n",
       "      <th>32</th>\n",
       "      <th>33</th>\n",
       "      <th>34</th>\n",
       "      <th>35</th>\n",
       "      <th>36</th>\n",
       "      <th>37</th>\n",
       "      <th>38</th>\n",
       "      <th>39</th>\n",
       "      <th>40</th>\n",
       "      <th>41</th>\n",
       "      <th>42</th>\n",
       "      <th>43</th>\n",
       "      <th>44</th>\n",
       "      <th>45</th>\n",
       "      <th>46</th>\n",
       "      <th>47</th>\n",
       "      <th>48</th>\n",
       "      <th>49</th>\n",
       "      <th>50</th>\n",
       "      <th>51</th>\n",
       "      <th>52</th>\n",
       "      <th>53</th>\n",
       "      <th>54</th>\n",
       "      <th>55</th>\n",
       "      <th>56</th>\n",
       "      <th>57</th>\n",
       "      <th>58</th>\n",
       "      <th>59</th>\n",
       "      <th>60</th>\n",
       "      <th>61</th>\n",
       "      <th>62</th>\n",
       "      <th>63</th>\n",
       "      <th>64</th>\n",
       "      <th>65</th>\n",
       "      <th>66</th>\n",
       "      <th>67</th>\n",
       "      <th>68</th>\n",
       "      <th>69</th>\n",
       "      <th>70</th>\n",
       "      <th>71</th>\n",
       "      <th>72</th>\n",
       "      <th>73</th>\n",
       "      <th>74</th>\n",
       "      <th>75</th>\n",
       "      <th>76</th>\n",
       "      <th>77</th>\n",
       "    </tr>\n",
       "  </thead>\n",
       "  <tbody>\n",
       "    <tr>\n",
       "      <th>MERCEDES_df</th>\n",
       "      <td>190</td>\n",
       "      <td>A-CLASS</td>\n",
       "      <td>A-CLASS AMG</td>\n",
       "      <td>A-CLASS LONG</td>\n",
       "      <td>AMG GT</td>\n",
       "      <td>B-CLASS</td>\n",
       "      <td>C-CLASS</td>\n",
       "      <td>C-CLASS AMG</td>\n",
       "      <td>CL-CLASS</td>\n",
       "      <td>CL-CLASS AMG</td>\n",
       "      <td>CLA-CLASS</td>\n",
       "      <td>CLA-CLASS AMG</td>\n",
       "      <td>CLC-CLASS</td>\n",
       "      <td>CLK-CLASS</td>\n",
       "      <td>CLS-CLASS</td>\n",
       "      <td>CLS-CLASS AMG</td>\n",
       "      <td>E-CLASS</td>\n",
       "      <td>E-CLASS ALL-TERRAIN</td>\n",
       "      <td>E-CLASS AMG</td>\n",
       "      <td>EQC</td>\n",
       "      <td>EQV EXTRA-LONG</td>\n",
       "      <td>G-CLASS</td>\n",
       "      <td>G-CLASS AMG</td>\n",
       "      <td>GL-CLASS</td>\n",
       "      <td>GL-CLASS AMG</td>\n",
       "      <td>GLA-CLASS</td>\n",
       "      <td>GLA-CLASS AMG</td>\n",
       "      <td>GLB-CLASS</td>\n",
       "      <td>GLC-CLASS</td>\n",
       "      <td>GLC-CLASS AMG</td>\n",
       "      <td>GLC-CLASS COUPE</td>\n",
       "      <td>GLE-CLASS</td>\n",
       "      <td>GLE-CLASS AMG</td>\n",
       "      <td>GLE-CLASS COUPE</td>\n",
       "      <td>GLK-CLASS</td>\n",
       "      <td>GLS-CLASS</td>\n",
       "      <td>GLS-CLASS AMG</td>\n",
       "      <td>M-CLASS</td>\n",
       "      <td>M-CLASS AMG</td>\n",
       "      <td>MAYBACH GLS</td>\n",
       "      <td>MAYBACH S-CLASS</td>\n",
       "      <td>METRIS</td>\n",
       "      <td>R-CLASS</td>\n",
       "      <td>R-CLASS LONG</td>\n",
       "      <td>S-CLASS</td>\n",
       "      <td>S-CLASS AMG</td>\n",
       "      <td>S-CLASS LONG</td>\n",
       "      <td>SL-CLASS</td>\n",
       "      <td>SL-CLASS AMG</td>\n",
       "      <td>SLK-CLASS</td>\n",
       "      <td>SLK-CLASS AMG</td>\n",
       "      <td>SLR MCLAREN</td>\n",
       "      <td>SLS AMG</td>\n",
       "      <td>V-CLASS</td>\n",
       "      <td>V-CLASS L</td>\n",
       "      <td>V-CLASS MARCO</td>\n",
       "      <td>V-CLASS XL</td>\n",
       "      <td>VANEO</td>\n",
       "      <td>VIANO</td>\n",
       "      <td>VIANO LONG</td>\n",
       "      <td>VITO</td>\n",
       "      <td>VITO L</td>\n",
       "      <td>VITO MARCO</td>\n",
       "      <td>W114</td>\n",
       "      <td>W124</td>\n",
       "      <td>W128</td>\n",
       "      <td>W136</td>\n",
       "      <td>W189</td>\n",
       "      <td>X-CLASS</td>\n",
       "      <td>NaN</td>\n",
       "      <td>NaN</td>\n",
       "      <td>NaN</td>\n",
       "      <td>NaN</td>\n",
       "      <td>NaN</td>\n",
       "      <td>NaN</td>\n",
       "      <td>NaN</td>\n",
       "      <td>NaN</td>\n",
       "      <td>NaN</td>\n",
       "    </tr>\n",
       "    <tr>\n",
       "      <th>MERCEDES_test</th>\n",
       "      <td>NaN</td>\n",
       "      <td>A-CLASS</td>\n",
       "      <td>A-CLASS AMG</td>\n",
       "      <td>NaN</td>\n",
       "      <td>AMG GT</td>\n",
       "      <td>B-CLASS</td>\n",
       "      <td>C-CLASS</td>\n",
       "      <td>C-CLASS AMG</td>\n",
       "      <td>CL-CLASS</td>\n",
       "      <td>CL-CLASS AMG</td>\n",
       "      <td>CLA-CLASS</td>\n",
       "      <td>CLA-CLASS AMG</td>\n",
       "      <td>CLC-CLASS</td>\n",
       "      <td>CLK-CLASS</td>\n",
       "      <td>CLS-CLASS</td>\n",
       "      <td>CLS-CLASS AMG</td>\n",
       "      <td>E-CLASS</td>\n",
       "      <td>NaN</td>\n",
       "      <td>E-CLASS AMG</td>\n",
       "      <td>NaN</td>\n",
       "      <td>NaN</td>\n",
       "      <td>G-CLASS</td>\n",
       "      <td>G-CLASS AMG</td>\n",
       "      <td>GL-CLASS</td>\n",
       "      <td>GL-CLASS AMG</td>\n",
       "      <td>GLA-CLASS</td>\n",
       "      <td>GLA-CLASS AMG</td>\n",
       "      <td>GLB-CLASS</td>\n",
       "      <td>GLC-CLASS</td>\n",
       "      <td>GLC-CLASS AMG</td>\n",
       "      <td>GLC-CLASS COUPE</td>\n",
       "      <td>GLE-CLASS</td>\n",
       "      <td>GLE-CLASS AMG</td>\n",
       "      <td>GLE-CLASS COUPE</td>\n",
       "      <td>GLK-CLASS</td>\n",
       "      <td>GLS-CLASS</td>\n",
       "      <td>GLS-CLASS AMG</td>\n",
       "      <td>M-CLASS</td>\n",
       "      <td>M-CLASS AMG</td>\n",
       "      <td>MAYBACH GLS</td>\n",
       "      <td>MAYBACH S-CLASS</td>\n",
       "      <td>NaN</td>\n",
       "      <td>R-CLASS</td>\n",
       "      <td>NaN</td>\n",
       "      <td>S-CLASS</td>\n",
       "      <td>S-CLASS AMG</td>\n",
       "      <td>NaN</td>\n",
       "      <td>SL-CLASS</td>\n",
       "      <td>SL-CLASS AMG</td>\n",
       "      <td>SLK-CLASS</td>\n",
       "      <td>NaN</td>\n",
       "      <td>NaN</td>\n",
       "      <td>SLS AMG</td>\n",
       "      <td>V-CLASS</td>\n",
       "      <td>NaN</td>\n",
       "      <td>NaN</td>\n",
       "      <td>NaN</td>\n",
       "      <td>VANEO</td>\n",
       "      <td>VIANO</td>\n",
       "      <td>NaN</td>\n",
       "      <td>VITO</td>\n",
       "      <td>NaN</td>\n",
       "      <td>NaN</td>\n",
       "      <td>W114</td>\n",
       "      <td>W124</td>\n",
       "      <td>W128</td>\n",
       "      <td>W136</td>\n",
       "      <td>NaN</td>\n",
       "      <td>X-CLASS</td>\n",
       "      <td>CITAN</td>\n",
       "      <td>SIMPLEX</td>\n",
       "      <td>SLC-CLASS</td>\n",
       "      <td>SLR-CLASS</td>\n",
       "      <td>W111</td>\n",
       "      <td>W123</td>\n",
       "      <td>W186</td>\n",
       "      <td>W188</td>\n",
       "      <td>W201</td>\n",
       "    </tr>\n",
       "  </tbody>\n",
       "</table>\n",
       "</div>"
      ],
      "text/plain": [
       "                0        1            2             3       4        5   \\\n",
       "MERCEDES_df    190  A-CLASS  A-CLASS AMG  A-CLASS LONG  AMG GT  B-CLASS   \n",
       "MERCEDES_test  NaN  A-CLASS  A-CLASS AMG           NaN  AMG GT  B-CLASS   \n",
       "\n",
       "                    6            7         8             9          10  \\\n",
       "MERCEDES_df    C-CLASS  C-CLASS AMG  CL-CLASS  CL-CLASS AMG  CLA-CLASS   \n",
       "MERCEDES_test  C-CLASS  C-CLASS AMG  CL-CLASS  CL-CLASS AMG  CLA-CLASS   \n",
       "\n",
       "                          11         12         13         14             15  \\\n",
       "MERCEDES_df    CLA-CLASS AMG  CLC-CLASS  CLK-CLASS  CLS-CLASS  CLS-CLASS AMG   \n",
       "MERCEDES_test  CLA-CLASS AMG  CLC-CLASS  CLK-CLASS  CLS-CLASS  CLS-CLASS AMG   \n",
       "\n",
       "                    16                   17           18   19              20  \\\n",
       "MERCEDES_df    E-CLASS  E-CLASS ALL-TERRAIN  E-CLASS AMG  EQC  EQV EXTRA-LONG   \n",
       "MERCEDES_test  E-CLASS                  NaN  E-CLASS AMG  NaN             NaN   \n",
       "\n",
       "                    21           22        23            24         25  \\\n",
       "MERCEDES_df    G-CLASS  G-CLASS AMG  GL-CLASS  GL-CLASS AMG  GLA-CLASS   \n",
       "MERCEDES_test  G-CLASS  G-CLASS AMG  GL-CLASS  GL-CLASS AMG  GLA-CLASS   \n",
       "\n",
       "                          26         27         28             29  \\\n",
       "MERCEDES_df    GLA-CLASS AMG  GLB-CLASS  GLC-CLASS  GLC-CLASS AMG   \n",
       "MERCEDES_test  GLA-CLASS AMG  GLB-CLASS  GLC-CLASS  GLC-CLASS AMG   \n",
       "\n",
       "                            30         31             32               33  \\\n",
       "MERCEDES_df    GLC-CLASS COUPE  GLE-CLASS  GLE-CLASS AMG  GLE-CLASS COUPE   \n",
       "MERCEDES_test  GLC-CLASS COUPE  GLE-CLASS  GLE-CLASS AMG  GLE-CLASS COUPE   \n",
       "\n",
       "                      34         35             36       37           38  \\\n",
       "MERCEDES_df    GLK-CLASS  GLS-CLASS  GLS-CLASS AMG  M-CLASS  M-CLASS AMG   \n",
       "MERCEDES_test  GLK-CLASS  GLS-CLASS  GLS-CLASS AMG  M-CLASS  M-CLASS AMG   \n",
       "\n",
       "                        39               40      41       42            43  \\\n",
       "MERCEDES_df    MAYBACH GLS  MAYBACH S-CLASS  METRIS  R-CLASS  R-CLASS LONG   \n",
       "MERCEDES_test  MAYBACH GLS  MAYBACH S-CLASS     NaN  R-CLASS           NaN   \n",
       "\n",
       "                    44           45            46        47            48  \\\n",
       "MERCEDES_df    S-CLASS  S-CLASS AMG  S-CLASS LONG  SL-CLASS  SL-CLASS AMG   \n",
       "MERCEDES_test  S-CLASS  S-CLASS AMG           NaN  SL-CLASS  SL-CLASS AMG   \n",
       "\n",
       "                      49             50           51       52       53  \\\n",
       "MERCEDES_df    SLK-CLASS  SLK-CLASS AMG  SLR MCLAREN  SLS AMG  V-CLASS   \n",
       "MERCEDES_test  SLK-CLASS            NaN          NaN  SLS AMG  V-CLASS   \n",
       "\n",
       "                      54             55          56     57     58          59  \\\n",
       "MERCEDES_df    V-CLASS L  V-CLASS MARCO  V-CLASS XL  VANEO  VIANO  VIANO LONG   \n",
       "MERCEDES_test        NaN            NaN         NaN  VANEO  VIANO         NaN   \n",
       "\n",
       "                 60      61          62    63    64    65    66    67  \\\n",
       "MERCEDES_df    VITO  VITO L  VITO MARCO  W114  W124  W128  W136  W189   \n",
       "MERCEDES_test  VITO     NaN         NaN  W114  W124  W128  W136   NaN   \n",
       "\n",
       "                    68     69       70         71         72    73    74  \\\n",
       "MERCEDES_df    X-CLASS    NaN      NaN        NaN        NaN   NaN   NaN   \n",
       "MERCEDES_test  X-CLASS  CITAN  SIMPLEX  SLC-CLASS  SLR-CLASS  W111  W123   \n",
       "\n",
       "                 75    76    77  \n",
       "MERCEDES_df     NaN   NaN   NaN  \n",
       "MERCEDES_test  W186  W188  W201  "
      ]
     },
     "execution_count": 91,
     "metadata": {},
     "output_type": "execute_result"
    }
   ],
   "source": [
    "models_comparison('MERCEDES', df, test)"
   ]
  },
  {
   "cell_type": "code",
   "execution_count": 92,
   "id": "1baaa1be",
   "metadata": {
    "executionInfo": {
     "elapsed": 116,
     "status": "ok",
     "timestamp": 1627471006188,
     "user": {
      "displayName": "Сергей",
      "photoUrl": "",
      "userId": "16958243466904798794"
     },
     "user_tz": -180
    },
    "id": "1baaa1be"
   },
   "outputs": [],
   "source": [
    "mismatch_mercedes = models_comparison('MERCEDES', df, test).T\n",
    "mismatch_mercedes = mismatch_mercedes[mismatch_mercedes.MERCEDES_df.isna()].MERCEDES_test.to_list()\n",
    "mismatch_model_withtest.extend(mismatch_mercedes)"
   ]
  },
  {
   "cell_type": "markdown",
   "id": "d8489838",
   "metadata": {
    "id": "d8489838"
   },
   "source": [
    "##### **MITSUBISHI**"
   ]
  },
  {
   "cell_type": "code",
   "execution_count": 93,
   "id": "68583f98",
   "metadata": {
    "colab": {
     "base_uri": "https://localhost:8080/",
     "height": 289
    },
    "executionInfo": {
     "elapsed": 116,
     "status": "ok",
     "timestamp": 1627471006189,
     "user": {
      "displayName": "Сергей",
      "photoUrl": "",
      "userId": "16958243466904798794"
     },
     "user_tz": -180
    },
    "id": "68583f98",
    "outputId": "8d035951-7198-4701-debe-27aeaeca371d"
   },
   "outputs": [
    {
     "data": {
      "text/plain": [
       "array(['3000 GT I VR-4', 'ASX I', 'ASX I Рестайлинг',\n",
       "       'ASX I Рестайлинг 2', 'Airtrek', 'Carisma I',\n",
       "       'Carisma I Рестайлинг', 'Chariot II', 'Chariot III Grandis',\n",
       "       'Colt III (C50)', ..., 'Space Gear I', 'Space Gear I Рестайлинг',\n",
       "       'Space Runner I', 'Space Runner II', 'Space Star I',\n",
       "       'Space Star I Рестайлинг', 'Space Wagon II', 'Space Wagon III',\n",
       "       'eK Wagon III', 'i-MiEV'], dtype='<U31')"
      ]
     },
     "metadata": {},
     "output_type": "display_data"
    },
    {
     "data": {
      "text/plain": [
       "array(['AIRTREK', 'ASPIRE', 'ASX', 'CARISMA', 'CHARIOT', 'COLT', 'DELICA',\n",
       "       'DELICA D 5', 'DELICA D2', 'DIAMANTE', 'DINGO', 'DION', 'ECLIPSE',\n",
       "       'ECLIPSE CROSS', 'EK WAGON', 'EMERAUDE', 'ENDEAVOR', 'FTO',\n",
       "       'GALANT', 'GRANDIS', 'I MIEV', 'L200', 'L300', 'L400', 'LANCER',\n",
       "       'LANCER EVOLUTION', 'LANCER RALLIART', 'LEGNUM', 'LIBERO',\n",
       "       'MINICA', 'MINICAB', 'MIRAGE', 'MONTERO', 'MONTERO SPORT',\n",
       "       'OUTLANDER', 'PAJERO', 'PAJERO IO', 'PAJERO MINI', 'PAJERO PININ',\n",
       "       'PAJERO SPORT', 'RVR', 'SIGMA', 'SPACE GEAR', 'SPACE RUNNER',\n",
       "       'SPACE STAR', 'SPACE WAGON'], dtype='<U16')"
      ]
     },
     "execution_count": 93,
     "metadata": {},
     "output_type": "execute_result"
    }
   ],
   "source": [
    "mitsubishi_models_df = sorted((df.groupby('brand').model_name.unique())['MITSUBISHI'])\n",
    "mitsubishi_models_test = sorted((test.groupby('brand').model_name.unique())['MITSUBISHI'])\n",
    "display(np.array(mitsubishi_models_df))\n",
    "np.array(mitsubishi_models_test)"
   ]
  },
  {
   "cell_type": "code",
   "execution_count": 94,
   "id": "d34f655b",
   "metadata": {
    "colab": {
     "base_uri": "https://localhost:8080/",
     "height": 165
    },
    "executionInfo": {
     "elapsed": 114,
     "status": "ok",
     "timestamp": 1627471006190,
     "user": {
      "displayName": "Сергей",
      "photoUrl": "",
      "userId": "16958243466904798794"
     },
     "user_tz": -180
    },
    "id": "d34f655b",
    "outputId": "edd00aa9-ece4-4f59-b793-24f927d30b51"
   },
   "outputs": [
    {
     "data": {
      "text/html": [
       "<div>\n",
       "<style scoped>\n",
       "    .dataframe tbody tr th:only-of-type {\n",
       "        vertical-align: middle;\n",
       "    }\n",
       "\n",
       "    .dataframe tbody tr th {\n",
       "        vertical-align: top;\n",
       "    }\n",
       "\n",
       "    .dataframe thead th {\n",
       "        text-align: right;\n",
       "    }\n",
       "</style>\n",
       "<table border=\"1\" class=\"dataframe\">\n",
       "  <thead>\n",
       "    <tr style=\"text-align: right;\">\n",
       "      <th></th>\n",
       "      <th>0</th>\n",
       "      <th>1</th>\n",
       "      <th>2</th>\n",
       "      <th>3</th>\n",
       "      <th>4</th>\n",
       "      <th>5</th>\n",
       "      <th>6</th>\n",
       "      <th>7</th>\n",
       "      <th>8</th>\n",
       "      <th>9</th>\n",
       "      <th>10</th>\n",
       "      <th>11</th>\n",
       "      <th>12</th>\n",
       "      <th>13</th>\n",
       "      <th>14</th>\n",
       "      <th>15</th>\n",
       "      <th>16</th>\n",
       "      <th>17</th>\n",
       "      <th>18</th>\n",
       "      <th>19</th>\n",
       "      <th>20</th>\n",
       "      <th>21</th>\n",
       "      <th>22</th>\n",
       "      <th>23</th>\n",
       "      <th>24</th>\n",
       "      <th>25</th>\n",
       "      <th>26</th>\n",
       "      <th>27</th>\n",
       "      <th>28</th>\n",
       "      <th>29</th>\n",
       "      <th>30</th>\n",
       "      <th>31</th>\n",
       "      <th>32</th>\n",
       "      <th>33</th>\n",
       "      <th>34</th>\n",
       "      <th>35</th>\n",
       "      <th>36</th>\n",
       "      <th>37</th>\n",
       "      <th>38</th>\n",
       "      <th>39</th>\n",
       "      <th>40</th>\n",
       "      <th>41</th>\n",
       "      <th>42</th>\n",
       "      <th>43</th>\n",
       "      <th>44</th>\n",
       "      <th>45</th>\n",
       "      <th>46</th>\n",
       "      <th>47</th>\n",
       "      <th>48</th>\n",
       "      <th>49</th>\n",
       "    </tr>\n",
       "  </thead>\n",
       "  <tbody>\n",
       "    <tr>\n",
       "      <th>MITSUBISHI_df</th>\n",
       "      <td>3000 GT</td>\n",
       "      <td>AIRTREK</td>\n",
       "      <td>ASX</td>\n",
       "      <td>CARISMA</td>\n",
       "      <td>CHARIOT</td>\n",
       "      <td>COLT</td>\n",
       "      <td>DELICA</td>\n",
       "      <td>DELICA D:5</td>\n",
       "      <td>DIAMANTE</td>\n",
       "      <td>DINGO</td>\n",
       "      <td>DION</td>\n",
       "      <td>ECLIPSE</td>\n",
       "      <td>ECLIPSE CROSS</td>\n",
       "      <td>EK WAGON</td>\n",
       "      <td>ENDEAVOR</td>\n",
       "      <td>GALANT</td>\n",
       "      <td>GRANDIS</td>\n",
       "      <td>I-MIEV</td>\n",
       "      <td>L200</td>\n",
       "      <td>L300</td>\n",
       "      <td>L400</td>\n",
       "      <td>LANCER</td>\n",
       "      <td>LANCER EVOLUTION</td>\n",
       "      <td>LANCER RALLIART</td>\n",
       "      <td>LEGNUM</td>\n",
       "      <td>LIBERO</td>\n",
       "      <td>MIRAGE</td>\n",
       "      <td>MIRAGE ASTI</td>\n",
       "      <td>MONTERO</td>\n",
       "      <td>MONTERO SPORT</td>\n",
       "      <td>OUTLANDER</td>\n",
       "      <td>PAJERO</td>\n",
       "      <td>PAJERO IO</td>\n",
       "      <td>PAJERO MINI</td>\n",
       "      <td>PAJERO PININ</td>\n",
       "      <td>PAJERO SPORT</td>\n",
       "      <td>RVR</td>\n",
       "      <td>SIGMA</td>\n",
       "      <td>SPACE GEAR</td>\n",
       "      <td>SPACE RUNNER</td>\n",
       "      <td>SPACE STAR</td>\n",
       "      <td>SPACE WAGON</td>\n",
       "      <td>NaN</td>\n",
       "      <td>NaN</td>\n",
       "      <td>NaN</td>\n",
       "      <td>NaN</td>\n",
       "      <td>NaN</td>\n",
       "      <td>NaN</td>\n",
       "      <td>NaN</td>\n",
       "      <td>NaN</td>\n",
       "    </tr>\n",
       "    <tr>\n",
       "      <th>MITSUBISHI_test</th>\n",
       "      <td>NaN</td>\n",
       "      <td>AIRTREK</td>\n",
       "      <td>ASX</td>\n",
       "      <td>CARISMA</td>\n",
       "      <td>CHARIOT</td>\n",
       "      <td>COLT</td>\n",
       "      <td>DELICA</td>\n",
       "      <td>NaN</td>\n",
       "      <td>DIAMANTE</td>\n",
       "      <td>DINGO</td>\n",
       "      <td>DION</td>\n",
       "      <td>ECLIPSE</td>\n",
       "      <td>ECLIPSE CROSS</td>\n",
       "      <td>EK WAGON</td>\n",
       "      <td>ENDEAVOR</td>\n",
       "      <td>GALANT</td>\n",
       "      <td>GRANDIS</td>\n",
       "      <td>NaN</td>\n",
       "      <td>L200</td>\n",
       "      <td>L300</td>\n",
       "      <td>L400</td>\n",
       "      <td>LANCER</td>\n",
       "      <td>LANCER EVOLUTION</td>\n",
       "      <td>LANCER RALLIART</td>\n",
       "      <td>LEGNUM</td>\n",
       "      <td>LIBERO</td>\n",
       "      <td>MIRAGE</td>\n",
       "      <td>NaN</td>\n",
       "      <td>MONTERO</td>\n",
       "      <td>MONTERO SPORT</td>\n",
       "      <td>OUTLANDER</td>\n",
       "      <td>PAJERO</td>\n",
       "      <td>PAJERO IO</td>\n",
       "      <td>PAJERO MINI</td>\n",
       "      <td>PAJERO PININ</td>\n",
       "      <td>PAJERO SPORT</td>\n",
       "      <td>RVR</td>\n",
       "      <td>SIGMA</td>\n",
       "      <td>SPACE GEAR</td>\n",
       "      <td>SPACE RUNNER</td>\n",
       "      <td>SPACE STAR</td>\n",
       "      <td>SPACE WAGON</td>\n",
       "      <td>ASPIRE</td>\n",
       "      <td>DELICA D 5</td>\n",
       "      <td>DELICA D2</td>\n",
       "      <td>EMERAUDE</td>\n",
       "      <td>FTO</td>\n",
       "      <td>I MIEV</td>\n",
       "      <td>MINICA</td>\n",
       "      <td>MINICAB</td>\n",
       "    </tr>\n",
       "  </tbody>\n",
       "</table>\n",
       "</div>"
      ],
      "text/plain": [
       "                      0        1    2        3        4     5       6   \\\n",
       "MITSUBISHI_df    3000 GT  AIRTREK  ASX  CARISMA  CHARIOT  COLT  DELICA   \n",
       "MITSUBISHI_test      NaN  AIRTREK  ASX  CARISMA  CHARIOT  COLT  DELICA   \n",
       "\n",
       "                         7         8      9     10       11             12  \\\n",
       "MITSUBISHI_df    DELICA D:5  DIAMANTE  DINGO  DION  ECLIPSE  ECLIPSE CROSS   \n",
       "MITSUBISHI_test         NaN  DIAMANTE  DINGO  DION  ECLIPSE  ECLIPSE CROSS   \n",
       "\n",
       "                       13        14      15       16      17    18    19  \\\n",
       "MITSUBISHI_df    EK WAGON  ENDEAVOR  GALANT  GRANDIS  I-MIEV  L200  L300   \n",
       "MITSUBISHI_test  EK WAGON  ENDEAVOR  GALANT  GRANDIS     NaN  L200  L300   \n",
       "\n",
       "                   20      21                22               23      24  \\\n",
       "MITSUBISHI_df    L400  LANCER  LANCER EVOLUTION  LANCER RALLIART  LEGNUM   \n",
       "MITSUBISHI_test  L400  LANCER  LANCER EVOLUTION  LANCER RALLIART  LEGNUM   \n",
       "\n",
       "                     25      26           27       28             29  \\\n",
       "MITSUBISHI_df    LIBERO  MIRAGE  MIRAGE ASTI  MONTERO  MONTERO SPORT   \n",
       "MITSUBISHI_test  LIBERO  MIRAGE          NaN  MONTERO  MONTERO SPORT   \n",
       "\n",
       "                        30      31         32           33            34  \\\n",
       "MITSUBISHI_df    OUTLANDER  PAJERO  PAJERO IO  PAJERO MINI  PAJERO PININ   \n",
       "MITSUBISHI_test  OUTLANDER  PAJERO  PAJERO IO  PAJERO MINI  PAJERO PININ   \n",
       "\n",
       "                           35   36     37          38            39  \\\n",
       "MITSUBISHI_df    PAJERO SPORT  RVR  SIGMA  SPACE GEAR  SPACE RUNNER   \n",
       "MITSUBISHI_test  PAJERO SPORT  RVR  SIGMA  SPACE GEAR  SPACE RUNNER   \n",
       "\n",
       "                         40           41      42          43         44  \\\n",
       "MITSUBISHI_df    SPACE STAR  SPACE WAGON     NaN         NaN        NaN   \n",
       "MITSUBISHI_test  SPACE STAR  SPACE WAGON  ASPIRE  DELICA D 5  DELICA D2   \n",
       "\n",
       "                       45   46      47      48       49  \n",
       "MITSUBISHI_df         NaN  NaN     NaN     NaN      NaN  \n",
       "MITSUBISHI_test  EMERAUDE  FTO  I MIEV  MINICA  MINICAB  "
      ]
     },
     "execution_count": 94,
     "metadata": {},
     "output_type": "execute_result"
    }
   ],
   "source": [
    "df.model_name = df[['brand', 'model_name']].apply(\n",
    "    lambda x: models_formatting(x[1]) if x[0] == 'MITSUBISHI' else x[1], axis=1)\n",
    "models_comparison('MITSUBISHI', df, test)"
   ]
  },
  {
   "cell_type": "code",
   "execution_count": 95,
   "id": "018ce4f0",
   "metadata": {
    "executionInfo": {
     "elapsed": 112,
     "status": "ok",
     "timestamp": 1627471006191,
     "user": {
      "displayName": "Сергей",
      "photoUrl": "",
      "userId": "16958243466904798794"
     },
     "user_tz": -180
    },
    "id": "018ce4f0"
   },
   "outputs": [],
   "source": [
    "df.model_name = df[['brand', 'model_name']].model_name.str.replace('DELICA D:5','DELICA D5')\n",
    "test.model_name = test[['brand', 'model_name']].model_name.str.replace('DELICA D 5','DELICA D5')\n",
    "test.model_name = test[['brand', 'model_name']].model_name.str.replace('I MIEV','I-MIEV')"
   ]
  },
  {
   "cell_type": "code",
   "execution_count": 96,
   "id": "b3382fc1",
   "metadata": {
    "colab": {
     "base_uri": "https://localhost:8080/",
     "height": 165
    },
    "executionInfo": {
     "elapsed": 112,
     "status": "ok",
     "timestamp": 1627471006192,
     "user": {
      "displayName": "Сергей",
      "photoUrl": "",
      "userId": "16958243466904798794"
     },
     "user_tz": -180
    },
    "id": "b3382fc1",
    "outputId": "b00ec50f-8979-4035-d4fd-b191d67ff1db"
   },
   "outputs": [
    {
     "data": {
      "text/html": [
       "<div>\n",
       "<style scoped>\n",
       "    .dataframe tbody tr th:only-of-type {\n",
       "        vertical-align: middle;\n",
       "    }\n",
       "\n",
       "    .dataframe tbody tr th {\n",
       "        vertical-align: top;\n",
       "    }\n",
       "\n",
       "    .dataframe thead th {\n",
       "        text-align: right;\n",
       "    }\n",
       "</style>\n",
       "<table border=\"1\" class=\"dataframe\">\n",
       "  <thead>\n",
       "    <tr style=\"text-align: right;\">\n",
       "      <th></th>\n",
       "      <th>0</th>\n",
       "      <th>1</th>\n",
       "      <th>2</th>\n",
       "      <th>3</th>\n",
       "      <th>4</th>\n",
       "      <th>5</th>\n",
       "      <th>6</th>\n",
       "      <th>7</th>\n",
       "      <th>8</th>\n",
       "      <th>9</th>\n",
       "      <th>10</th>\n",
       "      <th>11</th>\n",
       "      <th>12</th>\n",
       "      <th>13</th>\n",
       "      <th>14</th>\n",
       "      <th>15</th>\n",
       "      <th>16</th>\n",
       "      <th>17</th>\n",
       "      <th>18</th>\n",
       "      <th>19</th>\n",
       "      <th>20</th>\n",
       "      <th>21</th>\n",
       "      <th>22</th>\n",
       "      <th>23</th>\n",
       "      <th>24</th>\n",
       "      <th>25</th>\n",
       "      <th>26</th>\n",
       "      <th>27</th>\n",
       "      <th>28</th>\n",
       "      <th>29</th>\n",
       "      <th>30</th>\n",
       "      <th>31</th>\n",
       "      <th>32</th>\n",
       "      <th>33</th>\n",
       "      <th>34</th>\n",
       "      <th>35</th>\n",
       "      <th>36</th>\n",
       "      <th>37</th>\n",
       "      <th>38</th>\n",
       "      <th>39</th>\n",
       "      <th>40</th>\n",
       "      <th>41</th>\n",
       "      <th>42</th>\n",
       "      <th>43</th>\n",
       "      <th>44</th>\n",
       "      <th>45</th>\n",
       "      <th>46</th>\n",
       "      <th>47</th>\n",
       "    </tr>\n",
       "  </thead>\n",
       "  <tbody>\n",
       "    <tr>\n",
       "      <th>MITSUBISHI_df</th>\n",
       "      <td>3000 GT</td>\n",
       "      <td>AIRTREK</td>\n",
       "      <td>ASX</td>\n",
       "      <td>CARISMA</td>\n",
       "      <td>CHARIOT</td>\n",
       "      <td>COLT</td>\n",
       "      <td>DELICA</td>\n",
       "      <td>DELICA D5</td>\n",
       "      <td>DIAMANTE</td>\n",
       "      <td>DINGO</td>\n",
       "      <td>DION</td>\n",
       "      <td>ECLIPSE</td>\n",
       "      <td>ECLIPSE CROSS</td>\n",
       "      <td>EK WAGON</td>\n",
       "      <td>ENDEAVOR</td>\n",
       "      <td>GALANT</td>\n",
       "      <td>GRANDIS</td>\n",
       "      <td>I-MIEV</td>\n",
       "      <td>L200</td>\n",
       "      <td>L300</td>\n",
       "      <td>L400</td>\n",
       "      <td>LANCER</td>\n",
       "      <td>LANCER EVOLUTION</td>\n",
       "      <td>LANCER RALLIART</td>\n",
       "      <td>LEGNUM</td>\n",
       "      <td>LIBERO</td>\n",
       "      <td>MIRAGE</td>\n",
       "      <td>MIRAGE ASTI</td>\n",
       "      <td>MONTERO</td>\n",
       "      <td>MONTERO SPORT</td>\n",
       "      <td>OUTLANDER</td>\n",
       "      <td>PAJERO</td>\n",
       "      <td>PAJERO IO</td>\n",
       "      <td>PAJERO MINI</td>\n",
       "      <td>PAJERO PININ</td>\n",
       "      <td>PAJERO SPORT</td>\n",
       "      <td>RVR</td>\n",
       "      <td>SIGMA</td>\n",
       "      <td>SPACE GEAR</td>\n",
       "      <td>SPACE RUNNER</td>\n",
       "      <td>SPACE STAR</td>\n",
       "      <td>SPACE WAGON</td>\n",
       "      <td>NaN</td>\n",
       "      <td>NaN</td>\n",
       "      <td>NaN</td>\n",
       "      <td>NaN</td>\n",
       "      <td>NaN</td>\n",
       "      <td>NaN</td>\n",
       "    </tr>\n",
       "    <tr>\n",
       "      <th>MITSUBISHI_test</th>\n",
       "      <td>NaN</td>\n",
       "      <td>AIRTREK</td>\n",
       "      <td>ASX</td>\n",
       "      <td>CARISMA</td>\n",
       "      <td>CHARIOT</td>\n",
       "      <td>COLT</td>\n",
       "      <td>DELICA</td>\n",
       "      <td>DELICA D5</td>\n",
       "      <td>DIAMANTE</td>\n",
       "      <td>DINGO</td>\n",
       "      <td>DION</td>\n",
       "      <td>ECLIPSE</td>\n",
       "      <td>ECLIPSE CROSS</td>\n",
       "      <td>EK WAGON</td>\n",
       "      <td>ENDEAVOR</td>\n",
       "      <td>GALANT</td>\n",
       "      <td>GRANDIS</td>\n",
       "      <td>I-MIEV</td>\n",
       "      <td>L200</td>\n",
       "      <td>L300</td>\n",
       "      <td>L400</td>\n",
       "      <td>LANCER</td>\n",
       "      <td>LANCER EVOLUTION</td>\n",
       "      <td>LANCER RALLIART</td>\n",
       "      <td>LEGNUM</td>\n",
       "      <td>LIBERO</td>\n",
       "      <td>MIRAGE</td>\n",
       "      <td>NaN</td>\n",
       "      <td>MONTERO</td>\n",
       "      <td>MONTERO SPORT</td>\n",
       "      <td>OUTLANDER</td>\n",
       "      <td>PAJERO</td>\n",
       "      <td>PAJERO IO</td>\n",
       "      <td>PAJERO MINI</td>\n",
       "      <td>PAJERO PININ</td>\n",
       "      <td>PAJERO SPORT</td>\n",
       "      <td>RVR</td>\n",
       "      <td>SIGMA</td>\n",
       "      <td>SPACE GEAR</td>\n",
       "      <td>SPACE RUNNER</td>\n",
       "      <td>SPACE STAR</td>\n",
       "      <td>SPACE WAGON</td>\n",
       "      <td>ASPIRE</td>\n",
       "      <td>DELICA D2</td>\n",
       "      <td>EMERAUDE</td>\n",
       "      <td>FTO</td>\n",
       "      <td>MINICA</td>\n",
       "      <td>MINICAB</td>\n",
       "    </tr>\n",
       "  </tbody>\n",
       "</table>\n",
       "</div>"
      ],
      "text/plain": [
       "                      0        1    2        3        4     5       6   \\\n",
       "MITSUBISHI_df    3000 GT  AIRTREK  ASX  CARISMA  CHARIOT  COLT  DELICA   \n",
       "MITSUBISHI_test      NaN  AIRTREK  ASX  CARISMA  CHARIOT  COLT  DELICA   \n",
       "\n",
       "                        7         8      9     10       11             12  \\\n",
       "MITSUBISHI_df    DELICA D5  DIAMANTE  DINGO  DION  ECLIPSE  ECLIPSE CROSS   \n",
       "MITSUBISHI_test  DELICA D5  DIAMANTE  DINGO  DION  ECLIPSE  ECLIPSE CROSS   \n",
       "\n",
       "                       13        14      15       16      17    18    19  \\\n",
       "MITSUBISHI_df    EK WAGON  ENDEAVOR  GALANT  GRANDIS  I-MIEV  L200  L300   \n",
       "MITSUBISHI_test  EK WAGON  ENDEAVOR  GALANT  GRANDIS  I-MIEV  L200  L300   \n",
       "\n",
       "                   20      21                22               23      24  \\\n",
       "MITSUBISHI_df    L400  LANCER  LANCER EVOLUTION  LANCER RALLIART  LEGNUM   \n",
       "MITSUBISHI_test  L400  LANCER  LANCER EVOLUTION  LANCER RALLIART  LEGNUM   \n",
       "\n",
       "                     25      26           27       28             29  \\\n",
       "MITSUBISHI_df    LIBERO  MIRAGE  MIRAGE ASTI  MONTERO  MONTERO SPORT   \n",
       "MITSUBISHI_test  LIBERO  MIRAGE          NaN  MONTERO  MONTERO SPORT   \n",
       "\n",
       "                        30      31         32           33            34  \\\n",
       "MITSUBISHI_df    OUTLANDER  PAJERO  PAJERO IO  PAJERO MINI  PAJERO PININ   \n",
       "MITSUBISHI_test  OUTLANDER  PAJERO  PAJERO IO  PAJERO MINI  PAJERO PININ   \n",
       "\n",
       "                           35   36     37          38            39  \\\n",
       "MITSUBISHI_df    PAJERO SPORT  RVR  SIGMA  SPACE GEAR  SPACE RUNNER   \n",
       "MITSUBISHI_test  PAJERO SPORT  RVR  SIGMA  SPACE GEAR  SPACE RUNNER   \n",
       "\n",
       "                         40           41      42         43        44   45  \\\n",
       "MITSUBISHI_df    SPACE STAR  SPACE WAGON     NaN        NaN       NaN  NaN   \n",
       "MITSUBISHI_test  SPACE STAR  SPACE WAGON  ASPIRE  DELICA D2  EMERAUDE  FTO   \n",
       "\n",
       "                     46       47  \n",
       "MITSUBISHI_df       NaN      NaN  \n",
       "MITSUBISHI_test  MINICA  MINICAB  "
      ]
     },
     "execution_count": 96,
     "metadata": {},
     "output_type": "execute_result"
    }
   ],
   "source": [
    "models_comparison('MITSUBISHI', df, test)"
   ]
  },
  {
   "cell_type": "code",
   "execution_count": 97,
   "id": "e70615c8",
   "metadata": {
    "executionInfo": {
     "elapsed": 110,
     "status": "ok",
     "timestamp": 1627471006193,
     "user": {
      "displayName": "Сергей",
      "photoUrl": "",
      "userId": "16958243466904798794"
     },
     "user_tz": -180
    },
    "id": "e70615c8"
   },
   "outputs": [],
   "source": [
    "mismatch_mitsubishi = models_comparison('MITSUBISHI', df, test).T\n",
    "mismatch_mitsubishi = mismatch_mitsubishi[mismatch_mitsubishi.MITSUBISHI_df.isna(\n",
    ")].MITSUBISHI_test.to_list()\n",
    "mismatch_model_withtest.extend(mismatch_mitsubishi)"
   ]
  },
  {
   "cell_type": "markdown",
   "id": "cca7acef",
   "metadata": {
    "id": "cca7acef"
   },
   "source": [
    "##### **NISSAN**"
   ]
  },
  {
   "cell_type": "code",
   "execution_count": 98,
   "id": "6f9f77ce",
   "metadata": {
    "colab": {
     "base_uri": "https://localhost:8080/",
     "height": 612
    },
    "executionInfo": {
     "elapsed": 110,
     "status": "ok",
     "timestamp": 1627471006194,
     "user": {
      "displayName": "Сергей",
      "photoUrl": "",
      "userId": "16958243466904798794"
     },
     "user_tz": -180
    },
    "id": "6f9f77ce",
    "outputId": "10d6a2a4-9fe8-408e-8e75-15f3616f5d49"
   },
   "outputs": [
    {
     "data": {
      "text/plain": [
       "array(['Almera Classic I', 'Almera II (N16) Рестайлинг',\n",
       "       'Almera III (G15)', 'Avenir II (W11)', 'Cube III (Z12)', 'Expert',\n",
       "       'GT-R I', 'GT-R I Рестайлинг 1', 'GT-R I Рестайлинг 3', 'Juke I',\n",
       "       'Juke I Рестайлинг', 'Juke Nismo I', 'Leaf I (ZE0/AZE0)',\n",
       "       'Leaf II (ZE1)', 'Liberty', 'March III (K12)', 'Maxima IV (A32)',\n",
       "       'Maxima V (A33)', 'Micra III (K12)', 'Murano I (Z50)',\n",
       "       'Murano II (Z51)', 'Murano II (Z51) Рестайлинг',\n",
       "       'Murano II (Z51) Рестайлинг 2', 'Murano III (Z52)',\n",
       "       'Navara (Frontier) III (D40)',\n",
       "       'Navara (Frontier) III (D40) Рестайлинг', 'Note I',\n",
       "       'Note I Рестайлинг', 'Pathfinder III', 'Pathfinder III Рестайлинг',\n",
       "       'Pathfinder IV', 'Patrol III (K160, K260)',\n",
       "       'Patrol V (Y61) Рестайлинг', 'Patrol VI (Y62)',\n",
       "       'Patrol VI (Y62) Рестайлинг', 'Primera II (P11)',\n",
       "       'Primera II (P11) Рестайлинг', 'Primera III (P12)', 'Qashqai I',\n",
       "       'Qashqai I Рестайлинг', 'Qashqai II', 'Qashqai II Рестайлинг',\n",
       "       'Qashqai+2 I Рестайлинг', 'Sentra V (B15)', 'Sentra VII (B17)',\n",
       "       'Serena IV (C26)', 'Teana I Рестайлинг', 'Teana II',\n",
       "       'Teana II Рестайлинг', 'Teana III', 'Terrano III (D10)', 'Tiida I',\n",
       "       'Tiida I Рестайлинг', 'Tiida II', 'X-Trail I',\n",
       "       'X-Trail I Рестайлинг', 'X-Trail II', 'X-Trail II Рестайлинг',\n",
       "       'X-Trail III', 'X-Trail III Рестайлинг'], dtype='<U38')"
      ]
     },
     "metadata": {},
     "output_type": "display_data"
    },
    {
     "data": {
      "text/plain": [
       "array(['100NX', '200SX', '280ZX', '300ZX', '350Z', 'AD', 'ALMERA',\n",
       "       'ALMERA TINO', 'ALMERA-CLASSIC', 'ALTIMA', 'ARMADA', 'AVENIR',\n",
       "       'BASSARA', 'BLUEBIRD', 'BLUEBIRD SYLPHY', 'CARAVAN COACH',\n",
       "       'CEDRIC', 'CEFIRO', 'CLIPPER', 'CUBE', 'DATSUN', 'DAYZ',\n",
       "       'DAYZ ROOX', 'ELGRAND', 'EXPERT', 'FAIRLADY Z', 'FUGA', 'GLORIA',\n",
       "       'GT R', 'JUKE', 'JUKE NISMO', 'KIX', 'LAFESTA', 'LARGO', 'LAUREL',\n",
       "       'LEAF', 'LIBERTY', 'MARCH', 'MAXIMA', 'MICRA', 'MURANO', 'NAVARA',\n",
       "       'NOTE', 'NP300', 'NV200', 'OTTI', 'PATHFINDER', 'PATROL',\n",
       "       'PRAIRIE', 'PRESAGE', 'PRESEA', 'PRESIDENT', 'PRIMERA', 'PULSAR',\n",
       "       'QASHQAI', 'QASHQAI PLUS 2', 'QUEST', 'RNESSA', 'SAFARI', 'SENTRA',\n",
       "       'SERENA', 'SILVIA', 'SKYLINE', 'STAGEA', 'SUNNY', 'TEANA',\n",
       "       'TERRANO', 'TERRANO REGULUS', 'TIIDA', 'TINO', 'URVAN', 'VANETTE',\n",
       "       'WINGROAD', 'X TRAIL'], dtype='<U15')"
      ]
     },
     "execution_count": 98,
     "metadata": {},
     "output_type": "execute_result"
    }
   ],
   "source": [
    "nissan_models_df = sorted((df.groupby('brand').model_name.unique())['NISSAN'])\n",
    "nissan_models_test = sorted((test.groupby('brand').model_name.unique())['NISSAN'])\n",
    "display(np.array(nissan_models_df))\n",
    "np.array(nissan_models_test)"
   ]
  },
  {
   "cell_type": "code",
   "execution_count": 99,
   "id": "62dbdf50",
   "metadata": {
    "colab": {
     "base_uri": "https://localhost:8080/",
     "height": 165
    },
    "executionInfo": {
     "elapsed": 108,
     "status": "ok",
     "timestamp": 1627471006195,
     "user": {
      "displayName": "Сергей",
      "photoUrl": "",
      "userId": "16958243466904798794"
     },
     "user_tz": -180
    },
    "id": "62dbdf50",
    "outputId": "db31f8ee-9799-479c-c642-80ede30225f3"
   },
   "outputs": [
    {
     "data": {
      "text/html": [
       "<div>\n",
       "<style scoped>\n",
       "    .dataframe tbody tr th:only-of-type {\n",
       "        vertical-align: middle;\n",
       "    }\n",
       "\n",
       "    .dataframe tbody tr th {\n",
       "        vertical-align: top;\n",
       "    }\n",
       "\n",
       "    .dataframe thead th {\n",
       "        text-align: right;\n",
       "    }\n",
       "</style>\n",
       "<table border=\"1\" class=\"dataframe\">\n",
       "  <thead>\n",
       "    <tr style=\"text-align: right;\">\n",
       "      <th></th>\n",
       "      <th>0</th>\n",
       "      <th>1</th>\n",
       "      <th>2</th>\n",
       "      <th>3</th>\n",
       "      <th>4</th>\n",
       "      <th>5</th>\n",
       "      <th>6</th>\n",
       "      <th>7</th>\n",
       "      <th>8</th>\n",
       "      <th>9</th>\n",
       "      <th>10</th>\n",
       "      <th>11</th>\n",
       "      <th>12</th>\n",
       "      <th>13</th>\n",
       "      <th>14</th>\n",
       "      <th>15</th>\n",
       "      <th>16</th>\n",
       "      <th>17</th>\n",
       "      <th>18</th>\n",
       "      <th>19</th>\n",
       "      <th>20</th>\n",
       "      <th>21</th>\n",
       "      <th>22</th>\n",
       "      <th>23</th>\n",
       "      <th>24</th>\n",
       "      <th>25</th>\n",
       "      <th>26</th>\n",
       "      <th>27</th>\n",
       "      <th>28</th>\n",
       "      <th>29</th>\n",
       "      <th>30</th>\n",
       "      <th>31</th>\n",
       "      <th>32</th>\n",
       "      <th>33</th>\n",
       "      <th>34</th>\n",
       "      <th>35</th>\n",
       "      <th>36</th>\n",
       "      <th>37</th>\n",
       "      <th>38</th>\n",
       "      <th>39</th>\n",
       "      <th>40</th>\n",
       "      <th>41</th>\n",
       "      <th>42</th>\n",
       "      <th>43</th>\n",
       "      <th>44</th>\n",
       "      <th>45</th>\n",
       "      <th>46</th>\n",
       "      <th>47</th>\n",
       "      <th>48</th>\n",
       "      <th>49</th>\n",
       "      <th>50</th>\n",
       "      <th>51</th>\n",
       "      <th>52</th>\n",
       "      <th>53</th>\n",
       "      <th>54</th>\n",
       "      <th>55</th>\n",
       "      <th>56</th>\n",
       "      <th>57</th>\n",
       "      <th>58</th>\n",
       "      <th>59</th>\n",
       "      <th>60</th>\n",
       "      <th>61</th>\n",
       "      <th>62</th>\n",
       "      <th>63</th>\n",
       "      <th>64</th>\n",
       "      <th>65</th>\n",
       "      <th>66</th>\n",
       "      <th>67</th>\n",
       "      <th>68</th>\n",
       "      <th>69</th>\n",
       "      <th>70</th>\n",
       "      <th>71</th>\n",
       "      <th>72</th>\n",
       "      <th>73</th>\n",
       "      <th>74</th>\n",
       "      <th>75</th>\n",
       "      <th>76</th>\n",
       "      <th>77</th>\n",
       "    </tr>\n",
       "  </thead>\n",
       "  <tbody>\n",
       "    <tr>\n",
       "      <th>NISSAN_df</th>\n",
       "      <td>ALMERA</td>\n",
       "      <td>ALMERA CLASSIC</td>\n",
       "      <td>AVENIR</td>\n",
       "      <td>CUBE</td>\n",
       "      <td>EXPERT</td>\n",
       "      <td>GT-R</td>\n",
       "      <td>JUKE</td>\n",
       "      <td>JUKE NISMO</td>\n",
       "      <td>LEAF</td>\n",
       "      <td>LIBERTY</td>\n",
       "      <td>MARCH</td>\n",
       "      <td>MAXIMA</td>\n",
       "      <td>MICRA</td>\n",
       "      <td>MURANO</td>\n",
       "      <td>NAVARA</td>\n",
       "      <td>NOTE</td>\n",
       "      <td>PATHFINDER</td>\n",
       "      <td>PATROL</td>\n",
       "      <td>PRIMERA</td>\n",
       "      <td>QASHQAI</td>\n",
       "      <td>QASHQAI+2</td>\n",
       "      <td>SENTRA</td>\n",
       "      <td>SERENA</td>\n",
       "      <td>TEANA</td>\n",
       "      <td>TERRANO</td>\n",
       "      <td>TIIDA</td>\n",
       "      <td>X-TRAIL</td>\n",
       "      <td>NaN</td>\n",
       "      <td>NaN</td>\n",
       "      <td>NaN</td>\n",
       "      <td>NaN</td>\n",
       "      <td>NaN</td>\n",
       "      <td>NaN</td>\n",
       "      <td>NaN</td>\n",
       "      <td>NaN</td>\n",
       "      <td>NaN</td>\n",
       "      <td>NaN</td>\n",
       "      <td>NaN</td>\n",
       "      <td>NaN</td>\n",
       "      <td>NaN</td>\n",
       "      <td>NaN</td>\n",
       "      <td>NaN</td>\n",
       "      <td>NaN</td>\n",
       "      <td>NaN</td>\n",
       "      <td>NaN</td>\n",
       "      <td>NaN</td>\n",
       "      <td>NaN</td>\n",
       "      <td>NaN</td>\n",
       "      <td>NaN</td>\n",
       "      <td>NaN</td>\n",
       "      <td>NaN</td>\n",
       "      <td>NaN</td>\n",
       "      <td>NaN</td>\n",
       "      <td>NaN</td>\n",
       "      <td>NaN</td>\n",
       "      <td>NaN</td>\n",
       "      <td>NaN</td>\n",
       "      <td>NaN</td>\n",
       "      <td>NaN</td>\n",
       "      <td>NaN</td>\n",
       "      <td>NaN</td>\n",
       "      <td>NaN</td>\n",
       "      <td>NaN</td>\n",
       "      <td>NaN</td>\n",
       "      <td>NaN</td>\n",
       "      <td>NaN</td>\n",
       "      <td>NaN</td>\n",
       "      <td>NaN</td>\n",
       "      <td>NaN</td>\n",
       "      <td>NaN</td>\n",
       "      <td>NaN</td>\n",
       "      <td>NaN</td>\n",
       "      <td>NaN</td>\n",
       "      <td>NaN</td>\n",
       "      <td>NaN</td>\n",
       "      <td>NaN</td>\n",
       "      <td>NaN</td>\n",
       "      <td>NaN</td>\n",
       "    </tr>\n",
       "    <tr>\n",
       "      <th>NISSAN_test</th>\n",
       "      <td>ALMERA</td>\n",
       "      <td>NaN</td>\n",
       "      <td>AVENIR</td>\n",
       "      <td>CUBE</td>\n",
       "      <td>EXPERT</td>\n",
       "      <td>NaN</td>\n",
       "      <td>JUKE</td>\n",
       "      <td>JUKE NISMO</td>\n",
       "      <td>LEAF</td>\n",
       "      <td>LIBERTY</td>\n",
       "      <td>MARCH</td>\n",
       "      <td>MAXIMA</td>\n",
       "      <td>MICRA</td>\n",
       "      <td>MURANO</td>\n",
       "      <td>NAVARA</td>\n",
       "      <td>NOTE</td>\n",
       "      <td>PATHFINDER</td>\n",
       "      <td>PATROL</td>\n",
       "      <td>PRIMERA</td>\n",
       "      <td>QASHQAI</td>\n",
       "      <td>NaN</td>\n",
       "      <td>SENTRA</td>\n",
       "      <td>SERENA</td>\n",
       "      <td>TEANA</td>\n",
       "      <td>TERRANO</td>\n",
       "      <td>TIIDA</td>\n",
       "      <td>NaN</td>\n",
       "      <td>100NX</td>\n",
       "      <td>200SX</td>\n",
       "      <td>280ZX</td>\n",
       "      <td>300ZX</td>\n",
       "      <td>350Z</td>\n",
       "      <td>AD</td>\n",
       "      <td>ALMERA TINO</td>\n",
       "      <td>ALMERA-CLASSIC</td>\n",
       "      <td>ALTIMA</td>\n",
       "      <td>ARMADA</td>\n",
       "      <td>BASSARA</td>\n",
       "      <td>BLUEBIRD</td>\n",
       "      <td>BLUEBIRD SYLPHY</td>\n",
       "      <td>CARAVAN COACH</td>\n",
       "      <td>CEDRIC</td>\n",
       "      <td>CEFIRO</td>\n",
       "      <td>CLIPPER</td>\n",
       "      <td>DATSUN</td>\n",
       "      <td>DAYZ</td>\n",
       "      <td>DAYZ ROOX</td>\n",
       "      <td>ELGRAND</td>\n",
       "      <td>FAIRLADY Z</td>\n",
       "      <td>FUGA</td>\n",
       "      <td>GLORIA</td>\n",
       "      <td>GT R</td>\n",
       "      <td>KIX</td>\n",
       "      <td>LAFESTA</td>\n",
       "      <td>LARGO</td>\n",
       "      <td>LAUREL</td>\n",
       "      <td>NP300</td>\n",
       "      <td>NV200</td>\n",
       "      <td>OTTI</td>\n",
       "      <td>PRAIRIE</td>\n",
       "      <td>PRESAGE</td>\n",
       "      <td>PRESEA</td>\n",
       "      <td>PRESIDENT</td>\n",
       "      <td>PULSAR</td>\n",
       "      <td>QASHQAI PLUS 2</td>\n",
       "      <td>QUEST</td>\n",
       "      <td>RNESSA</td>\n",
       "      <td>SAFARI</td>\n",
       "      <td>SILVIA</td>\n",
       "      <td>SKYLINE</td>\n",
       "      <td>STAGEA</td>\n",
       "      <td>SUNNY</td>\n",
       "      <td>TERRANO REGULUS</td>\n",
       "      <td>TINO</td>\n",
       "      <td>URVAN</td>\n",
       "      <td>VANETTE</td>\n",
       "      <td>WINGROAD</td>\n",
       "      <td>X TRAIL</td>\n",
       "    </tr>\n",
       "  </tbody>\n",
       "</table>\n",
       "</div>"
      ],
      "text/plain": [
       "                 0               1       2     3       4     5     6   \\\n",
       "NISSAN_df    ALMERA  ALMERA CLASSIC  AVENIR  CUBE  EXPERT  GT-R  JUKE   \n",
       "NISSAN_test  ALMERA             NaN  AVENIR  CUBE  EXPERT   NaN  JUKE   \n",
       "\n",
       "                     7     8        9      10      11     12      13      14  \\\n",
       "NISSAN_df    JUKE NISMO  LEAF  LIBERTY  MARCH  MAXIMA  MICRA  MURANO  NAVARA   \n",
       "NISSAN_test  JUKE NISMO  LEAF  LIBERTY  MARCH  MAXIMA  MICRA  MURANO  NAVARA   \n",
       "\n",
       "               15          16      17       18       19         20      21  \\\n",
       "NISSAN_df    NOTE  PATHFINDER  PATROL  PRIMERA  QASHQAI  QASHQAI+2  SENTRA   \n",
       "NISSAN_test  NOTE  PATHFINDER  PATROL  PRIMERA  QASHQAI        NaN  SENTRA   \n",
       "\n",
       "                 22     23       24     25       26     27     28     29  \\\n",
       "NISSAN_df    SERENA  TEANA  TERRANO  TIIDA  X-TRAIL    NaN    NaN    NaN   \n",
       "NISSAN_test  SERENA  TEANA  TERRANO  TIIDA      NaN  100NX  200SX  280ZX   \n",
       "\n",
       "                30    31   32           33              34      35      36  \\\n",
       "NISSAN_df      NaN   NaN  NaN          NaN             NaN     NaN     NaN   \n",
       "NISSAN_test  300ZX  350Z   AD  ALMERA TINO  ALMERA-CLASSIC  ALTIMA  ARMADA   \n",
       "\n",
       "                  37        38               39             40      41  \\\n",
       "NISSAN_df        NaN       NaN              NaN            NaN     NaN   \n",
       "NISSAN_test  BASSARA  BLUEBIRD  BLUEBIRD SYLPHY  CARAVAN COACH  CEDRIC   \n",
       "\n",
       "                 42       43      44    45         46       47          48  \\\n",
       "NISSAN_df       NaN      NaN     NaN   NaN        NaN      NaN         NaN   \n",
       "NISSAN_test  CEFIRO  CLIPPER  DATSUN  DAYZ  DAYZ ROOX  ELGRAND  FAIRLADY Z   \n",
       "\n",
       "               49      50    51   52       53     54      55     56     57  \\\n",
       "NISSAN_df     NaN     NaN   NaN  NaN      NaN    NaN     NaN    NaN    NaN   \n",
       "NISSAN_test  FUGA  GLORIA  GT R  KIX  LAFESTA  LARGO  LAUREL  NP300  NV200   \n",
       "\n",
       "               58       59       60      61         62      63  \\\n",
       "NISSAN_df     NaN      NaN      NaN     NaN        NaN     NaN   \n",
       "NISSAN_test  OTTI  PRAIRIE  PRESAGE  PRESEA  PRESIDENT  PULSAR   \n",
       "\n",
       "                         64     65      66      67      68       69      70  \\\n",
       "NISSAN_df               NaN    NaN     NaN     NaN     NaN      NaN     NaN   \n",
       "NISSAN_test  QASHQAI PLUS 2  QUEST  RNESSA  SAFARI  SILVIA  SKYLINE  STAGEA   \n",
       "\n",
       "                71               72    73     74       75        76       77  \n",
       "NISSAN_df      NaN              NaN   NaN    NaN      NaN       NaN      NaN  \n",
       "NISSAN_test  SUNNY  TERRANO REGULUS  TINO  URVAN  VANETTE  WINGROAD  X TRAIL  "
      ]
     },
     "execution_count": 99,
     "metadata": {},
     "output_type": "execute_result"
    }
   ],
   "source": [
    "df.model_name = df[['brand', 'model_name']].apply(\n",
    "    lambda x: models_formatting(x[1]) if x[0] == 'NISSAN' else x[1], axis=1)\n",
    "models_comparison('NISSAN', df, test)"
   ]
  },
  {
   "cell_type": "code",
   "execution_count": 100,
   "id": "956b48c3",
   "metadata": {
    "executionInfo": {
     "elapsed": 108,
     "status": "ok",
     "timestamp": 1627471006196,
     "user": {
      "displayName": "Сергей",
      "photoUrl": "",
      "userId": "16958243466904798794"
     },
     "user_tz": -180
    },
    "id": "956b48c3"
   },
   "outputs": [],
   "source": [
    "test.model_name = test[['brand', 'model_name']].model_name.str.replace('QASHQAI PLUS 2','QASHQAI+2')\n",
    "test.model_name = test[['brand', 'model_name']].model_name.str.replace('X TRAIL','X-TRAIL')\n",
    "test.model_name = test[['brand', 'model_name']].model_name.str.replace('ALMERA-CLASSIC','ALMERA CLASSIC')\n",
    "test.model_name = test[['brand', 'model_name']].model_name.str.replace('GT R','GT R')\n",
    "test.model_name = test[['brand', 'model_name']].apply(\n",
    "    lambda x: 'GT-R' if x[0] == 'NISSAN' and x[1]=='GT R' else x[1], axis=1)"
   ]
  },
  {
   "cell_type": "code",
   "execution_count": 101,
   "id": "df6dc693",
   "metadata": {
    "colab": {
     "base_uri": "https://localhost:8080/",
     "height": 165
    },
    "executionInfo": {
     "elapsed": 1045,
     "status": "ok",
     "timestamp": 1627471007134,
     "user": {
      "displayName": "Сергей",
      "photoUrl": "",
      "userId": "16958243466904798794"
     },
     "user_tz": -180
    },
    "id": "df6dc693",
    "outputId": "bc5a8aaf-01fc-44a8-d3fb-3934c9de5fd7"
   },
   "outputs": [
    {
     "data": {
      "text/html": [
       "<div>\n",
       "<style scoped>\n",
       "    .dataframe tbody tr th:only-of-type {\n",
       "        vertical-align: middle;\n",
       "    }\n",
       "\n",
       "    .dataframe tbody tr th {\n",
       "        vertical-align: top;\n",
       "    }\n",
       "\n",
       "    .dataframe thead th {\n",
       "        text-align: right;\n",
       "    }\n",
       "</style>\n",
       "<table border=\"1\" class=\"dataframe\">\n",
       "  <thead>\n",
       "    <tr style=\"text-align: right;\">\n",
       "      <th></th>\n",
       "      <th>0</th>\n",
       "      <th>1</th>\n",
       "      <th>2</th>\n",
       "      <th>3</th>\n",
       "      <th>4</th>\n",
       "      <th>5</th>\n",
       "      <th>6</th>\n",
       "      <th>7</th>\n",
       "      <th>8</th>\n",
       "      <th>9</th>\n",
       "      <th>10</th>\n",
       "      <th>11</th>\n",
       "      <th>12</th>\n",
       "      <th>13</th>\n",
       "      <th>14</th>\n",
       "      <th>15</th>\n",
       "      <th>16</th>\n",
       "      <th>17</th>\n",
       "      <th>18</th>\n",
       "      <th>19</th>\n",
       "      <th>20</th>\n",
       "      <th>21</th>\n",
       "      <th>22</th>\n",
       "      <th>23</th>\n",
       "      <th>24</th>\n",
       "      <th>25</th>\n",
       "      <th>26</th>\n",
       "      <th>27</th>\n",
       "      <th>28</th>\n",
       "      <th>29</th>\n",
       "      <th>30</th>\n",
       "      <th>31</th>\n",
       "      <th>32</th>\n",
       "      <th>33</th>\n",
       "      <th>34</th>\n",
       "      <th>35</th>\n",
       "      <th>36</th>\n",
       "      <th>37</th>\n",
       "      <th>38</th>\n",
       "      <th>39</th>\n",
       "      <th>40</th>\n",
       "      <th>41</th>\n",
       "      <th>42</th>\n",
       "      <th>43</th>\n",
       "      <th>44</th>\n",
       "      <th>45</th>\n",
       "      <th>46</th>\n",
       "      <th>47</th>\n",
       "      <th>48</th>\n",
       "      <th>49</th>\n",
       "      <th>50</th>\n",
       "      <th>51</th>\n",
       "      <th>52</th>\n",
       "      <th>53</th>\n",
       "      <th>54</th>\n",
       "      <th>55</th>\n",
       "      <th>56</th>\n",
       "      <th>57</th>\n",
       "      <th>58</th>\n",
       "      <th>59</th>\n",
       "      <th>60</th>\n",
       "      <th>61</th>\n",
       "      <th>62</th>\n",
       "      <th>63</th>\n",
       "      <th>64</th>\n",
       "      <th>65</th>\n",
       "      <th>66</th>\n",
       "      <th>67</th>\n",
       "      <th>68</th>\n",
       "      <th>69</th>\n",
       "      <th>70</th>\n",
       "      <th>71</th>\n",
       "      <th>72</th>\n",
       "      <th>73</th>\n",
       "    </tr>\n",
       "  </thead>\n",
       "  <tbody>\n",
       "    <tr>\n",
       "      <th>NISSAN_df</th>\n",
       "      <td>ALMERA</td>\n",
       "      <td>ALMERA CLASSIC</td>\n",
       "      <td>AVENIR</td>\n",
       "      <td>CUBE</td>\n",
       "      <td>EXPERT</td>\n",
       "      <td>GT-R</td>\n",
       "      <td>JUKE</td>\n",
       "      <td>JUKE NISMO</td>\n",
       "      <td>LEAF</td>\n",
       "      <td>LIBERTY</td>\n",
       "      <td>MARCH</td>\n",
       "      <td>MAXIMA</td>\n",
       "      <td>MICRA</td>\n",
       "      <td>MURANO</td>\n",
       "      <td>NAVARA</td>\n",
       "      <td>NOTE</td>\n",
       "      <td>PATHFINDER</td>\n",
       "      <td>PATROL</td>\n",
       "      <td>PRIMERA</td>\n",
       "      <td>QASHQAI</td>\n",
       "      <td>QASHQAI+2</td>\n",
       "      <td>SENTRA</td>\n",
       "      <td>SERENA</td>\n",
       "      <td>TEANA</td>\n",
       "      <td>TERRANO</td>\n",
       "      <td>TIIDA</td>\n",
       "      <td>X-TRAIL</td>\n",
       "      <td>NaN</td>\n",
       "      <td>NaN</td>\n",
       "      <td>NaN</td>\n",
       "      <td>NaN</td>\n",
       "      <td>NaN</td>\n",
       "      <td>NaN</td>\n",
       "      <td>NaN</td>\n",
       "      <td>NaN</td>\n",
       "      <td>NaN</td>\n",
       "      <td>NaN</td>\n",
       "      <td>NaN</td>\n",
       "      <td>NaN</td>\n",
       "      <td>NaN</td>\n",
       "      <td>NaN</td>\n",
       "      <td>NaN</td>\n",
       "      <td>NaN</td>\n",
       "      <td>NaN</td>\n",
       "      <td>NaN</td>\n",
       "      <td>NaN</td>\n",
       "      <td>NaN</td>\n",
       "      <td>NaN</td>\n",
       "      <td>NaN</td>\n",
       "      <td>NaN</td>\n",
       "      <td>NaN</td>\n",
       "      <td>NaN</td>\n",
       "      <td>NaN</td>\n",
       "      <td>NaN</td>\n",
       "      <td>NaN</td>\n",
       "      <td>NaN</td>\n",
       "      <td>NaN</td>\n",
       "      <td>NaN</td>\n",
       "      <td>NaN</td>\n",
       "      <td>NaN</td>\n",
       "      <td>NaN</td>\n",
       "      <td>NaN</td>\n",
       "      <td>NaN</td>\n",
       "      <td>NaN</td>\n",
       "      <td>NaN</td>\n",
       "      <td>NaN</td>\n",
       "      <td>NaN</td>\n",
       "      <td>NaN</td>\n",
       "      <td>NaN</td>\n",
       "      <td>NaN</td>\n",
       "      <td>NaN</td>\n",
       "      <td>NaN</td>\n",
       "      <td>NaN</td>\n",
       "      <td>NaN</td>\n",
       "    </tr>\n",
       "    <tr>\n",
       "      <th>NISSAN_test</th>\n",
       "      <td>ALMERA</td>\n",
       "      <td>ALMERA CLASSIC</td>\n",
       "      <td>AVENIR</td>\n",
       "      <td>CUBE</td>\n",
       "      <td>EXPERT</td>\n",
       "      <td>GT-R</td>\n",
       "      <td>JUKE</td>\n",
       "      <td>JUKE NISMO</td>\n",
       "      <td>LEAF</td>\n",
       "      <td>LIBERTY</td>\n",
       "      <td>MARCH</td>\n",
       "      <td>MAXIMA</td>\n",
       "      <td>MICRA</td>\n",
       "      <td>MURANO</td>\n",
       "      <td>NAVARA</td>\n",
       "      <td>NOTE</td>\n",
       "      <td>PATHFINDER</td>\n",
       "      <td>PATROL</td>\n",
       "      <td>PRIMERA</td>\n",
       "      <td>QASHQAI</td>\n",
       "      <td>QASHQAI+2</td>\n",
       "      <td>SENTRA</td>\n",
       "      <td>SERENA</td>\n",
       "      <td>TEANA</td>\n",
       "      <td>TERRANO</td>\n",
       "      <td>TIIDA</td>\n",
       "      <td>X-TRAIL</td>\n",
       "      <td>100NX</td>\n",
       "      <td>200SX</td>\n",
       "      <td>280ZX</td>\n",
       "      <td>300ZX</td>\n",
       "      <td>350Z</td>\n",
       "      <td>AD</td>\n",
       "      <td>ALMERA TINO</td>\n",
       "      <td>ALTIMA</td>\n",
       "      <td>ARMADA</td>\n",
       "      <td>BASSARA</td>\n",
       "      <td>BLUEBIRD</td>\n",
       "      <td>BLUEBIRD SYLPHY</td>\n",
       "      <td>CARAVAN COACH</td>\n",
       "      <td>CEDRIC</td>\n",
       "      <td>CEFIRO</td>\n",
       "      <td>CLIPPER</td>\n",
       "      <td>DATSUN</td>\n",
       "      <td>DAYZ</td>\n",
       "      <td>DAYZ ROOX</td>\n",
       "      <td>ELGRAND</td>\n",
       "      <td>FAIRLADY Z</td>\n",
       "      <td>FUGA</td>\n",
       "      <td>GLORIA</td>\n",
       "      <td>KIX</td>\n",
       "      <td>LAFESTA</td>\n",
       "      <td>LARGO</td>\n",
       "      <td>LAUREL</td>\n",
       "      <td>NP300</td>\n",
       "      <td>NV200</td>\n",
       "      <td>OTTI</td>\n",
       "      <td>PRAIRIE</td>\n",
       "      <td>PRESAGE</td>\n",
       "      <td>PRESEA</td>\n",
       "      <td>PRESIDENT</td>\n",
       "      <td>PULSAR</td>\n",
       "      <td>QUEST</td>\n",
       "      <td>RNESSA</td>\n",
       "      <td>SAFARI</td>\n",
       "      <td>SILVIA</td>\n",
       "      <td>SKYLINE</td>\n",
       "      <td>STAGEA</td>\n",
       "      <td>SUNNY</td>\n",
       "      <td>TERRANO REGULUS</td>\n",
       "      <td>TINO</td>\n",
       "      <td>URVAN</td>\n",
       "      <td>VANETTE</td>\n",
       "      <td>WINGROAD</td>\n",
       "    </tr>\n",
       "  </tbody>\n",
       "</table>\n",
       "</div>"
      ],
      "text/plain": [
       "                 0               1       2     3       4     5     6   \\\n",
       "NISSAN_df    ALMERA  ALMERA CLASSIC  AVENIR  CUBE  EXPERT  GT-R  JUKE   \n",
       "NISSAN_test  ALMERA  ALMERA CLASSIC  AVENIR  CUBE  EXPERT  GT-R  JUKE   \n",
       "\n",
       "                     7     8        9      10      11     12      13      14  \\\n",
       "NISSAN_df    JUKE NISMO  LEAF  LIBERTY  MARCH  MAXIMA  MICRA  MURANO  NAVARA   \n",
       "NISSAN_test  JUKE NISMO  LEAF  LIBERTY  MARCH  MAXIMA  MICRA  MURANO  NAVARA   \n",
       "\n",
       "               15          16      17       18       19         20      21  \\\n",
       "NISSAN_df    NOTE  PATHFINDER  PATROL  PRIMERA  QASHQAI  QASHQAI+2  SENTRA   \n",
       "NISSAN_test  NOTE  PATHFINDER  PATROL  PRIMERA  QASHQAI  QASHQAI+2  SENTRA   \n",
       "\n",
       "                 22     23       24     25       26     27     28     29  \\\n",
       "NISSAN_df    SERENA  TEANA  TERRANO  TIIDA  X-TRAIL    NaN    NaN    NaN   \n",
       "NISSAN_test  SERENA  TEANA  TERRANO  TIIDA  X-TRAIL  100NX  200SX  280ZX   \n",
       "\n",
       "                30    31   32           33      34      35       36        37  \\\n",
       "NISSAN_df      NaN   NaN  NaN          NaN     NaN     NaN      NaN       NaN   \n",
       "NISSAN_test  300ZX  350Z   AD  ALMERA TINO  ALTIMA  ARMADA  BASSARA  BLUEBIRD   \n",
       "\n",
       "                          38             39      40      41       42      43  \\\n",
       "NISSAN_df                NaN            NaN     NaN     NaN      NaN     NaN   \n",
       "NISSAN_test  BLUEBIRD SYLPHY  CARAVAN COACH  CEDRIC  CEFIRO  CLIPPER  DATSUN   \n",
       "\n",
       "               44         45       46          47    48      49   50       51  \\\n",
       "NISSAN_df     NaN        NaN      NaN         NaN   NaN     NaN  NaN      NaN   \n",
       "NISSAN_test  DAYZ  DAYZ ROOX  ELGRAND  FAIRLADY Z  FUGA  GLORIA  KIX  LAFESTA   \n",
       "\n",
       "                52      53     54     55    56       57       58      59  \\\n",
       "NISSAN_df      NaN     NaN    NaN    NaN   NaN      NaN      NaN     NaN   \n",
       "NISSAN_test  LARGO  LAUREL  NP300  NV200  OTTI  PRAIRIE  PRESAGE  PRESEA   \n",
       "\n",
       "                    60      61     62      63      64      65       66  \\\n",
       "NISSAN_df          NaN     NaN    NaN     NaN     NaN     NaN      NaN   \n",
       "NISSAN_test  PRESIDENT  PULSAR  QUEST  RNESSA  SAFARI  SILVIA  SKYLINE   \n",
       "\n",
       "                 67     68               69    70     71       72        73  \n",
       "NISSAN_df       NaN    NaN              NaN   NaN    NaN      NaN       NaN  \n",
       "NISSAN_test  STAGEA  SUNNY  TERRANO REGULUS  TINO  URVAN  VANETTE  WINGROAD  "
      ]
     },
     "execution_count": 101,
     "metadata": {},
     "output_type": "execute_result"
    }
   ],
   "source": [
    "models_comparison('NISSAN', df, test)"
   ]
  },
  {
   "cell_type": "code",
   "execution_count": 102,
   "id": "25a61774",
   "metadata": {
    "executionInfo": {
     "elapsed": 166,
     "status": "ok",
     "timestamp": 1627471007135,
     "user": {
      "displayName": "Сергей",
      "photoUrl": "",
      "userId": "16958243466904798794"
     },
     "user_tz": -180
    },
    "id": "25a61774"
   },
   "outputs": [],
   "source": [
    "mismatch_nissan = models_comparison('NISSAN', df, test).T\n",
    "mismatch_nissan = mismatch_nissan[mismatch_nissan.NISSAN_df.isna()].NISSAN_test.to_list()\n",
    "mismatch_model_withtest.extend(mismatch_nissan)"
   ]
  },
  {
   "cell_type": "markdown",
   "id": "1ed46e2d",
   "metadata": {
    "id": "1ed46e2d"
   },
   "source": [
    "##### **SKODA**"
   ]
  },
  {
   "cell_type": "code",
   "execution_count": 103,
   "id": "41275129",
   "metadata": {
    "colab": {
     "base_uri": "https://localhost:8080/",
     "height": 340
    },
    "executionInfo": {
     "elapsed": 167,
     "status": "ok",
     "timestamp": 1627471007137,
     "user": {
      "displayName": "Сергей",
      "photoUrl": "",
      "userId": "16958243466904798794"
     },
     "user_tz": -180
    },
    "id": "41275129",
    "outputId": "e30de287-5693-44ea-eea8-e496aad5677f"
   },
   "outputs": [
    {
     "data": {
      "text/plain": [
       "array(['Fabia I', 'Fabia I Рестайлинг', 'Fabia II', 'Fabia II Рестайлинг',\n",
       "       'Fabia III', 'Fabia RS II', 'Favorit', 'Felicia I',\n",
       "       'Felicia I Рестайлинг', 'Karoq I', 'Kodiaq I', 'Octavia I (A4)',\n",
       "       'Octavia I (A4) Рестайлинг', 'Octavia II (A5)',\n",
       "       'Octavia II (A5) Рестайлинг', 'Octavia II (A5) Рестайлинг DSG7',\n",
       "       'Octavia II (A5) Рестайлинг Scout', 'Octavia III (A7)',\n",
       "       'Octavia III (A7) Scout', 'Octavia III (A7) Рестайлинг',\n",
       "       'Octavia III (A7) Рестайлинг Scout', 'Octavia IV (A8)',\n",
       "       'Octavia RS II', 'Octavia RS II Рестайлинг', 'Octavia RS III',\n",
       "       'Rapid I', 'Rapid I Рестайлинг', 'Rapid II', 'Roomster I',\n",
       "       'Roomster I Scout', 'Roomster I Рестайлинг',\n",
       "       'Roomster I Рестайлинг Scout', 'Superb I', 'Superb I Рестайлинг',\n",
       "       'Superb II', 'Superb II DSG', 'Superb II Рестайлинг',\n",
       "       'Superb II Рестайлинг DSG', 'Superb III', 'Superb III ACT',\n",
       "       'Superb III Рестайлинг', 'Yeti I', 'Yeti I Рестайлинг'],\n",
       "      dtype='<U33')"
      ]
     },
     "metadata": {},
     "output_type": "display_data"
    },
    {
     "data": {
      "text/plain": [
       "array(['100 SERIES', '120', 'FABIA', 'FABIA RS', 'FAVORIT', 'FELICIA',\n",
       "       'KAROQ', 'KODIAQ', 'OCTAVIA', 'OCTAVIA RS', 'POPULAR', 'RAPID',\n",
       "       'ROOMSTER', 'SUPERB', 'YETI'], dtype='<U10')"
      ]
     },
     "execution_count": 103,
     "metadata": {},
     "output_type": "execute_result"
    }
   ],
   "source": [
    "scoda_models_df = sorted((df.groupby('brand').model_name.unique())['SKODA'])\n",
    "scoda_models_test = sorted((test.groupby('brand').model_name.unique())['SKODA'])\n",
    "display(np.array(scoda_models_df))\n",
    "np.array(scoda_models_test)"
   ]
  },
  {
   "cell_type": "code",
   "execution_count": 104,
   "id": "8a057a04",
   "metadata": {
    "colab": {
     "base_uri": "https://localhost:8080/",
     "height": 145
    },
    "executionInfo": {
     "elapsed": 165,
     "status": "ok",
     "timestamp": 1627471007137,
     "user": {
      "displayName": "Сергей",
      "photoUrl": "",
      "userId": "16958243466904798794"
     },
     "user_tz": -180
    },
    "id": "8a057a04",
    "outputId": "1491bb7b-1b19-4fd1-edce-b15fb0e1015e"
   },
   "outputs": [
    {
     "data": {
      "text/html": [
       "<div>\n",
       "<style scoped>\n",
       "    .dataframe tbody tr th:only-of-type {\n",
       "        vertical-align: middle;\n",
       "    }\n",
       "\n",
       "    .dataframe tbody tr th {\n",
       "        vertical-align: top;\n",
       "    }\n",
       "\n",
       "    .dataframe thead th {\n",
       "        text-align: right;\n",
       "    }\n",
       "</style>\n",
       "<table border=\"1\" class=\"dataframe\">\n",
       "  <thead>\n",
       "    <tr style=\"text-align: right;\">\n",
       "      <th></th>\n",
       "      <th>0</th>\n",
       "      <th>1</th>\n",
       "      <th>2</th>\n",
       "      <th>3</th>\n",
       "      <th>4</th>\n",
       "      <th>5</th>\n",
       "      <th>6</th>\n",
       "      <th>7</th>\n",
       "      <th>8</th>\n",
       "      <th>9</th>\n",
       "      <th>10</th>\n",
       "      <th>11</th>\n",
       "      <th>12</th>\n",
       "      <th>13</th>\n",
       "      <th>14</th>\n",
       "    </tr>\n",
       "  </thead>\n",
       "  <tbody>\n",
       "    <tr>\n",
       "      <th>SKODA_df</th>\n",
       "      <td>FABIA</td>\n",
       "      <td>FABIA RS</td>\n",
       "      <td>FAVORIT</td>\n",
       "      <td>FELICIA</td>\n",
       "      <td>KAROQ</td>\n",
       "      <td>KODIAQ</td>\n",
       "      <td>OCTAVIA</td>\n",
       "      <td>OCTAVIA RS</td>\n",
       "      <td>RAPID</td>\n",
       "      <td>ROOMSTER</td>\n",
       "      <td>SUPERB</td>\n",
       "      <td>YETI</td>\n",
       "      <td>NaN</td>\n",
       "      <td>NaN</td>\n",
       "      <td>NaN</td>\n",
       "    </tr>\n",
       "    <tr>\n",
       "      <th>SKODA_test</th>\n",
       "      <td>FABIA</td>\n",
       "      <td>FABIA RS</td>\n",
       "      <td>FAVORIT</td>\n",
       "      <td>FELICIA</td>\n",
       "      <td>KAROQ</td>\n",
       "      <td>KODIAQ</td>\n",
       "      <td>OCTAVIA</td>\n",
       "      <td>OCTAVIA RS</td>\n",
       "      <td>RAPID</td>\n",
       "      <td>ROOMSTER</td>\n",
       "      <td>SUPERB</td>\n",
       "      <td>YETI</td>\n",
       "      <td>100 SERIES</td>\n",
       "      <td>120</td>\n",
       "      <td>POPULAR</td>\n",
       "    </tr>\n",
       "  </tbody>\n",
       "</table>\n",
       "</div>"
      ],
      "text/plain": [
       "               0         1        2        3      4       5        6   \\\n",
       "SKODA_df    FABIA  FABIA RS  FAVORIT  FELICIA  KAROQ  KODIAQ  OCTAVIA   \n",
       "SKODA_test  FABIA  FABIA RS  FAVORIT  FELICIA  KAROQ  KODIAQ  OCTAVIA   \n",
       "\n",
       "                    7      8         9       10    11          12   13  \\\n",
       "SKODA_df    OCTAVIA RS  RAPID  ROOMSTER  SUPERB  YETI         NaN  NaN   \n",
       "SKODA_test  OCTAVIA RS  RAPID  ROOMSTER  SUPERB  YETI  100 SERIES  120   \n",
       "\n",
       "                 14  \n",
       "SKODA_df        NaN  \n",
       "SKODA_test  POPULAR  "
      ]
     },
     "execution_count": 104,
     "metadata": {},
     "output_type": "execute_result"
    }
   ],
   "source": [
    "df.model_name = df[['brand', 'model_name']].apply(\n",
    "    lambda x: models_formatting(x[1]) if x[0] == 'SKODA' else x[1], axis=1)\n",
    "models_comparison('SKODA', df, test)"
   ]
  },
  {
   "cell_type": "code",
   "execution_count": 105,
   "id": "99af0747",
   "metadata": {
    "executionInfo": {
     "elapsed": 164,
     "status": "ok",
     "timestamp": 1627471007138,
     "user": {
      "displayName": "Сергей",
      "photoUrl": "",
      "userId": "16958243466904798794"
     },
     "user_tz": -180
    },
    "id": "99af0747"
   },
   "outputs": [],
   "source": [
    "mismatch_scoda = models_comparison('SKODA', df, test).T\n",
    "mismatch_scoda = mismatch_scoda[mismatch_scoda.SKODA_df.isna()].SKODA_test.to_list()\n",
    "mismatch_model_withtest.extend(mismatch_scoda)"
   ]
  },
  {
   "cell_type": "markdown",
   "id": "b0184019",
   "metadata": {
    "id": "b0184019"
   },
   "source": [
    "##### **TOYOTA**"
   ]
  },
  {
   "cell_type": "code",
   "execution_count": 106,
   "id": "d1764860",
   "metadata": {
    "colab": {
     "base_uri": "https://localhost:8080/",
     "height": 187
    },
    "executionInfo": {
     "elapsed": 164,
     "status": "ok",
     "timestamp": 1627471007139,
     "user": {
      "displayName": "Сергей",
      "photoUrl": "",
      "userId": "16958243466904798794"
     },
     "user_tz": -180
    },
    "id": "d1764860",
    "outputId": "1feb9e0e-678b-4935-80ed-dc218ded93d4"
   },
   "outputs": [
    {
     "data": {
      "text/plain": [
       "array(['4Runner II', '4Runner III', '4Runner IV', '4Runner V',\n",
       "       '4Runner V Рестайлинг', 'Allion I', 'Alphard I', 'Alphard II',\n",
       "       'Alphard III', 'Alphard III Рестайлинг', ..., 'Yaris I Рестайлинг',\n",
       "       'Yaris II', 'Yaris II Multimode', 'Yaris II Рестайлинг',\n",
       "       'Yaris III', 'Yaris Verso', 'bB I', 'bB II', 'bB II Рестайлинг',\n",
       "       'iQ'], dtype='<U75')"
      ]
     },
     "metadata": {},
     "output_type": "display_data"
    },
    {
     "data": {
      "text/plain": [
       "array(['4RUNNER', 'ALLEX', 'ALPHARD', 'ALTEZZA', 'AQUA', 'ARISTO',\n",
       "       'AURIS', 'AVALON', 'AVENSIS', 'AVENSIS VERSO', ..., 'VERSO S',\n",
       "       'VISTA', 'VITZ', 'VOXY', 'WILL', 'WILL CYPHA', 'WINDOM', 'WISH',\n",
       "       'YARIS', 'YARIS VERSO'], dtype='<U18')"
      ]
     },
     "execution_count": 106,
     "metadata": {},
     "output_type": "execute_result"
    }
   ],
   "source": [
    "toyota_models_df = sorted((df.groupby('brand').model_name.unique())['TOYOTA'])\n",
    "toyota_models_test = sorted((test.groupby('brand').model_name.unique())['TOYOTA'])\n",
    "display(np.array(toyota_models_df))\n",
    "np.array(toyota_models_test)"
   ]
  },
  {
   "cell_type": "code",
   "execution_count": 107,
   "id": "832fee31",
   "metadata": {
    "executionInfo": {
     "elapsed": 163,
     "status": "ok",
     "timestamp": 1627471007140,
     "user": {
      "displayName": "Сергей",
      "photoUrl": "",
      "userId": "16958243466904798794"
     },
     "user_tz": -180
    },
    "id": "832fee31"
   },
   "outputs": [],
   "source": [
    "df.model_name = df.model_name.str.replace('Land Cruiser Prado','Land_temp')"
   ]
  },
  {
   "cell_type": "code",
   "execution_count": 108,
   "id": "4f437caa",
   "metadata": {
    "colab": {
     "base_uri": "https://localhost:8080/",
     "height": 182
    },
    "executionInfo": {
     "elapsed": 163,
     "status": "ok",
     "timestamp": 1627471007141,
     "user": {
      "displayName": "Сергей",
      "photoUrl": "",
      "userId": "16958243466904798794"
     },
     "user_tz": -180
    },
    "id": "4f437caa",
    "outputId": "cd908656-da67-4dc5-c677-688d8263d526"
   },
   "outputs": [
    {
     "data": {
      "text/html": [
       "<div>\n",
       "<style scoped>\n",
       "    .dataframe tbody tr th:only-of-type {\n",
       "        vertical-align: middle;\n",
       "    }\n",
       "\n",
       "    .dataframe tbody tr th {\n",
       "        vertical-align: top;\n",
       "    }\n",
       "\n",
       "    .dataframe thead th {\n",
       "        text-align: right;\n",
       "    }\n",
       "</style>\n",
       "<table border=\"1\" class=\"dataframe\">\n",
       "  <thead>\n",
       "    <tr style=\"text-align: right;\">\n",
       "      <th></th>\n",
       "      <th>0</th>\n",
       "      <th>1</th>\n",
       "      <th>2</th>\n",
       "      <th>3</th>\n",
       "      <th>4</th>\n",
       "      <th>5</th>\n",
       "      <th>6</th>\n",
       "      <th>7</th>\n",
       "      <th>8</th>\n",
       "      <th>9</th>\n",
       "      <th>10</th>\n",
       "      <th>11</th>\n",
       "      <th>12</th>\n",
       "      <th>13</th>\n",
       "      <th>14</th>\n",
       "      <th>15</th>\n",
       "      <th>16</th>\n",
       "      <th>17</th>\n",
       "      <th>18</th>\n",
       "      <th>19</th>\n",
       "      <th>20</th>\n",
       "      <th>21</th>\n",
       "      <th>22</th>\n",
       "      <th>23</th>\n",
       "      <th>24</th>\n",
       "      <th>25</th>\n",
       "      <th>26</th>\n",
       "      <th>27</th>\n",
       "      <th>28</th>\n",
       "      <th>29</th>\n",
       "      <th>30</th>\n",
       "      <th>31</th>\n",
       "      <th>32</th>\n",
       "      <th>33</th>\n",
       "      <th>34</th>\n",
       "      <th>35</th>\n",
       "      <th>36</th>\n",
       "      <th>37</th>\n",
       "      <th>38</th>\n",
       "      <th>39</th>\n",
       "      <th>40</th>\n",
       "      <th>41</th>\n",
       "      <th>42</th>\n",
       "      <th>43</th>\n",
       "      <th>44</th>\n",
       "      <th>45</th>\n",
       "      <th>46</th>\n",
       "      <th>47</th>\n",
       "      <th>48</th>\n",
       "      <th>49</th>\n",
       "      <th>50</th>\n",
       "      <th>51</th>\n",
       "      <th>52</th>\n",
       "      <th>53</th>\n",
       "      <th>54</th>\n",
       "      <th>55</th>\n",
       "      <th>56</th>\n",
       "      <th>57</th>\n",
       "      <th>58</th>\n",
       "      <th>59</th>\n",
       "      <th>60</th>\n",
       "      <th>61</th>\n",
       "      <th>62</th>\n",
       "      <th>63</th>\n",
       "      <th>64</th>\n",
       "      <th>65</th>\n",
       "      <th>66</th>\n",
       "      <th>67</th>\n",
       "      <th>68</th>\n",
       "      <th>69</th>\n",
       "      <th>70</th>\n",
       "      <th>71</th>\n",
       "      <th>72</th>\n",
       "      <th>73</th>\n",
       "      <th>74</th>\n",
       "      <th>75</th>\n",
       "      <th>76</th>\n",
       "      <th>77</th>\n",
       "      <th>78</th>\n",
       "      <th>79</th>\n",
       "      <th>80</th>\n",
       "      <th>81</th>\n",
       "      <th>82</th>\n",
       "      <th>83</th>\n",
       "      <th>84</th>\n",
       "      <th>85</th>\n",
       "      <th>86</th>\n",
       "      <th>87</th>\n",
       "      <th>88</th>\n",
       "      <th>89</th>\n",
       "      <th>90</th>\n",
       "      <th>91</th>\n",
       "      <th>92</th>\n",
       "      <th>93</th>\n",
       "      <th>94</th>\n",
       "      <th>95</th>\n",
       "      <th>96</th>\n",
       "      <th>97</th>\n",
       "      <th>98</th>\n",
       "      <th>99</th>\n",
       "      <th>100</th>\n",
       "      <th>101</th>\n",
       "      <th>102</th>\n",
       "      <th>103</th>\n",
       "      <th>104</th>\n",
       "      <th>105</th>\n",
       "      <th>106</th>\n",
       "      <th>107</th>\n",
       "      <th>108</th>\n",
       "      <th>109</th>\n",
       "      <th>110</th>\n",
       "      <th>111</th>\n",
       "      <th>112</th>\n",
       "      <th>113</th>\n",
       "      <th>114</th>\n",
       "      <th>115</th>\n",
       "      <th>116</th>\n",
       "      <th>117</th>\n",
       "      <th>118</th>\n",
       "      <th>119</th>\n",
       "      <th>120</th>\n",
       "      <th>121</th>\n",
       "      <th>122</th>\n",
       "      <th>123</th>\n",
       "      <th>124</th>\n",
       "      <th>125</th>\n",
       "      <th>126</th>\n",
       "      <th>127</th>\n",
       "      <th>128</th>\n",
       "      <th>129</th>\n",
       "      <th>130</th>\n",
       "      <th>131</th>\n",
       "      <th>132</th>\n",
       "      <th>133</th>\n",
       "      <th>134</th>\n",
       "      <th>135</th>\n",
       "      <th>136</th>\n",
       "      <th>137</th>\n",
       "      <th>138</th>\n",
       "      <th>139</th>\n",
       "      <th>140</th>\n",
       "      <th>141</th>\n",
       "      <th>142</th>\n",
       "      <th>143</th>\n",
       "      <th>144</th>\n",
       "      <th>145</th>\n",
       "      <th>146</th>\n",
       "    </tr>\n",
       "  </thead>\n",
       "  <tbody>\n",
       "    <tr>\n",
       "      <th>TOYOTA_df</th>\n",
       "      <td>4RUNNER</td>\n",
       "      <td>ALLION</td>\n",
       "      <td>ALPHARD</td>\n",
       "      <td>ALTEZZA</td>\n",
       "      <td>ALTEZZA GITA</td>\n",
       "      <td>AQUA</td>\n",
       "      <td>ARISTO</td>\n",
       "      <td>AURIS</td>\n",
       "      <td>AVALON</td>\n",
       "      <td>AVENSIS</td>\n",
       "      <td>AVENSIS VERSO</td>\n",
       "      <td>AYGO</td>\n",
       "      <td>BB</td>\n",
       "      <td>C-HR</td>\n",
       "      <td>CALDINA</td>\n",
       "      <td>CAMRY</td>\n",
       "      <td>CAMRY SOLARA</td>\n",
       "      <td>CAMRY V30</td>\n",
       "      <td>CARINA</td>\n",
       "      <td>CARINA E</td>\n",
       "      <td>CARINA ED</td>\n",
       "      <td>CAVALIER</td>\n",
       "      <td>CELICA</td>\n",
       "      <td>CHASER</td>\n",
       "      <td>COROLLA</td>\n",
       "      <td>COROLLA LEVIN</td>\n",
       "      <td>COROLLA LIFTBACK</td>\n",
       "      <td>COROLLA RUMION</td>\n",
       "      <td>COROLLA SPACIO</td>\n",
       "      <td>COROLLA VERSO</td>\n",
       "      <td>CORONA</td>\n",
       "      <td>CORSA</td>\n",
       "      <td>CRESTA</td>\n",
       "      <td>CROWN</td>\n",
       "      <td>CYNOS</td>\n",
       "      <td>ECHO</td>\n",
       "      <td>ESQUIRE</td>\n",
       "      <td>ESTIMA</td>\n",
       "      <td>FJ CRUISER</td>\n",
       "      <td>FORTUNER</td>\n",
       "      <td>FUNCARGO</td>\n",
       "      <td>GAIA</td>\n",
       "      <td>GRAND HIACE</td>\n",
       "      <td>GT86</td>\n",
       "      <td>HARRIER</td>\n",
       "      <td>HIACE H100</td>\n",
       "      <td>HIACE H200</td>\n",
       "      <td>HIACE H300</td>\n",
       "      <td>HIGHLANDER</td>\n",
       "      <td>HILUX</td>\n",
       "      <td>HILUX ARCTIC</td>\n",
       "      <td>HILUX DOUBLE</td>\n",
       "      <td>HILUX SURF</td>\n",
       "      <td>IPSUM</td>\n",
       "      <td>IQ</td>\n",
       "      <td>ISIS</td>\n",
       "      <td>IST</td>\n",
       "      <td>LAND CRUISER</td>\n",
       "      <td>LAND_TEMP ARCTIC</td>\n",
       "      <td>LAND_TEMP120</td>\n",
       "      <td>LAND_TEMP150</td>\n",
       "      <td>LAND_TEMP70</td>\n",
       "      <td>LAND_TEMP90</td>\n",
       "      <td>LITE ACE</td>\n",
       "      <td>MARK</td>\n",
       "      <td>MASTERACE SURF</td>\n",
       "      <td>MATRIX</td>\n",
       "      <td>MEGA CRUISER</td>\n",
       "      <td>MR2</td>\n",
       "      <td>NOAH</td>\n",
       "      <td>OPA</td>\n",
       "      <td>PASSO</td>\n",
       "      <td>PICNIC</td>\n",
       "      <td>PIXIS VAN</td>\n",
       "      <td>PLATZ</td>\n",
       "      <td>PREMIO</td>\n",
       "      <td>PREVIA</td>\n",
       "      <td>PRIUS</td>\n",
       "      <td>PRIUS ALPHA</td>\n",
       "      <td>PRIUS PHV</td>\n",
       "      <td>PRIUS V</td>\n",
       "      <td>PROBOX</td>\n",
       "      <td>RACTIS</td>\n",
       "      <td>RAUM</td>\n",
       "      <td>RAV4</td>\n",
       "      <td>REGIUS</td>\n",
       "      <td>SEQUOIA</td>\n",
       "      <td>SIENNA</td>\n",
       "      <td>SIENTA</td>\n",
       "      <td>SOARER</td>\n",
       "      <td>SPARKY</td>\n",
       "      <td>SPRINTER</td>\n",
       "      <td>SPRINTER MARINO</td>\n",
       "      <td>SPRINTER TRUENO</td>\n",
       "      <td>STARLET</td>\n",
       "      <td>SUCCEED</td>\n",
       "      <td>SUPRA</td>\n",
       "      <td>TACOMA</td>\n",
       "      <td>TERCEL</td>\n",
       "      <td>TOWN ACE</td>\n",
       "      <td>TUNDRA</td>\n",
       "      <td>TUNDRA ARCTIC</td>\n",
       "      <td>URBAN CRUISER</td>\n",
       "      <td>VELLFIRE</td>\n",
       "      <td>VENZA</td>\n",
       "      <td>VEROSSA</td>\n",
       "      <td>VERSO</td>\n",
       "      <td>VISTA</td>\n",
       "      <td>VITZ</td>\n",
       "      <td>VOLTZ</td>\n",
       "      <td>VOXY</td>\n",
       "      <td>WILL</td>\n",
       "      <td>WILL CYPHA</td>\n",
       "      <td>WINDOM</td>\n",
       "      <td>WISH</td>\n",
       "      <td>YARIS</td>\n",
       "      <td>YARIS VERSO</td>\n",
       "      <td>NaN</td>\n",
       "      <td>NaN</td>\n",
       "      <td>NaN</td>\n",
       "      <td>NaN</td>\n",
       "      <td>NaN</td>\n",
       "      <td>NaN</td>\n",
       "      <td>NaN</td>\n",
       "      <td>NaN</td>\n",
       "      <td>NaN</td>\n",
       "      <td>NaN</td>\n",
       "      <td>NaN</td>\n",
       "      <td>NaN</td>\n",
       "      <td>NaN</td>\n",
       "      <td>NaN</td>\n",
       "      <td>NaN</td>\n",
       "      <td>NaN</td>\n",
       "      <td>NaN</td>\n",
       "      <td>NaN</td>\n",
       "      <td>NaN</td>\n",
       "      <td>NaN</td>\n",
       "      <td>NaN</td>\n",
       "      <td>NaN</td>\n",
       "      <td>NaN</td>\n",
       "      <td>NaN</td>\n",
       "      <td>NaN</td>\n",
       "      <td>NaN</td>\n",
       "      <td>NaN</td>\n",
       "      <td>NaN</td>\n",
       "      <td>NaN</td>\n",
       "      <td>NaN</td>\n",
       "    </tr>\n",
       "    <tr>\n",
       "      <th>TOYOTA_test</th>\n",
       "      <td>4RUNNER</td>\n",
       "      <td>NaN</td>\n",
       "      <td>ALPHARD</td>\n",
       "      <td>ALTEZZA</td>\n",
       "      <td>NaN</td>\n",
       "      <td>AQUA</td>\n",
       "      <td>ARISTO</td>\n",
       "      <td>AURIS</td>\n",
       "      <td>AVALON</td>\n",
       "      <td>AVENSIS</td>\n",
       "      <td>AVENSIS VERSO</td>\n",
       "      <td>AYGO</td>\n",
       "      <td>BB</td>\n",
       "      <td>NaN</td>\n",
       "      <td>CALDINA</td>\n",
       "      <td>CAMRY</td>\n",
       "      <td>CAMRY SOLARA</td>\n",
       "      <td>NaN</td>\n",
       "      <td>CARINA</td>\n",
       "      <td>CARINA E</td>\n",
       "      <td>CARINA ED</td>\n",
       "      <td>CAVALIER</td>\n",
       "      <td>CELICA</td>\n",
       "      <td>CHASER</td>\n",
       "      <td>COROLLA</td>\n",
       "      <td>COROLLA LEVIN</td>\n",
       "      <td>NaN</td>\n",
       "      <td>COROLLA RUMION</td>\n",
       "      <td>COROLLA SPACIO</td>\n",
       "      <td>COROLLA VERSO</td>\n",
       "      <td>CORONA</td>\n",
       "      <td>CORSA</td>\n",
       "      <td>CRESTA</td>\n",
       "      <td>CROWN</td>\n",
       "      <td>CYNOS</td>\n",
       "      <td>ECHO</td>\n",
       "      <td>ESQUIRE</td>\n",
       "      <td>ESTIMA</td>\n",
       "      <td>FJ CRUISER</td>\n",
       "      <td>FORTUNER</td>\n",
       "      <td>FUNCARGO</td>\n",
       "      <td>GAIA</td>\n",
       "      <td>GRAND HIACE</td>\n",
       "      <td>GT86</td>\n",
       "      <td>HARRIER</td>\n",
       "      <td>NaN</td>\n",
       "      <td>NaN</td>\n",
       "      <td>NaN</td>\n",
       "      <td>HIGHLANDER</td>\n",
       "      <td>HILUX</td>\n",
       "      <td>NaN</td>\n",
       "      <td>NaN</td>\n",
       "      <td>HILUX SURF</td>\n",
       "      <td>IPSUM</td>\n",
       "      <td>IQ</td>\n",
       "      <td>ISIS</td>\n",
       "      <td>IST</td>\n",
       "      <td>LAND CRUISER</td>\n",
       "      <td>NaN</td>\n",
       "      <td>NaN</td>\n",
       "      <td>NaN</td>\n",
       "      <td>NaN</td>\n",
       "      <td>NaN</td>\n",
       "      <td>LITE ACE</td>\n",
       "      <td>NaN</td>\n",
       "      <td>NaN</td>\n",
       "      <td>MATRIX</td>\n",
       "      <td>MEGA CRUISER</td>\n",
       "      <td>MR2</td>\n",
       "      <td>NOAH</td>\n",
       "      <td>OPA</td>\n",
       "      <td>PASSO</td>\n",
       "      <td>PICNIC</td>\n",
       "      <td>NaN</td>\n",
       "      <td>PLATZ</td>\n",
       "      <td>PREMIO</td>\n",
       "      <td>PREVIA</td>\n",
       "      <td>PRIUS</td>\n",
       "      <td>PRIUS ALPHA</td>\n",
       "      <td>NaN</td>\n",
       "      <td>NaN</td>\n",
       "      <td>PROBOX</td>\n",
       "      <td>RACTIS</td>\n",
       "      <td>RAUM</td>\n",
       "      <td>NaN</td>\n",
       "      <td>REGIUS</td>\n",
       "      <td>SEQUOIA</td>\n",
       "      <td>SIENNA</td>\n",
       "      <td>SIENTA</td>\n",
       "      <td>SOARER</td>\n",
       "      <td>SPARKY</td>\n",
       "      <td>SPRINTER</td>\n",
       "      <td>SPRINTER MARINO</td>\n",
       "      <td>SPRINTER TRUENO</td>\n",
       "      <td>STARLET</td>\n",
       "      <td>SUCCEED</td>\n",
       "      <td>SUPRA</td>\n",
       "      <td>NaN</td>\n",
       "      <td>TERCEL</td>\n",
       "      <td>TOWN ACE</td>\n",
       "      <td>TUNDRA</td>\n",
       "      <td>NaN</td>\n",
       "      <td>NaN</td>\n",
       "      <td>VELLFIRE</td>\n",
       "      <td>VENZA</td>\n",
       "      <td>VEROSSA</td>\n",
       "      <td>VERSO</td>\n",
       "      <td>VISTA</td>\n",
       "      <td>VITZ</td>\n",
       "      <td>NaN</td>\n",
       "      <td>VOXY</td>\n",
       "      <td>WILL</td>\n",
       "      <td>WILL CYPHA</td>\n",
       "      <td>WINDOM</td>\n",
       "      <td>WISH</td>\n",
       "      <td>YARIS</td>\n",
       "      <td>YARIS VERSO</td>\n",
       "      <td>ALLEX</td>\n",
       "      <td>BLADE</td>\n",
       "      <td>C HR</td>\n",
       "      <td>CAMI</td>\n",
       "      <td>COROLLA II</td>\n",
       "      <td>CORONA EXIV</td>\n",
       "      <td>CROWN MAJESTA</td>\n",
       "      <td>CURREN</td>\n",
       "      <td>DUET</td>\n",
       "      <td>GRANVIA</td>\n",
       "      <td>HIACE</td>\n",
       "      <td>LAND CRUISER PRADO</td>\n",
       "      <td>MARK II</td>\n",
       "      <td>MARK X</td>\n",
       "      <td>MARK X ZIO</td>\n",
       "      <td>MASTER ACE SURF</td>\n",
       "      <td>MR S</td>\n",
       "      <td>NADIA</td>\n",
       "      <td>ORIGIN</td>\n",
       "      <td>PASEO</td>\n",
       "      <td>PORTE</td>\n",
       "      <td>PRIUSPLUS</td>\n",
       "      <td>PROGRES</td>\n",
       "      <td>RAV 4</td>\n",
       "      <td>SCEPTER SEDAN</td>\n",
       "      <td>SERA</td>\n",
       "      <td>SPADE</td>\n",
       "      <td>SPRINTER CARIB</td>\n",
       "      <td>VANGUARD</td>\n",
       "      <td>VERSO S</td>\n",
       "    </tr>\n",
       "  </tbody>\n",
       "</table>\n",
       "</div>"
      ],
      "text/plain": [
       "                 0       1        2        3             4     5       6    \\\n",
       "TOYOTA_df    4RUNNER  ALLION  ALPHARD  ALTEZZA  ALTEZZA GITA  AQUA  ARISTO   \n",
       "TOYOTA_test  4RUNNER     NaN  ALPHARD  ALTEZZA           NaN  AQUA  ARISTO   \n",
       "\n",
       "               7       8        9              10    11  12    13       14   \\\n",
       "TOYOTA_df    AURIS  AVALON  AVENSIS  AVENSIS VERSO  AYGO  BB  C-HR  CALDINA   \n",
       "TOYOTA_test  AURIS  AVALON  AVENSIS  AVENSIS VERSO  AYGO  BB   NaN  CALDINA   \n",
       "\n",
       "               15            16         17      18        19         20   \\\n",
       "TOYOTA_df    CAMRY  CAMRY SOLARA  CAMRY V30  CARINA  CARINA E  CARINA ED   \n",
       "TOYOTA_test  CAMRY  CAMRY SOLARA        NaN  CARINA  CARINA E  CARINA ED   \n",
       "\n",
       "                  21      22      23       24             25   \\\n",
       "TOYOTA_df    CAVALIER  CELICA  CHASER  COROLLA  COROLLA LEVIN   \n",
       "TOYOTA_test  CAVALIER  CELICA  CHASER  COROLLA  COROLLA LEVIN   \n",
       "\n",
       "                          26              27              28             29   \\\n",
       "TOYOTA_df    COROLLA LIFTBACK  COROLLA RUMION  COROLLA SPACIO  COROLLA VERSO   \n",
       "TOYOTA_test               NaN  COROLLA RUMION  COROLLA SPACIO  COROLLA VERSO   \n",
       "\n",
       "                30     31      32     33     34    35       36      37   \\\n",
       "TOYOTA_df    CORONA  CORSA  CRESTA  CROWN  CYNOS  ECHO  ESQUIRE  ESTIMA   \n",
       "TOYOTA_test  CORONA  CORSA  CRESTA  CROWN  CYNOS  ECHO  ESQUIRE  ESTIMA   \n",
       "\n",
       "                    38        39        40    41           42    43       44   \\\n",
       "TOYOTA_df    FJ CRUISER  FORTUNER  FUNCARGO  GAIA  GRAND HIACE  GT86  HARRIER   \n",
       "TOYOTA_test  FJ CRUISER  FORTUNER  FUNCARGO  GAIA  GRAND HIACE  GT86  HARRIER   \n",
       "\n",
       "                    45          46          47          48     49   \\\n",
       "TOYOTA_df    HIACE H100  HIACE H200  HIACE H300  HIGHLANDER  HILUX   \n",
       "TOYOTA_test         NaN         NaN         NaN  HIGHLANDER  HILUX   \n",
       "\n",
       "                      50            51          52     53  54    55   56   \\\n",
       "TOYOTA_df    HILUX ARCTIC  HILUX DOUBLE  HILUX SURF  IPSUM  IQ  ISIS  IST   \n",
       "TOYOTA_test           NaN           NaN  HILUX SURF  IPSUM  IQ  ISIS  IST   \n",
       "\n",
       "                      57                58            59            60   \\\n",
       "TOYOTA_df    LAND CRUISER  LAND_TEMP ARCTIC  LAND_TEMP120  LAND_TEMP150   \n",
       "TOYOTA_test  LAND CRUISER               NaN           NaN           NaN   \n",
       "\n",
       "                     61           62        63    64              65      66   \\\n",
       "TOYOTA_df    LAND_TEMP70  LAND_TEMP90  LITE ACE  MARK  MASTERACE SURF  MATRIX   \n",
       "TOYOTA_test          NaN          NaN  LITE ACE   NaN             NaN  MATRIX   \n",
       "\n",
       "                      67   68    69   70     71      72         73     74   \\\n",
       "TOYOTA_df    MEGA CRUISER  MR2  NOAH  OPA  PASSO  PICNIC  PIXIS VAN  PLATZ   \n",
       "TOYOTA_test  MEGA CRUISER  MR2  NOAH  OPA  PASSO  PICNIC        NaN  PLATZ   \n",
       "\n",
       "                75      76     77           78         79       80      81   \\\n",
       "TOYOTA_df    PREMIO  PREVIA  PRIUS  PRIUS ALPHA  PRIUS PHV  PRIUS V  PROBOX   \n",
       "TOYOTA_test  PREMIO  PREVIA  PRIUS  PRIUS ALPHA        NaN      NaN  PROBOX   \n",
       "\n",
       "                82    83    84      85       86      87      88      89   \\\n",
       "TOYOTA_df    RACTIS  RAUM  RAV4  REGIUS  SEQUOIA  SIENNA  SIENTA  SOARER   \n",
       "TOYOTA_test  RACTIS  RAUM   NaN  REGIUS  SEQUOIA  SIENNA  SIENTA  SOARER   \n",
       "\n",
       "                90        91               92               93       94   \\\n",
       "TOYOTA_df    SPARKY  SPRINTER  SPRINTER MARINO  SPRINTER TRUENO  STARLET   \n",
       "TOYOTA_test  SPARKY  SPRINTER  SPRINTER MARINO  SPRINTER TRUENO  STARLET   \n",
       "\n",
       "                 95     96      97      98        99      100            101  \\\n",
       "TOYOTA_df    SUCCEED  SUPRA  TACOMA  TERCEL  TOWN ACE  TUNDRA  TUNDRA ARCTIC   \n",
       "TOYOTA_test  SUCCEED  SUPRA     NaN  TERCEL  TOWN ACE  TUNDRA            NaN   \n",
       "\n",
       "                       102       103    104      105    106    107   108  \\\n",
       "TOYOTA_df    URBAN CRUISER  VELLFIRE  VENZA  VEROSSA  VERSO  VISTA  VITZ   \n",
       "TOYOTA_test            NaN  VELLFIRE  VENZA  VEROSSA  VERSO  VISTA  VITZ   \n",
       "\n",
       "               109   110   111         112     113   114    115          116  \\\n",
       "TOYOTA_df    VOLTZ  VOXY  WILL  WILL CYPHA  WINDOM  WISH  YARIS  YARIS VERSO   \n",
       "TOYOTA_test    NaN  VOXY  WILL  WILL CYPHA  WINDOM  WISH  YARIS  YARIS VERSO   \n",
       "\n",
       "               117    118   119   120         121          122            123  \\\n",
       "TOYOTA_df      NaN    NaN   NaN   NaN         NaN          NaN            NaN   \n",
       "TOYOTA_test  ALLEX  BLADE  C HR  CAMI  COROLLA II  CORONA EXIV  CROWN MAJESTA   \n",
       "\n",
       "                124   125      126    127                 128      129  \\\n",
       "TOYOTA_df       NaN   NaN      NaN    NaN                 NaN      NaN   \n",
       "TOYOTA_test  CURREN  DUET  GRANVIA  HIACE  LAND CRUISER PRADO  MARK II   \n",
       "\n",
       "                130         131              132   133    134     135    136  \\\n",
       "TOYOTA_df       NaN         NaN              NaN   NaN    NaN     NaN    NaN   \n",
       "TOYOTA_test  MARK X  MARK X ZIO  MASTER ACE SURF  MR S  NADIA  ORIGIN  PASEO   \n",
       "\n",
       "               137        138      139    140            141   142    143  \\\n",
       "TOYOTA_df      NaN        NaN      NaN    NaN            NaN   NaN    NaN   \n",
       "TOYOTA_test  PORTE  PRIUSPLUS  PROGRES  RAV 4  SCEPTER SEDAN  SERA  SPADE   \n",
       "\n",
       "                        144       145      146  \n",
       "TOYOTA_df               NaN       NaN      NaN  \n",
       "TOYOTA_test  SPRINTER CARIB  VANGUARD  VERSO S  "
      ]
     },
     "execution_count": 108,
     "metadata": {},
     "output_type": "execute_result"
    }
   ],
   "source": [
    "df.model_name = df[['brand', 'model_name']].apply(\n",
    "    lambda x: models_formatting(x[1]) if x[0] == 'TOYOTA' else x[1], axis=1)\n",
    "models_comparison('TOYOTA', df, test)"
   ]
  },
  {
   "cell_type": "code",
   "execution_count": 109,
   "id": "f7ef77ff",
   "metadata": {
    "executionInfo": {
     "elapsed": 162,
     "status": "ok",
     "timestamp": 1627471007142,
     "user": {
      "displayName": "Сергей",
      "photoUrl": "",
      "userId": "16958243466904798794"
     },
     "user_tz": -180
    },
    "id": "f7ef77ff"
   },
   "outputs": [],
   "source": [
    "test.model_name = test.model_name.str.replace('C HR','C-HR')\n",
    "test.model_name = test.model_name.str.replace('RAV 4','RAV4')\n",
    "test.model_name = test.model_name.str.replace('COROLLA II','COROLLA')\n",
    "test.model_name = test.model_name.str.replace('CORONA EXIV','CORONA')\n",
    "test.model_name = test.model_name.str.replace('CROWN MAJESTA','CROWN')\n",
    "test.model_name = test.model_name.str.replace('VERSO S','VERSO')\n",
    "test.model_name = test.model_name.str.replace('CORONA EXIV','CORONA')\n",
    "test.model_name = test.model_name.str.replace('MARK X ZIO','MARK')\n",
    "test.model_name = test.model_name.str.replace('MARK X','MARK')\n",
    "test.model_name = test.model_name.str.replace('MARK II','MARK')\n",
    "\n",
    "df.model_name = df.model_name.str.replace('CAMRY V30','CAMRY')\n",
    "df.model_name = df.model_name.str.replace('LAND_TEMP120','LAND CRUISER PRADO')\n",
    "df.model_name = df.model_name.str.replace('LAND_TEMP150','LAND CRUISER PRADO')\n",
    "df.model_name = df.model_name.str.replace('LAND_TEMP70','LAND CRUISER PRADO')\n",
    "df.model_name = df.model_name.str.replace('LAND_TEMP90','LAND CRUISER PRADO')\n",
    "df.model_name = df.model_name.str.replace('LAND_TEMP ARCTIC','LAND CRUISER PRADO')\n",
    "df.model_name = df.model_name.str.replace('MASTERACE SURF','MASTER ACE SURF')\n",
    "df.model_name = df.model_name.str.replace('HIACE H100','HIACE')\n",
    "df.model_name = df.model_name.str.replace('HIACE H200','HIACE')\n",
    "df.model_name = df.model_name.str.replace('PRIUS PHV','PRIUS')\n",
    "df.model_name = df.model_name.str.replace('PRIUS V','PRIUS')"
   ]
  },
  {
   "cell_type": "code",
   "execution_count": 110,
   "id": "9656f5b5",
   "metadata": {
    "colab": {
     "base_uri": "https://localhost:8080/",
     "height": 199
    },
    "executionInfo": {
     "elapsed": 164,
     "status": "ok",
     "timestamp": 1627471007144,
     "user": {
      "displayName": "Сергей",
      "photoUrl": "",
      "userId": "16958243466904798794"
     },
     "user_tz": -180
    },
    "id": "9656f5b5",
    "outputId": "0aac2110-867b-4898-c649-d089dad00297"
   },
   "outputs": [
    {
     "data": {
      "text/html": [
       "<div>\n",
       "<style scoped>\n",
       "    .dataframe tbody tr th:only-of-type {\n",
       "        vertical-align: middle;\n",
       "    }\n",
       "\n",
       "    .dataframe tbody tr th {\n",
       "        vertical-align: top;\n",
       "    }\n",
       "\n",
       "    .dataframe thead th {\n",
       "        text-align: right;\n",
       "    }\n",
       "</style>\n",
       "<table border=\"1\" class=\"dataframe\">\n",
       "  <thead>\n",
       "    <tr style=\"text-align: right;\">\n",
       "      <th></th>\n",
       "      <th>0</th>\n",
       "      <th>1</th>\n",
       "      <th>2</th>\n",
       "      <th>3</th>\n",
       "      <th>4</th>\n",
       "      <th>5</th>\n",
       "      <th>6</th>\n",
       "      <th>7</th>\n",
       "      <th>8</th>\n",
       "      <th>9</th>\n",
       "      <th>10</th>\n",
       "      <th>11</th>\n",
       "      <th>12</th>\n",
       "      <th>13</th>\n",
       "      <th>14</th>\n",
       "      <th>15</th>\n",
       "      <th>16</th>\n",
       "      <th>17</th>\n",
       "      <th>18</th>\n",
       "      <th>19</th>\n",
       "      <th>20</th>\n",
       "      <th>21</th>\n",
       "      <th>22</th>\n",
       "      <th>23</th>\n",
       "      <th>24</th>\n",
       "      <th>25</th>\n",
       "      <th>26</th>\n",
       "      <th>27</th>\n",
       "      <th>28</th>\n",
       "      <th>29</th>\n",
       "      <th>30</th>\n",
       "      <th>31</th>\n",
       "      <th>32</th>\n",
       "      <th>33</th>\n",
       "      <th>34</th>\n",
       "      <th>35</th>\n",
       "      <th>36</th>\n",
       "      <th>37</th>\n",
       "      <th>38</th>\n",
       "      <th>39</th>\n",
       "      <th>40</th>\n",
       "      <th>41</th>\n",
       "      <th>42</th>\n",
       "      <th>43</th>\n",
       "      <th>44</th>\n",
       "      <th>45</th>\n",
       "      <th>46</th>\n",
       "      <th>47</th>\n",
       "      <th>48</th>\n",
       "      <th>49</th>\n",
       "      <th>50</th>\n",
       "      <th>51</th>\n",
       "      <th>52</th>\n",
       "      <th>53</th>\n",
       "      <th>54</th>\n",
       "      <th>55</th>\n",
       "      <th>56</th>\n",
       "      <th>57</th>\n",
       "      <th>58</th>\n",
       "      <th>59</th>\n",
       "      <th>60</th>\n",
       "      <th>61</th>\n",
       "      <th>62</th>\n",
       "      <th>63</th>\n",
       "      <th>64</th>\n",
       "      <th>65</th>\n",
       "      <th>66</th>\n",
       "      <th>67</th>\n",
       "      <th>68</th>\n",
       "      <th>69</th>\n",
       "      <th>70</th>\n",
       "      <th>71</th>\n",
       "      <th>72</th>\n",
       "      <th>73</th>\n",
       "      <th>74</th>\n",
       "      <th>75</th>\n",
       "      <th>76</th>\n",
       "      <th>77</th>\n",
       "      <th>78</th>\n",
       "      <th>79</th>\n",
       "      <th>80</th>\n",
       "      <th>81</th>\n",
       "      <th>82</th>\n",
       "      <th>83</th>\n",
       "      <th>84</th>\n",
       "      <th>85</th>\n",
       "      <th>86</th>\n",
       "      <th>87</th>\n",
       "      <th>88</th>\n",
       "      <th>89</th>\n",
       "      <th>90</th>\n",
       "      <th>91</th>\n",
       "      <th>92</th>\n",
       "      <th>93</th>\n",
       "      <th>94</th>\n",
       "      <th>95</th>\n",
       "      <th>96</th>\n",
       "      <th>97</th>\n",
       "      <th>98</th>\n",
       "      <th>99</th>\n",
       "      <th>100</th>\n",
       "      <th>101</th>\n",
       "      <th>102</th>\n",
       "      <th>103</th>\n",
       "      <th>104</th>\n",
       "      <th>105</th>\n",
       "      <th>106</th>\n",
       "      <th>107</th>\n",
       "      <th>108</th>\n",
       "      <th>109</th>\n",
       "      <th>110</th>\n",
       "      <th>111</th>\n",
       "      <th>112</th>\n",
       "      <th>113</th>\n",
       "      <th>114</th>\n",
       "      <th>115</th>\n",
       "      <th>116</th>\n",
       "      <th>117</th>\n",
       "      <th>118</th>\n",
       "      <th>119</th>\n",
       "      <th>120</th>\n",
       "      <th>121</th>\n",
       "      <th>122</th>\n",
       "      <th>123</th>\n",
       "      <th>124</th>\n",
       "      <th>125</th>\n",
       "      <th>126</th>\n",
       "    </tr>\n",
       "  </thead>\n",
       "  <tbody>\n",
       "    <tr>\n",
       "      <th>TOYOTA_df</th>\n",
       "      <td>4RUNNER</td>\n",
       "      <td>ALLION</td>\n",
       "      <td>ALPHARD</td>\n",
       "      <td>ALTEZZA</td>\n",
       "      <td>ALTEZZA GITA</td>\n",
       "      <td>AQUA</td>\n",
       "      <td>ARISTO</td>\n",
       "      <td>AURIS</td>\n",
       "      <td>AVALON</td>\n",
       "      <td>AVENSIS</td>\n",
       "      <td>AVENSIS VERSO</td>\n",
       "      <td>AYGO</td>\n",
       "      <td>BB</td>\n",
       "      <td>C-HR</td>\n",
       "      <td>CALDINA</td>\n",
       "      <td>CAMRY</td>\n",
       "      <td>CAMRY SOLARA</td>\n",
       "      <td>CARINA</td>\n",
       "      <td>CARINA E</td>\n",
       "      <td>CARINA ED</td>\n",
       "      <td>CAVALIER</td>\n",
       "      <td>CELICA</td>\n",
       "      <td>CHASER</td>\n",
       "      <td>COROLLA</td>\n",
       "      <td>COROLLA LEVIN</td>\n",
       "      <td>COROLLA LIFTBACK</td>\n",
       "      <td>COROLLA RUMION</td>\n",
       "      <td>COROLLA SPACIO</td>\n",
       "      <td>COROLLA VERSO</td>\n",
       "      <td>CORONA</td>\n",
       "      <td>CORSA</td>\n",
       "      <td>CRESTA</td>\n",
       "      <td>CROWN</td>\n",
       "      <td>CYNOS</td>\n",
       "      <td>ECHO</td>\n",
       "      <td>ESQUIRE</td>\n",
       "      <td>ESTIMA</td>\n",
       "      <td>FJ CRUISER</td>\n",
       "      <td>FORTUNER</td>\n",
       "      <td>FUNCARGO</td>\n",
       "      <td>GAIA</td>\n",
       "      <td>GRAND HIACE</td>\n",
       "      <td>GT86</td>\n",
       "      <td>HARRIER</td>\n",
       "      <td>HIACE</td>\n",
       "      <td>HIACE H300</td>\n",
       "      <td>HIGHLANDER</td>\n",
       "      <td>HILUX</td>\n",
       "      <td>HILUX ARCTIC</td>\n",
       "      <td>HILUX DOUBLE</td>\n",
       "      <td>HILUX SURF</td>\n",
       "      <td>IPSUM</td>\n",
       "      <td>IQ</td>\n",
       "      <td>ISIS</td>\n",
       "      <td>IST</td>\n",
       "      <td>LAND CRUISER</td>\n",
       "      <td>LAND CRUISER PRADO</td>\n",
       "      <td>LITE ACE</td>\n",
       "      <td>MARK</td>\n",
       "      <td>MASTER ACE SURF</td>\n",
       "      <td>MATRIX</td>\n",
       "      <td>MEGA CRUISER</td>\n",
       "      <td>MR2</td>\n",
       "      <td>NOAH</td>\n",
       "      <td>OPA</td>\n",
       "      <td>PASSO</td>\n",
       "      <td>PICNIC</td>\n",
       "      <td>PIXIS VAN</td>\n",
       "      <td>PLATZ</td>\n",
       "      <td>PREMIO</td>\n",
       "      <td>PREVIA</td>\n",
       "      <td>PRIUS</td>\n",
       "      <td>PRIUS ALPHA</td>\n",
       "      <td>PROBOX</td>\n",
       "      <td>RACTIS</td>\n",
       "      <td>RAUM</td>\n",
       "      <td>RAV4</td>\n",
       "      <td>REGIUS</td>\n",
       "      <td>SEQUOIA</td>\n",
       "      <td>SIENNA</td>\n",
       "      <td>SIENTA</td>\n",
       "      <td>SOARER</td>\n",
       "      <td>SPARKY</td>\n",
       "      <td>SPRINTER</td>\n",
       "      <td>SPRINTER MARINO</td>\n",
       "      <td>SPRINTER TRUENO</td>\n",
       "      <td>STARLET</td>\n",
       "      <td>SUCCEED</td>\n",
       "      <td>SUPRA</td>\n",
       "      <td>TACOMA</td>\n",
       "      <td>TERCEL</td>\n",
       "      <td>TOWN ACE</td>\n",
       "      <td>TUNDRA</td>\n",
       "      <td>TUNDRA ARCTIC</td>\n",
       "      <td>URBAN CRUISER</td>\n",
       "      <td>VELLFIRE</td>\n",
       "      <td>VENZA</td>\n",
       "      <td>VEROSSA</td>\n",
       "      <td>VERSO</td>\n",
       "      <td>VISTA</td>\n",
       "      <td>VITZ</td>\n",
       "      <td>VOLTZ</td>\n",
       "      <td>VOXY</td>\n",
       "      <td>WILL</td>\n",
       "      <td>WILL CYPHA</td>\n",
       "      <td>WINDOM</td>\n",
       "      <td>WISH</td>\n",
       "      <td>YARIS</td>\n",
       "      <td>YARIS VERSO</td>\n",
       "      <td>NaN</td>\n",
       "      <td>NaN</td>\n",
       "      <td>NaN</td>\n",
       "      <td>NaN</td>\n",
       "      <td>NaN</td>\n",
       "      <td>NaN</td>\n",
       "      <td>NaN</td>\n",
       "      <td>NaN</td>\n",
       "      <td>NaN</td>\n",
       "      <td>NaN</td>\n",
       "      <td>NaN</td>\n",
       "      <td>NaN</td>\n",
       "      <td>NaN</td>\n",
       "      <td>NaN</td>\n",
       "      <td>NaN</td>\n",
       "      <td>NaN</td>\n",
       "      <td>NaN</td>\n",
       "      <td>NaN</td>\n",
       "    </tr>\n",
       "    <tr>\n",
       "      <th>TOYOTA_test</th>\n",
       "      <td>4RUNNER</td>\n",
       "      <td>NaN</td>\n",
       "      <td>ALPHARD</td>\n",
       "      <td>ALTEZZA</td>\n",
       "      <td>NaN</td>\n",
       "      <td>AQUA</td>\n",
       "      <td>ARISTO</td>\n",
       "      <td>AURIS</td>\n",
       "      <td>AVALON</td>\n",
       "      <td>AVENSIS</td>\n",
       "      <td>AVENSIS VERSO</td>\n",
       "      <td>AYGO</td>\n",
       "      <td>BB</td>\n",
       "      <td>C-HR</td>\n",
       "      <td>CALDINA</td>\n",
       "      <td>CAMRY</td>\n",
       "      <td>CAMRY SOLARA</td>\n",
       "      <td>CARINA</td>\n",
       "      <td>CARINA E</td>\n",
       "      <td>CARINA ED</td>\n",
       "      <td>CAVALIER</td>\n",
       "      <td>CELICA</td>\n",
       "      <td>CHASER</td>\n",
       "      <td>COROLLA</td>\n",
       "      <td>COROLLA LEVIN</td>\n",
       "      <td>NaN</td>\n",
       "      <td>COROLLA RUMION</td>\n",
       "      <td>COROLLA SPACIO</td>\n",
       "      <td>COROLLA VERSO</td>\n",
       "      <td>CORONA</td>\n",
       "      <td>CORSA</td>\n",
       "      <td>CRESTA</td>\n",
       "      <td>CROWN</td>\n",
       "      <td>CYNOS</td>\n",
       "      <td>ECHO</td>\n",
       "      <td>ESQUIRE</td>\n",
       "      <td>ESTIMA</td>\n",
       "      <td>FJ CRUISER</td>\n",
       "      <td>FORTUNER</td>\n",
       "      <td>FUNCARGO</td>\n",
       "      <td>GAIA</td>\n",
       "      <td>GRAND HIACE</td>\n",
       "      <td>GT86</td>\n",
       "      <td>HARRIER</td>\n",
       "      <td>HIACE</td>\n",
       "      <td>NaN</td>\n",
       "      <td>HIGHLANDER</td>\n",
       "      <td>HILUX</td>\n",
       "      <td>NaN</td>\n",
       "      <td>NaN</td>\n",
       "      <td>HILUX SURF</td>\n",
       "      <td>IPSUM</td>\n",
       "      <td>IQ</td>\n",
       "      <td>ISIS</td>\n",
       "      <td>IST</td>\n",
       "      <td>LAND CRUISER</td>\n",
       "      <td>LAND CRUISER PRADO</td>\n",
       "      <td>LITE ACE</td>\n",
       "      <td>MARK</td>\n",
       "      <td>MASTER ACE SURF</td>\n",
       "      <td>MATRIX</td>\n",
       "      <td>MEGA CRUISER</td>\n",
       "      <td>MR2</td>\n",
       "      <td>NOAH</td>\n",
       "      <td>OPA</td>\n",
       "      <td>PASSO</td>\n",
       "      <td>PICNIC</td>\n",
       "      <td>NaN</td>\n",
       "      <td>PLATZ</td>\n",
       "      <td>PREMIO</td>\n",
       "      <td>PREVIA</td>\n",
       "      <td>PRIUS</td>\n",
       "      <td>PRIUS ALPHA</td>\n",
       "      <td>PROBOX</td>\n",
       "      <td>RACTIS</td>\n",
       "      <td>RAUM</td>\n",
       "      <td>RAV4</td>\n",
       "      <td>REGIUS</td>\n",
       "      <td>SEQUOIA</td>\n",
       "      <td>SIENNA</td>\n",
       "      <td>SIENTA</td>\n",
       "      <td>SOARER</td>\n",
       "      <td>SPARKY</td>\n",
       "      <td>SPRINTER</td>\n",
       "      <td>SPRINTER MARINO</td>\n",
       "      <td>SPRINTER TRUENO</td>\n",
       "      <td>STARLET</td>\n",
       "      <td>SUCCEED</td>\n",
       "      <td>SUPRA</td>\n",
       "      <td>NaN</td>\n",
       "      <td>TERCEL</td>\n",
       "      <td>TOWN ACE</td>\n",
       "      <td>TUNDRA</td>\n",
       "      <td>NaN</td>\n",
       "      <td>NaN</td>\n",
       "      <td>VELLFIRE</td>\n",
       "      <td>VENZA</td>\n",
       "      <td>VEROSSA</td>\n",
       "      <td>VERSO</td>\n",
       "      <td>VISTA</td>\n",
       "      <td>VITZ</td>\n",
       "      <td>NaN</td>\n",
       "      <td>VOXY</td>\n",
       "      <td>WILL</td>\n",
       "      <td>WILL CYPHA</td>\n",
       "      <td>WINDOM</td>\n",
       "      <td>WISH</td>\n",
       "      <td>YARIS</td>\n",
       "      <td>YARIS VERSO</td>\n",
       "      <td>ALLEX</td>\n",
       "      <td>BLADE</td>\n",
       "      <td>CAMI</td>\n",
       "      <td>CURREN</td>\n",
       "      <td>DUET</td>\n",
       "      <td>GRANVIA</td>\n",
       "      <td>MR S</td>\n",
       "      <td>NADIA</td>\n",
       "      <td>ORIGIN</td>\n",
       "      <td>PASEO</td>\n",
       "      <td>PORTE</td>\n",
       "      <td>PRIUSPLUS</td>\n",
       "      <td>PROGRES</td>\n",
       "      <td>SCEPTER SEDAN</td>\n",
       "      <td>SERA</td>\n",
       "      <td>SPADE</td>\n",
       "      <td>SPRINTER CARIB</td>\n",
       "      <td>VANGUARD</td>\n",
       "    </tr>\n",
       "  </tbody>\n",
       "</table>\n",
       "</div>"
      ],
      "text/plain": [
       "                 0       1        2        3             4     5       6    \\\n",
       "TOYOTA_df    4RUNNER  ALLION  ALPHARD  ALTEZZA  ALTEZZA GITA  AQUA  ARISTO   \n",
       "TOYOTA_test  4RUNNER     NaN  ALPHARD  ALTEZZA           NaN  AQUA  ARISTO   \n",
       "\n",
       "               7       8        9              10    11  12    13       14   \\\n",
       "TOYOTA_df    AURIS  AVALON  AVENSIS  AVENSIS VERSO  AYGO  BB  C-HR  CALDINA   \n",
       "TOYOTA_test  AURIS  AVALON  AVENSIS  AVENSIS VERSO  AYGO  BB  C-HR  CALDINA   \n",
       "\n",
       "               15            16      17        18         19        20   \\\n",
       "TOYOTA_df    CAMRY  CAMRY SOLARA  CARINA  CARINA E  CARINA ED  CAVALIER   \n",
       "TOYOTA_test  CAMRY  CAMRY SOLARA  CARINA  CARINA E  CARINA ED  CAVALIER   \n",
       "\n",
       "                21      22       23             24                25   \\\n",
       "TOYOTA_df    CELICA  CHASER  COROLLA  COROLLA LEVIN  COROLLA LIFTBACK   \n",
       "TOYOTA_test  CELICA  CHASER  COROLLA  COROLLA LEVIN               NaN   \n",
       "\n",
       "                        26              27             28      29     30   \\\n",
       "TOYOTA_df    COROLLA RUMION  COROLLA SPACIO  COROLLA VERSO  CORONA  CORSA   \n",
       "TOYOTA_test  COROLLA RUMION  COROLLA SPACIO  COROLLA VERSO  CORONA  CORSA   \n",
       "\n",
       "                31     32     33    34       35      36          37   \\\n",
       "TOYOTA_df    CRESTA  CROWN  CYNOS  ECHO  ESQUIRE  ESTIMA  FJ CRUISER   \n",
       "TOYOTA_test  CRESTA  CROWN  CYNOS  ECHO  ESQUIRE  ESTIMA  FJ CRUISER   \n",
       "\n",
       "                  38        39    40           41    42       43     44   \\\n",
       "TOYOTA_df    FORTUNER  FUNCARGO  GAIA  GRAND HIACE  GT86  HARRIER  HIACE   \n",
       "TOYOTA_test  FORTUNER  FUNCARGO  GAIA  GRAND HIACE  GT86  HARRIER  HIACE   \n",
       "\n",
       "                    45          46     47            48            49   \\\n",
       "TOYOTA_df    HIACE H300  HIGHLANDER  HILUX  HILUX ARCTIC  HILUX DOUBLE   \n",
       "TOYOTA_test         NaN  HIGHLANDER  HILUX           NaN           NaN   \n",
       "\n",
       "                    50     51  52    53   54            55   \\\n",
       "TOYOTA_df    HILUX SURF  IPSUM  IQ  ISIS  IST  LAND CRUISER   \n",
       "TOYOTA_test  HILUX SURF  IPSUM  IQ  ISIS  IST  LAND CRUISER   \n",
       "\n",
       "                            56        57    58               59      60   \\\n",
       "TOYOTA_df    LAND CRUISER PRADO  LITE ACE  MARK  MASTER ACE SURF  MATRIX   \n",
       "TOYOTA_test  LAND CRUISER PRADO  LITE ACE  MARK  MASTER ACE SURF  MATRIX   \n",
       "\n",
       "                      61   62    63   64     65      66         67     68   \\\n",
       "TOYOTA_df    MEGA CRUISER  MR2  NOAH  OPA  PASSO  PICNIC  PIXIS VAN  PLATZ   \n",
       "TOYOTA_test  MEGA CRUISER  MR2  NOAH  OPA  PASSO  PICNIC        NaN  PLATZ   \n",
       "\n",
       "                69      70     71           72      73      74    75    76   \\\n",
       "TOYOTA_df    PREMIO  PREVIA  PRIUS  PRIUS ALPHA  PROBOX  RACTIS  RAUM  RAV4   \n",
       "TOYOTA_test  PREMIO  PREVIA  PRIUS  PRIUS ALPHA  PROBOX  RACTIS  RAUM  RAV4   \n",
       "\n",
       "                77       78      79      80      81      82        83   \\\n",
       "TOYOTA_df    REGIUS  SEQUOIA  SIENNA  SIENTA  SOARER  SPARKY  SPRINTER   \n",
       "TOYOTA_test  REGIUS  SEQUOIA  SIENNA  SIENTA  SOARER  SPARKY  SPRINTER   \n",
       "\n",
       "                         84               85       86       87     88   \\\n",
       "TOYOTA_df    SPRINTER MARINO  SPRINTER TRUENO  STARLET  SUCCEED  SUPRA   \n",
       "TOYOTA_test  SPRINTER MARINO  SPRINTER TRUENO  STARLET  SUCCEED  SUPRA   \n",
       "\n",
       "                89      90        91      92             93             94   \\\n",
       "TOYOTA_df    TACOMA  TERCEL  TOWN ACE  TUNDRA  TUNDRA ARCTIC  URBAN CRUISER   \n",
       "TOYOTA_test     NaN  TERCEL  TOWN ACE  TUNDRA            NaN            NaN   \n",
       "\n",
       "                  95     96       97     98     99    100    101   102   103  \\\n",
       "TOYOTA_df    VELLFIRE  VENZA  VEROSSA  VERSO  VISTA  VITZ  VOLTZ  VOXY  WILL   \n",
       "TOYOTA_test  VELLFIRE  VENZA  VEROSSA  VERSO  VISTA  VITZ    NaN  VOXY  WILL   \n",
       "\n",
       "                    104     105   106    107          108    109    110   111  \\\n",
       "TOYOTA_df    WILL CYPHA  WINDOM  WISH  YARIS  YARIS VERSO    NaN    NaN   NaN   \n",
       "TOYOTA_test  WILL CYPHA  WINDOM  WISH  YARIS  YARIS VERSO  ALLEX  BLADE  CAMI   \n",
       "\n",
       "                112   113      114   115    116     117    118    119  \\\n",
       "TOYOTA_df       NaN   NaN      NaN   NaN    NaN     NaN    NaN    NaN   \n",
       "TOYOTA_test  CURREN  DUET  GRANVIA  MR S  NADIA  ORIGIN  PASEO  PORTE   \n",
       "\n",
       "                   120      121            122   123    124             125  \\\n",
       "TOYOTA_df          NaN      NaN            NaN   NaN    NaN             NaN   \n",
       "TOYOTA_test  PRIUSPLUS  PROGRES  SCEPTER SEDAN  SERA  SPADE  SPRINTER CARIB   \n",
       "\n",
       "                  126  \n",
       "TOYOTA_df         NaN  \n",
       "TOYOTA_test  VANGUARD  "
      ]
     },
     "execution_count": 110,
     "metadata": {},
     "output_type": "execute_result"
    }
   ],
   "source": [
    "models_comparison('TOYOTA', df, test)"
   ]
  },
  {
   "cell_type": "code",
   "execution_count": 111,
   "id": "64c1e3ed",
   "metadata": {
    "executionInfo": {
     "elapsed": 163,
     "status": "ok",
     "timestamp": 1627471007145,
     "user": {
      "displayName": "Сергей",
      "photoUrl": "",
      "userId": "16958243466904798794"
     },
     "user_tz": -180
    },
    "id": "64c1e3ed"
   },
   "outputs": [],
   "source": [
    "mismatch_toyota = models_comparison('TOYOTA', df, test).T\n",
    "mismatch_toyota = mismatch_toyota[mismatch_toyota.TOYOTA_df.isna()].TOYOTA_test.to_list()\n",
    "mismatch_model_withtest.extend(mismatch_toyota)"
   ]
  },
  {
   "cell_type": "markdown",
   "id": "aabd84d2",
   "metadata": {
    "id": "aabd84d2"
   },
   "source": [
    "##### **VOLKSWAGEN**"
   ]
  },
  {
   "cell_type": "code",
   "execution_count": 112,
   "id": "7ab1262d",
   "metadata": {
    "colab": {
     "base_uri": "https://localhost:8080/",
     "height": 272
    },
    "executionInfo": {
     "elapsed": 164,
     "status": "ok",
     "timestamp": 1627471007147,
     "user": {
      "displayName": "Сергей",
      "photoUrl": "",
      "userId": "16958243466904798794"
     },
     "user_tz": -180
    },
    "id": "7ab1262d",
    "outputId": "49050e47-9fbf-40a5-93dd-19fe1c56ee3e"
   },
   "outputs": [
    {
     "data": {
      "text/plain": [
       "array(['Amarok Double Cab I', 'Amarok Double Cab I full-time',\n",
       "       'Amarok I Рестайлинг', 'Amarok Single Cab I', 'Arteon I',\n",
       "       'Atlas I', 'Beetle I (A4)', 'Beetle II (A5)', 'Bora',\n",
       "       'Caddy III Рестайлинг', ..., 'Touran II Cross',\n",
       "       'Transporter Kasten T5 Рестайлинг', 'Transporter T3 5-speed',\n",
       "       'Transporter T4', 'Transporter T5', 'Transporter T5 4MOTION',\n",
       "       'Transporter T5 Рестайлинг', 'Transporter T5 Рестайлинг Long',\n",
       "       'Transporter T6', 'Transporter T6 Long'], dtype='<U32')"
      ]
     },
     "metadata": {},
     "output_type": "display_data"
    },
    {
     "data": {
      "text/plain": [
       "array(['AMAROK', 'ARTEON', 'ATLAS', 'BEETLE', 'BORA', 'CADDY',\n",
       "       'CALIFORNIA', 'CARAVELLE', 'CORRADO', 'EOS', 'EUROVAN', 'FOX',\n",
       "       'GOLF', 'GOLF GTI', 'GOLF PLUS', 'GOLF R', 'GOLF R32', 'JETTA',\n",
       "       'LUPO', 'MULTIVAN', 'PASSAT', 'PASSAT CC', 'PHAETON', 'POINTER',\n",
       "       'POLO', 'POLO GTI', 'SCIROCCO', 'SHARAN', 'TARO', 'TERAMONT',\n",
       "       'TIGUAN', 'TOUAREG', 'TOURAN', 'TRANSPORTER', 'TYPE 1', 'VENTO'],\n",
       "      dtype='<U11')"
      ]
     },
     "execution_count": 112,
     "metadata": {},
     "output_type": "execute_result"
    }
   ],
   "source": [
    "volkswagen_models_df = sorted((df.groupby('brand').model_name.unique())['VOLKSWAGEN'])\n",
    "volkswagen_models_test = sorted((test.groupby('brand').model_name.unique())['VOLKSWAGEN'])\n",
    "display(np.array(volkswagen_models_df))\n",
    "np.array(volkswagen_models_test)"
   ]
  },
  {
   "cell_type": "code",
   "execution_count": 113,
   "id": "fe9bd27b",
   "metadata": {
    "colab": {
     "base_uri": "https://localhost:8080/",
     "height": 165
    },
    "executionInfo": {
     "elapsed": 1432,
     "status": "ok",
     "timestamp": 1627471008417,
     "user": {
      "displayName": "Сергей",
      "photoUrl": "",
      "userId": "16958243466904798794"
     },
     "user_tz": -180
    },
    "id": "fe9bd27b",
    "outputId": "0c4329e5-14d0-42b6-c6a5-dc2b2b2ab6f9"
   },
   "outputs": [
    {
     "data": {
      "text/html": [
       "<div>\n",
       "<style scoped>\n",
       "    .dataframe tbody tr th:only-of-type {\n",
       "        vertical-align: middle;\n",
       "    }\n",
       "\n",
       "    .dataframe tbody tr th {\n",
       "        vertical-align: top;\n",
       "    }\n",
       "\n",
       "    .dataframe thead th {\n",
       "        text-align: right;\n",
       "    }\n",
       "</style>\n",
       "<table border=\"1\" class=\"dataframe\">\n",
       "  <thead>\n",
       "    <tr style=\"text-align: right;\">\n",
       "      <th></th>\n",
       "      <th>0</th>\n",
       "      <th>1</th>\n",
       "      <th>2</th>\n",
       "      <th>3</th>\n",
       "      <th>4</th>\n",
       "      <th>5</th>\n",
       "      <th>6</th>\n",
       "      <th>7</th>\n",
       "      <th>8</th>\n",
       "      <th>9</th>\n",
       "      <th>10</th>\n",
       "      <th>11</th>\n",
       "      <th>12</th>\n",
       "      <th>13</th>\n",
       "      <th>14</th>\n",
       "      <th>15</th>\n",
       "      <th>16</th>\n",
       "      <th>17</th>\n",
       "      <th>18</th>\n",
       "      <th>19</th>\n",
       "      <th>20</th>\n",
       "      <th>21</th>\n",
       "      <th>22</th>\n",
       "      <th>23</th>\n",
       "      <th>24</th>\n",
       "      <th>25</th>\n",
       "      <th>26</th>\n",
       "      <th>27</th>\n",
       "      <th>28</th>\n",
       "      <th>29</th>\n",
       "      <th>30</th>\n",
       "      <th>31</th>\n",
       "      <th>32</th>\n",
       "      <th>33</th>\n",
       "      <th>34</th>\n",
       "      <th>35</th>\n",
       "      <th>36</th>\n",
       "      <th>37</th>\n",
       "      <th>38</th>\n",
       "      <th>39</th>\n",
       "      <th>40</th>\n",
       "      <th>41</th>\n",
       "      <th>42</th>\n",
       "      <th>43</th>\n",
       "      <th>44</th>\n",
       "      <th>45</th>\n",
       "      <th>46</th>\n",
       "      <th>47</th>\n",
       "      <th>48</th>\n",
       "      <th>49</th>\n",
       "      <th>50</th>\n",
       "      <th>51</th>\n",
       "      <th>52</th>\n",
       "      <th>53</th>\n",
       "      <th>54</th>\n",
       "      <th>55</th>\n",
       "      <th>56</th>\n",
       "      <th>57</th>\n",
       "      <th>58</th>\n",
       "      <th>59</th>\n",
       "    </tr>\n",
       "  </thead>\n",
       "  <tbody>\n",
       "    <tr>\n",
       "      <th>VOLKSWAGEN_df</th>\n",
       "      <td>AMAROK</td>\n",
       "      <td>AMAROK DOUBLE</td>\n",
       "      <td>AMAROK SINGLE</td>\n",
       "      <td>ARTEON</td>\n",
       "      <td>ATLAS</td>\n",
       "      <td>BEETLE</td>\n",
       "      <td>BORA</td>\n",
       "      <td>CADDY</td>\n",
       "      <td>CADDY KASTEN</td>\n",
       "      <td>CADDY LIFE</td>\n",
       "      <td>CARAVELLE LWB</td>\n",
       "      <td>CARAVELLE SWB</td>\n",
       "      <td>CARAVELLE T4</td>\n",
       "      <td>CARAVELLE T5</td>\n",
       "      <td>CARAVELLE T6</td>\n",
       "      <td>CORRADO</td>\n",
       "      <td>GOLF</td>\n",
       "      <td>GOLF GTI</td>\n",
       "      <td>GOLF PLUS</td>\n",
       "      <td>GOLF R</td>\n",
       "      <td>GOLF R32</td>\n",
       "      <td>JETTA</td>\n",
       "      <td>LUPO</td>\n",
       "      <td>MULTIVAN T4</td>\n",
       "      <td>MULTIVAN T5</td>\n",
       "      <td>MULTIVAN T6</td>\n",
       "      <td>PASSAT</td>\n",
       "      <td>PASSAT B3</td>\n",
       "      <td>PASSAT B4</td>\n",
       "      <td>PASSAT B5</td>\n",
       "      <td>PASSAT B6</td>\n",
       "      <td>PASSAT B7</td>\n",
       "      <td>PASSAT B8</td>\n",
       "      <td>PASSAT CC</td>\n",
       "      <td>PHAETON</td>\n",
       "      <td>PHAETON LONG</td>\n",
       "      <td>POINTER</td>\n",
       "      <td>POLO</td>\n",
       "      <td>SCIROCCO</td>\n",
       "      <td>SHARAN</td>\n",
       "      <td>TERAMONT</td>\n",
       "      <td>TIGUAN</td>\n",
       "      <td>TOUAREG</td>\n",
       "      <td>TOURAN</td>\n",
       "      <td>TRANSPORTER KASTEN</td>\n",
       "      <td>TRANSPORTER T3</td>\n",
       "      <td>TRANSPORTER T4</td>\n",
       "      <td>TRANSPORTER T5</td>\n",
       "      <td>TRANSPORTER T6</td>\n",
       "      <td>NaN</td>\n",
       "      <td>NaN</td>\n",
       "      <td>NaN</td>\n",
       "      <td>NaN</td>\n",
       "      <td>NaN</td>\n",
       "      <td>NaN</td>\n",
       "      <td>NaN</td>\n",
       "      <td>NaN</td>\n",
       "      <td>NaN</td>\n",
       "      <td>NaN</td>\n",
       "      <td>NaN</td>\n",
       "    </tr>\n",
       "    <tr>\n",
       "      <th>VOLKSWAGEN_test</th>\n",
       "      <td>AMAROK</td>\n",
       "      <td>NaN</td>\n",
       "      <td>NaN</td>\n",
       "      <td>ARTEON</td>\n",
       "      <td>ATLAS</td>\n",
       "      <td>BEETLE</td>\n",
       "      <td>BORA</td>\n",
       "      <td>CADDY</td>\n",
       "      <td>NaN</td>\n",
       "      <td>NaN</td>\n",
       "      <td>NaN</td>\n",
       "      <td>NaN</td>\n",
       "      <td>NaN</td>\n",
       "      <td>NaN</td>\n",
       "      <td>NaN</td>\n",
       "      <td>CORRADO</td>\n",
       "      <td>GOLF</td>\n",
       "      <td>GOLF GTI</td>\n",
       "      <td>GOLF PLUS</td>\n",
       "      <td>GOLF R</td>\n",
       "      <td>GOLF R32</td>\n",
       "      <td>JETTA</td>\n",
       "      <td>LUPO</td>\n",
       "      <td>NaN</td>\n",
       "      <td>NaN</td>\n",
       "      <td>NaN</td>\n",
       "      <td>PASSAT</td>\n",
       "      <td>NaN</td>\n",
       "      <td>NaN</td>\n",
       "      <td>NaN</td>\n",
       "      <td>NaN</td>\n",
       "      <td>NaN</td>\n",
       "      <td>NaN</td>\n",
       "      <td>PASSAT CC</td>\n",
       "      <td>PHAETON</td>\n",
       "      <td>NaN</td>\n",
       "      <td>POINTER</td>\n",
       "      <td>POLO</td>\n",
       "      <td>SCIROCCO</td>\n",
       "      <td>SHARAN</td>\n",
       "      <td>TERAMONT</td>\n",
       "      <td>TIGUAN</td>\n",
       "      <td>TOUAREG</td>\n",
       "      <td>TOURAN</td>\n",
       "      <td>NaN</td>\n",
       "      <td>NaN</td>\n",
       "      <td>NaN</td>\n",
       "      <td>NaN</td>\n",
       "      <td>NaN</td>\n",
       "      <td>CALIFORNIA</td>\n",
       "      <td>CARAVELLE</td>\n",
       "      <td>EOS</td>\n",
       "      <td>EUROVAN</td>\n",
       "      <td>FOX</td>\n",
       "      <td>MULTIVAN</td>\n",
       "      <td>POLO GTI</td>\n",
       "      <td>TARO</td>\n",
       "      <td>TRANSPORTER</td>\n",
       "      <td>TYPE 1</td>\n",
       "      <td>VENTO</td>\n",
       "    </tr>\n",
       "  </tbody>\n",
       "</table>\n",
       "</div>"
      ],
      "text/plain": [
       "                     0              1              2       3      4       5   \\\n",
       "VOLKSWAGEN_df    AMAROK  AMAROK DOUBLE  AMAROK SINGLE  ARTEON  ATLAS  BEETLE   \n",
       "VOLKSWAGEN_test  AMAROK            NaN            NaN  ARTEON  ATLAS  BEETLE   \n",
       "\n",
       "                   6      7             8           9              10  \\\n",
       "VOLKSWAGEN_df    BORA  CADDY  CADDY KASTEN  CADDY LIFE  CARAVELLE LWB   \n",
       "VOLKSWAGEN_test  BORA  CADDY           NaN         NaN            NaN   \n",
       "\n",
       "                            11            12            13            14  \\\n",
       "VOLKSWAGEN_df    CARAVELLE SWB  CARAVELLE T4  CARAVELLE T5  CARAVELLE T6   \n",
       "VOLKSWAGEN_test            NaN           NaN           NaN           NaN   \n",
       "\n",
       "                      15    16        17         18      19        20     21  \\\n",
       "VOLKSWAGEN_df    CORRADO  GOLF  GOLF GTI  GOLF PLUS  GOLF R  GOLF R32  JETTA   \n",
       "VOLKSWAGEN_test  CORRADO  GOLF  GOLF GTI  GOLF PLUS  GOLF R  GOLF R32  JETTA   \n",
       "\n",
       "                   22           23           24           25      26  \\\n",
       "VOLKSWAGEN_df    LUPO  MULTIVAN T4  MULTIVAN T5  MULTIVAN T6  PASSAT   \n",
       "VOLKSWAGEN_test  LUPO          NaN          NaN          NaN  PASSAT   \n",
       "\n",
       "                        27         28         29         30         31  \\\n",
       "VOLKSWAGEN_df    PASSAT B3  PASSAT B4  PASSAT B5  PASSAT B6  PASSAT B7   \n",
       "VOLKSWAGEN_test        NaN        NaN        NaN        NaN        NaN   \n",
       "\n",
       "                        32         33       34            35       36    37  \\\n",
       "VOLKSWAGEN_df    PASSAT B8  PASSAT CC  PHAETON  PHAETON LONG  POINTER  POLO   \n",
       "VOLKSWAGEN_test        NaN  PASSAT CC  PHAETON           NaN  POINTER  POLO   \n",
       "\n",
       "                       38      39        40      41       42      43  \\\n",
       "VOLKSWAGEN_df    SCIROCCO  SHARAN  TERAMONT  TIGUAN  TOUAREG  TOURAN   \n",
       "VOLKSWAGEN_test  SCIROCCO  SHARAN  TERAMONT  TIGUAN  TOUAREG  TOURAN   \n",
       "\n",
       "                                 44              45              46  \\\n",
       "VOLKSWAGEN_df    TRANSPORTER KASTEN  TRANSPORTER T3  TRANSPORTER T4   \n",
       "VOLKSWAGEN_test                 NaN             NaN             NaN   \n",
       "\n",
       "                             47              48          49         50   51  \\\n",
       "VOLKSWAGEN_df    TRANSPORTER T5  TRANSPORTER T6         NaN        NaN  NaN   \n",
       "VOLKSWAGEN_test             NaN             NaN  CALIFORNIA  CARAVELLE  EOS   \n",
       "\n",
       "                      52   53        54        55    56           57      58  \\\n",
       "VOLKSWAGEN_df        NaN  NaN       NaN       NaN   NaN          NaN     NaN   \n",
       "VOLKSWAGEN_test  EUROVAN  FOX  MULTIVAN  POLO GTI  TARO  TRANSPORTER  TYPE 1   \n",
       "\n",
       "                    59  \n",
       "VOLKSWAGEN_df      NaN  \n",
       "VOLKSWAGEN_test  VENTO  "
      ]
     },
     "execution_count": 113,
     "metadata": {},
     "output_type": "execute_result"
    }
   ],
   "source": [
    "df.model_name = df[['brand', 'model_name']].apply(\n",
    "    lambda x: models_formatting(x[1]) if x[0] == 'VOLKSWAGEN' else x[1], axis=1)\n",
    "models_comparison('VOLKSWAGEN', df, test)"
   ]
  },
  {
   "cell_type": "code",
   "execution_count": 114,
   "id": "37a90ff4",
   "metadata": {
    "executionInfo": {
     "elapsed": 106,
     "status": "ok",
     "timestamp": 1627471008419,
     "user": {
      "displayName": "Сергей",
      "photoUrl": "",
      "userId": "16958243466904798794"
     },
     "user_tz": -180
    },
    "id": "37a90ff4"
   },
   "outputs": [],
   "source": [
    "df.model_name = df.model_name.apply(lambda x: 'CARAVELLE' if x.find('CARAVELLE')!=-1 else x)\n",
    "df.model_name = df.model_name.apply(lambda x: 'MULTIVAN' if x.find('MULTIVAN')!=-1 else x)\n",
    "df.model_name = df.model_name.apply(lambda x: 'PASSAT' if x.find('PASSAT')!=-1 else x)\n",
    "df.model_name = df.model_name.apply(lambda x: 'TRANSPORTER' if x.find('TRANSPORTER')!=-1 else x)\n",
    "\n",
    "test.model_name = test.model_name.str.replace('PASSAT CC','PASSAT')\n",
    "test.model_name = test.model_name.str.replace('POLO GTI','POLO')"
   ]
  },
  {
   "cell_type": "code",
   "execution_count": 115,
   "id": "26ccdf45",
   "metadata": {
    "colab": {
     "base_uri": "https://localhost:8080/",
     "height": 165
    },
    "executionInfo": {
     "elapsed": 106,
     "status": "ok",
     "timestamp": 1627471008420,
     "user": {
      "displayName": "Сергей",
      "photoUrl": "",
      "userId": "16958243466904798794"
     },
     "user_tz": -180
    },
    "id": "26ccdf45",
    "outputId": "efbef7f7-1b0b-4a9f-fafe-bccceadad216"
   },
   "outputs": [
    {
     "data": {
      "text/html": [
       "<div>\n",
       "<style scoped>\n",
       "    .dataframe tbody tr th:only-of-type {\n",
       "        vertical-align: middle;\n",
       "    }\n",
       "\n",
       "    .dataframe tbody tr th {\n",
       "        vertical-align: top;\n",
       "    }\n",
       "\n",
       "    .dataframe thead th {\n",
       "        text-align: right;\n",
       "    }\n",
       "</style>\n",
       "<table border=\"1\" class=\"dataframe\">\n",
       "  <thead>\n",
       "    <tr style=\"text-align: right;\">\n",
       "      <th></th>\n",
       "      <th>0</th>\n",
       "      <th>1</th>\n",
       "      <th>2</th>\n",
       "      <th>3</th>\n",
       "      <th>4</th>\n",
       "      <th>5</th>\n",
       "      <th>6</th>\n",
       "      <th>7</th>\n",
       "      <th>8</th>\n",
       "      <th>9</th>\n",
       "      <th>10</th>\n",
       "      <th>11</th>\n",
       "      <th>12</th>\n",
       "      <th>13</th>\n",
       "      <th>14</th>\n",
       "      <th>15</th>\n",
       "      <th>16</th>\n",
       "      <th>17</th>\n",
       "      <th>18</th>\n",
       "      <th>19</th>\n",
       "      <th>20</th>\n",
       "      <th>21</th>\n",
       "      <th>22</th>\n",
       "      <th>23</th>\n",
       "      <th>24</th>\n",
       "      <th>25</th>\n",
       "      <th>26</th>\n",
       "      <th>27</th>\n",
       "      <th>28</th>\n",
       "      <th>29</th>\n",
       "      <th>30</th>\n",
       "      <th>31</th>\n",
       "      <th>32</th>\n",
       "      <th>33</th>\n",
       "      <th>34</th>\n",
       "      <th>35</th>\n",
       "      <th>36</th>\n",
       "      <th>37</th>\n",
       "      <th>38</th>\n",
       "    </tr>\n",
       "  </thead>\n",
       "  <tbody>\n",
       "    <tr>\n",
       "      <th>VOLKSWAGEN_df</th>\n",
       "      <td>AMAROK</td>\n",
       "      <td>AMAROK DOUBLE</td>\n",
       "      <td>AMAROK SINGLE</td>\n",
       "      <td>ARTEON</td>\n",
       "      <td>ATLAS</td>\n",
       "      <td>BEETLE</td>\n",
       "      <td>BORA</td>\n",
       "      <td>CADDY</td>\n",
       "      <td>CADDY KASTEN</td>\n",
       "      <td>CADDY LIFE</td>\n",
       "      <td>CARAVELLE</td>\n",
       "      <td>CORRADO</td>\n",
       "      <td>GOLF</td>\n",
       "      <td>GOLF GTI</td>\n",
       "      <td>GOLF PLUS</td>\n",
       "      <td>GOLF R</td>\n",
       "      <td>GOLF R32</td>\n",
       "      <td>JETTA</td>\n",
       "      <td>LUPO</td>\n",
       "      <td>MULTIVAN</td>\n",
       "      <td>PASSAT</td>\n",
       "      <td>PHAETON</td>\n",
       "      <td>PHAETON LONG</td>\n",
       "      <td>POINTER</td>\n",
       "      <td>POLO</td>\n",
       "      <td>SCIROCCO</td>\n",
       "      <td>SHARAN</td>\n",
       "      <td>TERAMONT</td>\n",
       "      <td>TIGUAN</td>\n",
       "      <td>TOUAREG</td>\n",
       "      <td>TOURAN</td>\n",
       "      <td>TRANSPORTER</td>\n",
       "      <td>NaN</td>\n",
       "      <td>NaN</td>\n",
       "      <td>NaN</td>\n",
       "      <td>NaN</td>\n",
       "      <td>NaN</td>\n",
       "      <td>NaN</td>\n",
       "      <td>NaN</td>\n",
       "    </tr>\n",
       "    <tr>\n",
       "      <th>VOLKSWAGEN_test</th>\n",
       "      <td>AMAROK</td>\n",
       "      <td>NaN</td>\n",
       "      <td>NaN</td>\n",
       "      <td>ARTEON</td>\n",
       "      <td>ATLAS</td>\n",
       "      <td>BEETLE</td>\n",
       "      <td>BORA</td>\n",
       "      <td>CADDY</td>\n",
       "      <td>NaN</td>\n",
       "      <td>NaN</td>\n",
       "      <td>CARAVELLE</td>\n",
       "      <td>CORRADO</td>\n",
       "      <td>GOLF</td>\n",
       "      <td>GOLF GTI</td>\n",
       "      <td>GOLF PLUS</td>\n",
       "      <td>GOLF R</td>\n",
       "      <td>GOLF R32</td>\n",
       "      <td>JETTA</td>\n",
       "      <td>LUPO</td>\n",
       "      <td>MULTIVAN</td>\n",
       "      <td>PASSAT</td>\n",
       "      <td>PHAETON</td>\n",
       "      <td>NaN</td>\n",
       "      <td>POINTER</td>\n",
       "      <td>POLO</td>\n",
       "      <td>SCIROCCO</td>\n",
       "      <td>SHARAN</td>\n",
       "      <td>TERAMONT</td>\n",
       "      <td>TIGUAN</td>\n",
       "      <td>TOUAREG</td>\n",
       "      <td>TOURAN</td>\n",
       "      <td>TRANSPORTER</td>\n",
       "      <td>CALIFORNIA</td>\n",
       "      <td>EOS</td>\n",
       "      <td>EUROVAN</td>\n",
       "      <td>FOX</td>\n",
       "      <td>TARO</td>\n",
       "      <td>TYPE 1</td>\n",
       "      <td>VENTO</td>\n",
       "    </tr>\n",
       "  </tbody>\n",
       "</table>\n",
       "</div>"
      ],
      "text/plain": [
       "                     0              1              2       3      4       5   \\\n",
       "VOLKSWAGEN_df    AMAROK  AMAROK DOUBLE  AMAROK SINGLE  ARTEON  ATLAS  BEETLE   \n",
       "VOLKSWAGEN_test  AMAROK            NaN            NaN  ARTEON  ATLAS  BEETLE   \n",
       "\n",
       "                   6      7             8           9          10       11  \\\n",
       "VOLKSWAGEN_df    BORA  CADDY  CADDY KASTEN  CADDY LIFE  CARAVELLE  CORRADO   \n",
       "VOLKSWAGEN_test  BORA  CADDY           NaN         NaN  CARAVELLE  CORRADO   \n",
       "\n",
       "                   12        13         14      15        16     17    18  \\\n",
       "VOLKSWAGEN_df    GOLF  GOLF GTI  GOLF PLUS  GOLF R  GOLF R32  JETTA  LUPO   \n",
       "VOLKSWAGEN_test  GOLF  GOLF GTI  GOLF PLUS  GOLF R  GOLF R32  JETTA  LUPO   \n",
       "\n",
       "                       19      20       21            22       23    24  \\\n",
       "VOLKSWAGEN_df    MULTIVAN  PASSAT  PHAETON  PHAETON LONG  POINTER  POLO   \n",
       "VOLKSWAGEN_test  MULTIVAN  PASSAT  PHAETON           NaN  POINTER  POLO   \n",
       "\n",
       "                       25      26        27      28       29      30  \\\n",
       "VOLKSWAGEN_df    SCIROCCO  SHARAN  TERAMONT  TIGUAN  TOUAREG  TOURAN   \n",
       "VOLKSWAGEN_test  SCIROCCO  SHARAN  TERAMONT  TIGUAN  TOUAREG  TOURAN   \n",
       "\n",
       "                          31          32   33       34   35    36      37  \\\n",
       "VOLKSWAGEN_df    TRANSPORTER         NaN  NaN      NaN  NaN   NaN     NaN   \n",
       "VOLKSWAGEN_test  TRANSPORTER  CALIFORNIA  EOS  EUROVAN  FOX  TARO  TYPE 1   \n",
       "\n",
       "                    38  \n",
       "VOLKSWAGEN_df      NaN  \n",
       "VOLKSWAGEN_test  VENTO  "
      ]
     },
     "execution_count": 115,
     "metadata": {},
     "output_type": "execute_result"
    }
   ],
   "source": [
    "models_comparison('VOLKSWAGEN', df, test)"
   ]
  },
  {
   "cell_type": "code",
   "execution_count": 116,
   "id": "54ed41b0",
   "metadata": {
    "executionInfo": {
     "elapsed": 104,
     "status": "ok",
     "timestamp": 1627471008421,
     "user": {
      "displayName": "Сергей",
      "photoUrl": "",
      "userId": "16958243466904798794"
     },
     "user_tz": -180
    },
    "id": "54ed41b0"
   },
   "outputs": [],
   "source": [
    "mismatch_volkswagen = models_comparison('VOLKSWAGEN', df, test).T\n",
    "mismatch_volkswagen = mismatch_volkswagen[mismatch_volkswagen.VOLKSWAGEN_df.isna(\n",
    ")].VOLKSWAGEN_test.to_list()\n",
    "mismatch_model_withtest.extend(mismatch_toyota)"
   ]
  },
  {
   "cell_type": "markdown",
   "id": "56cbc1fc",
   "metadata": {
    "id": "56cbc1fc"
   },
   "source": [
    "##### **VOLVO**"
   ]
  },
  {
   "cell_type": "code",
   "execution_count": 117,
   "id": "df8b48b8",
   "metadata": {
    "colab": {
     "base_uri": "https://localhost:8080/",
     "height": 340
    },
    "executionInfo": {
     "elapsed": 104,
     "status": "ok",
     "timestamp": 1627471008422,
     "user": {
      "displayName": "Сергей",
      "photoUrl": "",
      "userId": "16958243466904798794"
     },
     "user_tz": -180
    },
    "id": "df8b48b8",
    "outputId": "bc2caff9-f9c2-494a-82c6-f1e6f851a3ac"
   },
   "outputs": [
    {
     "data": {
      "text/plain": [
       "array(['240 Series', '460', '740', '850', '940', '960 I',\n",
       "       '960 I Рестайлинг', 'C30 I', 'C30 I Рестайлинг', 'C70 I', 'C70 II',\n",
       "       'S40 I', 'S40 I Рестайлинг', 'S40 II', 'S40 II Рестайлинг',\n",
       "       'S60 Cross Country', 'S60 I', 'S60 I Рестайлинг',\n",
       "       'S60 I Рестайлинг R', 'S60 II', 'S60 II Рестайлинг', 'S60 III',\n",
       "       'S70', 'S80 I', 'S80 I Рестайлинг', 'S80 II', 'S80 II Рестайлинг',\n",
       "       'S80 II Рестайлинг 2', 'S90 I', 'S90 II', 'V40 Cross Country I',\n",
       "       'V40 Cross Country I Рестайлинг', 'V40 II', 'V50 I',\n",
       "       'V50 I Рестайлинг', 'V60 Cross Country I', 'V60 Cross Country II',\n",
       "       'V60 I', 'V70 I', 'V70 II', 'V70 II Рестайлинг', 'V70 III',\n",
       "       'V90 Cross Country I', 'V90 Cross Country I Рестайлинг', 'XC40 I',\n",
       "       'XC60 I', 'XC60 I Рестайлинг', 'XC60 II', 'XC70 I',\n",
       "       'XC70 I Рестайлинг', 'XC70 II', 'XC70 II Рестайлинг', 'XC90 I',\n",
       "       'XC90 I Рестайлинг', 'XC90 II', 'XC90 II Рестайлинг'], dtype='<U30')"
      ]
     },
     "metadata": {},
     "output_type": "display_data"
    },
    {
     "data": {
      "text/plain": [
       "array(['140', '240 SERIES', '440', '460', '740', '760', '850', '940',\n",
       "       '960', 'C30', 'C70', 'S40', 'S60', 'S60 CROSS COUNTRY', 'S70',\n",
       "       'S80', 'S90', 'V40', 'V40 CC', 'V50', 'V60', 'V60 CROSS COUNTRY',\n",
       "       'V70', 'V90 CROSS COUNTRY', 'XC40', 'XC60', 'XC70', 'XC90'],\n",
       "      dtype='<U17')"
      ]
     },
     "execution_count": 117,
     "metadata": {},
     "output_type": "execute_result"
    }
   ],
   "source": [
    "volvo_models_df = sorted((df.groupby('brand').model_name.unique())['VOLVO'])\n",
    "volvo_models_test = sorted((test.groupby('brand').model_name.unique())['VOLVO'])\n",
    "display(np.array(volvo_models_df))\n",
    "np.array(volvo_models_test)"
   ]
  },
  {
   "cell_type": "code",
   "execution_count": 118,
   "id": "441ce91d",
   "metadata": {
    "colab": {
     "base_uri": "https://localhost:8080/",
     "height": 182
    },
    "executionInfo": {
     "elapsed": 102,
     "status": "ok",
     "timestamp": 1627471008423,
     "user": {
      "displayName": "Сергей",
      "photoUrl": "",
      "userId": "16958243466904798794"
     },
     "user_tz": -180
    },
    "id": "441ce91d",
    "outputId": "5507591f-2906-42d3-8630-616df6dc9237"
   },
   "outputs": [
    {
     "data": {
      "text/html": [
       "<div>\n",
       "<style scoped>\n",
       "    .dataframe tbody tr th:only-of-type {\n",
       "        vertical-align: middle;\n",
       "    }\n",
       "\n",
       "    .dataframe tbody tr th {\n",
       "        vertical-align: top;\n",
       "    }\n",
       "\n",
       "    .dataframe thead th {\n",
       "        text-align: right;\n",
       "    }\n",
       "</style>\n",
       "<table border=\"1\" class=\"dataframe\">\n",
       "  <thead>\n",
       "    <tr style=\"text-align: right;\">\n",
       "      <th></th>\n",
       "      <th>0</th>\n",
       "      <th>1</th>\n",
       "      <th>2</th>\n",
       "      <th>3</th>\n",
       "      <th>4</th>\n",
       "      <th>5</th>\n",
       "      <th>6</th>\n",
       "      <th>7</th>\n",
       "      <th>8</th>\n",
       "      <th>9</th>\n",
       "      <th>10</th>\n",
       "      <th>11</th>\n",
       "      <th>12</th>\n",
       "      <th>13</th>\n",
       "      <th>14</th>\n",
       "      <th>15</th>\n",
       "      <th>16</th>\n",
       "      <th>17</th>\n",
       "      <th>18</th>\n",
       "      <th>19</th>\n",
       "      <th>20</th>\n",
       "      <th>21</th>\n",
       "      <th>22</th>\n",
       "      <th>23</th>\n",
       "      <th>24</th>\n",
       "      <th>25</th>\n",
       "      <th>26</th>\n",
       "      <th>27</th>\n",
       "      <th>28</th>\n",
       "      <th>29</th>\n",
       "      <th>30</th>\n",
       "      <th>31</th>\n",
       "    </tr>\n",
       "  </thead>\n",
       "  <tbody>\n",
       "    <tr>\n",
       "      <th>VOLVO_df</th>\n",
       "      <td>240 SERIES</td>\n",
       "      <td>460</td>\n",
       "      <td>740</td>\n",
       "      <td>850</td>\n",
       "      <td>940</td>\n",
       "      <td>960</td>\n",
       "      <td>C30</td>\n",
       "      <td>C70</td>\n",
       "      <td>S40</td>\n",
       "      <td>S60</td>\n",
       "      <td>S60 CROSS</td>\n",
       "      <td>S70</td>\n",
       "      <td>S80</td>\n",
       "      <td>S90</td>\n",
       "      <td>V40</td>\n",
       "      <td>V40 CROSS</td>\n",
       "      <td>V50</td>\n",
       "      <td>V60</td>\n",
       "      <td>V60 CROSS</td>\n",
       "      <td>V70</td>\n",
       "      <td>V90 CROSS</td>\n",
       "      <td>XC40</td>\n",
       "      <td>XC60</td>\n",
       "      <td>XC70</td>\n",
       "      <td>XC90</td>\n",
       "      <td>NaN</td>\n",
       "      <td>NaN</td>\n",
       "      <td>NaN</td>\n",
       "      <td>NaN</td>\n",
       "      <td>NaN</td>\n",
       "      <td>NaN</td>\n",
       "      <td>NaN</td>\n",
       "    </tr>\n",
       "    <tr>\n",
       "      <th>VOLVO_test</th>\n",
       "      <td>240 SERIES</td>\n",
       "      <td>460</td>\n",
       "      <td>740</td>\n",
       "      <td>850</td>\n",
       "      <td>940</td>\n",
       "      <td>960</td>\n",
       "      <td>C30</td>\n",
       "      <td>C70</td>\n",
       "      <td>S40</td>\n",
       "      <td>S60</td>\n",
       "      <td>NaN</td>\n",
       "      <td>S70</td>\n",
       "      <td>S80</td>\n",
       "      <td>S90</td>\n",
       "      <td>V40</td>\n",
       "      <td>NaN</td>\n",
       "      <td>V50</td>\n",
       "      <td>V60</td>\n",
       "      <td>NaN</td>\n",
       "      <td>V70</td>\n",
       "      <td>NaN</td>\n",
       "      <td>XC40</td>\n",
       "      <td>XC60</td>\n",
       "      <td>XC70</td>\n",
       "      <td>XC90</td>\n",
       "      <td>140</td>\n",
       "      <td>440</td>\n",
       "      <td>760</td>\n",
       "      <td>S60 CROSS COUNTRY</td>\n",
       "      <td>V40 CC</td>\n",
       "      <td>V60 CROSS COUNTRY</td>\n",
       "      <td>V90 CROSS COUNTRY</td>\n",
       "    </tr>\n",
       "  </tbody>\n",
       "</table>\n",
       "</div>"
      ],
      "text/plain": [
       "                    0    1    2    3    4    5    6    7    8    9   \\\n",
       "VOLVO_df    240 SERIES  460  740  850  940  960  C30  C70  S40  S60   \n",
       "VOLVO_test  240 SERIES  460  740  850  940  960  C30  C70  S40  S60   \n",
       "\n",
       "                   10   11   12   13   14         15   16   17         18  \\\n",
       "VOLVO_df    S60 CROSS  S70  S80  S90  V40  V40 CROSS  V50  V60  V60 CROSS   \n",
       "VOLVO_test        NaN  S70  S80  S90  V40        NaN  V50  V60        NaN   \n",
       "\n",
       "             19         20    21    22    23    24   25   26   27  \\\n",
       "VOLVO_df    V70  V90 CROSS  XC40  XC60  XC70  XC90  NaN  NaN  NaN   \n",
       "VOLVO_test  V70        NaN  XC40  XC60  XC70  XC90  140  440  760   \n",
       "\n",
       "                           28      29                 30                 31  \n",
       "VOLVO_df                  NaN     NaN                NaN                NaN  \n",
       "VOLVO_test  S60 CROSS COUNTRY  V40 CC  V60 CROSS COUNTRY  V90 CROSS COUNTRY  "
      ]
     },
     "execution_count": 118,
     "metadata": {},
     "output_type": "execute_result"
    }
   ],
   "source": [
    "df.model_name = df[['brand', 'model_name']].apply(\n",
    "    lambda x: models_formatting(x[1]) if x[0] == 'VOLVO' else x[1], axis=1)\n",
    "models_comparison('VOLVO', df, test)"
   ]
  },
  {
   "cell_type": "code",
   "execution_count": 119,
   "id": "5b7fadfe",
   "metadata": {
    "executionInfo": {
     "elapsed": 101,
     "status": "ok",
     "timestamp": 1627471008424,
     "user": {
      "displayName": "Сергей",
      "photoUrl": "",
      "userId": "16958243466904798794"
     },
     "user_tz": -180
    },
    "id": "5b7fadfe"
   },
   "outputs": [],
   "source": [
    "df.model_name = df.model_name.str.replace('V40 CROSS','V40 CROSS COUNTRY')\n",
    "df.model_name = df.model_name.str.replace('V60 CROSS','V60 CROSS COUNTRY')\n",
    "df.model_name = df.model_name.str.replace('V90 CROSS','V90 CROSS COUNTRY')\n",
    "df.model_name = df.model_name.str.replace('S60 CROSS','S60 CROSS COUNTRY')\n",
    "\n",
    "\n",
    "test.model_name = test.model_name.str.replace('V40 CC','V40 CROSS COUNTRY')"
   ]
  },
  {
   "cell_type": "code",
   "execution_count": 120,
   "id": "8656a6b6",
   "metadata": {
    "colab": {
     "base_uri": "https://localhost:8080/",
     "height": 199
    },
    "executionInfo": {
     "elapsed": 101,
     "status": "ok",
     "timestamp": 1627471008425,
     "user": {
      "displayName": "Сергей",
      "photoUrl": "",
      "userId": "16958243466904798794"
     },
     "user_tz": -180
    },
    "id": "8656a6b6",
    "outputId": "4d488373-103a-4204-c649-f482cf1de78c"
   },
   "outputs": [
    {
     "data": {
      "text/html": [
       "<div>\n",
       "<style scoped>\n",
       "    .dataframe tbody tr th:only-of-type {\n",
       "        vertical-align: middle;\n",
       "    }\n",
       "\n",
       "    .dataframe tbody tr th {\n",
       "        vertical-align: top;\n",
       "    }\n",
       "\n",
       "    .dataframe thead th {\n",
       "        text-align: right;\n",
       "    }\n",
       "</style>\n",
       "<table border=\"1\" class=\"dataframe\">\n",
       "  <thead>\n",
       "    <tr style=\"text-align: right;\">\n",
       "      <th></th>\n",
       "      <th>0</th>\n",
       "      <th>1</th>\n",
       "      <th>2</th>\n",
       "      <th>3</th>\n",
       "      <th>4</th>\n",
       "      <th>5</th>\n",
       "      <th>6</th>\n",
       "      <th>7</th>\n",
       "      <th>8</th>\n",
       "      <th>9</th>\n",
       "      <th>10</th>\n",
       "      <th>11</th>\n",
       "      <th>12</th>\n",
       "      <th>13</th>\n",
       "      <th>14</th>\n",
       "      <th>15</th>\n",
       "      <th>16</th>\n",
       "      <th>17</th>\n",
       "      <th>18</th>\n",
       "      <th>19</th>\n",
       "      <th>20</th>\n",
       "      <th>21</th>\n",
       "      <th>22</th>\n",
       "      <th>23</th>\n",
       "      <th>24</th>\n",
       "      <th>25</th>\n",
       "      <th>26</th>\n",
       "      <th>27</th>\n",
       "    </tr>\n",
       "  </thead>\n",
       "  <tbody>\n",
       "    <tr>\n",
       "      <th>VOLVO_df</th>\n",
       "      <td>240 SERIES</td>\n",
       "      <td>460</td>\n",
       "      <td>740</td>\n",
       "      <td>850</td>\n",
       "      <td>940</td>\n",
       "      <td>960</td>\n",
       "      <td>C30</td>\n",
       "      <td>C70</td>\n",
       "      <td>S40</td>\n",
       "      <td>S60</td>\n",
       "      <td>S60 CROSS COUNTRY</td>\n",
       "      <td>S70</td>\n",
       "      <td>S80</td>\n",
       "      <td>S90</td>\n",
       "      <td>V40</td>\n",
       "      <td>V40 CROSS COUNTRY</td>\n",
       "      <td>V50</td>\n",
       "      <td>V60</td>\n",
       "      <td>V60 CROSS COUNTRY</td>\n",
       "      <td>V70</td>\n",
       "      <td>V90 CROSS COUNTRY</td>\n",
       "      <td>XC40</td>\n",
       "      <td>XC60</td>\n",
       "      <td>XC70</td>\n",
       "      <td>XC90</td>\n",
       "      <td>NaN</td>\n",
       "      <td>NaN</td>\n",
       "      <td>NaN</td>\n",
       "    </tr>\n",
       "    <tr>\n",
       "      <th>VOLVO_test</th>\n",
       "      <td>240 SERIES</td>\n",
       "      <td>460</td>\n",
       "      <td>740</td>\n",
       "      <td>850</td>\n",
       "      <td>940</td>\n",
       "      <td>960</td>\n",
       "      <td>C30</td>\n",
       "      <td>C70</td>\n",
       "      <td>S40</td>\n",
       "      <td>S60</td>\n",
       "      <td>S60 CROSS COUNTRY</td>\n",
       "      <td>S70</td>\n",
       "      <td>S80</td>\n",
       "      <td>S90</td>\n",
       "      <td>V40</td>\n",
       "      <td>V40 CROSS COUNTRY</td>\n",
       "      <td>V50</td>\n",
       "      <td>V60</td>\n",
       "      <td>V60 CROSS COUNTRY</td>\n",
       "      <td>V70</td>\n",
       "      <td>V90 CROSS COUNTRY</td>\n",
       "      <td>XC40</td>\n",
       "      <td>XC60</td>\n",
       "      <td>XC70</td>\n",
       "      <td>XC90</td>\n",
       "      <td>140</td>\n",
       "      <td>440</td>\n",
       "      <td>760</td>\n",
       "    </tr>\n",
       "  </tbody>\n",
       "</table>\n",
       "</div>"
      ],
      "text/plain": [
       "                    0    1    2    3    4    5    6    7    8    9   \\\n",
       "VOLVO_df    240 SERIES  460  740  850  940  960  C30  C70  S40  S60   \n",
       "VOLVO_test  240 SERIES  460  740  850  940  960  C30  C70  S40  S60   \n",
       "\n",
       "                           10   11   12   13   14                 15   16  \\\n",
       "VOLVO_df    S60 CROSS COUNTRY  S70  S80  S90  V40  V40 CROSS COUNTRY  V50   \n",
       "VOLVO_test  S60 CROSS COUNTRY  S70  S80  S90  V40  V40 CROSS COUNTRY  V50   \n",
       "\n",
       "             17                 18   19                 20    21    22    23  \\\n",
       "VOLVO_df    V60  V60 CROSS COUNTRY  V70  V90 CROSS COUNTRY  XC40  XC60  XC70   \n",
       "VOLVO_test  V60  V60 CROSS COUNTRY  V70  V90 CROSS COUNTRY  XC40  XC60  XC70   \n",
       "\n",
       "              24   25   26   27  \n",
       "VOLVO_df    XC90  NaN  NaN  NaN  \n",
       "VOLVO_test  XC90  140  440  760  "
      ]
     },
     "execution_count": 120,
     "metadata": {},
     "output_type": "execute_result"
    }
   ],
   "source": [
    "models_comparison('VOLVO', df, test)"
   ]
  },
  {
   "cell_type": "code",
   "execution_count": 121,
   "id": "5e344bcf",
   "metadata": {
    "executionInfo": {
     "elapsed": 101,
     "status": "ok",
     "timestamp": 1627471008426,
     "user": {
      "displayName": "Сергей",
      "photoUrl": "",
      "userId": "16958243466904798794"
     },
     "user_tz": -180
    },
    "id": "5e344bcf"
   },
   "outputs": [],
   "source": [
    "mismatch_volvo = models_comparison('VOLVO', df, test).T\n",
    "mismatch_volvo = mismatch_volvo[mismatch_volvo.VOLVO_df.isna()].VOLVO_test.to_list()\n",
    "mismatch_model_withtest.extend(mismatch_volvo)"
   ]
  },
  {
   "cell_type": "markdown",
   "id": "3ae8f2c6",
   "metadata": {
    "id": "3ae8f2c6"
   },
   "source": [
    "Теперь посмотрим сколько автомобилей из test отсутствуют в df"
   ]
  },
  {
   "cell_type": "code",
   "execution_count": 122,
   "id": "1def14dd",
   "metadata": {
    "colab": {
     "base_uri": "https://localhost:8080/"
    },
    "executionInfo": {
     "elapsed": 103,
     "status": "ok",
     "timestamp": 1627471008428,
     "user": {
      "displayName": "Сергей",
      "photoUrl": "",
      "userId": "16958243466904798794"
     },
     "user_tz": -180
    },
    "id": "1def14dd",
    "outputId": "06fdac94-d96c-4087-b7a6-177ca05c9768"
   },
   "outputs": [
    {
     "data": {
      "text/plain": [
       "480"
      ]
     },
     "execution_count": 122,
     "metadata": {},
     "output_type": "execute_result"
    }
   ],
   "source": [
    "test[test.model_name.isin(mismatch_model_withtest)].shape[0]"
   ]
  },
  {
   "cell_type": "markdown",
   "id": "33a2a2ca",
   "metadata": {
    "id": "e7df867a"
   },
   "source": [
    "Не много, но есть вероятность, что предсказание по ним будет затруднено."
   ]
  },
  {
   "cell_type": "markdown",
   "id": "082144e6",
   "metadata": {},
   "source": [
    "#### **numberOfDoors**"
   ]
  },
  {
   "cell_type": "markdown",
   "id": "e7df867a",
   "metadata": {
    "id": "e7df867a"
   },
   "source": [
    "Теперь вернемся к определению количества дверей в отсутствующих данных на основании пары \n",
    "\n",
    "brand, model_name"
   ]
  },
  {
   "cell_type": "code",
   "execution_count": 123,
   "id": "83d2199e",
   "metadata": {
    "colab": {
     "base_uri": "https://localhost:8080/"
    },
    "executionInfo": {
     "elapsed": 83,
     "status": "ok",
     "timestamp": 1627471008437,
     "user": {
      "displayName": "Сергей",
      "photoUrl": "",
      "userId": "16958243466904798794"
     },
     "user_tz": -180
    },
    "id": "83d2199e",
    "outputId": "40c7749b-573f-4ff2-8d8b-3f087da99fe5"
   },
   "outputs": [
    {
     "data": {
      "text/plain": [
       "575"
      ]
     },
     "execution_count": 123,
     "metadata": {},
     "output_type": "execute_result"
    }
   ],
   "source": [
    "df.numberOfDoors.isna().sum()"
   ]
  },
  {
   "cell_type": "code",
   "execution_count": 124,
   "id": "7b2edf4f",
   "metadata": {
    "executionInfo": {
     "elapsed": 1581,
     "status": "ok",
     "timestamp": 1627471009951,
     "user": {
      "displayName": "Сергей",
      "photoUrl": "",
      "userId": "16958243466904798794"
     },
     "user_tz": -180
    },
    "id": "7b2edf4f"
   },
   "outputs": [],
   "source": [
    "def insert_numbers_doors(row):\n",
    "    if pd.isna(row[3]) and row[0] in body_mis_doors:\n",
    "        try:\n",
    "            return body_door_dict[row[0]][(row[1], row[2])]\n",
    "        except KeyError:\n",
    "            return row[3]\n",
    "    else:\n",
    "        return row[3]\n",
    "\n",
    "\n",
    "df['numberOfDoors'] = df[['bodyType', 'brand', 'model_name',\n",
    "                          'numberOfDoors']].apply(insert_numbers_doors, axis=1)"
   ]
  },
  {
   "cell_type": "code",
   "execution_count": 125,
   "id": "4cd3d950",
   "metadata": {
    "colab": {
     "base_uri": "https://localhost:8080/"
    },
    "executionInfo": {
     "elapsed": 169,
     "status": "ok",
     "timestamp": 1627471009952,
     "user": {
      "displayName": "Сергей",
      "photoUrl": "",
      "userId": "16958243466904798794"
     },
     "user_tz": -180
    },
    "id": "4cd3d950",
    "outputId": "74468bfe-582f-4521-d2c2-16cc5908523e"
   },
   "outputs": [
    {
     "data": {
      "text/plain": [
       "192"
      ]
     },
     "execution_count": 125,
     "metadata": {},
     "output_type": "execute_result"
    }
   ],
   "source": [
    "df.numberOfDoors.isna().sum()"
   ]
  },
  {
   "cell_type": "markdown",
   "id": "73097b66",
   "metadata": {
    "id": "73097b66"
   },
   "source": [
    "Видно, что не все пары из test присутствуют в df, поэтому оставшиеся пропуски заполним модой для каждого типа кузова"
   ]
  },
  {
   "cell_type": "code",
   "execution_count": 126,
   "id": "adc76ec7",
   "metadata": {
    "executionInfo": {
     "elapsed": 155,
     "status": "ok",
     "timestamp": 1627471009954,
     "user": {
      "displayName": "Сергей",
      "photoUrl": "",
      "userId": "16958243466904798794"
     },
     "user_tz": -180
    },
    "id": "adc76ec7"
   },
   "outputs": [],
   "source": [
    "body_door_dict2 = {value: test[test.bodyType == value].numberOfDoors.mode()[\n",
    "    0] for value in body_mis_doors}"
   ]
  },
  {
   "cell_type": "code",
   "execution_count": 127,
   "id": "73948633",
   "metadata": {
    "executionInfo": {
     "elapsed": 156,
     "status": "ok",
     "timestamp": 1627471009956,
     "user": {
      "displayName": "Сергей",
      "photoUrl": "",
      "userId": "16958243466904798794"
     },
     "user_tz": -180
    },
    "id": "73948633"
   },
   "outputs": [],
   "source": [
    "df.numberOfDoors = df[['numberOfDoors', 'bodyType']].apply(\n",
    "    lambda x: body_door_dict2[x[1]] if pd.isna(x[0]) and x[1] in body_door_dict2 else x[0], axis=1)"
   ]
  },
  {
   "cell_type": "code",
   "execution_count": 128,
   "id": "7f13a899",
   "metadata": {
    "colab": {
     "base_uri": "https://localhost:8080/"
    },
    "executionInfo": {
     "elapsed": 157,
     "status": "ok",
     "timestamp": 1627471009958,
     "user": {
      "displayName": "Сергей",
      "photoUrl": "",
      "userId": "16958243466904798794"
     },
     "user_tz": -180
    },
    "id": "7f13a899",
    "outputId": "afaa448a-b5a2-40f8-ec40-e8c48f77bf61"
   },
   "outputs": [
    {
     "data": {
      "text/plain": [
       "0"
      ]
     },
     "execution_count": 128,
     "metadata": {},
     "output_type": "execute_result"
    }
   ],
   "source": [
    "df.numberOfDoors.isna().sum()"
   ]
  },
  {
   "cell_type": "code",
   "execution_count": 129,
   "id": "a9bc5760",
   "metadata": {
    "colab": {
     "base_uri": "https://localhost:8080/",
     "height": 275
    },
    "executionInfo": {
     "elapsed": 145,
     "status": "ok",
     "timestamp": 1627471009959,
     "user": {
      "displayName": "Сергей",
      "photoUrl": "",
      "userId": "16958243466904798794"
     },
     "user_tz": -180
    },
    "id": "a9bc5760",
    "outputId": "c06aabe2-4f94-4edc-ff15-3dd425f6cc06"
   },
   "outputs": [
    {
     "data": {
      "text/html": [
       "<div>\n",
       "<style scoped>\n",
       "    .dataframe tbody tr th:only-of-type {\n",
       "        vertical-align: middle;\n",
       "    }\n",
       "\n",
       "    .dataframe tbody tr th {\n",
       "        vertical-align: top;\n",
       "    }\n",
       "\n",
       "    .dataframe thead th {\n",
       "        text-align: right;\n",
       "    }\n",
       "</style>\n",
       "<table border=\"1\" class=\"dataframe\">\n",
       "  <thead>\n",
       "    <tr style=\"text-align: right;\">\n",
       "      <th></th>\n",
       "      <th>owners</th>\n",
       "      <th>length_of_ownership</th>\n",
       "      <th>vehicleTransmission</th>\n",
       "      <th>bodyType</th>\n",
       "      <th>vehicle_passport</th>\n",
       "      <th>vehicle_drive</th>\n",
       "      <th>mileage</th>\n",
       "      <th>steering</th>\n",
       "      <th>color</th>\n",
       "      <th>brand</th>\n",
       "      <th>productionDate</th>\n",
       "      <th>model_name</th>\n",
       "      <th>vehicle_price</th>\n",
       "      <th>engineDisplacement</th>\n",
       "      <th>enginePower</th>\n",
       "      <th>fuelType</th>\n",
       "      <th>numberOfDoors</th>\n",
       "    </tr>\n",
       "  </thead>\n",
       "  <tbody>\n",
       "    <tr>\n",
       "      <th>16401</th>\n",
       "      <td>2 владельца</td>\n",
       "      <td>NaN</td>\n",
       "      <td>автоматическая</td>\n",
       "      <td>внедорожник 5 дв.</td>\n",
       "      <td>Оригинал</td>\n",
       "      <td>полный</td>\n",
       "      <td>23 907 км</td>\n",
       "      <td>Левый</td>\n",
       "      <td>чёрный</td>\n",
       "      <td>TOYOTA</td>\n",
       "      <td>2020</td>\n",
       "      <td>LAND CRUISER</td>\n",
       "      <td>6 048 000 ₽</td>\n",
       "      <td>4.6</td>\n",
       "      <td>309.0</td>\n",
       "      <td>бензин</td>\n",
       "      <td>5.0</td>\n",
       "    </tr>\n",
       "    <tr>\n",
       "      <th>15303</th>\n",
       "      <td>3 или более</td>\n",
       "      <td>NaN</td>\n",
       "      <td>автоматическая</td>\n",
       "      <td>лифтбек</td>\n",
       "      <td>Оригинал</td>\n",
       "      <td>передний</td>\n",
       "      <td>193 000 км</td>\n",
       "      <td>Левый</td>\n",
       "      <td>чёрный</td>\n",
       "      <td>SKODA</td>\n",
       "      <td>2011</td>\n",
       "      <td>OCTAVIA</td>\n",
       "      <td>550 000 ₽</td>\n",
       "      <td>1.8</td>\n",
       "      <td>152.0</td>\n",
       "      <td>бензин</td>\n",
       "      <td>5.0</td>\n",
       "    </tr>\n",
       "    <tr>\n",
       "      <th>20951</th>\n",
       "      <td>3 или более</td>\n",
       "      <td>3 года и 2 месяца</td>\n",
       "      <td>автоматическая</td>\n",
       "      <td>седан</td>\n",
       "      <td>Дубликат</td>\n",
       "      <td>передний</td>\n",
       "      <td>198 000 км</td>\n",
       "      <td>Левый</td>\n",
       "      <td>чёрный</td>\n",
       "      <td>VOLVO</td>\n",
       "      <td>2011</td>\n",
       "      <td>S80</td>\n",
       "      <td>650 000 ₽</td>\n",
       "      <td>2.5</td>\n",
       "      <td>231.0</td>\n",
       "      <td>бензин</td>\n",
       "      <td>4.0</td>\n",
       "    </tr>\n",
       "    <tr>\n",
       "      <th>9955</th>\n",
       "      <td>2 владельца</td>\n",
       "      <td>NaN</td>\n",
       "      <td>автоматическая</td>\n",
       "      <td>купе</td>\n",
       "      <td>Оригинал</td>\n",
       "      <td>задний</td>\n",
       "      <td>42 118 км</td>\n",
       "      <td>Левый</td>\n",
       "      <td>чёрный</td>\n",
       "      <td>MERCEDES</td>\n",
       "      <td>2016</td>\n",
       "      <td>C-CLASS</td>\n",
       "      <td>2 470 000 ₽</td>\n",
       "      <td>1.6</td>\n",
       "      <td>150.0</td>\n",
       "      <td>бензин</td>\n",
       "      <td>2.0</td>\n",
       "    </tr>\n",
       "    <tr>\n",
       "      <th>11064</th>\n",
       "      <td>2 владельца</td>\n",
       "      <td>1 год и 10 месяцев</td>\n",
       "      <td>автоматическая</td>\n",
       "      <td>внедорожник 5 дв.</td>\n",
       "      <td>Оригинал</td>\n",
       "      <td>полный</td>\n",
       "      <td>83 000 км</td>\n",
       "      <td>Левый</td>\n",
       "      <td>чёрный</td>\n",
       "      <td>MERCEDES</td>\n",
       "      <td>2018</td>\n",
       "      <td>GLS-CLASS AMG</td>\n",
       "      <td>6 350 000 ₽</td>\n",
       "      <td>5.5</td>\n",
       "      <td>585.0</td>\n",
       "      <td>бензин</td>\n",
       "      <td>5.0</td>\n",
       "    </tr>\n",
       "  </tbody>\n",
       "</table>\n",
       "</div>"
      ],
      "text/plain": [
       "            owners length_of_ownership vehicleTransmission           bodyType  \\\n",
       "16401  2 владельца                 NaN      автоматическая  внедорожник 5 дв.   \n",
       "15303  3 или более                 NaN      автоматическая            лифтбек   \n",
       "20951  3 или более   3 года и 2 месяца      автоматическая              седан   \n",
       "9955   2 владельца                 NaN      автоматическая               купе   \n",
       "11064  2 владельца  1 год и 10 месяцев      автоматическая  внедорожник 5 дв.   \n",
       "\n",
       "      vehicle_passport vehicle_drive     mileage steering   color     brand  \\\n",
       "16401         Оригинал        полный   23 907 км    Левый  чёрный    TOYOTA   \n",
       "15303         Оригинал      передний  193 000 км    Левый  чёрный     SKODA   \n",
       "20951         Дубликат      передний  198 000 км    Левый  чёрный     VOLVO   \n",
       "9955          Оригинал        задний   42 118 км    Левый  чёрный  MERCEDES   \n",
       "11064         Оригинал        полный   83 000 км    Левый  чёрный  MERCEDES   \n",
       "\n",
       "       productionDate     model_name vehicle_price  engineDisplacement  \\\n",
       "16401            2020   LAND CRUISER   6 048 000 ₽                 4.6   \n",
       "15303            2011        OCTAVIA     550 000 ₽                 1.8   \n",
       "20951            2011            S80     650 000 ₽                 2.5   \n",
       "9955             2016        C-CLASS   2 470 000 ₽                 1.6   \n",
       "11064            2018  GLS-CLASS AMG   6 350 000 ₽                 5.5   \n",
       "\n",
       "       enginePower fuelType  numberOfDoors  \n",
       "16401        309.0   бензин            5.0  \n",
       "15303        152.0   бензин            5.0  \n",
       "20951        231.0   бензин            4.0  \n",
       "9955         150.0   бензин            2.0  \n",
       "11064        585.0   бензин            5.0  "
      ]
     },
     "execution_count": 129,
     "metadata": {},
     "output_type": "execute_result"
    }
   ],
   "source": [
    "df.sample(5)"
   ]
  },
  {
   "cell_type": "markdown",
   "id": "bc8efccf",
   "metadata": {},
   "source": [
    "#### **mileage и vehicle_price**"
   ]
  },
  {
   "cell_type": "markdown",
   "id": "65e9b4f6",
   "metadata": {
    "id": "65e9b4f6"
   },
   "source": [
    "Преобразуем строковые представления числовых данных в признаках "
   ]
  },
  {
   "cell_type": "code",
   "execution_count": 130,
   "id": "e379157e",
   "metadata": {
    "executionInfo": {
     "elapsed": 145,
     "status": "ok",
     "timestamp": 1627471009961,
     "user": {
      "displayName": "Сергей",
      "photoUrl": "",
      "userId": "16958243466904798794"
     },
     "user_tz": -180
    },
    "id": "e379157e"
   },
   "outputs": [],
   "source": [
    "df.mileage = df.mileage.apply(lambda x: normalize('NFKD', x))\n",
    "df.mileage = df.mileage.str.replace('км', '')\n",
    "df.mileage = df.mileage.str.replace(' ', '').astype('int64')\n",
    "df.vehicle_price = df.vehicle_price.apply(lambda x: x[:-1])\n",
    "df.vehicle_price = df.vehicle_price.apply(lambda x: normalize('NFKD', x))\n",
    "df.vehicle_price = df.vehicle_price.str.replace(' ','').astype('float64')"
   ]
  },
  {
   "cell_type": "markdown",
   "id": "1f9f66c9",
   "metadata": {
    "id": "1f9f66c9"
   },
   "source": [
    "#### **Проверка на наличие дубликатов**"
   ]
  },
  {
   "cell_type": "code",
   "execution_count": 131,
   "id": "c8b745b2",
   "metadata": {
    "colab": {
     "base_uri": "https://localhost:8080/",
     "height": 609
    },
    "executionInfo": {
     "elapsed": 145,
     "status": "ok",
     "timestamp": 1627471009962,
     "user": {
      "displayName": "Сергей",
      "photoUrl": "",
      "userId": "16958243466904798794"
     },
     "user_tz": -180
    },
    "id": "c8b745b2",
    "outputId": "c834162e-57e7-4dc3-e670-b5349475b18c"
   },
   "outputs": [
    {
     "data": {
      "text/html": [
       "<div>\n",
       "<style scoped>\n",
       "    .dataframe tbody tr th:only-of-type {\n",
       "        vertical-align: middle;\n",
       "    }\n",
       "\n",
       "    .dataframe tbody tr th {\n",
       "        vertical-align: top;\n",
       "    }\n",
       "\n",
       "    .dataframe thead th {\n",
       "        text-align: right;\n",
       "    }\n",
       "</style>\n",
       "<table border=\"1\" class=\"dataframe\">\n",
       "  <thead>\n",
       "    <tr style=\"text-align: right;\">\n",
       "      <th></th>\n",
       "      <th>owners</th>\n",
       "      <th>length_of_ownership</th>\n",
       "      <th>vehicleTransmission</th>\n",
       "      <th>bodyType</th>\n",
       "      <th>vehicle_passport</th>\n",
       "      <th>vehicle_drive</th>\n",
       "      <th>mileage</th>\n",
       "      <th>steering</th>\n",
       "      <th>color</th>\n",
       "      <th>brand</th>\n",
       "      <th>productionDate</th>\n",
       "      <th>model_name</th>\n",
       "      <th>vehicle_price</th>\n",
       "      <th>engineDisplacement</th>\n",
       "      <th>enginePower</th>\n",
       "      <th>fuelType</th>\n",
       "      <th>numberOfDoors</th>\n",
       "    </tr>\n",
       "  </thead>\n",
       "  <tbody>\n",
       "    <tr>\n",
       "      <th>11771</th>\n",
       "      <td>1 владелец</td>\n",
       "      <td>NaN</td>\n",
       "      <td>вариатор</td>\n",
       "      <td>внедорожник 5 дв.</td>\n",
       "      <td>Оригинал</td>\n",
       "      <td>полный</td>\n",
       "      <td>2507</td>\n",
       "      <td>Левый</td>\n",
       "      <td>коричневый</td>\n",
       "      <td>MITSUBISHI</td>\n",
       "      <td>2021</td>\n",
       "      <td>OUTLANDER</td>\n",
       "      <td>2699000.0</td>\n",
       "      <td>2.4</td>\n",
       "      <td>167.0</td>\n",
       "      <td>бензин</td>\n",
       "      <td>5.0</td>\n",
       "    </tr>\n",
       "    <tr>\n",
       "      <th>11772</th>\n",
       "      <td>1 владелец</td>\n",
       "      <td>NaN</td>\n",
       "      <td>вариатор</td>\n",
       "      <td>внедорожник 5 дв.</td>\n",
       "      <td>Оригинал</td>\n",
       "      <td>полный</td>\n",
       "      <td>2507</td>\n",
       "      <td>Левый</td>\n",
       "      <td>коричневый</td>\n",
       "      <td>MITSUBISHI</td>\n",
       "      <td>2021</td>\n",
       "      <td>OUTLANDER</td>\n",
       "      <td>2699000.0</td>\n",
       "      <td>2.4</td>\n",
       "      <td>167.0</td>\n",
       "      <td>бензин</td>\n",
       "      <td>5.0</td>\n",
       "    </tr>\n",
       "    <tr>\n",
       "      <th>2882</th>\n",
       "      <td>1 владелец</td>\n",
       "      <td>NaN</td>\n",
       "      <td>автоматическая</td>\n",
       "      <td>внедорожник 5 дв.</td>\n",
       "      <td>Оригинал</td>\n",
       "      <td>полный</td>\n",
       "      <td>3570</td>\n",
       "      <td>Левый</td>\n",
       "      <td>белый</td>\n",
       "      <td>BMW</td>\n",
       "      <td>2021</td>\n",
       "      <td>X6</td>\n",
       "      <td>7487000.0</td>\n",
       "      <td>3.0</td>\n",
       "      <td>249.0</td>\n",
       "      <td>дизель</td>\n",
       "      <td>5.0</td>\n",
       "    </tr>\n",
       "    <tr>\n",
       "      <th>6469</th>\n",
       "      <td>1 владелец</td>\n",
       "      <td>NaN</td>\n",
       "      <td>автоматическая</td>\n",
       "      <td>внедорожник 5 дв.</td>\n",
       "      <td>Оригинал</td>\n",
       "      <td>полный</td>\n",
       "      <td>3570</td>\n",
       "      <td>Левый</td>\n",
       "      <td>белый</td>\n",
       "      <td>BMW</td>\n",
       "      <td>2021</td>\n",
       "      <td>X6</td>\n",
       "      <td>7487000.0</td>\n",
       "      <td>3.0</td>\n",
       "      <td>249.0</td>\n",
       "      <td>дизель</td>\n",
       "      <td>5.0</td>\n",
       "    </tr>\n",
       "    <tr>\n",
       "      <th>2897</th>\n",
       "      <td>1 владелец</td>\n",
       "      <td>NaN</td>\n",
       "      <td>роботизированная</td>\n",
       "      <td>внедорожник 5 дв.</td>\n",
       "      <td>Оригинал</td>\n",
       "      <td>передний</td>\n",
       "      <td>5322</td>\n",
       "      <td>Левый</td>\n",
       "      <td>белый</td>\n",
       "      <td>BMW</td>\n",
       "      <td>2020</td>\n",
       "      <td>X1</td>\n",
       "      <td>2339000.0</td>\n",
       "      <td>1.5</td>\n",
       "      <td>136.0</td>\n",
       "      <td>бензин</td>\n",
       "      <td>5.0</td>\n",
       "    </tr>\n",
       "    <tr>\n",
       "      <th>...</th>\n",
       "      <td>...</td>\n",
       "      <td>...</td>\n",
       "      <td>...</td>\n",
       "      <td>...</td>\n",
       "      <td>...</td>\n",
       "      <td>...</td>\n",
       "      <td>...</td>\n",
       "      <td>...</td>\n",
       "      <td>...</td>\n",
       "      <td>...</td>\n",
       "      <td>...</td>\n",
       "      <td>...</td>\n",
       "      <td>...</td>\n",
       "      <td>...</td>\n",
       "      <td>...</td>\n",
       "      <td>...</td>\n",
       "      <td>...</td>\n",
       "    </tr>\n",
       "    <tr>\n",
       "      <th>1739</th>\n",
       "      <td>3 или более</td>\n",
       "      <td>9 лет</td>\n",
       "      <td>механическая</td>\n",
       "      <td>универсал 5 дв.</td>\n",
       "      <td>Оригинал</td>\n",
       "      <td>полный</td>\n",
       "      <td>470000</td>\n",
       "      <td>Левый</td>\n",
       "      <td>синий</td>\n",
       "      <td>AUDI</td>\n",
       "      <td>2003</td>\n",
       "      <td>A6</td>\n",
       "      <td>499000.0</td>\n",
       "      <td>2.4</td>\n",
       "      <td>170.0</td>\n",
       "      <td>бензин</td>\n",
       "      <td>5.0</td>\n",
       "    </tr>\n",
       "    <tr>\n",
       "      <th>1665</th>\n",
       "      <td>3 или более</td>\n",
       "      <td>9 лет</td>\n",
       "      <td>механическая</td>\n",
       "      <td>универсал 5 дв.</td>\n",
       "      <td>Оригинал</td>\n",
       "      <td>полный</td>\n",
       "      <td>470000</td>\n",
       "      <td>Левый</td>\n",
       "      <td>синий</td>\n",
       "      <td>AUDI</td>\n",
       "      <td>2003</td>\n",
       "      <td>A6</td>\n",
       "      <td>499000.0</td>\n",
       "      <td>2.4</td>\n",
       "      <td>170.0</td>\n",
       "      <td>бензин</td>\n",
       "      <td>5.0</td>\n",
       "    </tr>\n",
       "    <tr>\n",
       "      <th>1657</th>\n",
       "      <td>3 или более</td>\n",
       "      <td>9 лет</td>\n",
       "      <td>механическая</td>\n",
       "      <td>универсал 5 дв.</td>\n",
       "      <td>Оригинал</td>\n",
       "      <td>полный</td>\n",
       "      <td>470000</td>\n",
       "      <td>Левый</td>\n",
       "      <td>синий</td>\n",
       "      <td>AUDI</td>\n",
       "      <td>2003</td>\n",
       "      <td>A6</td>\n",
       "      <td>499000.0</td>\n",
       "      <td>2.4</td>\n",
       "      <td>170.0</td>\n",
       "      <td>бензин</td>\n",
       "      <td>5.0</td>\n",
       "    </tr>\n",
       "    <tr>\n",
       "      <th>9191</th>\n",
       "      <td>3 или более</td>\n",
       "      <td>1 год и 9 месяцев</td>\n",
       "      <td>автоматическая</td>\n",
       "      <td>внедорожник 5 дв.</td>\n",
       "      <td>Оригинал</td>\n",
       "      <td>полный</td>\n",
       "      <td>495000</td>\n",
       "      <td>Левый</td>\n",
       "      <td>чёрный</td>\n",
       "      <td>LEXUS</td>\n",
       "      <td>2003</td>\n",
       "      <td>LX</td>\n",
       "      <td>1400000.0</td>\n",
       "      <td>4.7</td>\n",
       "      <td>234.0</td>\n",
       "      <td>газ</td>\n",
       "      <td>5.0</td>\n",
       "    </tr>\n",
       "    <tr>\n",
       "      <th>8186</th>\n",
       "      <td>3 или более</td>\n",
       "      <td>1 год и 9 месяцев</td>\n",
       "      <td>автоматическая</td>\n",
       "      <td>внедорожник 5 дв.</td>\n",
       "      <td>Оригинал</td>\n",
       "      <td>полный</td>\n",
       "      <td>495000</td>\n",
       "      <td>Левый</td>\n",
       "      <td>чёрный</td>\n",
       "      <td>LEXUS</td>\n",
       "      <td>2003</td>\n",
       "      <td>LX</td>\n",
       "      <td>1400000.0</td>\n",
       "      <td>4.7</td>\n",
       "      <td>234.0</td>\n",
       "      <td>газ</td>\n",
       "      <td>5.0</td>\n",
       "    </tr>\n",
       "  </tbody>\n",
       "</table>\n",
       "<p>635 rows × 17 columns</p>\n",
       "</div>"
      ],
      "text/plain": [
       "            owners length_of_ownership vehicleTransmission           bodyType  \\\n",
       "11771   1 владелец                 NaN            вариатор  внедорожник 5 дв.   \n",
       "11772   1 владелец                 NaN            вариатор  внедорожник 5 дв.   \n",
       "2882    1 владелец                 NaN      автоматическая  внедорожник 5 дв.   \n",
       "6469    1 владелец                 NaN      автоматическая  внедорожник 5 дв.   \n",
       "2897    1 владелец                 NaN    роботизированная  внедорожник 5 дв.   \n",
       "...            ...                 ...                 ...                ...   \n",
       "1739   3 или более               9 лет        механическая    универсал 5 дв.   \n",
       "1665   3 или более               9 лет        механическая    универсал 5 дв.   \n",
       "1657   3 или более               9 лет        механическая    универсал 5 дв.   \n",
       "9191   3 или более   1 год и 9 месяцев      автоматическая  внедорожник 5 дв.   \n",
       "8186   3 или более   1 год и 9 месяцев      автоматическая  внедорожник 5 дв.   \n",
       "\n",
       "      vehicle_passport vehicle_drive  mileage steering       color  \\\n",
       "11771         Оригинал        полный     2507    Левый  коричневый   \n",
       "11772         Оригинал        полный     2507    Левый  коричневый   \n",
       "2882          Оригинал        полный     3570    Левый       белый   \n",
       "6469          Оригинал        полный     3570    Левый       белый   \n",
       "2897          Оригинал      передний     5322    Левый       белый   \n",
       "...                ...           ...      ...      ...         ...   \n",
       "1739          Оригинал        полный   470000    Левый       синий   \n",
       "1665          Оригинал        полный   470000    Левый       синий   \n",
       "1657          Оригинал        полный   470000    Левый       синий   \n",
       "9191          Оригинал        полный   495000    Левый      чёрный   \n",
       "8186          Оригинал        полный   495000    Левый      чёрный   \n",
       "\n",
       "            brand  productionDate model_name  vehicle_price  \\\n",
       "11771  MITSUBISHI            2021  OUTLANDER      2699000.0   \n",
       "11772  MITSUBISHI            2021  OUTLANDER      2699000.0   \n",
       "2882          BMW            2021         X6      7487000.0   \n",
       "6469          BMW            2021         X6      7487000.0   \n",
       "2897          BMW            2020         X1      2339000.0   \n",
       "...           ...             ...        ...            ...   \n",
       "1739         AUDI            2003         A6       499000.0   \n",
       "1665         AUDI            2003         A6       499000.0   \n",
       "1657         AUDI            2003         A6       499000.0   \n",
       "9191        LEXUS            2003         LX      1400000.0   \n",
       "8186        LEXUS            2003         LX      1400000.0   \n",
       "\n",
       "       engineDisplacement  enginePower fuelType  numberOfDoors  \n",
       "11771                 2.4        167.0   бензин            5.0  \n",
       "11772                 2.4        167.0   бензин            5.0  \n",
       "2882                  3.0        249.0   дизель            5.0  \n",
       "6469                  3.0        249.0   дизель            5.0  \n",
       "2897                  1.5        136.0   бензин            5.0  \n",
       "...                   ...          ...      ...            ...  \n",
       "1739                  2.4        170.0   бензин            5.0  \n",
       "1665                  2.4        170.0   бензин            5.0  \n",
       "1657                  2.4        170.0   бензин            5.0  \n",
       "9191                  4.7        234.0      газ            5.0  \n",
       "8186                  4.7        234.0      газ            5.0  \n",
       "\n",
       "[635 rows x 17 columns]"
      ]
     },
     "execution_count": 131,
     "metadata": {},
     "output_type": "execute_result"
    }
   ],
   "source": [
    "df[df.duplicated(keep=False)].sort_values('mileage')"
   ]
  },
  {
   "cell_type": "code",
   "execution_count": 132,
   "id": "b124b9e7",
   "metadata": {
    "colab": {
     "base_uri": "https://localhost:8080/",
     "height": 592
    },
    "executionInfo": {
     "elapsed": 148,
     "status": "ok",
     "timestamp": 1627471009966,
     "user": {
      "displayName": "Сергей",
      "photoUrl": "",
      "userId": "16958243466904798794"
     },
     "user_tz": -180
    },
    "id": "b124b9e7",
    "outputId": "91d61508-8ad5-44c6-c9d1-01f6c982a1f7"
   },
   "outputs": [
    {
     "data": {
      "text/html": [
       "<div>\n",
       "<style scoped>\n",
       "    .dataframe tbody tr th:only-of-type {\n",
       "        vertical-align: middle;\n",
       "    }\n",
       "\n",
       "    .dataframe tbody tr th {\n",
       "        vertical-align: top;\n",
       "    }\n",
       "\n",
       "    .dataframe thead th {\n",
       "        text-align: right;\n",
       "    }\n",
       "</style>\n",
       "<table border=\"1\" class=\"dataframe\">\n",
       "  <thead>\n",
       "    <tr style=\"text-align: right;\">\n",
       "      <th></th>\n",
       "      <th>bodyType</th>\n",
       "      <th>brand</th>\n",
       "      <th>color</th>\n",
       "      <th>engineDisplacement</th>\n",
       "      <th>enginePower</th>\n",
       "      <th>fuelType</th>\n",
       "      <th>mileage</th>\n",
       "      <th>model_name</th>\n",
       "      <th>numberOfDoors</th>\n",
       "      <th>productionDate</th>\n",
       "      <th>vehicleTransmission</th>\n",
       "      <th>owners</th>\n",
       "      <th>length_of_ownership</th>\n",
       "      <th>vehicle_passport</th>\n",
       "      <th>vehicle_drive</th>\n",
       "      <th>steering</th>\n",
       "    </tr>\n",
       "  </thead>\n",
       "  <tbody>\n",
       "    <tr>\n",
       "      <th>8291</th>\n",
       "      <td>внедорожник 5 дв.</td>\n",
       "      <td>BMW</td>\n",
       "      <td>белый</td>\n",
       "      <td>3.0</td>\n",
       "      <td>249</td>\n",
       "      <td>дизель</td>\n",
       "      <td>6</td>\n",
       "      <td>X5</td>\n",
       "      <td>5</td>\n",
       "      <td>2020</td>\n",
       "      <td>автоматическая</td>\n",
       "      <td>1 владелец</td>\n",
       "      <td>NaN</td>\n",
       "      <td>Оригинал</td>\n",
       "      <td>полный</td>\n",
       "      <td>Левый</td>\n",
       "    </tr>\n",
       "    <tr>\n",
       "      <th>9144</th>\n",
       "      <td>внедорожник 5 дв.</td>\n",
       "      <td>BMW</td>\n",
       "      <td>белый</td>\n",
       "      <td>3.0</td>\n",
       "      <td>249</td>\n",
       "      <td>дизель</td>\n",
       "      <td>6</td>\n",
       "      <td>X5</td>\n",
       "      <td>5</td>\n",
       "      <td>2020</td>\n",
       "      <td>автоматическая</td>\n",
       "      <td>1 владелец</td>\n",
       "      <td>NaN</td>\n",
       "      <td>Оригинал</td>\n",
       "      <td>полный</td>\n",
       "      <td>Левый</td>\n",
       "    </tr>\n",
       "    <tr>\n",
       "      <th>9366</th>\n",
       "      <td>внедорожник 5 дв.</td>\n",
       "      <td>BMW</td>\n",
       "      <td>синий</td>\n",
       "      <td>2.0</td>\n",
       "      <td>249</td>\n",
       "      <td>бензин</td>\n",
       "      <td>1400</td>\n",
       "      <td>X4</td>\n",
       "      <td>5</td>\n",
       "      <td>2019</td>\n",
       "      <td>автоматическая</td>\n",
       "      <td>1 владелец</td>\n",
       "      <td>NaN</td>\n",
       "      <td>Оригинал</td>\n",
       "      <td>полный</td>\n",
       "      <td>Левый</td>\n",
       "    </tr>\n",
       "    <tr>\n",
       "      <th>29299</th>\n",
       "      <td>внедорожник 5 дв.</td>\n",
       "      <td>BMW</td>\n",
       "      <td>синий</td>\n",
       "      <td>2.0</td>\n",
       "      <td>249</td>\n",
       "      <td>бензин</td>\n",
       "      <td>1400</td>\n",
       "      <td>X4</td>\n",
       "      <td>5</td>\n",
       "      <td>2019</td>\n",
       "      <td>автоматическая</td>\n",
       "      <td>1 владелец</td>\n",
       "      <td>NaN</td>\n",
       "      <td>Оригинал</td>\n",
       "      <td>полный</td>\n",
       "      <td>Левый</td>\n",
       "    </tr>\n",
       "    <tr>\n",
       "      <th>21429</th>\n",
       "      <td>седан</td>\n",
       "      <td>TOYOTA</td>\n",
       "      <td>чёрный</td>\n",
       "      <td>2.5</td>\n",
       "      <td>181</td>\n",
       "      <td>бензин</td>\n",
       "      <td>6000</td>\n",
       "      <td>CAMRY</td>\n",
       "      <td>4</td>\n",
       "      <td>2020</td>\n",
       "      <td>автоматическая</td>\n",
       "      <td>1 владелец</td>\n",
       "      <td>NaN</td>\n",
       "      <td>Оригинал</td>\n",
       "      <td>передний</td>\n",
       "      <td>Левый</td>\n",
       "    </tr>\n",
       "    <tr>\n",
       "      <th>...</th>\n",
       "      <td>...</td>\n",
       "      <td>...</td>\n",
       "      <td>...</td>\n",
       "      <td>...</td>\n",
       "      <td>...</td>\n",
       "      <td>...</td>\n",
       "      <td>...</td>\n",
       "      <td>...</td>\n",
       "      <td>...</td>\n",
       "      <td>...</td>\n",
       "      <td>...</td>\n",
       "      <td>...</td>\n",
       "      <td>...</td>\n",
       "      <td>...</td>\n",
       "      <td>...</td>\n",
       "      <td>...</td>\n",
       "    </tr>\n",
       "    <tr>\n",
       "      <th>30888</th>\n",
       "      <td>седан</td>\n",
       "      <td>VOLKSWAGEN</td>\n",
       "      <td>чёрный</td>\n",
       "      <td>1.8</td>\n",
       "      <td>90</td>\n",
       "      <td>бензин</td>\n",
       "      <td>300000</td>\n",
       "      <td>PASSAT</td>\n",
       "      <td>4</td>\n",
       "      <td>1991</td>\n",
       "      <td>механическая</td>\n",
       "      <td>3 или более</td>\n",
       "      <td>NaN</td>\n",
       "      <td>Оригинал</td>\n",
       "      <td>передний</td>\n",
       "      <td>Левый</td>\n",
       "    </tr>\n",
       "    <tr>\n",
       "      <th>17789</th>\n",
       "      <td>седан</td>\n",
       "      <td>MERCEDES</td>\n",
       "      <td>чёрный</td>\n",
       "      <td>5.0</td>\n",
       "      <td>306</td>\n",
       "      <td>бензин</td>\n",
       "      <td>300000</td>\n",
       "      <td>S-CLASS</td>\n",
       "      <td>4</td>\n",
       "      <td>1999</td>\n",
       "      <td>автоматическая</td>\n",
       "      <td>3 или более</td>\n",
       "      <td>NaN</td>\n",
       "      <td>Дубликат</td>\n",
       "      <td>задний</td>\n",
       "      <td>Левый</td>\n",
       "    </tr>\n",
       "    <tr>\n",
       "      <th>25298</th>\n",
       "      <td>седан</td>\n",
       "      <td>VOLKSWAGEN</td>\n",
       "      <td>чёрный</td>\n",
       "      <td>1.8</td>\n",
       "      <td>90</td>\n",
       "      <td>бензин</td>\n",
       "      <td>300000</td>\n",
       "      <td>PASSAT</td>\n",
       "      <td>4</td>\n",
       "      <td>1991</td>\n",
       "      <td>механическая</td>\n",
       "      <td>3 или более</td>\n",
       "      <td>NaN</td>\n",
       "      <td>Оригинал</td>\n",
       "      <td>передний</td>\n",
       "      <td>Левый</td>\n",
       "    </tr>\n",
       "    <tr>\n",
       "      <th>14495</th>\n",
       "      <td>хэтчбек 5 дв.</td>\n",
       "      <td>NISSAN</td>\n",
       "      <td>зелёный</td>\n",
       "      <td>1.6</td>\n",
       "      <td>99</td>\n",
       "      <td>бензин</td>\n",
       "      <td>516608</td>\n",
       "      <td>PRIMERA</td>\n",
       "      <td>5</td>\n",
       "      <td>1997</td>\n",
       "      <td>механическая</td>\n",
       "      <td>3 или более</td>\n",
       "      <td>NaN</td>\n",
       "      <td>Дубликат</td>\n",
       "      <td>передний</td>\n",
       "      <td>Левый</td>\n",
       "    </tr>\n",
       "    <tr>\n",
       "      <th>14273</th>\n",
       "      <td>хэтчбек 5 дв.</td>\n",
       "      <td>NISSAN</td>\n",
       "      <td>зелёный</td>\n",
       "      <td>1.6</td>\n",
       "      <td>99</td>\n",
       "      <td>бензин</td>\n",
       "      <td>516608</td>\n",
       "      <td>PRIMERA</td>\n",
       "      <td>5</td>\n",
       "      <td>1997</td>\n",
       "      <td>механическая</td>\n",
       "      <td>3 или более</td>\n",
       "      <td>NaN</td>\n",
       "      <td>Дубликат</td>\n",
       "      <td>передний</td>\n",
       "      <td>Левый</td>\n",
       "    </tr>\n",
       "  </tbody>\n",
       "</table>\n",
       "<p>167 rows × 16 columns</p>\n",
       "</div>"
      ],
      "text/plain": [
       "                bodyType       brand    color  engineDisplacement enginePower  \\\n",
       "8291   внедорожник 5 дв.         BMW    белый                 3.0         249   \n",
       "9144   внедорожник 5 дв.         BMW    белый                 3.0         249   \n",
       "9366   внедорожник 5 дв.         BMW    синий                 2.0         249   \n",
       "29299  внедорожник 5 дв.         BMW    синий                 2.0         249   \n",
       "21429              седан      TOYOTA   чёрный                 2.5         181   \n",
       "...                  ...         ...      ...                 ...         ...   \n",
       "30888              седан  VOLKSWAGEN   чёрный                 1.8          90   \n",
       "17789              седан    MERCEDES   чёрный                 5.0         306   \n",
       "25298              седан  VOLKSWAGEN   чёрный                 1.8          90   \n",
       "14495      хэтчбек 5 дв.      NISSAN  зелёный                 1.6          99   \n",
       "14273      хэтчбек 5 дв.      NISSAN  зелёный                 1.6          99   \n",
       "\n",
       "      fuelType  mileage model_name  numberOfDoors  productionDate  \\\n",
       "8291    дизель        6         X5              5            2020   \n",
       "9144    дизель        6         X5              5            2020   \n",
       "9366    бензин     1400         X4              5            2019   \n",
       "29299   бензин     1400         X4              5            2019   \n",
       "21429   бензин     6000      CAMRY              4            2020   \n",
       "...        ...      ...        ...            ...             ...   \n",
       "30888   бензин   300000     PASSAT              4            1991   \n",
       "17789   бензин   300000    S-CLASS              4            1999   \n",
       "25298   бензин   300000     PASSAT              4            1991   \n",
       "14495   бензин   516608    PRIMERA              5            1997   \n",
       "14273   бензин   516608    PRIMERA              5            1997   \n",
       "\n",
       "      vehicleTransmission       owners length_of_ownership vehicle_passport  \\\n",
       "8291       автоматическая   1 владелец                 NaN         Оригинал   \n",
       "9144       автоматическая   1 владелец                 NaN         Оригинал   \n",
       "9366       автоматическая   1 владелец                 NaN         Оригинал   \n",
       "29299      автоматическая   1 владелец                 NaN         Оригинал   \n",
       "21429      автоматическая   1 владелец                 NaN         Оригинал   \n",
       "...                   ...          ...                 ...              ...   \n",
       "30888        механическая  3 или более                 NaN         Оригинал   \n",
       "17789      автоматическая  3 или более                 NaN         Дубликат   \n",
       "25298        механическая  3 или более                 NaN         Оригинал   \n",
       "14495        механическая  3 или более                 NaN         Дубликат   \n",
       "14273        механическая  3 или более                 NaN         Дубликат   \n",
       "\n",
       "      vehicle_drive steering  \n",
       "8291         полный    Левый  \n",
       "9144         полный    Левый  \n",
       "9366         полный    Левый  \n",
       "29299        полный    Левый  \n",
       "21429      передний    Левый  \n",
       "...             ...      ...  \n",
       "30888      передний    Левый  \n",
       "17789        задний    Левый  \n",
       "25298      передний    Левый  \n",
       "14495      передний    Левый  \n",
       "14273      передний    Левый  \n",
       "\n",
       "[167 rows x 16 columns]"
      ]
     },
     "execution_count": 132,
     "metadata": {},
     "output_type": "execute_result"
    }
   ],
   "source": [
    "test[test.duplicated(keep=False)].sort_values('mileage')"
   ]
  },
  {
   "cell_type": "markdown",
   "id": "f9313011",
   "metadata": {
    "id": "f9313011"
   },
   "source": [
    "Учитывая, что экземпляры test`а трогать нельзя, удалим дубликаты только из df и объединим датасеты"
   ]
  },
  {
   "cell_type": "code",
   "execution_count": 133,
   "id": "87408b4e",
   "metadata": {
    "executionInfo": {
     "elapsed": 147,
     "status": "ok",
     "timestamp": 1627471009967,
     "user": {
      "displayName": "Сергей",
      "photoUrl": "",
      "userId": "16958243466904798794"
     },
     "user_tz": -180
    },
    "id": "87408b4e"
   },
   "outputs": [],
   "source": [
    "df.drop_duplicates(keep='first',inplace=True)\n",
    "df['part'] = 1\n",
    "test['part'] = 0\n",
    "union = pd.concat([df,test],ignore_index=True)\n",
    "del df, test"
   ]
  },
  {
   "cell_type": "code",
   "execution_count": 134,
   "id": "18bb780f",
   "metadata": {
    "colab": {
     "base_uri": "https://localhost:8080/",
     "height": 275
    },
    "executionInfo": {
     "elapsed": 149,
     "status": "ok",
     "timestamp": 1627471009969,
     "user": {
      "displayName": "Сергей",
      "photoUrl": "",
      "userId": "16958243466904798794"
     },
     "user_tz": -180
    },
    "id": "18bb780f",
    "outputId": "36a75bcb-c52f-484e-ddf5-b5cca2ae62aa"
   },
   "outputs": [
    {
     "data": {
      "text/html": [
       "<div>\n",
       "<style scoped>\n",
       "    .dataframe tbody tr th:only-of-type {\n",
       "        vertical-align: middle;\n",
       "    }\n",
       "\n",
       "    .dataframe tbody tr th {\n",
       "        vertical-align: top;\n",
       "    }\n",
       "\n",
       "    .dataframe thead th {\n",
       "        text-align: right;\n",
       "    }\n",
       "</style>\n",
       "<table border=\"1\" class=\"dataframe\">\n",
       "  <thead>\n",
       "    <tr style=\"text-align: right;\">\n",
       "      <th></th>\n",
       "      <th>owners</th>\n",
       "      <th>length_of_ownership</th>\n",
       "      <th>vehicleTransmission</th>\n",
       "      <th>bodyType</th>\n",
       "      <th>vehicle_passport</th>\n",
       "      <th>vehicle_drive</th>\n",
       "      <th>mileage</th>\n",
       "      <th>steering</th>\n",
       "      <th>color</th>\n",
       "      <th>brand</th>\n",
       "      <th>productionDate</th>\n",
       "      <th>model_name</th>\n",
       "      <th>vehicle_price</th>\n",
       "      <th>engineDisplacement</th>\n",
       "      <th>enginePower</th>\n",
       "      <th>fuelType</th>\n",
       "      <th>numberOfDoors</th>\n",
       "      <th>part</th>\n",
       "    </tr>\n",
       "  </thead>\n",
       "  <tbody>\n",
       "    <tr>\n",
       "      <th>51742</th>\n",
       "      <td>1 владелец</td>\n",
       "      <td>4 года и 1 месяц</td>\n",
       "      <td>автоматическая</td>\n",
       "      <td>седан</td>\n",
       "      <td>Оригинал</td>\n",
       "      <td>передний</td>\n",
       "      <td>127000</td>\n",
       "      <td>Левый</td>\n",
       "      <td>белый</td>\n",
       "      <td>VOLKSWAGEN</td>\n",
       "      <td>2016</td>\n",
       "      <td>JETTA</td>\n",
       "      <td>NaN</td>\n",
       "      <td>1.6</td>\n",
       "      <td>110</td>\n",
       "      <td>бензин</td>\n",
       "      <td>4.0</td>\n",
       "      <td>0</td>\n",
       "    </tr>\n",
       "    <tr>\n",
       "      <th>38375</th>\n",
       "      <td>2 владельца</td>\n",
       "      <td>NaN</td>\n",
       "      <td>автоматическая</td>\n",
       "      <td>купе-хардтоп</td>\n",
       "      <td>Оригинал</td>\n",
       "      <td>задний</td>\n",
       "      <td>125000</td>\n",
       "      <td>Левый</td>\n",
       "      <td>белый</td>\n",
       "      <td>MERCEDES</td>\n",
       "      <td>2012</td>\n",
       "      <td>E-CLASS</td>\n",
       "      <td>NaN</td>\n",
       "      <td>1.8</td>\n",
       "      <td>184</td>\n",
       "      <td>бензин</td>\n",
       "      <td>2.0</td>\n",
       "      <td>0</td>\n",
       "    </tr>\n",
       "    <tr>\n",
       "      <th>19775</th>\n",
       "      <td>1 владелец</td>\n",
       "      <td>NaN</td>\n",
       "      <td>роботизированная</td>\n",
       "      <td>внедорожник 5 дв.</td>\n",
       "      <td>Оригинал</td>\n",
       "      <td>полный</td>\n",
       "      <td>27072</td>\n",
       "      <td>Левый</td>\n",
       "      <td>белый</td>\n",
       "      <td>VOLKSWAGEN</td>\n",
       "      <td>2018</td>\n",
       "      <td>TIGUAN</td>\n",
       "      <td>2530000.0</td>\n",
       "      <td>2.0</td>\n",
       "      <td>150.0</td>\n",
       "      <td>дизель</td>\n",
       "      <td>5.0</td>\n",
       "      <td>1</td>\n",
       "    </tr>\n",
       "    <tr>\n",
       "      <th>44136</th>\n",
       "      <td>2 владельца</td>\n",
       "      <td>9 лет</td>\n",
       "      <td>автоматическая</td>\n",
       "      <td>внедорожник 5 дв.</td>\n",
       "      <td>Оригинал</td>\n",
       "      <td>полный</td>\n",
       "      <td>130000</td>\n",
       "      <td>Левый</td>\n",
       "      <td>белый</td>\n",
       "      <td>LEXUS</td>\n",
       "      <td>2011</td>\n",
       "      <td>RX</td>\n",
       "      <td>NaN</td>\n",
       "      <td>3.5</td>\n",
       "      <td>277</td>\n",
       "      <td>бензин</td>\n",
       "      <td>5.0</td>\n",
       "      <td>0</td>\n",
       "    </tr>\n",
       "    <tr>\n",
       "      <th>46632</th>\n",
       "      <td>3 или более</td>\n",
       "      <td>NaN</td>\n",
       "      <td>автоматическая</td>\n",
       "      <td>внедорожник 5 дв.</td>\n",
       "      <td>Оригинал</td>\n",
       "      <td>полный</td>\n",
       "      <td>225000</td>\n",
       "      <td>Левый</td>\n",
       "      <td>чёрный</td>\n",
       "      <td>VOLKSWAGEN</td>\n",
       "      <td>2009</td>\n",
       "      <td>TIGUAN</td>\n",
       "      <td>NaN</td>\n",
       "      <td>2.0</td>\n",
       "      <td>140</td>\n",
       "      <td>дизель</td>\n",
       "      <td>5.0</td>\n",
       "      <td>0</td>\n",
       "    </tr>\n",
       "  </tbody>\n",
       "</table>\n",
       "</div>"
      ],
      "text/plain": [
       "            owners length_of_ownership vehicleTransmission           bodyType  \\\n",
       "51742   1 владелец    4 года и 1 месяц      автоматическая              седан   \n",
       "38375  2 владельца                 NaN      автоматическая       купе-хардтоп   \n",
       "19775   1 владелец                 NaN    роботизированная  внедорожник 5 дв.   \n",
       "44136  2 владельца               9 лет      автоматическая  внедорожник 5 дв.   \n",
       "46632  3 или более                 NaN      автоматическая  внедорожник 5 дв.   \n",
       "\n",
       "      vehicle_passport vehicle_drive  mileage steering   color       brand  \\\n",
       "51742         Оригинал      передний   127000    Левый   белый  VOLKSWAGEN   \n",
       "38375         Оригинал        задний   125000    Левый   белый    MERCEDES   \n",
       "19775         Оригинал        полный    27072    Левый   белый  VOLKSWAGEN   \n",
       "44136         Оригинал        полный   130000    Левый   белый       LEXUS   \n",
       "46632         Оригинал        полный   225000    Левый  чёрный  VOLKSWAGEN   \n",
       "\n",
       "       productionDate model_name  vehicle_price  engineDisplacement  \\\n",
       "51742            2016      JETTA            NaN                 1.6   \n",
       "38375            2012    E-CLASS            NaN                 1.8   \n",
       "19775            2018     TIGUAN      2530000.0                 2.0   \n",
       "44136            2011         RX            NaN                 3.5   \n",
       "46632            2009     TIGUAN            NaN                 2.0   \n",
       "\n",
       "      enginePower fuelType  numberOfDoors  part  \n",
       "51742         110   бензин            4.0     0  \n",
       "38375         184   бензин            2.0     0  \n",
       "19775       150.0   дизель            5.0     1  \n",
       "44136         277   бензин            5.0     0  \n",
       "46632         140   дизель            5.0     0  "
      ]
     },
     "execution_count": 134,
     "metadata": {},
     "output_type": "execute_result"
    }
   ],
   "source": [
    "union.sample(5)"
   ]
  },
  {
   "cell_type": "markdown",
   "id": "3fd2a108",
   "metadata": {},
   "source": [
    "## **Анализ признаков и преобразование данных**"
   ]
  },
  {
   "cell_type": "markdown",
   "id": "0a164800",
   "metadata": {
    "id": "0a164800"
   },
   "source": [
    "Теперь воспользуемся pandas profiling для составления отчета по полученному датасету."
   ]
  },
  {
   "cell_type": "code",
   "execution_count": 135,
   "id": "6c71a813",
   "metadata": {
    "executionInfo": {
     "elapsed": 143,
     "status": "ok",
     "timestamp": 1627471009970,
     "user": {
      "displayName": "Сергей",
      "photoUrl": "",
      "userId": "16958243466904798794"
     },
     "user_tz": -180
    },
    "id": "6c71a813"
   },
   "outputs": [],
   "source": [
    "# profile_union = ProfileReport(union,progress_bar=False)\n",
    "# profile_union.to_file('union_report.html')"
   ]
  },
  {
   "cell_type": "markdown",
   "id": "f67274c0",
   "metadata": {
    "id": "f67274c0"
   },
   "source": [
    "Результат можно посмотреть [здесь](union_report.html)"
   ]
  },
  {
   "cell_type": "markdown",
   "id": "2cc1b7ec",
   "metadata": {
    "id": "2cc1b7ec"
   },
   "source": [
    "**Признаки датасета**\n",
    "\n",
    "|№ | Признак | Значение | Тип признака \n",
    "|---|:-------|:---------|:--\n",
    "| 1 |owners | Количество владельцев | Категориальный\n",
    "| 2 |  length_of_ownership | Период владения ТС | Категориальный\n",
    "| 3 |  vehicleTransmission | Коробка передач | Категориальный \n",
    "| 4 |  bodyType | Тип кузова | Категориальный \n",
    "| 5 |  vehicle_passport |    Наличие ПТС | Категориальный \n",
    "| 6 |  vehicle_drive | Привод ТС | Категориальный \n",
    "| 7 |  mileage |  Пробег, км | Числовой  \n",
    "| 8 |  steering | Расположение руля | Категориальный \n",
    "| 9 |  color | Цвет ТС | Категориальный \n",
    "| 10 |  brand |  Производитель ТС |  Категориальный \n",
    "| 11 | productionDate | Год производства ТС | Числовой  \n",
    "| 12 | model_name | Наименование модели ТС | Категориальный \n",
    "| 13 | vehicle_price | Цена продажи ТС, руб. | Числовой. Целевой признак\n",
    "| 14 | engineDisplacement |  Объем двигателя, л | Числовой\n",
    "| 15 | enginePower | Мощность двигателя, л.с. | Числовой (но в датасете смешанные с str значения)\n",
    "| 16 | fuelType | Тип топлива  | Категориальный\n",
    "| 17 | numberOfDoors | Количество дверей у ТС | Числовой\n",
    "| 18 | part | Разделитель датасетов df и test | Числовой  "
   ]
  },
  {
   "cell_type": "markdown",
   "id": "4cd663b8",
   "metadata": {
    "id": "4cd663b8"
   },
   "source": [
    "### **owners**"
   ]
  },
  {
   "cell_type": "markdown",
   "id": "8707f96d",
   "metadata": {
    "id": "8707f96d"
   },
   "source": [
    "Переведем категории в числовое представление"
   ]
  },
  {
   "cell_type": "code",
   "execution_count": 136,
   "id": "091b139d",
   "metadata": {
    "colab": {
     "base_uri": "https://localhost:8080/"
    },
    "executionInfo": {
     "elapsed": 143,
     "status": "ok",
     "timestamp": 1627471009971,
     "user": {
      "displayName": "Сергей",
      "photoUrl": "",
      "userId": "16958243466904798794"
     },
     "user_tz": -180
    },
    "id": "091b139d",
    "outputId": "a8889f8c-80b3-4f85-e3fc-3f3c4526b909"
   },
   "outputs": [
    {
     "data": {
      "text/plain": [
       "array([0, 2, 1], dtype=int64)"
      ]
     },
     "execution_count": 136,
     "metadata": {},
     "output_type": "execute_result"
    }
   ],
   "source": [
    "union.owners = union.owners.str.split().apply(lambda x: x[0])\n",
    "union.owners = union.owners.astype('float64')\n",
    "union.owners = union.owners.map({1:0,2:1,3:2})\n",
    "union.owners.unique()"
   ]
  },
  {
   "cell_type": "markdown",
   "id": "578d952f",
   "metadata": {
    "id": "578d952f"
   },
   "source": [
    "### **length_of_ownership**"
   ]
  },
  {
   "cell_type": "markdown",
   "id": "5e0baea4",
   "metadata": {
    "id": "5e0baea4"
   },
   "source": [
    "Признак содержит более 67% пропусков. Восстановить данные не представляется возможным. Удалим признак"
   ]
  },
  {
   "cell_type": "code",
   "execution_count": 137,
   "id": "570ffae2",
   "metadata": {
    "executionInfo": {
     "elapsed": 124,
     "status": "ok",
     "timestamp": 1627471009973,
     "user": {
      "displayName": "Сергей",
      "photoUrl": "",
      "userId": "16958243466904798794"
     },
     "user_tz": -180
    },
    "id": "570ffae2"
   },
   "outputs": [],
   "source": [
    "union.drop(columns=['length_of_ownership'],inplace=True)"
   ]
  },
  {
   "cell_type": "markdown",
   "id": "ace99971",
   "metadata": {
    "id": "ace99971"
   },
   "source": [
    "### **vehicleTransmission**"
   ]
  },
  {
   "cell_type": "markdown",
   "id": "57e05469",
   "metadata": {
    "id": "57e05469"
   },
   "source": [
    "Попробуем закодировать данный признак с помощью вычисления частоты каждого значения и присвоение ему соответствующего числового значения. Чем чаще значение встречается в признаке, тем выше числовое значение. Тем самым внесем ранжирование. Для этого посмотрим частоты во всем union, а также в каждой из частей, относящейся к df и test."
   ]
  },
  {
   "cell_type": "code",
   "execution_count": 138,
   "id": "9631cce0",
   "metadata": {
    "colab": {
     "base_uri": "https://localhost:8080/"
    },
    "executionInfo": {
     "elapsed": 124,
     "status": "ok",
     "timestamp": 1627471009974,
     "user": {
      "displayName": "Сергей",
      "photoUrl": "",
      "userId": "16958243466904798794"
     },
     "user_tz": -180
    },
    "id": "9631cce0",
    "outputId": "61bab26d-ae4c-4a45-db56-78b1252da091"
   },
   "outputs": [
    {
     "data": {
      "text/plain": [
       "автоматическая      32708\n",
       "механическая        10077\n",
       "роботизированная     6775\n",
       "вариатор             6130\n",
       "Name: vehicleTransmission, dtype: int64"
      ]
     },
     "execution_count": 138,
     "metadata": {},
     "output_type": "execute_result"
    }
   ],
   "source": [
    "union.vehicleTransmission.value_counts()"
   ]
  },
  {
   "cell_type": "code",
   "execution_count": 139,
   "id": "p3cQ4EEnsST4",
   "metadata": {
    "colab": {
     "base_uri": "https://localhost:8080/"
    },
    "executionInfo": {
     "elapsed": 109,
     "status": "ok",
     "timestamp": 1627471009974,
     "user": {
      "displayName": "Сергей",
      "photoUrl": "",
      "userId": "16958243466904798794"
     },
     "user_tz": -180
    },
    "id": "p3cQ4EEnsST4",
    "outputId": "77426418-d473-4494-d881-fb7d4e67b401"
   },
   "outputs": [
    {
     "data": {
      "text/plain": [
       "автоматическая      13112\n",
       "роботизированная     2893\n",
       "механическая         2868\n",
       "вариатор             2131\n",
       "Name: vehicleTransmission, dtype: int64"
      ]
     },
     "execution_count": 139,
     "metadata": {},
     "output_type": "execute_result"
    }
   ],
   "source": [
    "union[union.part==1].vehicleTransmission.value_counts()"
   ]
  },
  {
   "cell_type": "code",
   "execution_count": 140,
   "id": "jjPhfWFEsSh1",
   "metadata": {
    "colab": {
     "base_uri": "https://localhost:8080/"
    },
    "executionInfo": {
     "elapsed": 94,
     "status": "ok",
     "timestamp": 1627471009975,
     "user": {
      "displayName": "Сергей",
      "photoUrl": "",
      "userId": "16958243466904798794"
     },
     "user_tz": -180
    },
    "id": "jjPhfWFEsSh1",
    "outputId": "e614d916-2ec2-417c-9f50-a05e6ea91844"
   },
   "outputs": [
    {
     "data": {
      "text/plain": [
       "автоматическая      19596\n",
       "механическая         7209\n",
       "вариатор             3999\n",
       "роботизированная     3882\n",
       "Name: vehicleTransmission, dtype: int64"
      ]
     },
     "execution_count": 140,
     "metadata": {},
     "output_type": "execute_result"
    }
   ],
   "source": [
    "union[union.part==0].vehicleTransmission.value_counts()"
   ]
  },
  {
   "cell_type": "markdown",
   "id": "W5jtbNf-tqdY",
   "metadata": {
    "id": "W5jtbNf-tqdY"
   },
   "source": [
    "Как видно, в датасетах расположение частот разное, в связи с чем, использовать их для кодирования нельзя. Таким образом можно рассмотреть еще два варианта:\n",
    "- one-hot-encoding (вспомогательные переменные)\n",
    "- отнесение всех типов не механической передачи к автоматической\n",
    "\n",
    "Попробуем для начала вспомогательные переменные"
   ]
  },
  {
   "cell_type": "code",
   "execution_count": 141,
   "id": "vzqu6HQFueMj",
   "metadata": {
    "executionInfo": {
     "elapsed": 80,
     "status": "ok",
     "timestamp": 1627471009976,
     "user": {
      "displayName": "Сергей",
      "photoUrl": "",
      "userId": "16958243466904798794"
     },
     "user_tz": -180
    },
    "id": "vzqu6HQFueMj"
   },
   "outputs": [],
   "source": [
    "union.vehicleTransmission = union.vehicleTransmission.map({'автоматическая':'auto',\n",
    "                                                           'механическая':'mech',\n",
    "                                                           'вариатор':'var',\n",
    "                                                           'роботизированная':'rob'})\n",
    "union = pd.concat([union,pd.get_dummies(union.vehicleTransmission,\n",
    "                                        prefix='tmission')],axis=1)"
   ]
  },
  {
   "cell_type": "markdown",
   "id": "YQ4lLu96zgTW",
   "metadata": {
    "id": "YQ4lLu96zgTW"
   },
   "source": [
    "### **enginePower**"
   ]
  },
  {
   "cell_type": "markdown",
   "id": "CoZdxVvVzl0w",
   "metadata": {
    "id": "CoZdxVvVzl0w"
   },
   "source": [
    "Приведем данные к числовому виду"
   ]
  },
  {
   "cell_type": "code",
   "execution_count": 142,
   "id": "ab6b4efc",
   "metadata": {
    "executionInfo": {
     "elapsed": 80,
     "status": "ok",
     "timestamp": 1627471009977,
     "user": {
      "displayName": "Сергей",
      "photoUrl": "",
      "userId": "16958243466904798794"
     },
     "user_tz": -180
    },
    "id": "ab6b4efc"
   },
   "outputs": [],
   "source": [
    "union.enginePower = union.enginePower.astype('float64')\n",
    "union.enginePower = round(union.enginePower/10)*10"
   ]
  },
  {
   "cell_type": "markdown",
   "id": "yUyUQjG9DMxg",
   "metadata": {
    "id": "yUyUQjG9DMxg"
   },
   "source": [
    "Разделим и закодируем в 8 категориях. Шкала мощности не зависит от данных в датасетах, так что кодировать можно оба набора данных сразу (чем мощнее двигатель, тем выше категория)"
   ]
  },
  {
   "cell_type": "code",
   "execution_count": 143,
   "id": "ENSAVbOSACNJ",
   "metadata": {
    "colab": {
     "base_uri": "https://localhost:8080/"
    },
    "executionInfo": {
     "elapsed": 495,
     "status": "ok",
     "timestamp": 1627471012037,
     "user": {
      "displayName": "Сергей",
      "photoUrl": "",
      "userId": "16958243466904798794"
     },
     "user_tz": -180
    },
    "id": "ENSAVbOSACNJ",
    "outputId": "b279c4f7-6f35-4f19-9323-464ed639a996"
   },
   "outputs": [
    {
     "data": {
      "text/plain": [
       "1.0    16358\n",
       "2.0    13874\n",
       "3.0     9483\n",
       "0.0     6818\n",
       "4.0     3179\n",
       "5.0     2828\n",
       "7.0     1741\n",
       "6.0     1409\n",
       "Name: enginePower_cat, dtype: int64"
      ]
     },
     "execution_count": 143,
     "metadata": {},
     "output_type": "execute_result"
    }
   ],
   "source": [
    "union['enginePower_cat'] = pd.cut(union.enginePower,bins=[-1, 100, 150, 200,\n",
    "                                                           250, 300, 350, 400, 700],\n",
    "                                   labels=[0, 1, 2, 3, 4, 5, 6, 7])\n",
    "union['enginePower_cat'] = union['enginePower_cat'].astype('float64')\n",
    "union['enginePower_cat'].value_counts()"
   ]
  },
  {
   "cell_type": "markdown",
   "id": "UpI0TC4e06W3",
   "metadata": {
    "id": "UpI0TC4e06W3"
   },
   "source": [
    "### **vehicle_passport,  steering**"
   ]
  },
  {
   "cell_type": "markdown",
   "id": "a08zmfKE0_6h",
   "metadata": {
    "id": "a08zmfKE0_6h"
   },
   "source": [
    "Переведем категории в числовое (бинарное) представление"
   ]
  },
  {
   "cell_type": "code",
   "execution_count": 144,
   "id": "0urbBlyS09cJ",
   "metadata": {
    "colab": {
     "base_uri": "https://localhost:8080/"
    },
    "executionInfo": {
     "elapsed": 480,
     "status": "ok",
     "timestamp": 1627471012039,
     "user": {
      "displayName": "Сергей",
      "photoUrl": "",
      "userId": "16958243466904798794"
     },
     "user_tz": -180
    },
    "id": "0urbBlyS09cJ",
    "outputId": "df771b50-2114-4edd-bc26-39d1f9bff987"
   },
   "outputs": [
    {
     "data": {
      "text/plain": [
       "1    48392\n",
       "0     7298\n",
       "Name: vehicle_passport, dtype: int64"
      ]
     },
     "execution_count": 144,
     "metadata": {},
     "output_type": "execute_result"
    }
   ],
   "source": [
    "union.vehicle_passport = union.vehicle_passport.apply(lambda x: 'Оригинал' if pd.isna(x) else x)\n",
    "union.vehicle_passport = union.vehicle_passport.map({'Дубликат':0,'Оригинал': 1})\n",
    "union.vehicle_passport.value_counts(dropna=False)"
   ]
  },
  {
   "cell_type": "code",
   "execution_count": 145,
   "id": "10a39703",
   "metadata": {
    "colab": {
     "base_uri": "https://localhost:8080/"
    },
    "executionInfo": {
     "elapsed": 466,
     "status": "ok",
     "timestamp": 1627471012040,
     "user": {
      "displayName": "Сергей",
      "photoUrl": "",
      "userId": "16958243466904798794"
     },
     "user_tz": -180
    },
    "id": "10a39703",
    "outputId": "c279517e-c21c-433b-baf4-153bfdc5b53b"
   },
   "outputs": [
    {
     "data": {
      "text/plain": [
       "0    53744\n",
       "1     1946\n",
       "Name: steering, dtype: int64"
      ]
     },
     "execution_count": 145,
     "metadata": {},
     "output_type": "execute_result"
    }
   ],
   "source": [
    "union.steering = union.steering.map({'Левый':0,'Правый':1})\n",
    "union.steering.value_counts(dropna=False)"
   ]
  },
  {
   "cell_type": "markdown",
   "id": "sENte3SOiYrO",
   "metadata": {
    "id": "sENte3SOiYrO"
   },
   "source": [
    "### **brand**"
   ]
  },
  {
   "cell_type": "markdown",
   "id": "I4xatid3jMuf",
   "metadata": {
    "id": "I4xatid3jMuf"
   },
   "source": [
    "Снова попробуем закодировать признак с помощью вычисления частоты каждого производителя"
   ]
  },
  {
   "cell_type": "code",
   "execution_count": 146,
   "id": "KK6e-J7fidi1",
   "metadata": {
    "colab": {
     "base_uri": "https://localhost:8080/"
    },
    "executionInfo": {
     "elapsed": 453,
     "status": "ok",
     "timestamp": 1627471012041,
     "user": {
      "displayName": "Сергей",
      "photoUrl": "",
      "userId": "16958243466904798794"
     },
     "user_tz": -180
    },
    "id": "KK6e-J7fidi1",
    "outputId": "1f4bb690-fedb-4fbe-b8e8-bc7381074d9f"
   },
   "outputs": [
    {
     "data": {
      "text/plain": [
       "BMW         8045\n",
       "TOYOTA      6769\n",
       "MERCEDES    6363\n",
       "Name: brand, dtype: int64"
      ]
     },
     "execution_count": 146,
     "metadata": {},
     "output_type": "execute_result"
    }
   ],
   "source": [
    "union.brand.value_counts().head(3)"
   ]
  },
  {
   "cell_type": "code",
   "execution_count": 147,
   "id": "aRxhIW4N0gEP",
   "metadata": {
    "colab": {
     "base_uri": "https://localhost:8080/"
    },
    "executionInfo": {
     "elapsed": 438,
     "status": "ok",
     "timestamp": 1627471012042,
     "user": {
      "displayName": "Сергей",
      "photoUrl": "",
      "userId": "16958243466904798794"
     },
     "user_tz": -180
    },
    "id": "aRxhIW4N0gEP",
    "outputId": "bf1bce4e-cf4d-4ade-a0ab-d5240752574d"
   },
   "outputs": [
    {
     "data": {
      "text/plain": [
       "BMW       3572\n",
       "TOYOTA    2856\n",
       "AUDI      2836\n",
       "Name: brand, dtype: int64"
      ]
     },
     "execution_count": 147,
     "metadata": {},
     "output_type": "execute_result"
    }
   ],
   "source": [
    "union[union.part==1].brand.value_counts().head(3)"
   ]
  },
  {
   "cell_type": "code",
   "execution_count": 148,
   "id": "np49Oelt0gSR",
   "metadata": {
    "colab": {
     "base_uri": "https://localhost:8080/"
    },
    "executionInfo": {
     "elapsed": 424,
     "status": "ok",
     "timestamp": 1627471012043,
     "user": {
      "displayName": "Сергей",
      "photoUrl": "",
      "userId": "16958243466904798794"
     },
     "user_tz": -180
    },
    "id": "np49Oelt0gSR",
    "outputId": "91b6be6d-4407-4cc5-bd68-0d986d298ee2"
   },
   "outputs": [
    {
     "data": {
      "text/plain": [
       "BMW           4473\n",
       "VOLKSWAGEN    4404\n",
       "NISSAN        4393\n",
       "Name: brand, dtype: int64"
      ]
     },
     "execution_count": 148,
     "metadata": {},
     "output_type": "execute_result"
    }
   ],
   "source": [
    "union[union.part==0].brand.value_counts().head(3)"
   ]
  },
  {
   "cell_type": "markdown",
   "id": "ifqJQVAb1cBX",
   "metadata": {
    "id": "ifqJQVAb1cBX"
   },
   "source": [
    "Опять видим, что в датасетах различное распределение значений. Тогда воспользуемся вспомогательными переменными"
   ]
  },
  {
   "cell_type": "code",
   "execution_count": 149,
   "id": "DmGz8xf5iVBX",
   "metadata": {
    "colab": {
     "base_uri": "https://localhost:8080/",
     "height": 162
    },
    "executionInfo": {
     "elapsed": 411,
     "status": "ok",
     "timestamp": 1627471012044,
     "user": {
      "displayName": "Сергей",
      "photoUrl": "",
      "userId": "16958243466904798794"
     },
     "user_tz": -180
    },
    "id": "DmGz8xf5iVBX",
    "outputId": "b498474a-1972-4735-ae72-a8ac607130cd"
   },
   "outputs": [
    {
     "data": {
      "text/html": [
       "<div>\n",
       "<style scoped>\n",
       "    .dataframe tbody tr th:only-of-type {\n",
       "        vertical-align: middle;\n",
       "    }\n",
       "\n",
       "    .dataframe tbody tr th {\n",
       "        vertical-align: top;\n",
       "    }\n",
       "\n",
       "    .dataframe thead th {\n",
       "        text-align: right;\n",
       "    }\n",
       "</style>\n",
       "<table border=\"1\" class=\"dataframe\">\n",
       "  <thead>\n",
       "    <tr style=\"text-align: right;\">\n",
       "      <th></th>\n",
       "      <th>owners</th>\n",
       "      <th>vehicleTransmission</th>\n",
       "      <th>bodyType</th>\n",
       "      <th>vehicle_passport</th>\n",
       "      <th>vehicle_drive</th>\n",
       "      <th>mileage</th>\n",
       "      <th>steering</th>\n",
       "      <th>color</th>\n",
       "      <th>brand</th>\n",
       "      <th>productionDate</th>\n",
       "      <th>model_name</th>\n",
       "      <th>vehicle_price</th>\n",
       "      <th>engineDisplacement</th>\n",
       "      <th>enginePower</th>\n",
       "      <th>fuelType</th>\n",
       "      <th>numberOfDoors</th>\n",
       "      <th>part</th>\n",
       "      <th>tmission_auto</th>\n",
       "      <th>tmission_mech</th>\n",
       "      <th>tmission_rob</th>\n",
       "      <th>tmission_var</th>\n",
       "      <th>enginePower_cat</th>\n",
       "      <th>brand_AUDI</th>\n",
       "      <th>brand_BMW</th>\n",
       "      <th>brand_HONDA</th>\n",
       "      <th>brand_INFINITI</th>\n",
       "      <th>brand_LEXUS</th>\n",
       "      <th>brand_MERCEDES</th>\n",
       "      <th>brand_MITSUBISHI</th>\n",
       "      <th>brand_NISSAN</th>\n",
       "      <th>brand_SKODA</th>\n",
       "      <th>brand_TOYOTA</th>\n",
       "      <th>brand_VOLKSWAGEN</th>\n",
       "      <th>brand_VOLVO</th>\n",
       "    </tr>\n",
       "  </thead>\n",
       "  <tbody>\n",
       "    <tr>\n",
       "      <th>49073</th>\n",
       "      <td>2</td>\n",
       "      <td>mech</td>\n",
       "      <td>пикап двойная кабина</td>\n",
       "      <td>1</td>\n",
       "      <td>полный</td>\n",
       "      <td>350000</td>\n",
       "      <td>0</td>\n",
       "      <td>синий</td>\n",
       "      <td>MITSUBISHI</td>\n",
       "      <td>1998</td>\n",
       "      <td>L200</td>\n",
       "      <td>NaN</td>\n",
       "      <td>2.5</td>\n",
       "      <td>100.0</td>\n",
       "      <td>дизель</td>\n",
       "      <td>4.0</td>\n",
       "      <td>0</td>\n",
       "      <td>0</td>\n",
       "      <td>1</td>\n",
       "      <td>0</td>\n",
       "      <td>0</td>\n",
       "      <td>0.0</td>\n",
       "      <td>0</td>\n",
       "      <td>0</td>\n",
       "      <td>0</td>\n",
       "      <td>0</td>\n",
       "      <td>0</td>\n",
       "      <td>0</td>\n",
       "      <td>1</td>\n",
       "      <td>0</td>\n",
       "      <td>0</td>\n",
       "      <td>0</td>\n",
       "      <td>0</td>\n",
       "      <td>0</td>\n",
       "    </tr>\n",
       "    <tr>\n",
       "      <th>10246</th>\n",
       "      <td>0</td>\n",
       "      <td>auto</td>\n",
       "      <td>внедорожник 5 дв.</td>\n",
       "      <td>1</td>\n",
       "      <td>полный</td>\n",
       "      <td>139755</td>\n",
       "      <td>0</td>\n",
       "      <td>коричневый</td>\n",
       "      <td>MERCEDES</td>\n",
       "      <td>2016</td>\n",
       "      <td>GLE-CLASS</td>\n",
       "      <td>3236237.0</td>\n",
       "      <td>3.0</td>\n",
       "      <td>330.0</td>\n",
       "      <td>бензин</td>\n",
       "      <td>5.0</td>\n",
       "      <td>1</td>\n",
       "      <td>1</td>\n",
       "      <td>0</td>\n",
       "      <td>0</td>\n",
       "      <td>0</td>\n",
       "      <td>5.0</td>\n",
       "      <td>0</td>\n",
       "      <td>0</td>\n",
       "      <td>0</td>\n",
       "      <td>0</td>\n",
       "      <td>0</td>\n",
       "      <td>1</td>\n",
       "      <td>0</td>\n",
       "      <td>0</td>\n",
       "      <td>0</td>\n",
       "      <td>0</td>\n",
       "      <td>0</td>\n",
       "      <td>0</td>\n",
       "    </tr>\n",
       "    <tr>\n",
       "      <th>45788</th>\n",
       "      <td>1</td>\n",
       "      <td>auto</td>\n",
       "      <td>седан</td>\n",
       "      <td>1</td>\n",
       "      <td>передний</td>\n",
       "      <td>106000</td>\n",
       "      <td>0</td>\n",
       "      <td>серебристый</td>\n",
       "      <td>VOLKSWAGEN</td>\n",
       "      <td>2016</td>\n",
       "      <td>POLO</td>\n",
       "      <td>NaN</td>\n",
       "      <td>1.6</td>\n",
       "      <td>110.0</td>\n",
       "      <td>бензин</td>\n",
       "      <td>4.0</td>\n",
       "      <td>0</td>\n",
       "      <td>1</td>\n",
       "      <td>0</td>\n",
       "      <td>0</td>\n",
       "      <td>0</td>\n",
       "      <td>1.0</td>\n",
       "      <td>0</td>\n",
       "      <td>0</td>\n",
       "      <td>0</td>\n",
       "      <td>0</td>\n",
       "      <td>0</td>\n",
       "      <td>0</td>\n",
       "      <td>0</td>\n",
       "      <td>0</td>\n",
       "      <td>0</td>\n",
       "      <td>0</td>\n",
       "      <td>1</td>\n",
       "      <td>0</td>\n",
       "    </tr>\n",
       "  </tbody>\n",
       "</table>\n",
       "</div>"
      ],
      "text/plain": [
       "       owners vehicleTransmission              bodyType  vehicle_passport  \\\n",
       "49073       2                mech  пикап двойная кабина                 1   \n",
       "10246       0                auto     внедорожник 5 дв.                 1   \n",
       "45788       1                auto                 седан                 1   \n",
       "\n",
       "      vehicle_drive  mileage  steering        color       brand  \\\n",
       "49073        полный   350000         0        синий  MITSUBISHI   \n",
       "10246        полный   139755         0   коричневый    MERCEDES   \n",
       "45788      передний   106000         0  серебристый  VOLKSWAGEN   \n",
       "\n",
       "       productionDate model_name  vehicle_price  engineDisplacement  \\\n",
       "49073            1998       L200            NaN                 2.5   \n",
       "10246            2016  GLE-CLASS      3236237.0                 3.0   \n",
       "45788            2016       POLO            NaN                 1.6   \n",
       "\n",
       "       enginePower fuelType  numberOfDoors  part  tmission_auto  \\\n",
       "49073        100.0   дизель            4.0     0              0   \n",
       "10246        330.0   бензин            5.0     1              1   \n",
       "45788        110.0   бензин            4.0     0              1   \n",
       "\n",
       "       tmission_mech  tmission_rob  tmission_var  enginePower_cat  brand_AUDI  \\\n",
       "49073              1             0             0              0.0           0   \n",
       "10246              0             0             0              5.0           0   \n",
       "45788              0             0             0              1.0           0   \n",
       "\n",
       "       brand_BMW  brand_HONDA  brand_INFINITI  brand_LEXUS  brand_MERCEDES  \\\n",
       "49073          0            0               0            0               0   \n",
       "10246          0            0               0            0               1   \n",
       "45788          0            0               0            0               0   \n",
       "\n",
       "       brand_MITSUBISHI  brand_NISSAN  brand_SKODA  brand_TOYOTA  \\\n",
       "49073                 1             0            0             0   \n",
       "10246                 0             0            0             0   \n",
       "45788                 0             0            0             0   \n",
       "\n",
       "       brand_VOLKSWAGEN  brand_VOLVO  \n",
       "49073                 0            0  \n",
       "10246                 0            0  \n",
       "45788                 1            0  "
      ]
     },
     "execution_count": 149,
     "metadata": {},
     "output_type": "execute_result"
    }
   ],
   "source": [
    "union = pd.concat([union,pd.get_dummies(union.brand,prefix='brand')],axis=1)\n",
    "# union.columns = [column.lower() for column in union.columns]\n",
    "union.sample(3)"
   ]
  },
  {
   "cell_type": "markdown",
   "id": "ceyzHL61mUyH",
   "metadata": {
    "id": "ceyzHL61mUyH"
   },
   "source": [
    "### **bodyType**"
   ]
  },
  {
   "cell_type": "code",
   "execution_count": 150,
   "id": "RMZoTAUPmTqR",
   "metadata": {
    "colab": {
     "base_uri": "https://localhost:8080/"
    },
    "executionInfo": {
     "elapsed": 409,
     "status": "ok",
     "timestamp": 1627471012044,
     "user": {
      "displayName": "Сергей",
      "photoUrl": "",
      "userId": "16958243466904798794"
     },
     "user_tz": -180
    },
    "id": "RMZoTAUPmTqR",
    "outputId": "c7f61f43-7f55-4525-9801-aae5a6dbec3b"
   },
   "outputs": [
    {
     "data": {
      "text/plain": [
       "внедорожник 5 дв.          20911\n",
       "седан                      20215\n",
       "лифтбек                     4067\n",
       "хэтчбек 5 дв.               3152\n",
       "универсал 5 дв.             1928\n",
       "купе                        1404\n",
       "минивэн                     1360\n",
       "хэтчбек 3 дв.                704\n",
       "компактвэн                   668\n",
       "пикап двойная кабина         427\n",
       "купе-хардтоп                 222\n",
       "внедорожник 3 дв.            167\n",
       "родстер                      148\n",
       "кабриолет                    131\n",
       "фургон                       116\n",
       "седан-хардтоп                 20\n",
       "микровэн                      11\n",
       "пикап полуторная кабина        8\n",
       "лимузин                        8\n",
       "пикап одинарная кабина         8\n",
       "седан 2 дв.                    7\n",
       "тарга                          4\n",
       "внедорожник открытый           3\n",
       "фастбек                        1\n",
       "Name: bodyType, dtype: int64"
      ]
     },
     "execution_count": 150,
     "metadata": {},
     "output_type": "execute_result"
    }
   ],
   "source": [
    "union.bodyType.value_counts()"
   ]
  },
  {
   "cell_type": "code",
   "execution_count": 151,
   "id": "RRm4vfoz3FWW",
   "metadata": {
    "colab": {
     "base_uri": "https://localhost:8080/"
    },
    "executionInfo": {
     "elapsed": 394,
     "status": "ok",
     "timestamp": 1627471012045,
     "user": {
      "displayName": "Сергей",
      "photoUrl": "",
      "userId": "16958243466904798794"
     },
     "user_tz": -180
    },
    "id": "RRm4vfoz3FWW",
    "outputId": "e4473373-574a-4a66-de4b-0e4a1e480cde"
   },
   "outputs": [
    {
     "data": {
      "text/plain": [
       "внедорожник    21081\n",
       "седан          20242\n",
       "лифтбек         4067\n",
       "хэтчбек         3856\n",
       "универсал       1928\n",
       "купе            1626\n",
       "минивэн         1360\n",
       "компактвэн       668\n",
       "пикап            443\n",
       "родстер          148\n",
       "кабриолет        131\n",
       "фургон           116\n",
       "микровэн          11\n",
       "лимузин            8\n",
       "тарга              4\n",
       "фастбек            1\n",
       "Name: bodyType, dtype: int64"
      ]
     },
     "execution_count": 151,
     "metadata": {},
     "output_type": "execute_result"
    }
   ],
   "source": [
    "union.bodyType = union.bodyType.str.split()\n",
    "union.bodyType = union.bodyType.apply(lambda x: x[0])\n",
    "union.bodyType = union.bodyType.str.split('-')\n",
    "union.bodyType = union.bodyType.apply(lambda x: x[0])\n",
    "union.bodyType.value_counts()"
   ]
  },
  {
   "cell_type": "markdown",
   "id": "20OF2CPZ8gA9",
   "metadata": {
    "id": "20OF2CPZ8gA9"
   },
   "source": [
    "Укрупним категории и закодируем во вспомогательные переменные"
   ]
  },
  {
   "cell_type": "code",
   "execution_count": 152,
   "id": "a5597cea",
   "metadata": {},
   "outputs": [
    {
     "data": {
      "text/plain": [
       "off_road         21524\n",
       "sedan            20242\n",
       "liftback          4067\n",
       "hatchback         3856\n",
       "station_wagon     1928\n",
       "coupe             1626\n",
       "minivan           1360\n",
       "compactvan         679\n",
       "others             408\n",
       "Name: bodyType_enlargement, dtype: int64"
      ]
     },
     "execution_count": 152,
     "metadata": {},
     "output_type": "execute_result"
    }
   ],
   "source": [
    "type_dict = {'внедорожник':'off_road',\n",
    "             'седан':'sedan',\n",
    "             'лифтбек':'liftback',\n",
    "             'хэтчбек':'hatchback',\n",
    "             'универсал':'station_wagon',\n",
    "             'купе':'coupe',\n",
    "             'минивэн':'minivan',\n",
    "             'компактвэн':'compactvan',\n",
    "             'пикап':'off_road',\n",
    "             'родстер':'others',\n",
    "             'кабриолет':'others',\n",
    "             'фургон':'others',\n",
    "             'микровэн':'compactvan',\n",
    "             'лимузин':'others',\n",
    "             'тарга':'others',\n",
    "             'фастбек':'others'}\n",
    "union['bodyType_enlargement'] = union.bodyType.map(type_dict)\n",
    "union.bodyType_enlargement.value_counts()"
   ]
  },
  {
   "cell_type": "code",
   "execution_count": 153,
   "id": "t_9CK_fu8yxV",
   "metadata": {
    "colab": {
     "base_uri": "https://localhost:8080/",
     "height": 196
    },
    "executionInfo": {
     "elapsed": 368,
     "status": "ok",
     "timestamp": 1627471012050,
     "user": {
      "displayName": "Сергей",
      "photoUrl": "",
      "userId": "16958243466904798794"
     },
     "user_tz": -180
    },
    "id": "t_9CK_fu8yxV",
    "outputId": "50501302-e657-4e90-aee2-b337f74b9a39"
   },
   "outputs": [
    {
     "data": {
      "text/html": [
       "<div>\n",
       "<style scoped>\n",
       "    .dataframe tbody tr th:only-of-type {\n",
       "        vertical-align: middle;\n",
       "    }\n",
       "\n",
       "    .dataframe tbody tr th {\n",
       "        vertical-align: top;\n",
       "    }\n",
       "\n",
       "    .dataframe thead th {\n",
       "        text-align: right;\n",
       "    }\n",
       "</style>\n",
       "<table border=\"1\" class=\"dataframe\">\n",
       "  <thead>\n",
       "    <tr style=\"text-align: right;\">\n",
       "      <th></th>\n",
       "      <th>owners</th>\n",
       "      <th>vehicleTransmission</th>\n",
       "      <th>bodyType</th>\n",
       "      <th>vehicle_passport</th>\n",
       "      <th>vehicle_drive</th>\n",
       "      <th>mileage</th>\n",
       "      <th>steering</th>\n",
       "      <th>color</th>\n",
       "      <th>brand</th>\n",
       "      <th>productionDate</th>\n",
       "      <th>model_name</th>\n",
       "      <th>vehicle_price</th>\n",
       "      <th>engineDisplacement</th>\n",
       "      <th>enginePower</th>\n",
       "      <th>fuelType</th>\n",
       "      <th>numberOfDoors</th>\n",
       "      <th>part</th>\n",
       "      <th>tmission_auto</th>\n",
       "      <th>tmission_mech</th>\n",
       "      <th>tmission_rob</th>\n",
       "      <th>tmission_var</th>\n",
       "      <th>enginePower_cat</th>\n",
       "      <th>brand_AUDI</th>\n",
       "      <th>brand_BMW</th>\n",
       "      <th>brand_HONDA</th>\n",
       "      <th>brand_INFINITI</th>\n",
       "      <th>brand_LEXUS</th>\n",
       "      <th>brand_MERCEDES</th>\n",
       "      <th>brand_MITSUBISHI</th>\n",
       "      <th>brand_NISSAN</th>\n",
       "      <th>brand_SKODA</th>\n",
       "      <th>brand_TOYOTA</th>\n",
       "      <th>brand_VOLKSWAGEN</th>\n",
       "      <th>brand_VOLVO</th>\n",
       "      <th>bodyType_enlargement</th>\n",
       "      <th>body_compactvan</th>\n",
       "      <th>body_coupe</th>\n",
       "      <th>body_hatchback</th>\n",
       "      <th>body_liftback</th>\n",
       "      <th>body_minivan</th>\n",
       "      <th>body_off_road</th>\n",
       "      <th>body_others</th>\n",
       "      <th>body_sedan</th>\n",
       "      <th>body_station_wagon</th>\n",
       "    </tr>\n",
       "  </thead>\n",
       "  <tbody>\n",
       "    <tr>\n",
       "      <th>46035</th>\n",
       "      <td>2</td>\n",
       "      <td>mech</td>\n",
       "      <td>седан</td>\n",
       "      <td>1</td>\n",
       "      <td>передний</td>\n",
       "      <td>252250</td>\n",
       "      <td>0</td>\n",
       "      <td>синий</td>\n",
       "      <td>VOLKSWAGEN</td>\n",
       "      <td>2008</td>\n",
       "      <td>JETTA</td>\n",
       "      <td>NaN</td>\n",
       "      <td>1.6</td>\n",
       "      <td>100.0</td>\n",
       "      <td>бензин</td>\n",
       "      <td>4.0</td>\n",
       "      <td>0</td>\n",
       "      <td>0</td>\n",
       "      <td>1</td>\n",
       "      <td>0</td>\n",
       "      <td>0</td>\n",
       "      <td>0.0</td>\n",
       "      <td>0</td>\n",
       "      <td>0</td>\n",
       "      <td>0</td>\n",
       "      <td>0</td>\n",
       "      <td>0</td>\n",
       "      <td>0</td>\n",
       "      <td>0</td>\n",
       "      <td>0</td>\n",
       "      <td>0</td>\n",
       "      <td>0</td>\n",
       "      <td>1</td>\n",
       "      <td>0</td>\n",
       "      <td>sedan</td>\n",
       "      <td>0</td>\n",
       "      <td>0</td>\n",
       "      <td>0</td>\n",
       "      <td>0</td>\n",
       "      <td>0</td>\n",
       "      <td>0</td>\n",
       "      <td>0</td>\n",
       "      <td>1</td>\n",
       "      <td>0</td>\n",
       "    </tr>\n",
       "    <tr>\n",
       "      <th>45475</th>\n",
       "      <td>0</td>\n",
       "      <td>auto</td>\n",
       "      <td>внедорожник</td>\n",
       "      <td>1</td>\n",
       "      <td>полный</td>\n",
       "      <td>132145</td>\n",
       "      <td>0</td>\n",
       "      <td>серый</td>\n",
       "      <td>VOLKSWAGEN</td>\n",
       "      <td>2014</td>\n",
       "      <td>TOUAREG</td>\n",
       "      <td>NaN</td>\n",
       "      <td>3.6</td>\n",
       "      <td>250.0</td>\n",
       "      <td>бензин</td>\n",
       "      <td>5.0</td>\n",
       "      <td>0</td>\n",
       "      <td>1</td>\n",
       "      <td>0</td>\n",
       "      <td>0</td>\n",
       "      <td>0</td>\n",
       "      <td>3.0</td>\n",
       "      <td>0</td>\n",
       "      <td>0</td>\n",
       "      <td>0</td>\n",
       "      <td>0</td>\n",
       "      <td>0</td>\n",
       "      <td>0</td>\n",
       "      <td>0</td>\n",
       "      <td>0</td>\n",
       "      <td>0</td>\n",
       "      <td>0</td>\n",
       "      <td>1</td>\n",
       "      <td>0</td>\n",
       "      <td>off_road</td>\n",
       "      <td>0</td>\n",
       "      <td>0</td>\n",
       "      <td>0</td>\n",
       "      <td>0</td>\n",
       "      <td>0</td>\n",
       "      <td>1</td>\n",
       "      <td>0</td>\n",
       "      <td>0</td>\n",
       "      <td>0</td>\n",
       "    </tr>\n",
       "    <tr>\n",
       "      <th>42569</th>\n",
       "      <td>2</td>\n",
       "      <td>auto</td>\n",
       "      <td>седан</td>\n",
       "      <td>0</td>\n",
       "      <td>передний</td>\n",
       "      <td>112000</td>\n",
       "      <td>0</td>\n",
       "      <td>чёрный</td>\n",
       "      <td>TOYOTA</td>\n",
       "      <td>2013</td>\n",
       "      <td>CAMRY</td>\n",
       "      <td>NaN</td>\n",
       "      <td>2.5</td>\n",
       "      <td>180.0</td>\n",
       "      <td>бензин</td>\n",
       "      <td>4.0</td>\n",
       "      <td>0</td>\n",
       "      <td>1</td>\n",
       "      <td>0</td>\n",
       "      <td>0</td>\n",
       "      <td>0</td>\n",
       "      <td>2.0</td>\n",
       "      <td>0</td>\n",
       "      <td>0</td>\n",
       "      <td>0</td>\n",
       "      <td>0</td>\n",
       "      <td>0</td>\n",
       "      <td>0</td>\n",
       "      <td>0</td>\n",
       "      <td>0</td>\n",
       "      <td>0</td>\n",
       "      <td>1</td>\n",
       "      <td>0</td>\n",
       "      <td>0</td>\n",
       "      <td>sedan</td>\n",
       "      <td>0</td>\n",
       "      <td>0</td>\n",
       "      <td>0</td>\n",
       "      <td>0</td>\n",
       "      <td>0</td>\n",
       "      <td>0</td>\n",
       "      <td>0</td>\n",
       "      <td>1</td>\n",
       "      <td>0</td>\n",
       "    </tr>\n",
       "  </tbody>\n",
       "</table>\n",
       "</div>"
      ],
      "text/plain": [
       "       owners vehicleTransmission     bodyType  vehicle_passport  \\\n",
       "46035       2                mech        седан                 1   \n",
       "45475       0                auto  внедорожник                 1   \n",
       "42569       2                auto        седан                 0   \n",
       "\n",
       "      vehicle_drive  mileage  steering   color       brand  productionDate  \\\n",
       "46035      передний   252250         0   синий  VOLKSWAGEN            2008   \n",
       "45475        полный   132145         0   серый  VOLKSWAGEN            2014   \n",
       "42569      передний   112000         0  чёрный      TOYOTA            2013   \n",
       "\n",
       "      model_name  vehicle_price  engineDisplacement  enginePower fuelType  \\\n",
       "46035      JETTA            NaN                 1.6        100.0   бензин   \n",
       "45475    TOUAREG            NaN                 3.6        250.0   бензин   \n",
       "42569      CAMRY            NaN                 2.5        180.0   бензин   \n",
       "\n",
       "       numberOfDoors  part  tmission_auto  tmission_mech  tmission_rob  \\\n",
       "46035            4.0     0              0              1             0   \n",
       "45475            5.0     0              1              0             0   \n",
       "42569            4.0     0              1              0             0   \n",
       "\n",
       "       tmission_var  enginePower_cat  brand_AUDI  brand_BMW  brand_HONDA  \\\n",
       "46035             0              0.0           0          0            0   \n",
       "45475             0              3.0           0          0            0   \n",
       "42569             0              2.0           0          0            0   \n",
       "\n",
       "       brand_INFINITI  brand_LEXUS  brand_MERCEDES  brand_MITSUBISHI  \\\n",
       "46035               0            0               0                 0   \n",
       "45475               0            0               0                 0   \n",
       "42569               0            0               0                 0   \n",
       "\n",
       "       brand_NISSAN  brand_SKODA  brand_TOYOTA  brand_VOLKSWAGEN  brand_VOLVO  \\\n",
       "46035             0            0             0                 1            0   \n",
       "45475             0            0             0                 1            0   \n",
       "42569             0            0             1                 0            0   \n",
       "\n",
       "      bodyType_enlargement  body_compactvan  body_coupe  body_hatchback  \\\n",
       "46035                sedan                0           0               0   \n",
       "45475             off_road                0           0               0   \n",
       "42569                sedan                0           0               0   \n",
       "\n",
       "       body_liftback  body_minivan  body_off_road  body_others  body_sedan  \\\n",
       "46035              0             0              0            0           1   \n",
       "45475              0             0              1            0           0   \n",
       "42569              0             0              0            0           1   \n",
       "\n",
       "       body_station_wagon  \n",
       "46035                   0  \n",
       "45475                   0  \n",
       "42569                   0  "
      ]
     },
     "execution_count": 153,
     "metadata": {},
     "output_type": "execute_result"
    }
   ],
   "source": [
    "union = pd.concat([union,pd.get_dummies(union.bodyType_enlargement,prefix='body')],axis=1)\n",
    "union.sample(3)"
   ]
  },
  {
   "cell_type": "markdown",
   "id": "ClH106BygFdC",
   "metadata": {
    "id": "ClH106BygFdC"
   },
   "source": [
    "### **vehicle_drive**"
   ]
  },
  {
   "cell_type": "code",
   "execution_count": 154,
   "id": "9yqY2VIF_tKj",
   "metadata": {
    "colab": {
     "base_uri": "https://localhost:8080/"
    },
    "executionInfo": {
     "elapsed": 369,
     "status": "ok",
     "timestamp": 1627471012056,
     "user": {
      "displayName": "Сергей",
      "photoUrl": "",
      "userId": "16958243466904798794"
     },
     "user_tz": -180
    },
    "id": "9yqY2VIF_tKj",
    "outputId": "78271bd2-16a5-4491-b29f-22de45e29e7e"
   },
   "outputs": [
    {
     "data": {
      "text/plain": [
       "полный      10710\n",
       "передний     8050\n",
       "задний       2244\n",
       "Name: vehicle_drive, dtype: int64"
      ]
     },
     "execution_count": 154,
     "metadata": {},
     "output_type": "execute_result"
    }
   ],
   "source": [
    "union[union.part==1].vehicle_drive.value_counts()"
   ]
  },
  {
   "cell_type": "code",
   "execution_count": 155,
   "id": "htv8VK2I_tQR",
   "metadata": {
    "colab": {
     "base_uri": "https://localhost:8080/"
    },
    "executionInfo": {
     "elapsed": 354,
     "status": "ok",
     "timestamp": 1627471012056,
     "user": {
      "displayName": "Сергей",
      "photoUrl": "",
      "userId": "16958243466904798794"
     },
     "user_tz": -180
    },
    "id": "htv8VK2I_tQR",
    "outputId": "40241f9d-f8b8-4768-d9a3-47968661e814"
   },
   "outputs": [
    {
     "data": {
      "text/plain": [
       "передний    15565\n",
       "полный      15020\n",
       "задний       4101\n",
       "Name: vehicle_drive, dtype: int64"
      ]
     },
     "execution_count": 155,
     "metadata": {},
     "output_type": "execute_result"
    }
   ],
   "source": [
    "union[union.part==0].vehicle_drive.value_counts()"
   ]
  },
  {
   "cell_type": "markdown",
   "id": "867806a5",
   "metadata": {},
   "source": [
    "Переведем во вспомогательные переменные"
   ]
  },
  {
   "cell_type": "code",
   "execution_count": 156,
   "id": "EdcT8pZQf70C",
   "metadata": {
    "colab": {
     "base_uri": "https://localhost:8080/",
     "height": 162
    },
    "executionInfo": {
     "elapsed": 341,
     "status": "ok",
     "timestamp": 1627471012058,
     "user": {
      "displayName": "Сергей",
      "photoUrl": "",
      "userId": "16958243466904798794"
     },
     "user_tz": -180
    },
    "id": "EdcT8pZQf70C",
    "outputId": "fd225299-5111-49c3-ef07-bd7eb9add6b6"
   },
   "outputs": [
    {
     "data": {
      "text/html": [
       "<div>\n",
       "<style scoped>\n",
       "    .dataframe tbody tr th:only-of-type {\n",
       "        vertical-align: middle;\n",
       "    }\n",
       "\n",
       "    .dataframe tbody tr th {\n",
       "        vertical-align: top;\n",
       "    }\n",
       "\n",
       "    .dataframe thead th {\n",
       "        text-align: right;\n",
       "    }\n",
       "</style>\n",
       "<table border=\"1\" class=\"dataframe\">\n",
       "  <thead>\n",
       "    <tr style=\"text-align: right;\">\n",
       "      <th></th>\n",
       "      <th>owners</th>\n",
       "      <th>vehicleTransmission</th>\n",
       "      <th>bodyType</th>\n",
       "      <th>vehicle_passport</th>\n",
       "      <th>vehicle_drive</th>\n",
       "      <th>mileage</th>\n",
       "      <th>steering</th>\n",
       "      <th>color</th>\n",
       "      <th>brand</th>\n",
       "      <th>productionDate</th>\n",
       "      <th>model_name</th>\n",
       "      <th>vehicle_price</th>\n",
       "      <th>engineDisplacement</th>\n",
       "      <th>enginePower</th>\n",
       "      <th>fuelType</th>\n",
       "      <th>numberOfDoors</th>\n",
       "      <th>part</th>\n",
       "      <th>tmission_auto</th>\n",
       "      <th>tmission_mech</th>\n",
       "      <th>tmission_rob</th>\n",
       "      <th>tmission_var</th>\n",
       "      <th>enginePower_cat</th>\n",
       "      <th>brand_AUDI</th>\n",
       "      <th>brand_BMW</th>\n",
       "      <th>brand_HONDA</th>\n",
       "      <th>brand_INFINITI</th>\n",
       "      <th>brand_LEXUS</th>\n",
       "      <th>brand_MERCEDES</th>\n",
       "      <th>brand_MITSUBISHI</th>\n",
       "      <th>brand_NISSAN</th>\n",
       "      <th>brand_SKODA</th>\n",
       "      <th>brand_TOYOTA</th>\n",
       "      <th>brand_VOLKSWAGEN</th>\n",
       "      <th>brand_VOLVO</th>\n",
       "      <th>bodyType_enlargement</th>\n",
       "      <th>body_compactvan</th>\n",
       "      <th>body_coupe</th>\n",
       "      <th>body_hatchback</th>\n",
       "      <th>body_liftback</th>\n",
       "      <th>body_minivan</th>\n",
       "      <th>body_off_road</th>\n",
       "      <th>body_others</th>\n",
       "      <th>body_sedan</th>\n",
       "      <th>body_station_wagon</th>\n",
       "      <th>vehicle_drive_all</th>\n",
       "      <th>vehicle_drive_front</th>\n",
       "      <th>vehicle_drive_rear</th>\n",
       "    </tr>\n",
       "  </thead>\n",
       "  <tbody>\n",
       "    <tr>\n",
       "      <th>47357</th>\n",
       "      <td>0</td>\n",
       "      <td>auto</td>\n",
       "      <td>минивэн</td>\n",
       "      <td>1</td>\n",
       "      <td>front</td>\n",
       "      <td>96000</td>\n",
       "      <td>0</td>\n",
       "      <td>серебристый</td>\n",
       "      <td>VOLKSWAGEN</td>\n",
       "      <td>2009</td>\n",
       "      <td>MULTIVAN</td>\n",
       "      <td>NaN</td>\n",
       "      <td>2.5</td>\n",
       "      <td>170.0</td>\n",
       "      <td>дизель</td>\n",
       "      <td>5.0</td>\n",
       "      <td>0</td>\n",
       "      <td>1</td>\n",
       "      <td>0</td>\n",
       "      <td>0</td>\n",
       "      <td>0</td>\n",
       "      <td>2.0</td>\n",
       "      <td>0</td>\n",
       "      <td>0</td>\n",
       "      <td>0</td>\n",
       "      <td>0</td>\n",
       "      <td>0</td>\n",
       "      <td>0</td>\n",
       "      <td>0</td>\n",
       "      <td>0</td>\n",
       "      <td>0</td>\n",
       "      <td>0</td>\n",
       "      <td>1</td>\n",
       "      <td>0</td>\n",
       "      <td>minivan</td>\n",
       "      <td>0</td>\n",
       "      <td>0</td>\n",
       "      <td>0</td>\n",
       "      <td>0</td>\n",
       "      <td>1</td>\n",
       "      <td>0</td>\n",
       "      <td>0</td>\n",
       "      <td>0</td>\n",
       "      <td>0</td>\n",
       "      <td>0</td>\n",
       "      <td>1</td>\n",
       "      <td>0</td>\n",
       "    </tr>\n",
       "    <tr>\n",
       "      <th>25258</th>\n",
       "      <td>1</td>\n",
       "      <td>var</td>\n",
       "      <td>седан</td>\n",
       "      <td>1</td>\n",
       "      <td>front</td>\n",
       "      <td>203000</td>\n",
       "      <td>0</td>\n",
       "      <td>чёрный</td>\n",
       "      <td>AUDI</td>\n",
       "      <td>2013</td>\n",
       "      <td>A6</td>\n",
       "      <td>NaN</td>\n",
       "      <td>2.0</td>\n",
       "      <td>180.0</td>\n",
       "      <td>бензин</td>\n",
       "      <td>4.0</td>\n",
       "      <td>0</td>\n",
       "      <td>0</td>\n",
       "      <td>0</td>\n",
       "      <td>0</td>\n",
       "      <td>1</td>\n",
       "      <td>2.0</td>\n",
       "      <td>1</td>\n",
       "      <td>0</td>\n",
       "      <td>0</td>\n",
       "      <td>0</td>\n",
       "      <td>0</td>\n",
       "      <td>0</td>\n",
       "      <td>0</td>\n",
       "      <td>0</td>\n",
       "      <td>0</td>\n",
       "      <td>0</td>\n",
       "      <td>0</td>\n",
       "      <td>0</td>\n",
       "      <td>sedan</td>\n",
       "      <td>0</td>\n",
       "      <td>0</td>\n",
       "      <td>0</td>\n",
       "      <td>0</td>\n",
       "      <td>0</td>\n",
       "      <td>0</td>\n",
       "      <td>0</td>\n",
       "      <td>1</td>\n",
       "      <td>0</td>\n",
       "      <td>0</td>\n",
       "      <td>1</td>\n",
       "      <td>0</td>\n",
       "    </tr>\n",
       "    <tr>\n",
       "      <th>26720</th>\n",
       "      <td>2</td>\n",
       "      <td>auto</td>\n",
       "      <td>седан</td>\n",
       "      <td>0</td>\n",
       "      <td>front</td>\n",
       "      <td>255555</td>\n",
       "      <td>0</td>\n",
       "      <td>коричневый</td>\n",
       "      <td>HONDA</td>\n",
       "      <td>2007</td>\n",
       "      <td>ACCORD</td>\n",
       "      <td>NaN</td>\n",
       "      <td>2.4</td>\n",
       "      <td>190.0</td>\n",
       "      <td>бензин</td>\n",
       "      <td>4.0</td>\n",
       "      <td>0</td>\n",
       "      <td>1</td>\n",
       "      <td>0</td>\n",
       "      <td>0</td>\n",
       "      <td>0</td>\n",
       "      <td>2.0</td>\n",
       "      <td>0</td>\n",
       "      <td>0</td>\n",
       "      <td>1</td>\n",
       "      <td>0</td>\n",
       "      <td>0</td>\n",
       "      <td>0</td>\n",
       "      <td>0</td>\n",
       "      <td>0</td>\n",
       "      <td>0</td>\n",
       "      <td>0</td>\n",
       "      <td>0</td>\n",
       "      <td>0</td>\n",
       "      <td>sedan</td>\n",
       "      <td>0</td>\n",
       "      <td>0</td>\n",
       "      <td>0</td>\n",
       "      <td>0</td>\n",
       "      <td>0</td>\n",
       "      <td>0</td>\n",
       "      <td>0</td>\n",
       "      <td>1</td>\n",
       "      <td>0</td>\n",
       "      <td>0</td>\n",
       "      <td>1</td>\n",
       "      <td>0</td>\n",
       "    </tr>\n",
       "  </tbody>\n",
       "</table>\n",
       "</div>"
      ],
      "text/plain": [
       "       owners vehicleTransmission bodyType  vehicle_passport vehicle_drive  \\\n",
       "47357       0                auto  минивэн                 1         front   \n",
       "25258       1                 var    седан                 1         front   \n",
       "26720       2                auto    седан                 0         front   \n",
       "\n",
       "       mileage  steering        color       brand  productionDate model_name  \\\n",
       "47357    96000         0  серебристый  VOLKSWAGEN            2009   MULTIVAN   \n",
       "25258   203000         0       чёрный        AUDI            2013         A6   \n",
       "26720   255555         0   коричневый       HONDA            2007     ACCORD   \n",
       "\n",
       "       vehicle_price  engineDisplacement  enginePower fuelType  numberOfDoors  \\\n",
       "47357            NaN                 2.5        170.0   дизель            5.0   \n",
       "25258            NaN                 2.0        180.0   бензин            4.0   \n",
       "26720            NaN                 2.4        190.0   бензин            4.0   \n",
       "\n",
       "       part  tmission_auto  tmission_mech  tmission_rob  tmission_var  \\\n",
       "47357     0              1              0             0             0   \n",
       "25258     0              0              0             0             1   \n",
       "26720     0              1              0             0             0   \n",
       "\n",
       "       enginePower_cat  brand_AUDI  brand_BMW  brand_HONDA  brand_INFINITI  \\\n",
       "47357              2.0           0          0            0               0   \n",
       "25258              2.0           1          0            0               0   \n",
       "26720              2.0           0          0            1               0   \n",
       "\n",
       "       brand_LEXUS  brand_MERCEDES  brand_MITSUBISHI  brand_NISSAN  \\\n",
       "47357            0               0                 0             0   \n",
       "25258            0               0                 0             0   \n",
       "26720            0               0                 0             0   \n",
       "\n",
       "       brand_SKODA  brand_TOYOTA  brand_VOLKSWAGEN  brand_VOLVO  \\\n",
       "47357            0             0                 1            0   \n",
       "25258            0             0                 0            0   \n",
       "26720            0             0                 0            0   \n",
       "\n",
       "      bodyType_enlargement  body_compactvan  body_coupe  body_hatchback  \\\n",
       "47357              minivan                0           0               0   \n",
       "25258                sedan                0           0               0   \n",
       "26720                sedan                0           0               0   \n",
       "\n",
       "       body_liftback  body_minivan  body_off_road  body_others  body_sedan  \\\n",
       "47357              0             1              0            0           0   \n",
       "25258              0             0              0            0           1   \n",
       "26720              0             0              0            0           1   \n",
       "\n",
       "       body_station_wagon  vehicle_drive_all  vehicle_drive_front  \\\n",
       "47357                   0                  0                    1   \n",
       "25258                   0                  0                    1   \n",
       "26720                   0                  0                    1   \n",
       "\n",
       "       vehicle_drive_rear  \n",
       "47357                   0  \n",
       "25258                   0  \n",
       "26720                   0  "
      ]
     },
     "execution_count": 156,
     "metadata": {},
     "output_type": "execute_result"
    }
   ],
   "source": [
    "union.vehicle_drive = union.vehicle_drive.map({'задний':'rear','передний':'front','полный':'all'})\n",
    "union = pd.concat([union,pd.get_dummies(union.vehicle_drive,prefix='vehicle_drive')],axis=1)\n",
    "union.sample(3)"
   ]
  },
  {
   "cell_type": "markdown",
   "id": "U-FZICBClwFD",
   "metadata": {
    "id": "U-FZICBClwFD"
   },
   "source": [
    "### **productionDate**"
   ]
  },
  {
   "cell_type": "markdown",
   "id": "d3WS8e3wpFOe",
   "metadata": {
    "id": "d3WS8e3wpFOe"
   },
   "source": [
    "Разделим и закодируем на 6 периодов. Временная шкала не зависит от данных в датасетах, так что кодировать можно оба набора данных сразу"
   ]
  },
  {
   "cell_type": "code",
   "execution_count": 157,
   "id": "5vBE0Aurf7-i",
   "metadata": {
    "colab": {
     "base_uri": "https://localhost:8080/"
    },
    "executionInfo": {
     "elapsed": 339,
     "status": "ok",
     "timestamp": 1627471012060,
     "user": {
      "displayName": "Сергей",
      "photoUrl": "",
      "userId": "16958243466904798794"
     },
     "user_tz": -180
    },
    "id": "5vBE0Aurf7-i",
    "outputId": "6a49ac9b-565d-4a79-8a78-76b06ac5a70a"
   },
   "outputs": [
    {
     "data": {
      "text/plain": [
       "(2010, 2015]    19426\n",
       "(2005, 2010]    12748\n",
       "(2015, 2021]    12324\n",
       "(1999, 2005]     6331\n",
       "(1989, 1999]     4238\n",
       "(1900, 1989]      623\n",
       "Name: productionDate, dtype: int64"
      ]
     },
     "execution_count": 157,
     "metadata": {},
     "output_type": "execute_result"
    }
   ],
   "source": [
    "pd.cut(union.productionDate,\n",
    "       bins=[1900, 1989, 1999, 2005, 2010, 2015, 2021]).value_counts()"
   ]
  },
  {
   "cell_type": "code",
   "execution_count": 158,
   "id": "68-NeDH5f8CX",
   "metadata": {
    "colab": {
     "base_uri": "https://localhost:8080/"
    },
    "executionInfo": {
     "elapsed": 322,
     "status": "ok",
     "timestamp": 1627471012062,
     "user": {
      "displayName": "Сергей",
      "photoUrl": "",
      "userId": "16958243466904798794"
     },
     "user_tz": -180
    },
    "id": "68-NeDH5f8CX",
    "outputId": "f6539e89-2e17-4fac-a002-47170c89097a"
   },
   "outputs": [
    {
     "data": {
      "text/plain": [
       "4    19426\n",
       "3    12748\n",
       "5    12324\n",
       "2     6331\n",
       "1     4238\n",
       "0      623\n",
       "Name: productionDate_cat, dtype: int64"
      ]
     },
     "execution_count": 158,
     "metadata": {},
     "output_type": "execute_result"
    }
   ],
   "source": [
    "union['productionDate_cat'] = pd.cut(union.productionDate,\n",
    "                              bins=[1900, 1989, 1999, 2005, 2010, 2015, 2021],\n",
    "                              labels=[0, 1, 2, 3, 4, 5]) # чем новее ТС, тем выше значение\n",
    "union.productionDate_cat.value_counts()"
   ]
  },
  {
   "cell_type": "markdown",
   "id": "xse_v9NVqx06",
   "metadata": {
    "id": "xse_v9NVqx06"
   },
   "source": [
    "### **engineDisplacement**"
   ]
  },
  {
   "cell_type": "code",
   "execution_count": 159,
   "id": "mEQGXZH7f8Lu",
   "metadata": {
    "colab": {
     "base_uri": "https://localhost:8080/"
    },
    "executionInfo": {
     "elapsed": 310,
     "status": "ok",
     "timestamp": 1627471012063,
     "user": {
      "displayName": "Сергей",
      "photoUrl": "",
      "userId": "16958243466904798794"
     },
     "user_tz": -180
    },
    "id": "mEQGXZH7f8Lu",
    "outputId": "b867d55f-374d-4635-a23a-6122be8be8e9"
   },
   "outputs": [
    {
     "data": {
      "text/plain": [
       "(-0.0076, 0.66]       82\n",
       "(0.66, 1.32]        1489\n",
       "(1.32, 1.98]       16410\n",
       "(1.98, 2.64]       20465\n",
       "(2.64, 3.3]         8791\n",
       "(3.3, 3.96]         3476\n",
       "(3.96, 4.62]        2692\n",
       "(4.62, 5.28]         953\n",
       "(5.28, 5.94]        1172\n",
       "(5.94, 6.6]          160\n",
       "Name: engineDisplacement, dtype: int64"
      ]
     },
     "execution_count": 159,
     "metadata": {},
     "output_type": "execute_result"
    }
   ],
   "source": [
    "union.engineDisplacement.value_counts(bins=10).sort_index()"
   ]
  },
  {
   "cell_type": "markdown",
   "id": "PgGcH9E0triA",
   "metadata": {
    "id": "PgGcH9E0triA"
   },
   "source": [
    "Разделим и закодируем в 9 категорий. Шкала объема двигателя не зависит от данных в датасетах, так что кодировать можно оба набора данных сразу (чем больше объем, тем выше категория)"
   ]
  },
  {
   "cell_type": "code",
   "execution_count": 160,
   "id": "CGpto6Tof8Pd",
   "metadata": {
    "colab": {
     "base_uri": "https://localhost:8080/"
    },
    "executionInfo": {
     "elapsed": 297,
     "status": "ok",
     "timestamp": 1627471012064,
     "user": {
      "displayName": "Сергей",
      "photoUrl": "",
      "userId": "16958243466904798794"
     },
     "user_tz": -180
    },
    "id": "CGpto6Tof8Pd",
    "outputId": "6f7a9dd0-5b73-441a-f773-e67db0e2e43a"
   },
   "outputs": [
    {
     "data": {
      "text/plain": [
       "(2.0, 3.0]     15972\n",
       "(1.5, 1.9]     12709\n",
       "(1.9, 2.0]     12560\n",
       "(1.0, 1.5]      5048\n",
       "(3.0, 4.0]      4821\n",
       "(4.0, 5.0]      3008\n",
       "(5.0, 6.0]      1272\n",
       "(-1.0, 1.0]      224\n",
       "(6.0, 7.0]        76\n",
       "Name: engineDisplacement, dtype: int64"
      ]
     },
     "execution_count": 160,
     "metadata": {},
     "output_type": "execute_result"
    }
   ],
   "source": [
    "pd.cut(union.engineDisplacement,\n",
    "       bins=[-1, 1, 1.5, 1.9, 2, 3, 4, 5, 6, 7]).value_counts()"
   ]
  },
  {
   "cell_type": "code",
   "execution_count": 161,
   "id": "ohdSBGuTf8Us",
   "metadata": {
    "colab": {
     "base_uri": "https://localhost:8080/"
    },
    "executionInfo": {
     "elapsed": 284,
     "status": "ok",
     "timestamp": 1627471012065,
     "user": {
      "displayName": "Сергей",
      "photoUrl": "",
      "userId": "16958243466904798794"
     },
     "user_tz": -180
    },
    "id": "ohdSBGuTf8Us",
    "outputId": "a85bf524-81d3-4591-c6d0-72fcdf79ce50"
   },
   "outputs": [
    {
     "data": {
      "text/plain": [
       "4    15972\n",
       "2    12709\n",
       "3    12560\n",
       "1     5048\n",
       "5     4821\n",
       "6     3008\n",
       "7     1272\n",
       "0      224\n",
       "8       76\n",
       "Name: engineDisplacement_cat, dtype: int64"
      ]
     },
     "execution_count": 161,
     "metadata": {},
     "output_type": "execute_result"
    }
   ],
   "source": [
    "union['engineDisplacement_cat'] = pd.cut(union.engineDisplacement,\n",
    "                                  bins=[-1, 1, 1.5, 1.9, 2, 3, 4, 5, 6, 7], \n",
    "                                  labels=[0, 1, 2, 3, 4, 5, 6, 7, 8])\n",
    "union.engineDisplacement_cat.value_counts()"
   ]
  },
  {
   "cell_type": "markdown",
   "id": "wugM9OdVwd_b",
   "metadata": {
    "id": "wugM9OdVwd_b"
   },
   "source": [
    "### **fuelType**"
   ]
  },
  {
   "cell_type": "code",
   "execution_count": 162,
   "id": "DeKIJSjFBSi4",
   "metadata": {
    "colab": {
     "base_uri": "https://localhost:8080/"
    },
    "executionInfo": {
     "elapsed": 270,
     "status": "ok",
     "timestamp": 1627471012066,
     "user": {
      "displayName": "Сергей",
      "photoUrl": "",
      "userId": "16958243466904798794"
     },
     "user_tz": -180
    },
    "id": "DeKIJSjFBSi4",
    "outputId": "4556c339-fc44-4991-c64e-57627653a70c"
   },
   "outputs": [
    {
     "data": {
      "text/plain": [
       "бензин     16479\n",
       "дизель      4138\n",
       "гибрид       195\n",
       "газ          165\n",
       "электро       27\n",
       "Name: fuelType, dtype: int64"
      ]
     },
     "execution_count": 162,
     "metadata": {},
     "output_type": "execute_result"
    }
   ],
   "source": [
    "union[union.part==1].fuelType.value_counts()"
   ]
  },
  {
   "cell_type": "code",
   "execution_count": 163,
   "id": "jM4FsJuwBSxu",
   "metadata": {
    "colab": {
     "base_uri": "https://localhost:8080/"
    },
    "executionInfo": {
     "elapsed": 258,
     "status": "ok",
     "timestamp": 1627471012068,
     "user": {
      "displayName": "Сергей",
      "photoUrl": "",
      "userId": "16958243466904798794"
     },
     "user_tz": -180
    },
    "id": "jM4FsJuwBSxu",
    "outputId": "d5aff8fb-38be-42b3-8048-a6d363c5bda1"
   },
   "outputs": [
    {
     "data": {
      "text/plain": [
       "бензин     28601\n",
       "дизель      5800\n",
       "гибрид       223\n",
       "электро       55\n",
       "газ            7\n",
       "Name: fuelType, dtype: int64"
      ]
     },
     "execution_count": 163,
     "metadata": {},
     "output_type": "execute_result"
    }
   ],
   "source": [
    "union[union.part==0].fuelType.value_counts()"
   ]
  },
  {
   "cell_type": "markdown",
   "id": "FCPlSr4wCnLm",
   "metadata": {
    "id": "FCPlSr4wCnLm"
   },
   "source": [
    "Ввиду малого количества 'электро, газ и гибрид' отнесем их к одной категории и установим ранжирование данных"
   ]
  },
  {
   "cell_type": "code",
   "execution_count": 164,
   "id": "CfMsj1UBf8bG",
   "metadata": {
    "colab": {
     "base_uri": "https://localhost:8080/"
    },
    "executionInfo": {
     "elapsed": 244,
     "status": "ok",
     "timestamp": 1627471012068,
     "user": {
      "displayName": "Сергей",
      "photoUrl": "",
      "userId": "16958243466904798794"
     },
     "user_tz": -180
    },
    "id": "CfMsj1UBf8bG",
    "outputId": "c8148dae-6d90-47b4-a086-ff2afc6ecb0c"
   },
   "outputs": [
    {
     "data": {
      "text/plain": [
       "2    45080\n",
       "1     9938\n",
       "0      672\n",
       "Name: fuelType, dtype: int64"
      ]
     },
     "execution_count": 164,
     "metadata": {},
     "output_type": "execute_result"
    }
   ],
   "source": [
    "union.fuelType = union.fuelType.map({'электро':0, 'газ':0,'гибрид':0,\n",
    "                                     'дизель':1,'бензин':2})\n",
    "union.fuelType.value_counts()"
   ]
  },
  {
   "cell_type": "markdown",
   "id": "oNHeNSodxWel",
   "metadata": {
    "id": "oNHeNSodxWel"
   },
   "source": [
    "### **numberOfDoors**"
   ]
  },
  {
   "cell_type": "code",
   "execution_count": 165,
   "id": "BUmES836DIDb",
   "metadata": {
    "colab": {
     "base_uri": "https://localhost:8080/"
    },
    "executionInfo": {
     "elapsed": 230,
     "status": "ok",
     "timestamp": 1627471012069,
     "user": {
      "displayName": "Сергей",
      "photoUrl": "",
      "userId": "16958243466904798794"
     },
     "user_tz": -180
    },
    "id": "BUmES836DIDb",
    "outputId": "bcd78483-d662-4fe3-e21c-035a4e50eeab"
   },
   "outputs": [
    {
     "data": {
      "text/plain": [
       "5.0    31268\n",
       "4.0    21551\n",
       "2.0     1931\n",
       "3.0      939\n",
       "0.0        1\n",
       "Name: numberOfDoors, dtype: int64"
      ]
     },
     "execution_count": 165,
     "metadata": {},
     "output_type": "execute_result"
    }
   ],
   "source": [
    "union.numberOfDoors.value_counts()"
   ]
  },
  {
   "cell_type": "markdown",
   "id": "Qfmqip0-xZtu",
   "metadata": {
    "id": "Qfmqip0-xZtu"
   },
   "source": [
    "Оставим как есть"
   ]
  },
  {
   "cell_type": "markdown",
   "id": "XM41_pEV6Uml",
   "metadata": {
    "id": "XM41_pEV6Uml"
   },
   "source": [
    "### **mileage**"
   ]
  },
  {
   "cell_type": "code",
   "execution_count": 166,
   "id": "H9EXJE3Jf8fi",
   "metadata": {
    "colab": {
     "base_uri": "https://localhost:8080/"
    },
    "executionInfo": {
     "elapsed": 222,
     "status": "ok",
     "timestamp": 1627471012074,
     "user": {
      "displayName": "Сергей",
      "photoUrl": "",
      "userId": "16958243466904798794"
     },
     "user_tz": -180
    },
    "id": "H9EXJE3Jf8fi",
    "outputId": "c7baeb7f-0906-46f7-b7a4-4d44188d1bca"
   },
   "outputs": [
    {
     "data": {
      "text/plain": [
       "(-999.0, 50000.95]         7183\n",
       "(50000.95, 100000.9]      10400\n",
       "(100000.9, 150000.85]     12303\n",
       "(150000.85, 200000.8]     11022\n",
       "(200000.8, 250000.75]      6466\n",
       "(250000.75, 300000.7]      3958\n",
       "(300000.7, 350000.65]      2085\n",
       "(350000.65, 400000.6]      1226\n",
       "(400000.6, 450000.55]       533\n",
       "(450000.55, 500000.5]       287\n",
       "(500000.5, 550000.45]        97\n",
       "(550000.45, 600000.4]        46\n",
       "(600000.4, 650000.35]        19\n",
       "(650000.35, 700000.3]        21\n",
       "(700000.3, 750000.25]         5\n",
       "(750000.25, 800000.2]         4\n",
       "(800000.2, 850000.15]         3\n",
       "(850000.15, 900000.1]         4\n",
       "(900000.1, 950000.05]         0\n",
       "(950000.05, 1000000.0]       28\n",
       "Name: mileage, dtype: int64"
      ]
     },
     "execution_count": 166,
     "metadata": {},
     "output_type": "execute_result"
    }
   ],
   "source": [
    "union.mileage.value_counts(bins=20).sort_index()"
   ]
  },
  {
   "cell_type": "markdown",
   "id": "lw8kB48m9UvO",
   "metadata": {
    "id": "lw8kB48m9UvO"
   },
   "source": [
    "Разделим и закодируем в 12 категорий. Шкала пробега не зависит от данных в датасетах, так что кодировать можно оба набора данных сразу"
   ]
  },
  {
   "cell_type": "code",
   "execution_count": 167,
   "id": "De-zyKK38eKe",
   "metadata": {
    "colab": {
     "base_uri": "https://localhost:8080/"
    },
    "executionInfo": {
     "elapsed": 209,
     "status": "ok",
     "timestamp": 1627471012075,
     "user": {
      "displayName": "Сергей",
      "photoUrl": "",
      "userId": "16958243466904798794"
     },
     "user_tz": -180
    },
    "id": "De-zyKK38eKe",
    "outputId": "eaf5ad5a-1e43-4878-db1c-88faa1477b7f"
   },
   "outputs": [
    {
     "data": {
      "text/plain": [
       "(200000, 250000]     6466\n",
       "(125000, 150000]     6395\n",
       "(250000, 350000]     6043\n",
       "(100000, 125000]     5908\n",
       "(75000, 100000]      5820\n",
       "(150000, 175000]     5585\n",
       "(175000, 200000]     5437\n",
       "(50000, 75000]       4580\n",
       "(25000, 50000]       3971\n",
       "(-1, 25000]          3212\n",
       "(350000, 500000]     2046\n",
       "(500000, 1100000]     227\n",
       "Name: mileage, dtype: int64"
      ]
     },
     "execution_count": 167,
     "metadata": {},
     "output_type": "execute_result"
    }
   ],
   "source": [
    "pd.cut(union.mileage,\n",
    "       bins=[-1, 25_000, 50_000, 75_000, 100_000, 125_000, 150_000, 175_000,\n",
    "             200_000, 250_000, 350_000, 500_000, 1100_000]).value_counts()"
   ]
  },
  {
   "cell_type": "code",
   "execution_count": 168,
   "id": "arZKZmeHf8kD",
   "metadata": {
    "colab": {
     "base_uri": "https://localhost:8080/"
    },
    "executionInfo": {
     "elapsed": 197,
     "status": "ok",
     "timestamp": 1627471012077,
     "user": {
      "displayName": "Сергей",
      "photoUrl": "",
      "userId": "16958243466904798794"
     },
     "user_tz": -180
    },
    "id": "arZKZmeHf8kD",
    "outputId": "6be06916-8f75-4014-b95f-9b1dd94a36bb"
   },
   "outputs": [
    {
     "data": {
      "text/plain": [
       "3.0     6466\n",
       "6.0     6395\n",
       "2.0     6043\n",
       "7.0     5908\n",
       "8.0     5820\n",
       "5.0     5585\n",
       "4.0     5437\n",
       "9.0     4580\n",
       "10.0    3971\n",
       "11.0    3212\n",
       "1.0     2046\n",
       "0.0      227\n",
       "Name: mileage_cat, dtype: int64"
      ]
     },
     "execution_count": 168,
     "metadata": {},
     "output_type": "execute_result"
    }
   ],
   "source": [
    "union['mileage_cat'] = pd.cut(union.mileage,\n",
    "                              bins=[-1, 25_000, 50_000, 75_000, 100_000,\n",
    "                                    125_000, 150_000, 175_000, 200_000, 250_000,\n",
    "                                    350_000, 500_000, 1100_000],\n",
    "                              labels=[11,10,9,8,7,6,5,4,3,2,1,0]) # чем меньше пробег, тем больше значение\n",
    "union.mileage_cat = union.mileage_cat.astype('float64')\n",
    "union.mileage_cat.value_counts()"
   ]
  },
  {
   "cell_type": "markdown",
   "id": "4DXkfGpdCoXa",
   "metadata": {
    "id": "4DXkfGpdCoXa"
   },
   "source": [
    "### **color**"
   ]
  },
  {
   "cell_type": "code",
   "execution_count": 169,
   "id": "QdVJB_Lxf8tH",
   "metadata": {
    "colab": {
     "base_uri": "https://localhost:8080/"
    },
    "executionInfo": {
     "elapsed": 185,
     "status": "ok",
     "timestamp": 1627471012079,
     "user": {
      "displayName": "Сергей",
      "photoUrl": "",
      "userId": "16958243466904798794"
     },
     "user_tz": -180
    },
    "id": "QdVJB_Lxf8tH",
    "outputId": "d3336cc5-d488-4e8d-fdd9-fb7baf4b0ac1"
   },
   "outputs": [
    {
     "data": {
      "text/plain": [
       "чёрный         17834\n",
       "белый          10428\n",
       "серый           6609\n",
       "серебристый     5908\n",
       "синий           5215\n",
       "коричневый      2584\n",
       "красный         2468\n",
       "Name: color, dtype: int64"
      ]
     },
     "execution_count": 169,
     "metadata": {},
     "output_type": "execute_result"
    }
   ],
   "source": [
    "union.color.value_counts()[:7]"
   ]
  },
  {
   "cell_type": "code",
   "execution_count": 170,
   "id": "bf4390b4",
   "metadata": {},
   "outputs": [
    {
     "data": {
      "text/plain": [
       "чёрный         6824\n",
       "белый          4295\n",
       "серый          2625\n",
       "синий          1926\n",
       "серебристый    1795\n",
       "коричневый     1083\n",
       "красный         937\n",
       "Name: color, dtype: int64"
      ]
     },
     "execution_count": 170,
     "metadata": {},
     "output_type": "execute_result"
    }
   ],
   "source": [
    "union[union.part==1].color.value_counts()[:7]"
   ]
  },
  {
   "cell_type": "code",
   "execution_count": 171,
   "id": "cd1ec390",
   "metadata": {},
   "outputs": [
    {
     "data": {
      "text/plain": [
       "чёрный         11010\n",
       "белый           6133\n",
       "серебристый     4113\n",
       "серый           3984\n",
       "синий           3289\n",
       "красный         1531\n",
       "коричневый      1501\n",
       "Name: color, dtype: int64"
      ]
     },
     "execution_count": 171,
     "metadata": {},
     "output_type": "execute_result"
    }
   ],
   "source": [
    "union[union.part==0].color.value_counts()[:7]"
   ]
  },
  {
   "cell_type": "markdown",
   "id": "uPxeMDiUC4eS",
   "metadata": {
    "id": "uPxeMDiUC4eS"
   },
   "source": [
    "Сделаем 4 типа цвета: самый частый - черный: 3, обычные цвета - белый, серый, серебристый, синий: 2, редкие цвета (коричнеый - голубой): 1 и супер редкие цвета: 0. Распространенность цвета не зависит от данных в датасетах, так что кодировать можно оба набора данных сразу. Установим ранжирование"
   ]
  },
  {
   "cell_type": "code",
   "execution_count": 172,
   "id": "Ajmt-Gd3C1Dk",
   "metadata": {
    "executionInfo": {
     "elapsed": 172,
     "status": "ok",
     "timestamp": 1627471012080,
     "user": {
      "displayName": "Сергей",
      "photoUrl": "",
      "userId": "16958243466904798794"
     },
     "user_tz": -180
    },
    "id": "Ajmt-Gd3C1Dk"
   },
   "outputs": [],
   "source": [
    "color_dict={'чёрный': 3,\n",
    "            'белый': 2, 'серый': 2, 'серебристый':2, 'синий':2,\n",
    "            'коричневый':1, 'красный':1, 'зелёный':1, 'бежевый':1, 'голубой': 1,\n",
    "            'пурпурный': 0, 'золотистый': 0,  'фиолетовый': 0,\n",
    "            'жёлтый': 0, 'оранжевый': 0, 'розовый': 0      \n",
    " }"
   ]
  },
  {
   "cell_type": "code",
   "execution_count": 173,
   "id": "85hPEgwIC1Ix",
   "metadata": {
    "colab": {
     "base_uri": "https://localhost:8080/"
    },
    "executionInfo": {
     "elapsed": 172,
     "status": "ok",
     "timestamp": 1627471012081,
     "user": {
      "displayName": "Сергей",
      "photoUrl": "",
      "userId": "16958243466904798794"
     },
     "user_tz": -180
    },
    "id": "85hPEgwIC1Ix",
    "outputId": "df0c6f08-425a-4632-a767-3175dbe39ccf"
   },
   "outputs": [
    {
     "data": {
      "text/plain": [
       "2    28160\n",
       "3    17834\n",
       "1     8078\n",
       "0     1618\n",
       "Name: color_code, dtype: int64"
      ]
     },
     "execution_count": 173,
     "metadata": {},
     "output_type": "execute_result"
    }
   ],
   "source": [
    "union['color_code'] = union.color.map(color_dict)\n",
    "union.color_code.value_counts()"
   ]
  },
  {
   "cell_type": "markdown",
   "id": "5f7b5715",
   "metadata": {},
   "source": [
    "### **vehicle_price**"
   ]
  },
  {
   "cell_type": "markdown",
   "id": "14c72b2a",
   "metadata": {},
   "source": [
    "Учитывая, что предсказанию подлежит стоимость ТС на момент составления тестовой выборки (09.2020), сопоставим цены 2020 года с ценами 2021. Для этого возьмем данные по ценам на новые автомобили, по одной из случайных моделей от каждого производителя, и сравним их с ценами на те же модели в 2020 году. Цены 2021 года - данные autospot.ru, цены 2020 года из соответствующих архивных страниц autospot.ru (данные получены с помощью https://web.archive.org/). Предположительно, изменение цен на вторичном рынке следует за изменениями на первичном и будут пропорциональны им (за исключением раритетных и экслюзивных ТС). \n",
    "\n",
    "|Производитель| Модель | Стомость в сентябре 2020 | Стоимость в июле 2021 | Коэффициент удорожания\n",
    "|:---|:-------|:---------|:--|:--\n",
    "|AUDI|Q3|2 971 000|3 203 425|1.078231\n",
    "|BMW|5ER|3 092 299|3 790 000|1.225625\n",
    "|HONDA|-|-|-|-\n",
    "|INFINITY|QX50|3 110 000|3 540 000|1.138264\n",
    "|LEXUS|GX|5 215 000|5 730 000|1.098754\n",
    "|MERCEDES|GLB|2 895 200|3 100 200|1.070807\n",
    "|MITSUBISHI|OUTLANDER|1 296 600|1 520 000|1.172297\n",
    "|NISSAN|X-Trail|1 321 000|1 559 999|1.177895\n",
    "|SKODA|Kodiaq|1 278 370|1 704 500|1.333339\n",
    "|TOYOTA|Camry|1 739 000|2 886 000|1.659574\n",
    "|VOLKSWAGEN|Touareg|4 242 800|4 896 500|1.154073\n",
    "|VOLVO|XC60|3 504 600|3 931 300|1.121754\n",
    "\n",
    "Возьмем медианное значение 1.154 и разделим цены в vehicle_price на данный коэффициент"
   ]
  },
  {
   "cell_type": "code",
   "execution_count": 174,
   "id": "c1a7f1f8",
   "metadata": {},
   "outputs": [],
   "source": [
    "coef_sales = 1.154\n",
    "union.vehicle_price = union.vehicle_price/coef_sales"
   ]
  },
  {
   "cell_type": "code",
   "execution_count": 175,
   "id": "BRs-lqH6UEPE",
   "metadata": {
    "colab": {
     "base_uri": "https://localhost:8080/",
     "height": 224
    },
    "executionInfo": {
     "elapsed": 159,
     "status": "ok",
     "timestamp": 1627471012082,
     "user": {
      "displayName": "Сергей",
      "photoUrl": "",
      "userId": "16958243466904798794"
     },
     "user_tz": -180
    },
    "id": "BRs-lqH6UEPE",
    "outputId": "e5bd77b7-5514-47d6-a47c-c8af72872c7f"
   },
   "outputs": [
    {
     "data": {
      "text/html": [
       "<div>\n",
       "<style scoped>\n",
       "    .dataframe tbody tr th:only-of-type {\n",
       "        vertical-align: middle;\n",
       "    }\n",
       "\n",
       "    .dataframe tbody tr th {\n",
       "        vertical-align: top;\n",
       "    }\n",
       "\n",
       "    .dataframe thead th {\n",
       "        text-align: right;\n",
       "    }\n",
       "</style>\n",
       "<table border=\"1\" class=\"dataframe\">\n",
       "  <thead>\n",
       "    <tr style=\"text-align: right;\">\n",
       "      <th></th>\n",
       "      <th>owners</th>\n",
       "      <th>vehicleTransmission</th>\n",
       "      <th>bodyType</th>\n",
       "      <th>vehicle_passport</th>\n",
       "      <th>vehicle_drive</th>\n",
       "      <th>mileage</th>\n",
       "      <th>steering</th>\n",
       "      <th>color</th>\n",
       "      <th>brand</th>\n",
       "      <th>productionDate</th>\n",
       "      <th>model_name</th>\n",
       "      <th>vehicle_price</th>\n",
       "      <th>engineDisplacement</th>\n",
       "      <th>enginePower</th>\n",
       "      <th>fuelType</th>\n",
       "      <th>numberOfDoors</th>\n",
       "      <th>part</th>\n",
       "      <th>tmission_auto</th>\n",
       "      <th>tmission_mech</th>\n",
       "      <th>tmission_rob</th>\n",
       "      <th>tmission_var</th>\n",
       "      <th>enginePower_cat</th>\n",
       "      <th>brand_AUDI</th>\n",
       "      <th>brand_BMW</th>\n",
       "      <th>brand_HONDA</th>\n",
       "      <th>brand_INFINITI</th>\n",
       "      <th>brand_LEXUS</th>\n",
       "      <th>brand_MERCEDES</th>\n",
       "      <th>brand_MITSUBISHI</th>\n",
       "      <th>brand_NISSAN</th>\n",
       "      <th>brand_SKODA</th>\n",
       "      <th>brand_TOYOTA</th>\n",
       "      <th>brand_VOLKSWAGEN</th>\n",
       "      <th>brand_VOLVO</th>\n",
       "      <th>bodyType_enlargement</th>\n",
       "      <th>body_compactvan</th>\n",
       "      <th>body_coupe</th>\n",
       "      <th>body_hatchback</th>\n",
       "      <th>body_liftback</th>\n",
       "      <th>body_minivan</th>\n",
       "      <th>body_off_road</th>\n",
       "      <th>body_others</th>\n",
       "      <th>body_sedan</th>\n",
       "      <th>body_station_wagon</th>\n",
       "      <th>vehicle_drive_all</th>\n",
       "      <th>vehicle_drive_front</th>\n",
       "      <th>vehicle_drive_rear</th>\n",
       "      <th>productionDate_cat</th>\n",
       "      <th>engineDisplacement_cat</th>\n",
       "      <th>mileage_cat</th>\n",
       "      <th>color_code</th>\n",
       "    </tr>\n",
       "  </thead>\n",
       "  <tbody>\n",
       "    <tr>\n",
       "      <th>1270</th>\n",
       "      <td>1</td>\n",
       "      <td>auto</td>\n",
       "      <td>седан</td>\n",
       "      <td>1</td>\n",
       "      <td>all</td>\n",
       "      <td>112000</td>\n",
       "      <td>0</td>\n",
       "      <td>чёрный</td>\n",
       "      <td>AUDI</td>\n",
       "      <td>2016</td>\n",
       "      <td>A8</td>\n",
       "      <td>2.157712e+06</td>\n",
       "      <td>3.0</td>\n",
       "      <td>310.0</td>\n",
       "      <td>2</td>\n",
       "      <td>4.0</td>\n",
       "      <td>1</td>\n",
       "      <td>1</td>\n",
       "      <td>0</td>\n",
       "      <td>0</td>\n",
       "      <td>0</td>\n",
       "      <td>5.0</td>\n",
       "      <td>1</td>\n",
       "      <td>0</td>\n",
       "      <td>0</td>\n",
       "      <td>0</td>\n",
       "      <td>0</td>\n",
       "      <td>0</td>\n",
       "      <td>0</td>\n",
       "      <td>0</td>\n",
       "      <td>0</td>\n",
       "      <td>0</td>\n",
       "      <td>0</td>\n",
       "      <td>0</td>\n",
       "      <td>sedan</td>\n",
       "      <td>0</td>\n",
       "      <td>0</td>\n",
       "      <td>0</td>\n",
       "      <td>0</td>\n",
       "      <td>0</td>\n",
       "      <td>0</td>\n",
       "      <td>0</td>\n",
       "      <td>1</td>\n",
       "      <td>0</td>\n",
       "      <td>1</td>\n",
       "      <td>0</td>\n",
       "      <td>0</td>\n",
       "      <td>5</td>\n",
       "      <td>4</td>\n",
       "      <td>7.0</td>\n",
       "      <td>3</td>\n",
       "    </tr>\n",
       "    <tr>\n",
       "      <th>6391</th>\n",
       "      <td>1</td>\n",
       "      <td>auto</td>\n",
       "      <td>внедорожник</td>\n",
       "      <td>1</td>\n",
       "      <td>rear</td>\n",
       "      <td>135200</td>\n",
       "      <td>0</td>\n",
       "      <td>синий</td>\n",
       "      <td>BMW</td>\n",
       "      <td>2011</td>\n",
       "      <td>X1</td>\n",
       "      <td>7.712305e+05</td>\n",
       "      <td>2.0</td>\n",
       "      <td>150.0</td>\n",
       "      <td>2</td>\n",
       "      <td>5.0</td>\n",
       "      <td>1</td>\n",
       "      <td>1</td>\n",
       "      <td>0</td>\n",
       "      <td>0</td>\n",
       "      <td>0</td>\n",
       "      <td>1.0</td>\n",
       "      <td>0</td>\n",
       "      <td>1</td>\n",
       "      <td>0</td>\n",
       "      <td>0</td>\n",
       "      <td>0</td>\n",
       "      <td>0</td>\n",
       "      <td>0</td>\n",
       "      <td>0</td>\n",
       "      <td>0</td>\n",
       "      <td>0</td>\n",
       "      <td>0</td>\n",
       "      <td>0</td>\n",
       "      <td>off_road</td>\n",
       "      <td>0</td>\n",
       "      <td>0</td>\n",
       "      <td>0</td>\n",
       "      <td>0</td>\n",
       "      <td>0</td>\n",
       "      <td>1</td>\n",
       "      <td>0</td>\n",
       "      <td>0</td>\n",
       "      <td>0</td>\n",
       "      <td>0</td>\n",
       "      <td>0</td>\n",
       "      <td>1</td>\n",
       "      <td>4</td>\n",
       "      <td>3</td>\n",
       "      <td>6.0</td>\n",
       "      <td>2</td>\n",
       "    </tr>\n",
       "    <tr>\n",
       "      <th>8823</th>\n",
       "      <td>2</td>\n",
       "      <td>auto</td>\n",
       "      <td>седан</td>\n",
       "      <td>1</td>\n",
       "      <td>rear</td>\n",
       "      <td>319900</td>\n",
       "      <td>0</td>\n",
       "      <td>чёрный</td>\n",
       "      <td>LEXUS</td>\n",
       "      <td>2000</td>\n",
       "      <td>GS</td>\n",
       "      <td>4.766031e+05</td>\n",
       "      <td>3.0</td>\n",
       "      <td>230.0</td>\n",
       "      <td>2</td>\n",
       "      <td>4.0</td>\n",
       "      <td>1</td>\n",
       "      <td>1</td>\n",
       "      <td>0</td>\n",
       "      <td>0</td>\n",
       "      <td>0</td>\n",
       "      <td>3.0</td>\n",
       "      <td>0</td>\n",
       "      <td>0</td>\n",
       "      <td>0</td>\n",
       "      <td>0</td>\n",
       "      <td>1</td>\n",
       "      <td>0</td>\n",
       "      <td>0</td>\n",
       "      <td>0</td>\n",
       "      <td>0</td>\n",
       "      <td>0</td>\n",
       "      <td>0</td>\n",
       "      <td>0</td>\n",
       "      <td>sedan</td>\n",
       "      <td>0</td>\n",
       "      <td>0</td>\n",
       "      <td>0</td>\n",
       "      <td>0</td>\n",
       "      <td>0</td>\n",
       "      <td>0</td>\n",
       "      <td>0</td>\n",
       "      <td>1</td>\n",
       "      <td>0</td>\n",
       "      <td>0</td>\n",
       "      <td>0</td>\n",
       "      <td>1</td>\n",
       "      <td>2</td>\n",
       "      <td>4</td>\n",
       "      <td>2.0</td>\n",
       "      <td>3</td>\n",
       "    </tr>\n",
       "    <tr>\n",
       "      <th>43275</th>\n",
       "      <td>2</td>\n",
       "      <td>auto</td>\n",
       "      <td>внедорожник</td>\n",
       "      <td>1</td>\n",
       "      <td>all</td>\n",
       "      <td>245000</td>\n",
       "      <td>0</td>\n",
       "      <td>серый</td>\n",
       "      <td>TOYOTA</td>\n",
       "      <td>2005</td>\n",
       "      <td>LAND CRUISER</td>\n",
       "      <td>NaN</td>\n",
       "      <td>4.7</td>\n",
       "      <td>240.0</td>\n",
       "      <td>2</td>\n",
       "      <td>5.0</td>\n",
       "      <td>0</td>\n",
       "      <td>1</td>\n",
       "      <td>0</td>\n",
       "      <td>0</td>\n",
       "      <td>0</td>\n",
       "      <td>3.0</td>\n",
       "      <td>0</td>\n",
       "      <td>0</td>\n",
       "      <td>0</td>\n",
       "      <td>0</td>\n",
       "      <td>0</td>\n",
       "      <td>0</td>\n",
       "      <td>0</td>\n",
       "      <td>0</td>\n",
       "      <td>0</td>\n",
       "      <td>1</td>\n",
       "      <td>0</td>\n",
       "      <td>0</td>\n",
       "      <td>off_road</td>\n",
       "      <td>0</td>\n",
       "      <td>0</td>\n",
       "      <td>0</td>\n",
       "      <td>0</td>\n",
       "      <td>0</td>\n",
       "      <td>1</td>\n",
       "      <td>0</td>\n",
       "      <td>0</td>\n",
       "      <td>0</td>\n",
       "      <td>1</td>\n",
       "      <td>0</td>\n",
       "      <td>0</td>\n",
       "      <td>2</td>\n",
       "      <td>6</td>\n",
       "      <td>3.0</td>\n",
       "      <td>2</td>\n",
       "    </tr>\n",
       "    <tr>\n",
       "      <th>13990</th>\n",
       "      <td>0</td>\n",
       "      <td>rob</td>\n",
       "      <td>лифтбек</td>\n",
       "      <td>1</td>\n",
       "      <td>front</td>\n",
       "      <td>63393</td>\n",
       "      <td>0</td>\n",
       "      <td>серый</td>\n",
       "      <td>SKODA</td>\n",
       "      <td>2016</td>\n",
       "      <td>OCTAVIA</td>\n",
       "      <td>1.030329e+06</td>\n",
       "      <td>1.8</td>\n",
       "      <td>180.0</td>\n",
       "      <td>2</td>\n",
       "      <td>5.0</td>\n",
       "      <td>1</td>\n",
       "      <td>0</td>\n",
       "      <td>0</td>\n",
       "      <td>1</td>\n",
       "      <td>0</td>\n",
       "      <td>2.0</td>\n",
       "      <td>0</td>\n",
       "      <td>0</td>\n",
       "      <td>0</td>\n",
       "      <td>0</td>\n",
       "      <td>0</td>\n",
       "      <td>0</td>\n",
       "      <td>0</td>\n",
       "      <td>0</td>\n",
       "      <td>1</td>\n",
       "      <td>0</td>\n",
       "      <td>0</td>\n",
       "      <td>0</td>\n",
       "      <td>liftback</td>\n",
       "      <td>0</td>\n",
       "      <td>0</td>\n",
       "      <td>0</td>\n",
       "      <td>1</td>\n",
       "      <td>0</td>\n",
       "      <td>0</td>\n",
       "      <td>0</td>\n",
       "      <td>0</td>\n",
       "      <td>0</td>\n",
       "      <td>0</td>\n",
       "      <td>1</td>\n",
       "      <td>0</td>\n",
       "      <td>5</td>\n",
       "      <td>2</td>\n",
       "      <td>9.0</td>\n",
       "      <td>2</td>\n",
       "    </tr>\n",
       "  </tbody>\n",
       "</table>\n",
       "</div>"
      ],
      "text/plain": [
       "       owners vehicleTransmission     bodyType  vehicle_passport  \\\n",
       "1270        1                auto        седан                 1   \n",
       "6391        1                auto  внедорожник                 1   \n",
       "8823        2                auto        седан                 1   \n",
       "43275       2                auto  внедорожник                 1   \n",
       "13990       0                 rob      лифтбек                 1   \n",
       "\n",
       "      vehicle_drive  mileage  steering   color   brand  productionDate  \\\n",
       "1270            all   112000         0  чёрный    AUDI            2016   \n",
       "6391           rear   135200         0   синий     BMW            2011   \n",
       "8823           rear   319900         0  чёрный   LEXUS            2000   \n",
       "43275           all   245000         0   серый  TOYOTA            2005   \n",
       "13990         front    63393         0   серый   SKODA            2016   \n",
       "\n",
       "         model_name  vehicle_price  engineDisplacement  enginePower  fuelType  \\\n",
       "1270             A8   2.157712e+06                 3.0        310.0         2   \n",
       "6391             X1   7.712305e+05                 2.0        150.0         2   \n",
       "8823             GS   4.766031e+05                 3.0        230.0         2   \n",
       "43275  LAND CRUISER            NaN                 4.7        240.0         2   \n",
       "13990       OCTAVIA   1.030329e+06                 1.8        180.0         2   \n",
       "\n",
       "       numberOfDoors  part  tmission_auto  tmission_mech  tmission_rob  \\\n",
       "1270             4.0     1              1              0             0   \n",
       "6391             5.0     1              1              0             0   \n",
       "8823             4.0     1              1              0             0   \n",
       "43275            5.0     0              1              0             0   \n",
       "13990            5.0     1              0              0             1   \n",
       "\n",
       "       tmission_var  enginePower_cat  brand_AUDI  brand_BMW  brand_HONDA  \\\n",
       "1270              0              5.0           1          0            0   \n",
       "6391              0              1.0           0          1            0   \n",
       "8823              0              3.0           0          0            0   \n",
       "43275             0              3.0           0          0            0   \n",
       "13990             0              2.0           0          0            0   \n",
       "\n",
       "       brand_INFINITI  brand_LEXUS  brand_MERCEDES  brand_MITSUBISHI  \\\n",
       "1270                0            0               0                 0   \n",
       "6391                0            0               0                 0   \n",
       "8823                0            1               0                 0   \n",
       "43275               0            0               0                 0   \n",
       "13990               0            0               0                 0   \n",
       "\n",
       "       brand_NISSAN  brand_SKODA  brand_TOYOTA  brand_VOLKSWAGEN  brand_VOLVO  \\\n",
       "1270              0            0             0                 0            0   \n",
       "6391              0            0             0                 0            0   \n",
       "8823              0            0             0                 0            0   \n",
       "43275             0            0             1                 0            0   \n",
       "13990             0            1             0                 0            0   \n",
       "\n",
       "      bodyType_enlargement  body_compactvan  body_coupe  body_hatchback  \\\n",
       "1270                 sedan                0           0               0   \n",
       "6391              off_road                0           0               0   \n",
       "8823                 sedan                0           0               0   \n",
       "43275             off_road                0           0               0   \n",
       "13990             liftback                0           0               0   \n",
       "\n",
       "       body_liftback  body_minivan  body_off_road  body_others  body_sedan  \\\n",
       "1270               0             0              0            0           1   \n",
       "6391               0             0              1            0           0   \n",
       "8823               0             0              0            0           1   \n",
       "43275              0             0              1            0           0   \n",
       "13990              1             0              0            0           0   \n",
       "\n",
       "       body_station_wagon  vehicle_drive_all  vehicle_drive_front  \\\n",
       "1270                    0                  1                    0   \n",
       "6391                    0                  0                    0   \n",
       "8823                    0                  0                    0   \n",
       "43275                   0                  1                    0   \n",
       "13990                   0                  0                    1   \n",
       "\n",
       "       vehicle_drive_rear productionDate_cat engineDisplacement_cat  \\\n",
       "1270                    0                  5                      4   \n",
       "6391                    1                  4                      3   \n",
       "8823                    1                  2                      4   \n",
       "43275                   0                  2                      6   \n",
       "13990                   0                  5                      2   \n",
       "\n",
       "       mileage_cat  color_code  \n",
       "1270           7.0           3  \n",
       "6391           6.0           2  \n",
       "8823           2.0           3  \n",
       "43275          3.0           2  \n",
       "13990          9.0           2  "
      ]
     },
     "execution_count": 175,
     "metadata": {},
     "output_type": "execute_result"
    }
   ],
   "source": [
    "union.sample(5)"
   ]
  },
  {
   "cell_type": "markdown",
   "id": "6558837e",
   "metadata": {},
   "source": [
    "# **Обучение моделей**"
   ]
  },
  {
   "cell_type": "markdown",
   "id": "39dd1cea",
   "metadata": {},
   "source": [
    "## Базовая модель"
   ]
  },
  {
   "cell_type": "markdown",
   "id": "g4sSk6BDYI93",
   "metadata": {
    "id": "g4sSk6BDYI93"
   },
   "source": [
    "Построим первую модель"
   ]
  },
  {
   "cell_type": "code",
   "execution_count": 176,
   "id": "lfNoVTiCQxaW",
   "metadata": {
    "executionInfo": {
     "elapsed": 244,
     "status": "ok",
     "timestamp": 1627473216793,
     "user": {
      "displayName": "Сергей",
      "photoUrl": "",
      "userId": "16958243466904798794"
     },
     "user_tz": -180
    },
    "id": "lfNoVTiCQxaW"
   },
   "outputs": [],
   "source": [
    "model_columns = ['owners','vehicle_passport','steering',\n",
    "                 'fuelType', 'numberOfDoors','tmission_auto','tmission_mech',\n",
    "                 'tmission_rob','tmission_var', 'enginePower_cat','brand_AUDI',\n",
    "                 'brand_BMW','brand_HONDA', 'brand_INFINITI','brand_LEXUS',\n",
    "                 'brand_MERCEDES','brand_MITSUBISHI','brand_NISSAN',\n",
    "                 'brand_SKODA', 'brand_TOYOTA','brand_VOLKSWAGEN',\n",
    "                 'brand_VOLVO','body_coupe', 'body_hatchback','body_minivan',\n",
    "                 'body_off_road','body_others', 'body_sedan','body_station_wagon',\n",
    "                 'vehicle_drive_all','vehicle_drive_front','vehicle_drive_rear',\n",
    "                 'productionDate_cat','engineDisplacement_cat', 'mileage_cat',\n",
    "                 'color_code']"
   ]
  },
  {
   "cell_type": "code",
   "execution_count": 177,
   "id": "YZwQh3MRRM6C",
   "metadata": {
    "colab": {
     "base_uri": "https://localhost:8080/",
     "height": 439
    },
    "executionInfo": {
     "elapsed": 157,
     "status": "ok",
     "timestamp": 1627471012083,
     "user": {
      "displayName": "Сергей",
      "photoUrl": "",
      "userId": "16958243466904798794"
     },
     "user_tz": -180
    },
    "id": "YZwQh3MRRM6C",
    "outputId": "5c9ca083-35cf-4d2a-bea8-ea7f79c4c049"
   },
   "outputs": [
    {
     "data": {
      "text/html": [
       "<div>\n",
       "<style scoped>\n",
       "    .dataframe tbody tr th:only-of-type {\n",
       "        vertical-align: middle;\n",
       "    }\n",
       "\n",
       "    .dataframe tbody tr th {\n",
       "        vertical-align: top;\n",
       "    }\n",
       "\n",
       "    .dataframe thead th {\n",
       "        text-align: right;\n",
       "    }\n",
       "</style>\n",
       "<table border=\"1\" class=\"dataframe\">\n",
       "  <thead>\n",
       "    <tr style=\"text-align: right;\">\n",
       "      <th></th>\n",
       "      <th>owners</th>\n",
       "      <th>vehicle_passport</th>\n",
       "      <th>steering</th>\n",
       "      <th>fuelType</th>\n",
       "      <th>numberOfDoors</th>\n",
       "      <th>tmission_auto</th>\n",
       "      <th>tmission_mech</th>\n",
       "      <th>tmission_rob</th>\n",
       "      <th>tmission_var</th>\n",
       "      <th>enginePower_cat</th>\n",
       "      <th>brand_AUDI</th>\n",
       "      <th>brand_BMW</th>\n",
       "      <th>brand_HONDA</th>\n",
       "      <th>brand_INFINITI</th>\n",
       "      <th>brand_LEXUS</th>\n",
       "      <th>brand_MERCEDES</th>\n",
       "      <th>brand_MITSUBISHI</th>\n",
       "      <th>brand_NISSAN</th>\n",
       "      <th>brand_SKODA</th>\n",
       "      <th>brand_TOYOTA</th>\n",
       "      <th>brand_VOLKSWAGEN</th>\n",
       "      <th>brand_VOLVO</th>\n",
       "      <th>body_coupe</th>\n",
       "      <th>body_hatchback</th>\n",
       "      <th>body_minivan</th>\n",
       "      <th>body_off_road</th>\n",
       "      <th>body_others</th>\n",
       "      <th>body_sedan</th>\n",
       "      <th>body_station_wagon</th>\n",
       "      <th>vehicle_drive_all</th>\n",
       "      <th>vehicle_drive_front</th>\n",
       "      <th>vehicle_drive_rear</th>\n",
       "      <th>productionDate_cat</th>\n",
       "      <th>engineDisplacement_cat</th>\n",
       "      <th>mileage_cat</th>\n",
       "      <th>color_code</th>\n",
       "    </tr>\n",
       "  </thead>\n",
       "  <tbody>\n",
       "    <tr>\n",
       "      <th>0</th>\n",
       "      <td>0</td>\n",
       "      <td>1</td>\n",
       "      <td>0</td>\n",
       "      <td>2</td>\n",
       "      <td>4.0</td>\n",
       "      <td>0</td>\n",
       "      <td>0</td>\n",
       "      <td>1</td>\n",
       "      <td>0</td>\n",
       "      <td>1.0</td>\n",
       "      <td>1</td>\n",
       "      <td>0</td>\n",
       "      <td>0</td>\n",
       "      <td>0</td>\n",
       "      <td>0</td>\n",
       "      <td>0</td>\n",
       "      <td>0</td>\n",
       "      <td>0</td>\n",
       "      <td>0</td>\n",
       "      <td>0</td>\n",
       "      <td>0</td>\n",
       "      <td>0</td>\n",
       "      <td>0</td>\n",
       "      <td>0</td>\n",
       "      <td>0</td>\n",
       "      <td>0</td>\n",
       "      <td>0</td>\n",
       "      <td>1</td>\n",
       "      <td>0</td>\n",
       "      <td>0</td>\n",
       "      <td>1</td>\n",
       "      <td>0</td>\n",
       "      <td>5</td>\n",
       "      <td>1</td>\n",
       "      <td>11.0</td>\n",
       "      <td>2</td>\n",
       "    </tr>\n",
       "    <tr>\n",
       "      <th>1</th>\n",
       "      <td>2</td>\n",
       "      <td>1</td>\n",
       "      <td>0</td>\n",
       "      <td>2</td>\n",
       "      <td>5.0</td>\n",
       "      <td>0</td>\n",
       "      <td>0</td>\n",
       "      <td>1</td>\n",
       "      <td>0</td>\n",
       "      <td>7.0</td>\n",
       "      <td>1</td>\n",
       "      <td>0</td>\n",
       "      <td>0</td>\n",
       "      <td>0</td>\n",
       "      <td>0</td>\n",
       "      <td>0</td>\n",
       "      <td>0</td>\n",
       "      <td>0</td>\n",
       "      <td>0</td>\n",
       "      <td>0</td>\n",
       "      <td>0</td>\n",
       "      <td>0</td>\n",
       "      <td>0</td>\n",
       "      <td>0</td>\n",
       "      <td>0</td>\n",
       "      <td>0</td>\n",
       "      <td>0</td>\n",
       "      <td>0</td>\n",
       "      <td>1</td>\n",
       "      <td>1</td>\n",
       "      <td>0</td>\n",
       "      <td>0</td>\n",
       "      <td>4</td>\n",
       "      <td>6</td>\n",
       "      <td>7.0</td>\n",
       "      <td>2</td>\n",
       "    </tr>\n",
       "    <tr>\n",
       "      <th>2</th>\n",
       "      <td>2</td>\n",
       "      <td>1</td>\n",
       "      <td>0</td>\n",
       "      <td>2</td>\n",
       "      <td>5.0</td>\n",
       "      <td>0</td>\n",
       "      <td>0</td>\n",
       "      <td>1</td>\n",
       "      <td>0</td>\n",
       "      <td>3.0</td>\n",
       "      <td>1</td>\n",
       "      <td>0</td>\n",
       "      <td>0</td>\n",
       "      <td>0</td>\n",
       "      <td>0</td>\n",
       "      <td>0</td>\n",
       "      <td>0</td>\n",
       "      <td>0</td>\n",
       "      <td>0</td>\n",
       "      <td>0</td>\n",
       "      <td>0</td>\n",
       "      <td>0</td>\n",
       "      <td>0</td>\n",
       "      <td>0</td>\n",
       "      <td>0</td>\n",
       "      <td>0</td>\n",
       "      <td>0</td>\n",
       "      <td>0</td>\n",
       "      <td>0</td>\n",
       "      <td>1</td>\n",
       "      <td>0</td>\n",
       "      <td>0</td>\n",
       "      <td>4</td>\n",
       "      <td>3</td>\n",
       "      <td>8.0</td>\n",
       "      <td>1</td>\n",
       "    </tr>\n",
       "    <tr>\n",
       "      <th>3</th>\n",
       "      <td>1</td>\n",
       "      <td>1</td>\n",
       "      <td>0</td>\n",
       "      <td>2</td>\n",
       "      <td>5.0</td>\n",
       "      <td>1</td>\n",
       "      <td>0</td>\n",
       "      <td>0</td>\n",
       "      <td>0</td>\n",
       "      <td>7.0</td>\n",
       "      <td>1</td>\n",
       "      <td>0</td>\n",
       "      <td>0</td>\n",
       "      <td>0</td>\n",
       "      <td>0</td>\n",
       "      <td>0</td>\n",
       "      <td>0</td>\n",
       "      <td>0</td>\n",
       "      <td>0</td>\n",
       "      <td>0</td>\n",
       "      <td>0</td>\n",
       "      <td>0</td>\n",
       "      <td>0</td>\n",
       "      <td>0</td>\n",
       "      <td>0</td>\n",
       "      <td>0</td>\n",
       "      <td>0</td>\n",
       "      <td>0</td>\n",
       "      <td>0</td>\n",
       "      <td>1</td>\n",
       "      <td>0</td>\n",
       "      <td>0</td>\n",
       "      <td>4</td>\n",
       "      <td>5</td>\n",
       "      <td>10.0</td>\n",
       "      <td>3</td>\n",
       "    </tr>\n",
       "    <tr>\n",
       "      <th>4</th>\n",
       "      <td>2</td>\n",
       "      <td>1</td>\n",
       "      <td>0</td>\n",
       "      <td>2</td>\n",
       "      <td>4.0</td>\n",
       "      <td>0</td>\n",
       "      <td>0</td>\n",
       "      <td>1</td>\n",
       "      <td>0</td>\n",
       "      <td>7.0</td>\n",
       "      <td>1</td>\n",
       "      <td>0</td>\n",
       "      <td>0</td>\n",
       "      <td>0</td>\n",
       "      <td>0</td>\n",
       "      <td>0</td>\n",
       "      <td>0</td>\n",
       "      <td>0</td>\n",
       "      <td>0</td>\n",
       "      <td>0</td>\n",
       "      <td>0</td>\n",
       "      <td>0</td>\n",
       "      <td>0</td>\n",
       "      <td>0</td>\n",
       "      <td>0</td>\n",
       "      <td>0</td>\n",
       "      <td>0</td>\n",
       "      <td>1</td>\n",
       "      <td>0</td>\n",
       "      <td>1</td>\n",
       "      <td>0</td>\n",
       "      <td>0</td>\n",
       "      <td>5</td>\n",
       "      <td>5</td>\n",
       "      <td>9.0</td>\n",
       "      <td>2</td>\n",
       "    </tr>\n",
       "    <tr>\n",
       "      <th>...</th>\n",
       "      <td>...</td>\n",
       "      <td>...</td>\n",
       "      <td>...</td>\n",
       "      <td>...</td>\n",
       "      <td>...</td>\n",
       "      <td>...</td>\n",
       "      <td>...</td>\n",
       "      <td>...</td>\n",
       "      <td>...</td>\n",
       "      <td>...</td>\n",
       "      <td>...</td>\n",
       "      <td>...</td>\n",
       "      <td>...</td>\n",
       "      <td>...</td>\n",
       "      <td>...</td>\n",
       "      <td>...</td>\n",
       "      <td>...</td>\n",
       "      <td>...</td>\n",
       "      <td>...</td>\n",
       "      <td>...</td>\n",
       "      <td>...</td>\n",
       "      <td>...</td>\n",
       "      <td>...</td>\n",
       "      <td>...</td>\n",
       "      <td>...</td>\n",
       "      <td>...</td>\n",
       "      <td>...</td>\n",
       "      <td>...</td>\n",
       "      <td>...</td>\n",
       "      <td>...</td>\n",
       "      <td>...</td>\n",
       "      <td>...</td>\n",
       "      <td>...</td>\n",
       "      <td>...</td>\n",
       "      <td>...</td>\n",
       "      <td>...</td>\n",
       "    </tr>\n",
       "    <tr>\n",
       "      <th>20999</th>\n",
       "      <td>2</td>\n",
       "      <td>1</td>\n",
       "      <td>0</td>\n",
       "      <td>2</td>\n",
       "      <td>5.0</td>\n",
       "      <td>0</td>\n",
       "      <td>0</td>\n",
       "      <td>1</td>\n",
       "      <td>0</td>\n",
       "      <td>2.0</td>\n",
       "      <td>0</td>\n",
       "      <td>0</td>\n",
       "      <td>0</td>\n",
       "      <td>0</td>\n",
       "      <td>0</td>\n",
       "      <td>0</td>\n",
       "      <td>0</td>\n",
       "      <td>0</td>\n",
       "      <td>0</td>\n",
       "      <td>0</td>\n",
       "      <td>0</td>\n",
       "      <td>1</td>\n",
       "      <td>0</td>\n",
       "      <td>0</td>\n",
       "      <td>0</td>\n",
       "      <td>1</td>\n",
       "      <td>0</td>\n",
       "      <td>0</td>\n",
       "      <td>0</td>\n",
       "      <td>0</td>\n",
       "      <td>1</td>\n",
       "      <td>0</td>\n",
       "      <td>3</td>\n",
       "      <td>3</td>\n",
       "      <td>7.0</td>\n",
       "      <td>3</td>\n",
       "    </tr>\n",
       "    <tr>\n",
       "      <th>21000</th>\n",
       "      <td>0</td>\n",
       "      <td>1</td>\n",
       "      <td>0</td>\n",
       "      <td>1</td>\n",
       "      <td>5.0</td>\n",
       "      <td>1</td>\n",
       "      <td>0</td>\n",
       "      <td>0</td>\n",
       "      <td>0</td>\n",
       "      <td>2.0</td>\n",
       "      <td>0</td>\n",
       "      <td>0</td>\n",
       "      <td>0</td>\n",
       "      <td>0</td>\n",
       "      <td>0</td>\n",
       "      <td>0</td>\n",
       "      <td>0</td>\n",
       "      <td>0</td>\n",
       "      <td>0</td>\n",
       "      <td>0</td>\n",
       "      <td>0</td>\n",
       "      <td>1</td>\n",
       "      <td>0</td>\n",
       "      <td>0</td>\n",
       "      <td>0</td>\n",
       "      <td>0</td>\n",
       "      <td>0</td>\n",
       "      <td>0</td>\n",
       "      <td>1</td>\n",
       "      <td>1</td>\n",
       "      <td>0</td>\n",
       "      <td>0</td>\n",
       "      <td>4</td>\n",
       "      <td>4</td>\n",
       "      <td>3.0</td>\n",
       "      <td>1</td>\n",
       "    </tr>\n",
       "    <tr>\n",
       "      <th>21001</th>\n",
       "      <td>0</td>\n",
       "      <td>1</td>\n",
       "      <td>0</td>\n",
       "      <td>1</td>\n",
       "      <td>5.0</td>\n",
       "      <td>1</td>\n",
       "      <td>0</td>\n",
       "      <td>0</td>\n",
       "      <td>0</td>\n",
       "      <td>3.0</td>\n",
       "      <td>0</td>\n",
       "      <td>0</td>\n",
       "      <td>0</td>\n",
       "      <td>0</td>\n",
       "      <td>0</td>\n",
       "      <td>0</td>\n",
       "      <td>0</td>\n",
       "      <td>0</td>\n",
       "      <td>0</td>\n",
       "      <td>0</td>\n",
       "      <td>0</td>\n",
       "      <td>1</td>\n",
       "      <td>0</td>\n",
       "      <td>0</td>\n",
       "      <td>0</td>\n",
       "      <td>1</td>\n",
       "      <td>0</td>\n",
       "      <td>0</td>\n",
       "      <td>0</td>\n",
       "      <td>1</td>\n",
       "      <td>0</td>\n",
       "      <td>0</td>\n",
       "      <td>5</td>\n",
       "      <td>3</td>\n",
       "      <td>9.0</td>\n",
       "      <td>3</td>\n",
       "    </tr>\n",
       "    <tr>\n",
       "      <th>21002</th>\n",
       "      <td>2</td>\n",
       "      <td>1</td>\n",
       "      <td>0</td>\n",
       "      <td>1</td>\n",
       "      <td>5.0</td>\n",
       "      <td>1</td>\n",
       "      <td>0</td>\n",
       "      <td>0</td>\n",
       "      <td>0</td>\n",
       "      <td>2.0</td>\n",
       "      <td>0</td>\n",
       "      <td>0</td>\n",
       "      <td>0</td>\n",
       "      <td>0</td>\n",
       "      <td>0</td>\n",
       "      <td>0</td>\n",
       "      <td>0</td>\n",
       "      <td>0</td>\n",
       "      <td>0</td>\n",
       "      <td>0</td>\n",
       "      <td>0</td>\n",
       "      <td>1</td>\n",
       "      <td>0</td>\n",
       "      <td>0</td>\n",
       "      <td>0</td>\n",
       "      <td>0</td>\n",
       "      <td>0</td>\n",
       "      <td>0</td>\n",
       "      <td>1</td>\n",
       "      <td>0</td>\n",
       "      <td>1</td>\n",
       "      <td>0</td>\n",
       "      <td>4</td>\n",
       "      <td>3</td>\n",
       "      <td>5.0</td>\n",
       "      <td>3</td>\n",
       "    </tr>\n",
       "    <tr>\n",
       "      <th>21003</th>\n",
       "      <td>2</td>\n",
       "      <td>1</td>\n",
       "      <td>0</td>\n",
       "      <td>2</td>\n",
       "      <td>4.0</td>\n",
       "      <td>1</td>\n",
       "      <td>0</td>\n",
       "      <td>0</td>\n",
       "      <td>0</td>\n",
       "      <td>2.0</td>\n",
       "      <td>0</td>\n",
       "      <td>0</td>\n",
       "      <td>0</td>\n",
       "      <td>0</td>\n",
       "      <td>0</td>\n",
       "      <td>0</td>\n",
       "      <td>0</td>\n",
       "      <td>0</td>\n",
       "      <td>0</td>\n",
       "      <td>0</td>\n",
       "      <td>0</td>\n",
       "      <td>1</td>\n",
       "      <td>0</td>\n",
       "      <td>0</td>\n",
       "      <td>0</td>\n",
       "      <td>0</td>\n",
       "      <td>0</td>\n",
       "      <td>1</td>\n",
       "      <td>0</td>\n",
       "      <td>0</td>\n",
       "      <td>0</td>\n",
       "      <td>1</td>\n",
       "      <td>1</td>\n",
       "      <td>4</td>\n",
       "      <td>2.0</td>\n",
       "      <td>2</td>\n",
       "    </tr>\n",
       "  </tbody>\n",
       "</table>\n",
       "<p>21004 rows × 36 columns</p>\n",
       "</div>"
      ],
      "text/plain": [
       "       owners  vehicle_passport  steering  fuelType  numberOfDoors  \\\n",
       "0           0                 1         0         2            4.0   \n",
       "1           2                 1         0         2            5.0   \n",
       "2           2                 1         0         2            5.0   \n",
       "3           1                 1         0         2            5.0   \n",
       "4           2                 1         0         2            4.0   \n",
       "...       ...               ...       ...       ...            ...   \n",
       "20999       2                 1         0         2            5.0   \n",
       "21000       0                 1         0         1            5.0   \n",
       "21001       0                 1         0         1            5.0   \n",
       "21002       2                 1         0         1            5.0   \n",
       "21003       2                 1         0         2            4.0   \n",
       "\n",
       "       tmission_auto  tmission_mech  tmission_rob  tmission_var  \\\n",
       "0                  0              0             1             0   \n",
       "1                  0              0             1             0   \n",
       "2                  0              0             1             0   \n",
       "3                  1              0             0             0   \n",
       "4                  0              0             1             0   \n",
       "...              ...            ...           ...           ...   \n",
       "20999              0              0             1             0   \n",
       "21000              1              0             0             0   \n",
       "21001              1              0             0             0   \n",
       "21002              1              0             0             0   \n",
       "21003              1              0             0             0   \n",
       "\n",
       "       enginePower_cat  brand_AUDI  brand_BMW  brand_HONDA  brand_INFINITI  \\\n",
       "0                  1.0           1          0            0               0   \n",
       "1                  7.0           1          0            0               0   \n",
       "2                  3.0           1          0            0               0   \n",
       "3                  7.0           1          0            0               0   \n",
       "4                  7.0           1          0            0               0   \n",
       "...                ...         ...        ...          ...             ...   \n",
       "20999              2.0           0          0            0               0   \n",
       "21000              2.0           0          0            0               0   \n",
       "21001              3.0           0          0            0               0   \n",
       "21002              2.0           0          0            0               0   \n",
       "21003              2.0           0          0            0               0   \n",
       "\n",
       "       brand_LEXUS  brand_MERCEDES  brand_MITSUBISHI  brand_NISSAN  \\\n",
       "0                0               0                 0             0   \n",
       "1                0               0                 0             0   \n",
       "2                0               0                 0             0   \n",
       "3                0               0                 0             0   \n",
       "4                0               0                 0             0   \n",
       "...            ...             ...               ...           ...   \n",
       "20999            0               0                 0             0   \n",
       "21000            0               0                 0             0   \n",
       "21001            0               0                 0             0   \n",
       "21002            0               0                 0             0   \n",
       "21003            0               0                 0             0   \n",
       "\n",
       "       brand_SKODA  brand_TOYOTA  brand_VOLKSWAGEN  brand_VOLVO  body_coupe  \\\n",
       "0                0             0                 0            0           0   \n",
       "1                0             0                 0            0           0   \n",
       "2                0             0                 0            0           0   \n",
       "3                0             0                 0            0           0   \n",
       "4                0             0                 0            0           0   \n",
       "...            ...           ...               ...          ...         ...   \n",
       "20999            0             0                 0            1           0   \n",
       "21000            0             0                 0            1           0   \n",
       "21001            0             0                 0            1           0   \n",
       "21002            0             0                 0            1           0   \n",
       "21003            0             0                 0            1           0   \n",
       "\n",
       "       body_hatchback  body_minivan  body_off_road  body_others  body_sedan  \\\n",
       "0                   0             0              0            0           1   \n",
       "1                   0             0              0            0           0   \n",
       "2                   0             0              0            0           0   \n",
       "3                   0             0              0            0           0   \n",
       "4                   0             0              0            0           1   \n",
       "...               ...           ...            ...          ...         ...   \n",
       "20999               0             0              1            0           0   \n",
       "21000               0             0              0            0           0   \n",
       "21001               0             0              1            0           0   \n",
       "21002               0             0              0            0           0   \n",
       "21003               0             0              0            0           1   \n",
       "\n",
       "       body_station_wagon  vehicle_drive_all  vehicle_drive_front  \\\n",
       "0                       0                  0                    1   \n",
       "1                       1                  1                    0   \n",
       "2                       0                  1                    0   \n",
       "3                       0                  1                    0   \n",
       "4                       0                  1                    0   \n",
       "...                   ...                ...                  ...   \n",
       "20999                   0                  0                    1   \n",
       "21000                   1                  1                    0   \n",
       "21001                   0                  1                    0   \n",
       "21002                   1                  0                    1   \n",
       "21003                   0                  0                    0   \n",
       "\n",
       "       vehicle_drive_rear productionDate_cat engineDisplacement_cat  \\\n",
       "0                       0                  5                      1   \n",
       "1                       0                  4                      6   \n",
       "2                       0                  4                      3   \n",
       "3                       0                  4                      5   \n",
       "4                       0                  5                      5   \n",
       "...                   ...                ...                    ...   \n",
       "20999                   0                  3                      3   \n",
       "21000                   0                  4                      4   \n",
       "21001                   0                  5                      3   \n",
       "21002                   0                  4                      3   \n",
       "21003                   1                  1                      4   \n",
       "\n",
       "       mileage_cat  color_code  \n",
       "0             11.0           2  \n",
       "1              7.0           2  \n",
       "2              8.0           1  \n",
       "3             10.0           3  \n",
       "4              9.0           2  \n",
       "...            ...         ...  \n",
       "20999          7.0           3  \n",
       "21000          3.0           1  \n",
       "21001          9.0           3  \n",
       "21002          5.0           3  \n",
       "21003          2.0           2  \n",
       "\n",
       "[21004 rows x 36 columns]"
      ]
     },
     "execution_count": 177,
     "metadata": {},
     "output_type": "execute_result"
    }
   ],
   "source": [
    "union[union.part==1][model_columns]"
   ]
  },
  {
   "cell_type": "code",
   "execution_count": 178,
   "id": "a332f6a3",
   "metadata": {},
   "outputs": [],
   "source": [
    "X = union[union.part==1][model_columns].values\n",
    "Y = union[union.part==1].vehicle_price\n",
    "X_train,X_test,y_train,y_test = train_test_split(X,Y,test_size=0.2,random_state=42)"
   ]
  },
  {
   "cell_type": "markdown",
   "id": "d5b4488d",
   "metadata": {},
   "source": [
    "**LinearRegression**"
   ]
  },
  {
   "cell_type": "code",
   "execution_count": 179,
   "id": "V8gjra7-UEqH",
   "metadata": {
    "colab": {
     "base_uri": "https://localhost:8080/"
    },
    "executionInfo": {
     "elapsed": 157,
     "status": "ok",
     "timestamp": 1627471012084,
     "user": {
      "displayName": "Сергей",
      "photoUrl": "",
      "userId": "16958243466904798794"
     },
     "user_tz": -180
    },
    "id": "V8gjra7-UEqH",
    "outputId": "405fe06b-3943-4ed1-cc70-7ea77f223bdd"
   },
   "outputs": [
    {
     "name": "stdout",
     "output_type": "stream",
     "text": [
      "LR MAPE: 80.5775208209792\n"
     ]
    }
   ],
   "source": [
    "LR = LinearRegression()\n",
    "lr_model = LR.fit(X_train, y_train)\n",
    "y_pred = lr_model.predict(X_test)\n",
    "lr_mape = mean_absolute_percentage_error(y_test, y_pred)*100\n",
    "print('LR MAPE:', lr_mape)"
   ]
  },
  {
   "cell_type": "code",
   "execution_count": 180,
   "id": "oyP358BHh18w",
   "metadata": {
    "colab": {
     "base_uri": "https://localhost:8080/"
    },
    "executionInfo": {
     "elapsed": 141,
     "status": "ok",
     "timestamp": 1627471012086,
     "user": {
      "displayName": "Сергей",
      "photoUrl": "",
      "userId": "16958243466904798794"
     },
     "user_tz": -180
    },
    "id": "oyP358BHh18w",
    "outputId": "fda17451-7518-4e47-e86f-cbcedaf7a68b"
   },
   "outputs": [
    {
     "data": {
      "text/plain": [
       "[(1516464.471403813, 1856512.0),\n",
       " (2733968.8041594457, 2574336.0),\n",
       " (1644714.0381282496, 1563648.0),\n",
       " (1559705.3726169844, 1690624.0),\n",
       " (779029.4627383016, 2206720.0),\n",
       " (524263.43154246104, 635904.0),\n",
       " (2079722.703639515, 1576960.0),\n",
       " (1733101.3864818024, 1968128.0),\n",
       " (710571.923743501, 785408.0),\n",
       " (2104852.6863084924, 2168832.0)]"
      ]
     },
     "execution_count": 180,
     "metadata": {},
     "output_type": "execute_result"
    }
   ],
   "source": [
    "list(zip(y_test, y_pred))[:10]"
   ]
  },
  {
   "cell_type": "markdown",
   "id": "0b629778",
   "metadata": {},
   "source": [
    "Результат не очень  хороший. Теперь будем сравнивать его с иными алгоритмами (пока в базовой настройке)"
   ]
  },
  {
   "cell_type": "markdown",
   "id": "5e94cfd2",
   "metadata": {},
   "source": [
    "## Исследования других моделей"
   ]
  },
  {
   "cell_type": "markdown",
   "id": "5fd20306",
   "metadata": {},
   "source": [
    "### Базовые признаки"
   ]
  },
  {
   "cell_type": "code",
   "execution_count": 181,
   "id": "21318298",
   "metadata": {},
   "outputs": [],
   "source": [
    "estimators = {'RandomForest': RandomForestRegressor(random_state=42,criterion='mae'),\n",
    "              'ExtraTrees': ExtraTreesRegressor(random_state=42,criterion='mae'),\n",
    "              'DecisionTree': DecisionTreeRegressor(criterion='mae',random_state=42),\n",
    "              'DecisionTree_bag': BaggingRegressor(DecisionTreeRegressor(criterion='mae',random_state=42),\n",
    "                                                   n_estimators=100, random_state=42),\n",
    "              'KNeighbors': KNeighborsRegressor(n_neighbors=10),\n",
    "              'KNeighbors_bag': BaggingRegressor(KNeighborsRegressor(n_neighbors=10),\n",
    "                       n_estimators=100, random_state=42),\n",
    "              'GradientBoosting': GradientBoostingRegressor(random_state=42),\n",
    "              'CatBoost': CatBoostRegressor(iterations=100,random_state=42,silent=True),\n",
    "              'LGBM': lgb.LGBMRegressor(random_state=42),\n",
    "              'LinearRegression': LinearRegression()\n",
    "             }"
   ]
  },
  {
   "cell_type": "code",
   "execution_count": 182,
   "id": "5582cd91",
   "metadata": {
    "colab": {
     "base_uri": "https://localhost:8080/"
    },
    "executionInfo": {
     "elapsed": 458293,
     "status": "ok",
     "timestamp": 1627471470253,
     "user": {
      "displayName": "Сергей",
      "photoUrl": "",
      "userId": "16958243466904798794"
     },
     "user_tz": -180
    },
    "id": "ggadOssjZCEH",
    "outputId": "b5008bfd-a1b2-4056-eaf8-b7ebc539e272"
   },
   "outputs": [],
   "source": [
    "def models_mape(est_key):\n",
    "    estimator = estimators[est_key]\n",
    "    model = estimator.fit(X_train, y_train)\n",
    "    y_pred = model.predict(X_test)\n",
    "    return mean_absolute_percentage_error(y_test, y_pred)*100"
   ]
  },
  {
   "cell_type": "code",
   "execution_count": 183,
   "id": "f5a129dd",
   "metadata": {},
   "outputs": [
    {
     "name": "stdout",
     "output_type": "stream",
     "text": [
      "Время поиска:  83 мин\n"
     ]
    }
   ],
   "source": [
    "import time\n",
    "t_begin = time.time()\n",
    "all_mape = pd.DataFrame(columns=['mape'])\n",
    "for key in estimators.keys():\n",
    "    mape = models_mape(key)\n",
    "    all_mape = pd.concat([all_mape,pd.DataFrame([mape],index=[key],columns=['mape'])])\n",
    "print('Время поиска: ',int((time.time()-t_begin)/60),'мин')"
   ]
  },
  {
   "cell_type": "code",
   "execution_count": 184,
   "id": "c5d5fafd",
   "metadata": {},
   "outputs": [
    {
     "data": {
      "text/html": [
       "<div>\n",
       "<style scoped>\n",
       "    .dataframe tbody tr th:only-of-type {\n",
       "        vertical-align: middle;\n",
       "    }\n",
       "\n",
       "    .dataframe tbody tr th {\n",
       "        vertical-align: top;\n",
       "    }\n",
       "\n",
       "    .dataframe thead th {\n",
       "        text-align: right;\n",
       "    }\n",
       "</style>\n",
       "<table border=\"1\" class=\"dataframe\">\n",
       "  <thead>\n",
       "    <tr style=\"text-align: right;\">\n",
       "      <th></th>\n",
       "      <th>mape</th>\n",
       "    </tr>\n",
       "  </thead>\n",
       "  <tbody>\n",
       "    <tr>\n",
       "      <th>RandomForest</th>\n",
       "      <td>19.510706</td>\n",
       "    </tr>\n",
       "    <tr>\n",
       "      <th>DecisionTree_bag</th>\n",
       "      <td>19.539806</td>\n",
       "    </tr>\n",
       "    <tr>\n",
       "      <th>CatBoost</th>\n",
       "      <td>20.348892</td>\n",
       "    </tr>\n",
       "    <tr>\n",
       "      <th>ExtraTrees</th>\n",
       "      <td>20.700742</td>\n",
       "    </tr>\n",
       "    <tr>\n",
       "      <th>LGBM</th>\n",
       "      <td>21.017349</td>\n",
       "    </tr>\n",
       "    <tr>\n",
       "      <th>KNeighbors_bag</th>\n",
       "      <td>22.222754</td>\n",
       "    </tr>\n",
       "    <tr>\n",
       "      <th>KNeighbors</th>\n",
       "      <td>22.488671</td>\n",
       "    </tr>\n",
       "    <tr>\n",
       "      <th>DecisionTree</th>\n",
       "      <td>23.436342</td>\n",
       "    </tr>\n",
       "    <tr>\n",
       "      <th>GradientBoosting</th>\n",
       "      <td>25.275056</td>\n",
       "    </tr>\n",
       "    <tr>\n",
       "      <th>LinearRegression</th>\n",
       "      <td>80.577521</td>\n",
       "    </tr>\n",
       "  </tbody>\n",
       "</table>\n",
       "</div>"
      ],
      "text/plain": [
       "                       mape\n",
       "RandomForest      19.510706\n",
       "DecisionTree_bag  19.539806\n",
       "CatBoost          20.348892\n",
       "ExtraTrees        20.700742\n",
       "LGBM              21.017349\n",
       "KNeighbors_bag    22.222754\n",
       "KNeighbors        22.488671\n",
       "DecisionTree      23.436342\n",
       "GradientBoosting  25.275056\n",
       "LinearRegression  80.577521"
      ]
     },
     "execution_count": 184,
     "metadata": {},
     "output_type": "execute_result"
    }
   ],
   "source": [
    "all_mape.sort_values('mape')"
   ]
  },
  {
   "cell_type": "markdown",
   "id": "45455e5a",
   "metadata": {},
   "source": [
    "### Дополнительная работа с признаками"
   ]
  },
  {
   "cell_type": "markdown",
   "id": "2b182a9d",
   "metadata": {},
   "source": [
    "Теперь попробуем в сгруппированных признаках уменьшить интервалы, чтобы снизить степень обобщения данных. Для проверки изменеий, воспользуемся двумя моделями CatBoostRegressor и GradientBoostingRegressor (быстро считают)"
   ]
  },
  {
   "cell_type": "code",
   "execution_count": 185,
   "id": "8da94891",
   "metadata": {},
   "outputs": [],
   "source": [
    "def revision_check(transformer=None):\n",
    "    '''transformer - параметр применяется (\"T\") при нормализации целевой переменной'''\n",
    "    X = union[union.part==1][model_columns].values\n",
    "    if transformer=='T':\n",
    "        Y = np.log(union[union.part==1].vehicle_price)\n",
    "    else:\n",
    "        Y = union[union.part==1].vehicle_price\n",
    "    X_train,X_test,y_train,y_test = train_test_split(X,Y,test_size=0.2,random_state=42)\n",
    "\n",
    "    CBR = CatBoostRegressor(iterations=100,\n",
    "                            random_state=42,\n",
    "                            silent=True)\n",
    "    cbr_model = CBR.fit(X_train, y_train)\n",
    "    y_pred_cbr = cbr_model.predict(X_test)\n",
    "      \n",
    "    GBR = GradientBoostingRegressor(random_state=42)\n",
    "    gbr_model = GBR.fit(X_train, y_train)\n",
    "    y_pred_gbr = gbr_model.predict(X_test)\n",
    "    \n",
    "    if transformer=='T':\n",
    "        cbr_mape = mean_absolute_percentage_error(np.exp(y_test),np.exp(y_pred_cbr))*100\n",
    "        gbr_mape = mean_absolute_percentage_error(np.exp(y_test),np.exp(y_pred_gbr))*100\n",
    "    else:\n",
    "        cbr_mape = mean_absolute_percentage_error(y_test, y_pred_cbr)*100\n",
    "        gbr_mape = mean_absolute_percentage_error(y_test, y_pred_gbr)*100\n",
    "    print('CBR MAPE:', cbr_mape)\n",
    "    print('GBR MAPE:', gbr_mape)"
   ]
  },
  {
   "cell_type": "markdown",
   "id": "89cd7d5f",
   "metadata": {},
   "source": [
    "#### **enginePower**"
   ]
  },
  {
   "cell_type": "code",
   "execution_count": 186,
   "id": "68a5fa45",
   "metadata": {},
   "outputs": [
    {
     "data": {
      "text/plain": [
       "<seaborn.axisgrid.FacetGrid at 0x1ada1310>"
      ]
     },
     "execution_count": 186,
     "metadata": {},
     "output_type": "execute_result"
    },
    {
     "data": {
      "image/png": "[encoded data removed]",
      "text/plain": [
       "<Figure size 360x360 with 1 Axes>"
      ]
     },
     "metadata": {
      "needs_background": "light"
     },
     "output_type": "display_data"
    },
    {
     "data": {
      "image/png": "[encoded data removed]",
      "text/plain": [
       "<Figure size 360x360 with 1 Axes>"
      ]
     },
     "metadata": {
      "needs_background": "light"
     },
     "output_type": "display_data"
    }
   ],
   "source": [
    "# Распределение изначальных данных\n",
    "sns.displot(union[union.part==1].enginePower,kde=True)\n",
    "# Распределение сгруппированных данных\n",
    "sns.displot(union[union.part==1].enginePower_cat)"
   ]
  },
  {
   "cell_type": "code",
   "execution_count": 187,
   "id": "de480348",
   "metadata": {},
   "outputs": [
    {
     "data": {
      "text/plain": [
       "<seaborn.axisgrid.FacetGrid at 0x1d909610>"
      ]
     },
     "execution_count": 187,
     "metadata": {},
     "output_type": "execute_result"
    },
    {
     "data": {
      "image/png": "[encoded data removed]",
      "text/plain": [
       "<Figure size 360x360 with 1 Axes>"
      ]
     },
     "metadata": {
      "needs_background": "light"
     },
     "output_type": "display_data"
    }
   ],
   "source": [
    "union['enginePower_cat'] = pd.cut(union.enginePower,bins=[-1,80,90,100,110,120,140,150,160,170,180,190,200,\n",
    "                                                           210,220,240,250,300,310,350,400,450,500,550,600,700],\n",
    "                                   labels=[0,1,2,3,4,5,6,7,8,9,10,11,12,13,14,15,16,17,18,19,20,21,22,23,24])\n",
    "\n",
    "union['enginePower_cat'] = union['enginePower_cat'].astype('float64')\n",
    "sns.displot(union[union.part==1].enginePower_cat,discrete=True,shrink=1,kde=True)"
   ]
  },
  {
   "cell_type": "code",
   "execution_count": 188,
   "id": "30d863e0",
   "metadata": {},
   "outputs": [
    {
     "name": "stdout",
     "output_type": "stream",
     "text": [
      "CBR MAPE: 19.81757194446171\n",
      "GBR MAPE: 24.07277885539626\n"
     ]
    }
   ],
   "source": [
    "revision_check()"
   ]
  },
  {
   "cell_type": "markdown",
   "id": "51c06016",
   "metadata": {},
   "source": [
    "#### **engineDisplacement**"
   ]
  },
  {
   "cell_type": "code",
   "execution_count": 189,
   "id": "e6dc30f3",
   "metadata": {},
   "outputs": [
    {
     "data": {
      "text/plain": [
       "<seaborn.axisgrid.FacetGrid at 0x1a7e0a90>"
      ]
     },
     "execution_count": 189,
     "metadata": {},
     "output_type": "execute_result"
    },
    {
     "data": {
      "image/png": "[encoded data removed]",
      "text/plain": [
       "<Figure size 360x360 with 1 Axes>"
      ]
     },
     "metadata": {
      "needs_background": "light"
     },
     "output_type": "display_data"
    },
    {
     "data": {
      "image/png": "[encoded data removed]",
      "text/plain": [
       "<Figure size 360x360 with 1 Axes>"
      ]
     },
     "metadata": {
      "needs_background": "light"
     },
     "output_type": "display_data"
    }
   ],
   "source": [
    "sns.displot(union[union.part==1].engineDisplacement,kde=True)\n",
    "sns.displot(union[union.part==1].engineDisplacement_cat)"
   ]
  },
  {
   "cell_type": "code",
   "execution_count": 190,
   "id": "8f97a869",
   "metadata": {},
   "outputs": [
    {
     "data": {
      "text/plain": [
       "<seaborn.axisgrid.FacetGrid at 0x1dd878e0>"
      ]
     },
     "execution_count": 190,
     "metadata": {},
     "output_type": "execute_result"
    },
    {
     "data": {
      "image/png": "[encoded data removed]",
      "text/plain": [
       "<Figure size 360x360 with 1 Axes>"
      ]
     },
     "metadata": {
      "needs_background": "light"
     },
     "output_type": "display_data"
    }
   ],
   "source": [
    "union['engineDisplacement_cat'] = pd.cut(union.engineDisplacement,\n",
    "                                  bins=[-1, 1.1, 1.2, 1.4, 1.6, 1.8, 2, 2.5, 3, 3.5, 4, 4.5, 5, 5.5, 6, 10], \n",
    "                                  labels=[0, 1, 2, 3, 4, 5, 6, 7, 8,9,10,11,12,13,14])\n",
    "union.engineDisplacement_cat = union.engineDisplacement_cat.astype('float64')\n",
    "sns.displot(union[union.part==1].engineDisplacement_cat,discrete=True,shrink=1,kde=True)"
   ]
  },
  {
   "cell_type": "code",
   "execution_count": 191,
   "id": "fdb191f7",
   "metadata": {},
   "outputs": [
    {
     "name": "stdout",
     "output_type": "stream",
     "text": [
      "CBR MAPE: 19.938027882173614\n",
      "GBR MAPE: 24.138418641760204\n"
     ]
    }
   ],
   "source": [
    "revision_check()"
   ]
  },
  {
   "cell_type": "markdown",
   "id": "2e3f3826",
   "metadata": {},
   "source": [
    "#### **productionDate**"
   ]
  },
  {
   "cell_type": "code",
   "execution_count": 192,
   "id": "46e0549c",
   "metadata": {},
   "outputs": [
    {
     "data": {
      "text/plain": [
       "<seaborn.axisgrid.FacetGrid at 0x1bab26d0>"
      ]
     },
     "execution_count": 192,
     "metadata": {},
     "output_type": "execute_result"
    },
    {
     "data": {
      "image/png": "[encoded data removed]",
      "text/plain": [
       "<Figure size 360x360 with 1 Axes>"
      ]
     },
     "metadata": {
      "needs_background": "light"
     },
     "output_type": "display_data"
    },
    {
     "data": {
      "image/png": "[encoded data removed]",
      "text/plain": [
       "<Figure size 360x360 with 1 Axes>"
      ]
     },
     "metadata": {
      "needs_background": "light"
     },
     "output_type": "display_data"
    }
   ],
   "source": [
    "sns.displot(union[union.part==1].productionDate,kde=True)\n",
    "sns.displot(union[union.part==1].productionDate_cat)"
   ]
  },
  {
   "cell_type": "markdown",
   "id": "c06e963c",
   "metadata": {},
   "source": [
    "Поменям интервалы исходя из возраста автомобиля:\n",
    "- до года\n",
    "- от года до 3х лет\n",
    "- от 3х до 5 лет\n",
    "- от 5 до 7\n",
    "- от 7 до 10\n",
    "- от 10 до 15\n",
    "- от 15 до 20\n",
    "- от 20 до 25\n",
    "- от 25 до 30\n",
    "- старше 30"
   ]
  },
  {
   "cell_type": "code",
   "execution_count": 193,
   "id": "9cea647b",
   "metadata": {},
   "outputs": [
    {
     "data": {
      "text/plain": [
       "<seaborn.axisgrid.FacetGrid at 0x1a3a92b0>"
      ]
     },
     "execution_count": 193,
     "metadata": {},
     "output_type": "execute_result"
    },
    {
     "data": {
      "image/png": "[encoded data removed]",
      "text/plain": [
       "<Figure size 360x360 with 1 Axes>"
      ]
     },
     "metadata": {
      "needs_background": "light"
     },
     "output_type": "display_data"
    }
   ],
   "source": [
    "union['productionDate_cat'] = pd.cut(union.productionDate,\n",
    "                              bins=[1900, 1991, 1996, 2001, 2006, 2011, 2014, 2016, 2018, 2020, 2021],\n",
    "                              labels=[0, 1, 2, 3, 4, 5,6,7,8,9]) # чем новее ТС, тем выше значение\n",
    "union.productionDate_cat = union.productionDate_cat.astype('float64')\n",
    "sns.displot(union[union.part==1].productionDate_cat,discrete=True,shrink=1,kde=True)"
   ]
  },
  {
   "cell_type": "code",
   "execution_count": 194,
   "id": "d125f903",
   "metadata": {},
   "outputs": [
    {
     "name": "stdout",
     "output_type": "stream",
     "text": [
      "CBR MAPE: 18.374191025346708\n",
      "GBR MAPE: 22.971697380816337\n"
     ]
    }
   ],
   "source": [
    "revision_check()"
   ]
  },
  {
   "cell_type": "markdown",
   "id": "2321c2ba",
   "metadata": {},
   "source": [
    "#### **mileage**"
   ]
  },
  {
   "cell_type": "code",
   "execution_count": 195,
   "id": "758e7dce",
   "metadata": {},
   "outputs": [
    {
     "data": {
      "text/plain": [
       "<seaborn.axisgrid.FacetGrid at 0x1d94ec10>"
      ]
     },
     "execution_count": 195,
     "metadata": {},
     "output_type": "execute_result"
    },
    {
     "data": {
      "image/png": "[encoded data removed]",
      "text/plain": [
       "<Figure size 360x360 with 1 Axes>"
      ]
     },
     "metadata": {
      "needs_background": "light"
     },
     "output_type": "display_data"
    },
    {
     "data": {
      "image/png": "[encoded data removed]",
      "text/plain": [
       "<Figure size 360x360 with 1 Axes>"
      ]
     },
     "metadata": {
      "needs_background": "light"
     },
     "output_type": "display_data"
    }
   ],
   "source": [
    "sns.displot(union[union.part==1].mileage,kde=True)\n",
    "sns.displot(union[union.part==1].mileage_cat,kde=True)"
   ]
  },
  {
   "cell_type": "code",
   "execution_count": 196,
   "id": "eb62e85c",
   "metadata": {},
   "outputs": [],
   "source": [
    "union.mileage = union.mileage.apply(lambda x: 100 if x<100 else x)\n",
    "union.mileage = union.mileage.apply(lambda x: round(x/100)*100 if x<1000 else x)\n",
    "union.mileage = union.mileage.apply(lambda x: round(x/1000)*1000 if x>1000 and x<100000 else x)\n",
    "union.mileage = union.mileage.apply(lambda x: round(x/10000)*10000 if x>100000 else x)"
   ]
  },
  {
   "cell_type": "code",
   "execution_count": 197,
   "id": "6926eaf6",
   "metadata": {},
   "outputs": [
    {
     "data": {
      "text/plain": [
       "<seaborn.axisgrid.FacetGrid at 0x1a6658e0>"
      ]
     },
     "execution_count": 197,
     "metadata": {},
     "output_type": "execute_result"
    },
    {
     "data": {
      "image/png": "[encoded data removed]",
      "text/plain": [
       "<Figure size 360x360 with 1 Axes>"
      ]
     },
     "metadata": {
      "needs_background": "light"
     },
     "output_type": "display_data"
    }
   ],
   "source": [
    "sns.displot(union[union.part==1].mileage,kde=True)"
   ]
  },
  {
   "cell_type": "code",
   "execution_count": 198,
   "id": "9a9179a3",
   "metadata": {},
   "outputs": [
    {
     "data": {
      "text/plain": [
       "<seaborn.axisgrid.FacetGrid at 0x1dd873a0>"
      ]
     },
     "execution_count": 198,
     "metadata": {},
     "output_type": "execute_result"
    },
    {
     "data": {
      "image/png": "[encoded data removed]",
      "text/plain": [
       "<Figure size 360x360 with 1 Axes>"
      ]
     },
     "metadata": {
      "needs_background": "light"
     },
     "output_type": "display_data"
    }
   ],
   "source": [
    "union.mileage_cat = pd.cut(union.mileage,\n",
    "                       bins=[-1,1000,10000,20000,30000,40000,\n",
    "                             50000,60000,70000,80000,90000,100000,\n",
    "                             110000,120000,130000,140000,150000,\n",
    "                             160000,170000,180000,190000,200000,\n",
    "                             225000,250000,300000,350000,400000,10000000],\n",
    "                       labels=[0,1,2,3,4,5,6,7,8,9,10,11,12,13,14,15,\n",
    "                               16,17,18,19,20,21,22,23,24,25,26])\n",
    "union.mileage_cat = union.mileage_cat.astype('float64')\n",
    "sns.displot(union[union.part==1].mileage_cat,discrete=True,shrink=1,kde=True)"
   ]
  },
  {
   "cell_type": "code",
   "execution_count": 199,
   "id": "24b5d714",
   "metadata": {},
   "outputs": [
    {
     "name": "stdout",
     "output_type": "stream",
     "text": [
      "CBR MAPE: 18.084510103604348\n",
      "GBR MAPE: 23.13066577116145\n"
     ]
    }
   ],
   "source": [
    "revision_check()"
   ]
  },
  {
   "cell_type": "markdown",
   "id": "49961809",
   "metadata": {},
   "source": [
    "#### **vehicleTransmission**"
   ]
  },
  {
   "cell_type": "markdown",
   "id": "edebc797",
   "metadata": {},
   "source": [
    "Ранее, мы воспользовались преобразованием признака во вспомогательные переменные. Попробуем теперь бинарное кодирование. Все, что не является механической коробкой передач, отнесем к автоматической"
   ]
  },
  {
   "cell_type": "code",
   "execution_count": 200,
   "id": "0cd50ef9",
   "metadata": {},
   "outputs": [
    {
     "data": {
      "text/plain": [
       "1.0    45613\n",
       "0.0    10077\n",
       "Name: Transmission_cat, dtype: int64"
      ]
     },
     "execution_count": 200,
     "metadata": {},
     "output_type": "execute_result"
    }
   ],
   "source": [
    "union['Transmission_cat'] = union.vehicleTransmission.apply(lambda x: 'auto' if x!='mech' else x)\n",
    "union.Transmission_cat = union.Transmission_cat.map({'auto':1,'mech':0})\n",
    "union.Transmission_cat = union.Transmission_cat.astype('float64')\n",
    "union.Transmission_cat.value_counts()"
   ]
  },
  {
   "cell_type": "markdown",
   "id": "43fdf565",
   "metadata": {},
   "source": [
    "Добавим получившийся признак Transmission_cat"
   ]
  },
  {
   "cell_type": "code",
   "execution_count": 201,
   "id": "3fb0e136",
   "metadata": {},
   "outputs": [],
   "source": [
    "model_columns = ['owners','vehicle_passport','steering',\n",
    "                 'fuelType', 'numberOfDoors','tmission_auto','tmission_mech',\n",
    "                 'tmission_rob','tmission_var', 'enginePower_cat','brand_AUDI',\n",
    "                 'brand_BMW','brand_HONDA', 'brand_INFINITI','brand_LEXUS',\n",
    "                 'brand_MERCEDES','brand_MITSUBISHI','brand_NISSAN',\n",
    "                 'brand_SKODA', 'brand_TOYOTA','brand_VOLKSWAGEN',\n",
    "                 'brand_VOLVO','body_coupe', 'body_hatchback','body_minivan',\n",
    "                 'body_off_road','body_others', 'body_sedan','body_station_wagon',\n",
    "                 'vehicle_drive_all','vehicle_drive_front','vehicle_drive_rear',\n",
    "                 'productionDate_cat','engineDisplacement_cat', 'mileage_cat',\n",
    "                 'color_code','Transmission_cat']"
   ]
  },
  {
   "cell_type": "code",
   "execution_count": 202,
   "id": "308050be",
   "metadata": {},
   "outputs": [
    {
     "name": "stdout",
     "output_type": "stream",
     "text": [
      "CBR MAPE: 18.271131682966114\n",
      "GBR MAPE: 23.13066577116145\n"
     ]
    }
   ],
   "source": [
    "revision_check()"
   ]
  },
  {
   "cell_type": "markdown",
   "id": "b167dbad",
   "metadata": {},
   "source": [
    "И попробуем убрать вспомогательные переменные 'tmission_auto','tmission_mech','tmission_rob','tmission_var'"
   ]
  },
  {
   "cell_type": "code",
   "execution_count": 203,
   "id": "0f375b64",
   "metadata": {},
   "outputs": [],
   "source": [
    "model_columns = ['owners','vehicle_passport','steering',\n",
    "                 'fuelType', 'numberOfDoors','enginePower_cat','brand_AUDI',\n",
    "                 'brand_BMW','brand_HONDA', 'brand_INFINITI','brand_LEXUS',\n",
    "                 'brand_MERCEDES','brand_MITSUBISHI','brand_NISSAN',\n",
    "                 'brand_SKODA', 'brand_TOYOTA','brand_VOLKSWAGEN',\n",
    "                 'brand_VOLVO','body_coupe', 'body_hatchback','body_minivan',\n",
    "                 'body_off_road','body_others', 'body_sedan','body_station_wagon',\n",
    "                 'vehicle_drive_all','vehicle_drive_front','vehicle_drive_rear',\n",
    "                 'productionDate_cat','engineDisplacement_cat', 'mileage_cat',\n",
    "                 'color_code','Transmission_cat']"
   ]
  },
  {
   "cell_type": "code",
   "execution_count": 204,
   "id": "78a3669f",
   "metadata": {},
   "outputs": [
    {
     "name": "stdout",
     "output_type": "stream",
     "text": [
      "CBR MAPE: 18.30072919328257\n",
      "GBR MAPE: 22.82049813493724\n"
     ]
    }
   ],
   "source": [
    "revision_check()"
   ]
  },
  {
   "cell_type": "markdown",
   "id": "a77e3c73",
   "metadata": {},
   "source": [
    "#### **vehicle_passport и steering**"
   ]
  },
  {
   "cell_type": "markdown",
   "id": "89957c20",
   "metadata": {},
   "source": [
    "Признаки бинарные, посмотрим на распределение классов как в целом в union, так и в части, относящейся к df"
   ]
  },
  {
   "cell_type": "code",
   "execution_count": 205,
   "id": "c8bb6a5f",
   "metadata": {},
   "outputs": [
    {
     "data": {
      "text/plain": [
       "1    86.895313\n",
       "0    13.104687\n",
       "Name: vehicle_passport, dtype: float64"
      ]
     },
     "execution_count": 205,
     "metadata": {},
     "output_type": "execute_result"
    }
   ],
   "source": [
    "union.vehicle_passport.value_counts(normalize=True)*100"
   ]
  },
  {
   "cell_type": "code",
   "execution_count": 206,
   "id": "9cd91859",
   "metadata": {},
   "outputs": [
    {
     "data": {
      "text/plain": [
       "1    87.092935\n",
       "0    12.907065\n",
       "Name: vehicle_passport, dtype: float64"
      ]
     },
     "execution_count": 206,
     "metadata": {},
     "output_type": "execute_result"
    }
   ],
   "source": [
    "union[union.part==1].vehicle_passport.value_counts(normalize=True)*100"
   ]
  },
  {
   "cell_type": "code",
   "execution_count": 207,
   "id": "d701e9e3",
   "metadata": {},
   "outputs": [
    {
     "data": {
      "text/plain": [
       "0    96.505656\n",
       "1     3.494344\n",
       "Name: steering, dtype: float64"
      ]
     },
     "execution_count": 207,
     "metadata": {},
     "output_type": "execute_result"
    }
   ],
   "source": [
    "union.steering.value_counts(normalize=True)*100"
   ]
  },
  {
   "cell_type": "code",
   "execution_count": 208,
   "id": "62971110",
   "metadata": {},
   "outputs": [
    {
     "data": {
      "text/plain": [
       "0    97.395734\n",
       "1     2.604266\n",
       "Name: steering, dtype: float64"
      ]
     },
     "execution_count": 208,
     "metadata": {},
     "output_type": "execute_result"
    }
   ],
   "source": [
    "union[union.part==1].steering.value_counts(normalize=True)*100"
   ]
  },
  {
   "cell_type": "code",
   "execution_count": 209,
   "id": "643734cc",
   "metadata": {},
   "outputs": [
    {
     "data": {
      "text/plain": [
       "1.0    45613\n",
       "0.0    10077\n",
       "Name: Transmission_cat, dtype: int64"
      ]
     },
     "execution_count": 209,
     "metadata": {},
     "output_type": "execute_result"
    }
   ],
   "source": [
    "union.Transmission_cat.value_counts()"
   ]
  },
  {
   "cell_type": "markdown",
   "id": "58c1f209",
   "metadata": {},
   "source": [
    "Посмотрим на значимость признаков с помощью f_regression и mutual_info_regression"
   ]
  },
  {
   "cell_type": "code",
   "execution_count": 210,
   "id": "3052d355",
   "metadata": {},
   "outputs": [
    {
     "data": {
      "text/plain": [
       "productionDate_cat        10125.101982\n",
       "mileage_cat                9388.743410\n",
       "enginePower_cat            7861.851115\n",
       "vehicle_drive_all          3683.160549\n",
       "engineDisplacement_cat     3467.157977\n",
       "vehicle_drive_front        3291.489104\n",
       "brand_MERCEDES             2633.167781\n",
       "owners                     2522.391324\n",
       "Transmission_cat           1441.099191\n",
       "fuelType                   1398.757536\n",
       "body_off_road              1383.916114\n",
       "vehicle_passport            604.691431\n",
       "brand_SKODA                 569.762808\n",
       "color_code                  528.322829\n",
       "brand_MITSUBISHI            502.553960\n",
       "dtype: float64"
      ]
     },
     "execution_count": 210,
     "metadata": {},
     "output_type": "execute_result"
    }
   ],
   "source": [
    "X = union[union.part==1][model_columns].values\n",
    "Y = union[union.part==1].vehicle_price\n",
    "X_train,X_test,y_train,y_test = train_test_split(X,Y,test_size=0.2,random_state=42)\n",
    "\n",
    "from sklearn.feature_selection import f_regression, mutual_info_regression\n",
    "f_test, _ = f_regression(X, Y)\n",
    "f_test = pd.Series(f_test,index=union[model_columns].columns).sort_values(ascending=False)\n",
    "f_test[:15]"
   ]
  },
  {
   "cell_type": "code",
   "execution_count": 211,
   "id": "40766765",
   "metadata": {},
   "outputs": [
    {
     "data": {
      "text/plain": [
       "productionDate_cat        0.529637\n",
       "enginePower_cat           0.431280\n",
       "mileage_cat               0.340656\n",
       "engineDisplacement_cat    0.242176\n",
       "vehicle_drive_all         0.165985\n",
       "vehicle_drive_front       0.159808\n",
       "owners                    0.125345\n",
       "Transmission_cat          0.110003\n",
       "body_off_road             0.099328\n",
       "fuelType                  0.084657\n",
       "brand_MERCEDES            0.047968\n",
       "vehicle_passport          0.045108\n",
       "brand_SKODA               0.043963\n",
       "numberOfDoors             0.033525\n",
       "body_hatchback            0.031388\n",
       "dtype: float64"
      ]
     },
     "execution_count": 211,
     "metadata": {},
     "output_type": "execute_result"
    }
   ],
   "source": [
    "m_info = pd.Series(mutual_info_regression(X, Y),index=union[model_columns].columns).sort_values(ascending=False)\n",
    "m_info[:15]"
   ]
  },
  {
   "cell_type": "code",
   "execution_count": 212,
   "id": "46af6bcf",
   "metadata": {},
   "outputs": [],
   "source": [
    "f_test = set(f_test[:15].index)\n",
    "m_info = set(m_info[:15].index)"
   ]
  },
  {
   "cell_type": "code",
   "execution_count": 213,
   "id": "3dcb4933",
   "metadata": {},
   "outputs": [
    {
     "data": {
      "text/plain": [
       "{'Transmission_cat',\n",
       " 'body_off_road',\n",
       " 'brand_MERCEDES',\n",
       " 'brand_SKODA',\n",
       " 'engineDisplacement_cat',\n",
       " 'enginePower_cat',\n",
       " 'fuelType',\n",
       " 'mileage_cat',\n",
       " 'owners',\n",
       " 'productionDate_cat',\n",
       " 'vehicle_drive_all',\n",
       " 'vehicle_drive_front',\n",
       " 'vehicle_passport'}"
      ]
     },
     "execution_count": 213,
     "metadata": {},
     "output_type": "execute_result"
    }
   ],
   "source": [
    "# множество элементов, принадлежащих обоим множествам (пересечение)\n",
    "f_test&m_info"
   ]
  },
  {
   "cell_type": "code",
   "execution_count": 214,
   "id": "d05ad15e",
   "metadata": {},
   "outputs": [
    {
     "data": {
      "text/plain": [
       "{'body_hatchback', 'brand_MITSUBISHI', 'color_code', 'numberOfDoors'}"
      ]
     },
     "execution_count": 214,
     "metadata": {},
     "output_type": "execute_result"
    }
   ],
   "source": [
    "# множество из элементов, встречающихся в одном множестве, но не встречающиеся в обоих\n",
    "f_test^m_info"
   ]
  },
  {
   "cell_type": "markdown",
   "id": "32f46072",
   "metadata": {},
   "source": [
    "Видим, что в топ-15 на последних позициях входит только vehicle_passport, а значимость steering еще меньше. Возможно потому, что признак фактически состоит из одного значения. Попробуем убрать оба признака."
   ]
  },
  {
   "cell_type": "code",
   "execution_count": 215,
   "id": "4cfdf68c",
   "metadata": {},
   "outputs": [],
   "source": [
    "# Убираем признак 'vehicle_passport','steering'\n",
    "model_columns = ['owners',\n",
    "                 'fuelType', 'numberOfDoors','enginePower_cat','brand_AUDI',\n",
    "                 'brand_BMW','brand_HONDA', 'brand_INFINITI','brand_LEXUS',\n",
    "                 'brand_MERCEDES','brand_MITSUBISHI','brand_NISSAN',\n",
    "                 'brand_SKODA', 'brand_TOYOTA','brand_VOLKSWAGEN',\n",
    "                 'brand_VOLVO','body_coupe', 'body_hatchback','body_minivan',\n",
    "                 'body_off_road','body_others', 'body_sedan','body_station_wagon',\n",
    "                 'vehicle_drive_all','vehicle_drive_front','vehicle_drive_rear',\n",
    "                 'productionDate_cat','engineDisplacement_cat', 'mileage_cat',\n",
    "                 'color_code','Transmission_cat']"
   ]
  },
  {
   "cell_type": "code",
   "execution_count": 216,
   "id": "1216c0b0",
   "metadata": {},
   "outputs": [
    {
     "name": "stdout",
     "output_type": "stream",
     "text": [
      "CBR MAPE: 18.566415743821345\n",
      "GBR MAPE: 22.84428344861903\n"
     ]
    }
   ],
   "source": [
    "revision_check()"
   ]
  },
  {
   "cell_type": "markdown",
   "id": "35f81002",
   "metadata": {},
   "source": [
    "Показатели ухудшились. Оставим признаки и попробуем закодировать их во вспомогательные переменные"
   ]
  },
  {
   "cell_type": "code",
   "execution_count": 217,
   "id": "aa1d95ec",
   "metadata": {},
   "outputs": [],
   "source": [
    "union['vehicle_passport_temp'] = union.vehicle_passport.map({1:'original',0:'duplicate'})\n",
    "union = pd.concat([union,pd.get_dummies(union.vehicle_passport_temp,\n",
    "                                        prefix='passport')],axis=1)\n",
    "union.drop(['vehicle_passport_temp'],axis=1,inplace=True)"
   ]
  },
  {
   "cell_type": "code",
   "execution_count": 218,
   "id": "0ad0dce1",
   "metadata": {},
   "outputs": [],
   "source": [
    "union['steering_temp'] = union.steering.map({1:'left',0:'right'})\n",
    "union = pd.concat([union,pd.get_dummies(union.steering_temp,\n",
    "                                        prefix='steering')],axis=1)\n",
    "union.drop(['steering_temp'],axis=1,inplace=True)"
   ]
  },
  {
   "cell_type": "code",
   "execution_count": 219,
   "id": "c85f68b8",
   "metadata": {},
   "outputs": [
    {
     "data": {
      "text/html": [
       "<div>\n",
       "<style scoped>\n",
       "    .dataframe tbody tr th:only-of-type {\n",
       "        vertical-align: middle;\n",
       "    }\n",
       "\n",
       "    .dataframe tbody tr th {\n",
       "        vertical-align: top;\n",
       "    }\n",
       "\n",
       "    .dataframe thead th {\n",
       "        text-align: right;\n",
       "    }\n",
       "</style>\n",
       "<table border=\"1\" class=\"dataframe\">\n",
       "  <thead>\n",
       "    <tr style=\"text-align: right;\">\n",
       "      <th></th>\n",
       "      <th>owners</th>\n",
       "      <th>vehicleTransmission</th>\n",
       "      <th>bodyType</th>\n",
       "      <th>vehicle_passport</th>\n",
       "      <th>vehicle_drive</th>\n",
       "      <th>mileage</th>\n",
       "      <th>steering</th>\n",
       "      <th>color</th>\n",
       "      <th>brand</th>\n",
       "      <th>productionDate</th>\n",
       "      <th>model_name</th>\n",
       "      <th>vehicle_price</th>\n",
       "      <th>engineDisplacement</th>\n",
       "      <th>enginePower</th>\n",
       "      <th>fuelType</th>\n",
       "      <th>numberOfDoors</th>\n",
       "      <th>part</th>\n",
       "      <th>tmission_auto</th>\n",
       "      <th>tmission_mech</th>\n",
       "      <th>tmission_rob</th>\n",
       "      <th>tmission_var</th>\n",
       "      <th>enginePower_cat</th>\n",
       "      <th>brand_AUDI</th>\n",
       "      <th>brand_BMW</th>\n",
       "      <th>brand_HONDA</th>\n",
       "      <th>brand_INFINITI</th>\n",
       "      <th>brand_LEXUS</th>\n",
       "      <th>brand_MERCEDES</th>\n",
       "      <th>brand_MITSUBISHI</th>\n",
       "      <th>brand_NISSAN</th>\n",
       "      <th>brand_SKODA</th>\n",
       "      <th>brand_TOYOTA</th>\n",
       "      <th>brand_VOLKSWAGEN</th>\n",
       "      <th>brand_VOLVO</th>\n",
       "      <th>bodyType_enlargement</th>\n",
       "      <th>body_compactvan</th>\n",
       "      <th>body_coupe</th>\n",
       "      <th>body_hatchback</th>\n",
       "      <th>body_liftback</th>\n",
       "      <th>body_minivan</th>\n",
       "      <th>body_off_road</th>\n",
       "      <th>body_others</th>\n",
       "      <th>body_sedan</th>\n",
       "      <th>body_station_wagon</th>\n",
       "      <th>vehicle_drive_all</th>\n",
       "      <th>vehicle_drive_front</th>\n",
       "      <th>vehicle_drive_rear</th>\n",
       "      <th>productionDate_cat</th>\n",
       "      <th>engineDisplacement_cat</th>\n",
       "      <th>mileage_cat</th>\n",
       "      <th>color_code</th>\n",
       "      <th>Transmission_cat</th>\n",
       "      <th>passport_duplicate</th>\n",
       "      <th>passport_original</th>\n",
       "      <th>steering_left</th>\n",
       "      <th>steering_right</th>\n",
       "    </tr>\n",
       "  </thead>\n",
       "  <tbody>\n",
       "    <tr>\n",
       "      <th>4320</th>\n",
       "      <td>0</td>\n",
       "      <td>rob</td>\n",
       "      <td>купе</td>\n",
       "      <td>1</td>\n",
       "      <td>rear</td>\n",
       "      <td>18000</td>\n",
       "      <td>0</td>\n",
       "      <td>белый</td>\n",
       "      <td>BMW</td>\n",
       "      <td>2016</td>\n",
       "      <td>M4</td>\n",
       "      <td>4.766031e+06</td>\n",
       "      <td>3.0</td>\n",
       "      <td>430.0</td>\n",
       "      <td>2</td>\n",
       "      <td>2.0</td>\n",
       "      <td>1</td>\n",
       "      <td>0</td>\n",
       "      <td>0</td>\n",
       "      <td>1</td>\n",
       "      <td>0</td>\n",
       "      <td>20.0</td>\n",
       "      <td>0</td>\n",
       "      <td>1</td>\n",
       "      <td>0</td>\n",
       "      <td>0</td>\n",
       "      <td>0</td>\n",
       "      <td>0</td>\n",
       "      <td>0</td>\n",
       "      <td>0</td>\n",
       "      <td>0</td>\n",
       "      <td>0</td>\n",
       "      <td>0</td>\n",
       "      <td>0</td>\n",
       "      <td>coupe</td>\n",
       "      <td>0</td>\n",
       "      <td>1</td>\n",
       "      <td>0</td>\n",
       "      <td>0</td>\n",
       "      <td>0</td>\n",
       "      <td>0</td>\n",
       "      <td>0</td>\n",
       "      <td>0</td>\n",
       "      <td>0</td>\n",
       "      <td>0</td>\n",
       "      <td>0</td>\n",
       "      <td>1</td>\n",
       "      <td>6.0</td>\n",
       "      <td>7.0</td>\n",
       "      <td>2.0</td>\n",
       "      <td>2</td>\n",
       "      <td>1.0</td>\n",
       "      <td>0</td>\n",
       "      <td>1</td>\n",
       "      <td>0</td>\n",
       "      <td>1</td>\n",
       "    </tr>\n",
       "    <tr>\n",
       "      <th>19865</th>\n",
       "      <td>2</td>\n",
       "      <td>auto</td>\n",
       "      <td>внедорожник</td>\n",
       "      <td>1</td>\n",
       "      <td>all</td>\n",
       "      <td>190000</td>\n",
       "      <td>0</td>\n",
       "      <td>чёрный</td>\n",
       "      <td>VOLKSWAGEN</td>\n",
       "      <td>2014</td>\n",
       "      <td>TOUAREG</td>\n",
       "      <td>1.672444e+06</td>\n",
       "      <td>3.0</td>\n",
       "      <td>240.0</td>\n",
       "      <td>1</td>\n",
       "      <td>5.0</td>\n",
       "      <td>1</td>\n",
       "      <td>1</td>\n",
       "      <td>0</td>\n",
       "      <td>0</td>\n",
       "      <td>0</td>\n",
       "      <td>14.0</td>\n",
       "      <td>0</td>\n",
       "      <td>0</td>\n",
       "      <td>0</td>\n",
       "      <td>0</td>\n",
       "      <td>0</td>\n",
       "      <td>0</td>\n",
       "      <td>0</td>\n",
       "      <td>0</td>\n",
       "      <td>0</td>\n",
       "      <td>0</td>\n",
       "      <td>1</td>\n",
       "      <td>0</td>\n",
       "      <td>off_road</td>\n",
       "      <td>0</td>\n",
       "      <td>0</td>\n",
       "      <td>0</td>\n",
       "      <td>0</td>\n",
       "      <td>0</td>\n",
       "      <td>1</td>\n",
       "      <td>0</td>\n",
       "      <td>0</td>\n",
       "      <td>0</td>\n",
       "      <td>1</td>\n",
       "      <td>0</td>\n",
       "      <td>0</td>\n",
       "      <td>5.0</td>\n",
       "      <td>7.0</td>\n",
       "      <td>19.0</td>\n",
       "      <td>3</td>\n",
       "      <td>1.0</td>\n",
       "      <td>0</td>\n",
       "      <td>1</td>\n",
       "      <td>0</td>\n",
       "      <td>1</td>\n",
       "    </tr>\n",
       "    <tr>\n",
       "      <th>38342</th>\n",
       "      <td>2</td>\n",
       "      <td>auto</td>\n",
       "      <td>седан</td>\n",
       "      <td>1</td>\n",
       "      <td>all</td>\n",
       "      <td>310000</td>\n",
       "      <td>0</td>\n",
       "      <td>коричневый</td>\n",
       "      <td>MERCEDES</td>\n",
       "      <td>2010</td>\n",
       "      <td>E-CLASS</td>\n",
       "      <td>NaN</td>\n",
       "      <td>3.5</td>\n",
       "      <td>270.0</td>\n",
       "      <td>2</td>\n",
       "      <td>4.0</td>\n",
       "      <td>0</td>\n",
       "      <td>1</td>\n",
       "      <td>0</td>\n",
       "      <td>0</td>\n",
       "      <td>0</td>\n",
       "      <td>16.0</td>\n",
       "      <td>0</td>\n",
       "      <td>0</td>\n",
       "      <td>0</td>\n",
       "      <td>0</td>\n",
       "      <td>0</td>\n",
       "      <td>1</td>\n",
       "      <td>0</td>\n",
       "      <td>0</td>\n",
       "      <td>0</td>\n",
       "      <td>0</td>\n",
       "      <td>0</td>\n",
       "      <td>0</td>\n",
       "      <td>sedan</td>\n",
       "      <td>0</td>\n",
       "      <td>0</td>\n",
       "      <td>0</td>\n",
       "      <td>0</td>\n",
       "      <td>0</td>\n",
       "      <td>0</td>\n",
       "      <td>0</td>\n",
       "      <td>1</td>\n",
       "      <td>0</td>\n",
       "      <td>1</td>\n",
       "      <td>0</td>\n",
       "      <td>0</td>\n",
       "      <td>4.0</td>\n",
       "      <td>8.0</td>\n",
       "      <td>24.0</td>\n",
       "      <td>1</td>\n",
       "      <td>1.0</td>\n",
       "      <td>0</td>\n",
       "      <td>1</td>\n",
       "      <td>0</td>\n",
       "      <td>1</td>\n",
       "    </tr>\n",
       "  </tbody>\n",
       "</table>\n",
       "</div>"
      ],
      "text/plain": [
       "       owners vehicleTransmission     bodyType  vehicle_passport  \\\n",
       "4320        0                 rob         купе                 1   \n",
       "19865       2                auto  внедорожник                 1   \n",
       "38342       2                auto        седан                 1   \n",
       "\n",
       "      vehicle_drive  mileage  steering       color       brand  \\\n",
       "4320           rear    18000         0       белый         BMW   \n",
       "19865           all   190000         0      чёрный  VOLKSWAGEN   \n",
       "38342           all   310000         0  коричневый    MERCEDES   \n",
       "\n",
       "       productionDate model_name  vehicle_price  engineDisplacement  \\\n",
       "4320             2016         M4   4.766031e+06                 3.0   \n",
       "19865            2014    TOUAREG   1.672444e+06                 3.0   \n",
       "38342            2010    E-CLASS            NaN                 3.5   \n",
       "\n",
       "       enginePower  fuelType  numberOfDoors  part  tmission_auto  \\\n",
       "4320         430.0         2            2.0     1              0   \n",
       "19865        240.0         1            5.0     1              1   \n",
       "38342        270.0         2            4.0     0              1   \n",
       "\n",
       "       tmission_mech  tmission_rob  tmission_var  enginePower_cat  brand_AUDI  \\\n",
       "4320               0             1             0             20.0           0   \n",
       "19865              0             0             0             14.0           0   \n",
       "38342              0             0             0             16.0           0   \n",
       "\n",
       "       brand_BMW  brand_HONDA  brand_INFINITI  brand_LEXUS  brand_MERCEDES  \\\n",
       "4320           1            0               0            0               0   \n",
       "19865          0            0               0            0               0   \n",
       "38342          0            0               0            0               1   \n",
       "\n",
       "       brand_MITSUBISHI  brand_NISSAN  brand_SKODA  brand_TOYOTA  \\\n",
       "4320                  0             0            0             0   \n",
       "19865                 0             0            0             0   \n",
       "38342                 0             0            0             0   \n",
       "\n",
       "       brand_VOLKSWAGEN  brand_VOLVO bodyType_enlargement  body_compactvan  \\\n",
       "4320                  0            0                coupe                0   \n",
       "19865                 1            0             off_road                0   \n",
       "38342                 0            0                sedan                0   \n",
       "\n",
       "       body_coupe  body_hatchback  body_liftback  body_minivan  body_off_road  \\\n",
       "4320            1               0              0             0              0   \n",
       "19865           0               0              0             0              1   \n",
       "38342           0               0              0             0              0   \n",
       "\n",
       "       body_others  body_sedan  body_station_wagon  vehicle_drive_all  \\\n",
       "4320             0           0                   0                  0   \n",
       "19865            0           0                   0                  1   \n",
       "38342            0           1                   0                  1   \n",
       "\n",
       "       vehicle_drive_front  vehicle_drive_rear  productionDate_cat  \\\n",
       "4320                     0                   1                 6.0   \n",
       "19865                    0                   0                 5.0   \n",
       "38342                    0                   0                 4.0   \n",
       "\n",
       "       engineDisplacement_cat  mileage_cat  color_code  Transmission_cat  \\\n",
       "4320                      7.0          2.0           2               1.0   \n",
       "19865                     7.0         19.0           3               1.0   \n",
       "38342                     8.0         24.0           1               1.0   \n",
       "\n",
       "       passport_duplicate  passport_original  steering_left  steering_right  \n",
       "4320                    0                  1              0               1  \n",
       "19865                   0                  1              0               1  \n",
       "38342                   0                  1              0               1  "
      ]
     },
     "execution_count": 219,
     "metadata": {},
     "output_type": "execute_result"
    }
   ],
   "source": [
    "union.sample(3)"
   ]
  },
  {
   "cell_type": "markdown",
   "id": "92a2f767",
   "metadata": {},
   "source": [
    "Скорректируем список признаков"
   ]
  },
  {
   "cell_type": "code",
   "execution_count": 220,
   "id": "984ff861",
   "metadata": {},
   "outputs": [],
   "source": [
    "model_columns = ['owners',\n",
    "                 'fuelType', 'numberOfDoors','enginePower_cat','brand_AUDI',\n",
    "                 'brand_BMW','brand_HONDA', 'brand_INFINITI','brand_LEXUS',\n",
    "                 'brand_MERCEDES','brand_MITSUBISHI','brand_NISSAN',\n",
    "                 'brand_SKODA', 'brand_TOYOTA','brand_VOLKSWAGEN',\n",
    "                 'brand_VOLVO','body_coupe', 'body_hatchback','body_minivan',\n",
    "                 'body_off_road','body_others', 'body_sedan','body_station_wagon',\n",
    "                 'vehicle_drive_all','vehicle_drive_front','vehicle_drive_rear',\n",
    "                 'productionDate_cat','engineDisplacement_cat', 'mileage_cat',\n",
    "                 'color_code','Transmission_cat',\n",
    "                 'passport_duplicate','passport_original','steering_left','steering_right']"
   ]
  },
  {
   "cell_type": "code",
   "execution_count": 221,
   "id": "6c942c52",
   "metadata": {},
   "outputs": [
    {
     "name": "stdout",
     "output_type": "stream",
     "text": [
      "CBR MAPE: 18.185593750541116\n",
      "GBR MAPE: 22.824313759347696\n"
     ]
    }
   ],
   "source": [
    "revision_check()"
   ]
  },
  {
   "cell_type": "markdown",
   "id": "b938ed62",
   "metadata": {},
   "source": [
    "Результаты лучше, чем совсем без признаков, но хуже чем с ними в бинарном представлении. Таким образом вернемся к их первоначальной версии"
   ]
  },
  {
   "cell_type": "code",
   "execution_count": 222,
   "id": "699aba0f",
   "metadata": {},
   "outputs": [],
   "source": [
    "union.drop(['passport_duplicate',\n",
    "            'passport_original',\n",
    "            'steering_left',\n",
    "            'steering_right'],axis=1,inplace=True)"
   ]
  },
  {
   "cell_type": "code",
   "execution_count": 223,
   "id": "d5690125",
   "metadata": {},
   "outputs": [
    {
     "name": "stdout",
     "output_type": "stream",
     "text": [
      "CBR MAPE: 18.30072919328257\n",
      "GBR MAPE: 22.82049813493724\n"
     ]
    }
   ],
   "source": [
    "model_columns = ['owners','vehicle_passport','steering',\n",
    "                 'fuelType', 'numberOfDoors','enginePower_cat','brand_AUDI',\n",
    "                 'brand_BMW','brand_HONDA', 'brand_INFINITI','brand_LEXUS',\n",
    "                 'brand_MERCEDES','brand_MITSUBISHI','brand_NISSAN',\n",
    "                 'brand_SKODA', 'brand_TOYOTA','brand_VOLKSWAGEN',\n",
    "                 'brand_VOLVO','body_coupe', 'body_hatchback','body_minivan',\n",
    "                 'body_off_road','body_others', 'body_sedan','body_station_wagon',\n",
    "                 'vehicle_drive_all','vehicle_drive_front','vehicle_drive_rear',\n",
    "                 'productionDate_cat','engineDisplacement_cat', 'mileage_cat',\n",
    "                 'color_code','Transmission_cat']\n",
    "revision_check()"
   ]
  },
  {
   "cell_type": "markdown",
   "id": "a571fb06",
   "metadata": {},
   "source": [
    "#### **vehicle_price**"
   ]
  },
  {
   "cell_type": "markdown",
   "id": "7f66a0a0",
   "metadata": {},
   "source": [
    "Посмотрим на целевую переменную"
   ]
  },
  {
   "cell_type": "code",
   "execution_count": 224,
   "id": "6c83e1cb",
   "metadata": {},
   "outputs": [
    {
     "data": {
      "text/plain": [
       "count    2.100400e+04\n",
       "mean     1.459923e+06\n",
       "std      1.548880e+06\n",
       "min      1.733102e+04\n",
       "25%      5.632582e+05\n",
       "50%      1.039861e+06\n",
       "75%      1.818891e+06\n",
       "max      2.409012e+07\n",
       "Name: vehicle_price, dtype: float64"
      ]
     },
     "execution_count": 224,
     "metadata": {},
     "output_type": "execute_result"
    }
   ],
   "source": [
    "union.vehicle_price.describe()"
   ]
  },
  {
   "cell_type": "code",
   "execution_count": 225,
   "id": "179214c1",
   "metadata": {},
   "outputs": [
    {
     "data": {
      "text/plain": [
       "<seaborn.axisgrid.FacetGrid at 0x1e01a460>"
      ]
     },
     "execution_count": 225,
     "metadata": {},
     "output_type": "execute_result"
    },
    {
     "data": {
      "image/png": "[encoded data removed]",
      "text/plain": [
       "<Figure size 360x360 with 1 Axes>"
      ]
     },
     "metadata": {
      "needs_background": "light"
     },
     "output_type": "display_data"
    }
   ],
   "source": [
    "sns.displot(union.vehicle_price)"
   ]
  },
  {
   "cell_type": "markdown",
   "id": "9e44ca13",
   "metadata": {},
   "source": [
    "Попробуем привести распределение к нормальному виду."
   ]
  },
  {
   "cell_type": "code",
   "execution_count": 226,
   "id": "839c3fff",
   "metadata": {},
   "outputs": [],
   "source": [
    "from sklearn.preprocessing import StandardScaler, RobustScaler\n",
    "from sklearn.preprocessing import QuantileTransformer, PowerTransformer"
   ]
  },
  {
   "cell_type": "code",
   "execution_count": 227,
   "id": "a50b1e0c",
   "metadata": {},
   "outputs": [
    {
     "name": "stdout",
     "output_type": "stream",
     "text": [
      "===============================================================================================================================\n",
      "VEHICLE_PRICE  distribution\n",
      "\n"
     ]
    },
    {
     "data": {
      "image/png": "[encoded data removed]",
      "text/plain": [
       "<Figure size 1440x864 with 6 Axes>"
      ]
     },
     "metadata": {
      "needs_background": "light"
     },
     "output_type": "display_data"
    }
   ],
   "source": [
    "sc = StandardScaler()\n",
    "rs = RobustScaler()\n",
    "qt = QuantileTransformer(output_distribution='normal')\n",
    "pt = PowerTransformer()\n",
    "\n",
    "X = union[union.part==1][model_columns].values\n",
    "Y = union[union.part==1].vehicle_price\n",
    "\n",
    "_, ax = plt.subplots(nrows=2, ncols=3, figsize=(20,12))\n",
    "ax[0][0].set_title(\"No_scaler distribution\")\n",
    "ax[0][1].set_title(\"StandardScaler distribution\")\n",
    "ax[0][2].set_title(\"RobustScaler distribution\")\n",
    "ax[1][0].set_title(\"QuantileTransformer distribution\")\n",
    "ax[1][1].set_title(\"PowerTransformer distribution\")\n",
    "ax[1][2].set_title(\"Log distribution\")\n",
    "print('='*127)\n",
    "print('VEHICLE_PRICE',' distribution')\n",
    "print()\n",
    "sns.kdeplot(Y, ax=ax[0][0])\n",
    "sns.kdeplot(sc.fit_transform(Y.values.reshape(-1, 1)).flatten(), ax=ax[0][1])\n",
    "sns.kdeplot(rs.fit_transform(Y.values.reshape(-1, 1)).flatten(), ax=ax[0][2])\n",
    "sns.kdeplot(qt.fit_transform(Y.values.reshape(-1, 1)).flatten(), ax=ax[1][0])\n",
    "sns.kdeplot(pt.fit_transform(Y.values.reshape(-1, 1)).flatten(), ax=ax[1][1])\n",
    "sns.kdeplot(np.log(Y), ax=ax[1][2])\n",
    "plt.show()"
   ]
  },
  {
   "cell_type": "markdown",
   "id": "7d067316",
   "metadata": {},
   "source": [
    "Хорошо справились 3 трансформера: QuantileTransformer, PowerTransformer и np.log. Учитывая, что у PowerTransformer и np.log примерно один и тот же результат, попробуем преобразование целевой переменной с помощью QuantileTransformer и np.log"
   ]
  },
  {
   "cell_type": "code",
   "execution_count": 228,
   "id": "d88c6dc2",
   "metadata": {},
   "outputs": [
    {
     "name": "stdout",
     "output_type": "stream",
     "text": [
      "16.036844382403704\n"
     ]
    }
   ],
   "source": [
    "from sklearn.preprocessing import PowerTransformer\n",
    "\n",
    "X = union[union.part==1][model_columns].values\n",
    "Y = union[union.part==1].vehicle_price\n",
    "X_train,X_test,y_train,y_test = train_test_split(X,Y,test_size=0.2,random_state=42)\n",
    "\n",
    "transformer = QuantileTransformer(output_distribution='normal')\n",
    "y_train = transformer.fit_transform(y_train.values.reshape(-1,1))\n",
    "y_test = transformer.transform(y_test.values.reshape(-1,1))\n",
    "\n",
    "CBR = CatBoostRegressor(iterations=100,\n",
    "                        random_state=42,\n",
    "                        silent=True)\n",
    "cbr_model = CBR.fit(X_train, y_train)\n",
    "y_pred = cbr_model.predict(X_test)\n",
    "print(mean_absolute_percentage_error(transformer.inverse_transform(y_test.reshape(-1,1)),\n",
    "                                     transformer.inverse_transform(y_pred.reshape(-1,1)))*100)"
   ]
  },
  {
   "cell_type": "code",
   "execution_count": 229,
   "id": "14965197",
   "metadata": {},
   "outputs": [
    {
     "name": "stdout",
     "output_type": "stream",
     "text": [
      "15.99264435366234\n"
     ]
    }
   ],
   "source": [
    "X = union[union.part==1][model_columns].values\n",
    "Y = np.log(union[union.part==1].vehicle_price)\n",
    "X_train,X_test,y_train,y_test = train_test_split(X,Y,test_size=0.2,random_state=42)\n",
    "\n",
    "CBR = CatBoostRegressor(iterations=100,\n",
    "                        random_state=42,\n",
    "                        silent=True)\n",
    "cbr_model = CBR.fit(X_train, y_train)\n",
    "y_pred = cbr_model.predict(X_test)\n",
    "print(mean_absolute_percentage_error(np.exp(y_test),np.exp(y_pred))*100)"
   ]
  },
  {
   "cell_type": "markdown",
   "id": "6cadb08b",
   "metadata": {},
   "source": [
    "По результатам остановимся на np.log"
   ]
  },
  {
   "cell_type": "code",
   "execution_count": 230,
   "id": "0e00f099",
   "metadata": {},
   "outputs": [
    {
     "name": "stdout",
     "output_type": "stream",
     "text": [
      "CBR MAPE: 15.99264435366234\n",
      "GBR MAPE: 18.33869931233157\n"
     ]
    }
   ],
   "source": [
    "revision_check('T')"
   ]
  },
  {
   "cell_type": "code",
   "execution_count": 231,
   "id": "4c6def46",
   "metadata": {},
   "outputs": [],
   "source": [
    "union['vehicle_price_log'] = np.log(union.vehicle_price)"
   ]
  },
  {
   "cell_type": "code",
   "execution_count": 232,
   "id": "0aeb7e1b",
   "metadata": {},
   "outputs": [
    {
     "data": {
      "text/plain": [
       "<seaborn.axisgrid.FacetGrid at 0x1e0df460>"
      ]
     },
     "execution_count": 232,
     "metadata": {},
     "output_type": "execute_result"
    },
    {
     "data": {
      "image/png": "[encoded data removed]",
      "text/plain": [
       "<Figure size 360x360 with 1 Axes>"
      ]
     },
     "metadata": {
      "needs_background": "light"
     },
     "output_type": "display_data"
    }
   ],
   "source": [
    "sns.displot(union.vehicle_price_log)"
   ]
  },
  {
   "cell_type": "code",
   "execution_count": 233,
   "id": "22195ed7",
   "metadata": {},
   "outputs": [
    {
     "data": {
      "text/html": [
       "<div>\n",
       "<style scoped>\n",
       "    .dataframe tbody tr th:only-of-type {\n",
       "        vertical-align: middle;\n",
       "    }\n",
       "\n",
       "    .dataframe tbody tr th {\n",
       "        vertical-align: top;\n",
       "    }\n",
       "\n",
       "    .dataframe thead th {\n",
       "        text-align: right;\n",
       "    }\n",
       "</style>\n",
       "<table border=\"1\" class=\"dataframe\">\n",
       "  <thead>\n",
       "    <tr style=\"text-align: right;\">\n",
       "      <th></th>\n",
       "      <th>owners</th>\n",
       "      <th>vehicleTransmission</th>\n",
       "      <th>bodyType</th>\n",
       "      <th>vehicle_passport</th>\n",
       "      <th>vehicle_drive</th>\n",
       "      <th>mileage</th>\n",
       "      <th>steering</th>\n",
       "      <th>color</th>\n",
       "      <th>brand</th>\n",
       "      <th>productionDate</th>\n",
       "      <th>model_name</th>\n",
       "      <th>vehicle_price</th>\n",
       "      <th>engineDisplacement</th>\n",
       "      <th>enginePower</th>\n",
       "      <th>fuelType</th>\n",
       "      <th>numberOfDoors</th>\n",
       "      <th>part</th>\n",
       "      <th>tmission_auto</th>\n",
       "      <th>tmission_mech</th>\n",
       "      <th>tmission_rob</th>\n",
       "      <th>tmission_var</th>\n",
       "      <th>enginePower_cat</th>\n",
       "      <th>brand_AUDI</th>\n",
       "      <th>brand_BMW</th>\n",
       "      <th>brand_HONDA</th>\n",
       "      <th>brand_INFINITI</th>\n",
       "      <th>brand_LEXUS</th>\n",
       "      <th>brand_MERCEDES</th>\n",
       "      <th>brand_MITSUBISHI</th>\n",
       "      <th>brand_NISSAN</th>\n",
       "      <th>brand_SKODA</th>\n",
       "      <th>brand_TOYOTA</th>\n",
       "      <th>brand_VOLKSWAGEN</th>\n",
       "      <th>brand_VOLVO</th>\n",
       "      <th>bodyType_enlargement</th>\n",
       "      <th>body_compactvan</th>\n",
       "      <th>body_coupe</th>\n",
       "      <th>body_hatchback</th>\n",
       "      <th>body_liftback</th>\n",
       "      <th>body_minivan</th>\n",
       "      <th>body_off_road</th>\n",
       "      <th>body_others</th>\n",
       "      <th>body_sedan</th>\n",
       "      <th>body_station_wagon</th>\n",
       "      <th>vehicle_drive_all</th>\n",
       "      <th>vehicle_drive_front</th>\n",
       "      <th>vehicle_drive_rear</th>\n",
       "      <th>productionDate_cat</th>\n",
       "      <th>engineDisplacement_cat</th>\n",
       "      <th>mileage_cat</th>\n",
       "      <th>color_code</th>\n",
       "      <th>Transmission_cat</th>\n",
       "      <th>vehicle_price_log</th>\n",
       "    </tr>\n",
       "  </thead>\n",
       "  <tbody>\n",
       "    <tr>\n",
       "      <th>0</th>\n",
       "      <td>0</td>\n",
       "      <td>rob</td>\n",
       "      <td>седан</td>\n",
       "      <td>1</td>\n",
       "      <td>front</td>\n",
       "      <td>13000</td>\n",
       "      <td>0</td>\n",
       "      <td>белый</td>\n",
       "      <td>AUDI</td>\n",
       "      <td>2019</td>\n",
       "      <td>A3</td>\n",
       "      <td>1.343154e+06</td>\n",
       "      <td>1.4</td>\n",
       "      <td>150.0</td>\n",
       "      <td>2</td>\n",
       "      <td>4.0</td>\n",
       "      <td>1</td>\n",
       "      <td>0</td>\n",
       "      <td>0</td>\n",
       "      <td>1</td>\n",
       "      <td>0</td>\n",
       "      <td>6.0</td>\n",
       "      <td>1</td>\n",
       "      <td>0</td>\n",
       "      <td>0</td>\n",
       "      <td>0</td>\n",
       "      <td>0</td>\n",
       "      <td>0</td>\n",
       "      <td>0</td>\n",
       "      <td>0</td>\n",
       "      <td>0</td>\n",
       "      <td>0</td>\n",
       "      <td>0</td>\n",
       "      <td>0</td>\n",
       "      <td>sedan</td>\n",
       "      <td>0</td>\n",
       "      <td>0</td>\n",
       "      <td>0</td>\n",
       "      <td>0</td>\n",
       "      <td>0</td>\n",
       "      <td>0</td>\n",
       "      <td>0</td>\n",
       "      <td>1</td>\n",
       "      <td>0</td>\n",
       "      <td>0</td>\n",
       "      <td>1</td>\n",
       "      <td>0</td>\n",
       "      <td>8.0</td>\n",
       "      <td>2.0</td>\n",
       "      <td>2.0</td>\n",
       "      <td>2</td>\n",
       "      <td>1.0</td>\n",
       "      <td>14.110531</td>\n",
       "    </tr>\n",
       "    <tr>\n",
       "      <th>1</th>\n",
       "      <td>2</td>\n",
       "      <td>rob</td>\n",
       "      <td>универсал</td>\n",
       "      <td>1</td>\n",
       "      <td>all</td>\n",
       "      <td>120000</td>\n",
       "      <td>0</td>\n",
       "      <td>синий</td>\n",
       "      <td>AUDI</td>\n",
       "      <td>2013</td>\n",
       "      <td>RS4</td>\n",
       "      <td>1.819757e+06</td>\n",
       "      <td>4.2</td>\n",
       "      <td>450.0</td>\n",
       "      <td>2</td>\n",
       "      <td>5.0</td>\n",
       "      <td>1</td>\n",
       "      <td>0</td>\n",
       "      <td>0</td>\n",
       "      <td>1</td>\n",
       "      <td>0</td>\n",
       "      <td>20.0</td>\n",
       "      <td>1</td>\n",
       "      <td>0</td>\n",
       "      <td>0</td>\n",
       "      <td>0</td>\n",
       "      <td>0</td>\n",
       "      <td>0</td>\n",
       "      <td>0</td>\n",
       "      <td>0</td>\n",
       "      <td>0</td>\n",
       "      <td>0</td>\n",
       "      <td>0</td>\n",
       "      <td>0</td>\n",
       "      <td>station_wagon</td>\n",
       "      <td>0</td>\n",
       "      <td>0</td>\n",
       "      <td>0</td>\n",
       "      <td>0</td>\n",
       "      <td>0</td>\n",
       "      <td>0</td>\n",
       "      <td>0</td>\n",
       "      <td>0</td>\n",
       "      <td>1</td>\n",
       "      <td>1</td>\n",
       "      <td>0</td>\n",
       "      <td>0</td>\n",
       "      <td>5.0</td>\n",
       "      <td>10.0</td>\n",
       "      <td>12.0</td>\n",
       "      <td>2</td>\n",
       "      <td>1.0</td>\n",
       "      <td>14.414214</td>\n",
       "    </tr>\n",
       "    <tr>\n",
       "      <th>2</th>\n",
       "      <td>2</td>\n",
       "      <td>rob</td>\n",
       "      <td>лифтбек</td>\n",
       "      <td>1</td>\n",
       "      <td>all</td>\n",
       "      <td>95000</td>\n",
       "      <td>0</td>\n",
       "      <td>коричневый</td>\n",
       "      <td>AUDI</td>\n",
       "      <td>2014</td>\n",
       "      <td>A5 SPORTBACK</td>\n",
       "      <td>1.386482e+06</td>\n",
       "      <td>2.0</td>\n",
       "      <td>220.0</td>\n",
       "      <td>2</td>\n",
       "      <td>5.0</td>\n",
       "      <td>1</td>\n",
       "      <td>0</td>\n",
       "      <td>0</td>\n",
       "      <td>1</td>\n",
       "      <td>0</td>\n",
       "      <td>13.0</td>\n",
       "      <td>1</td>\n",
       "      <td>0</td>\n",
       "      <td>0</td>\n",
       "      <td>0</td>\n",
       "      <td>0</td>\n",
       "      <td>0</td>\n",
       "      <td>0</td>\n",
       "      <td>0</td>\n",
       "      <td>0</td>\n",
       "      <td>0</td>\n",
       "      <td>0</td>\n",
       "      <td>0</td>\n",
       "      <td>liftback</td>\n",
       "      <td>0</td>\n",
       "      <td>0</td>\n",
       "      <td>0</td>\n",
       "      <td>1</td>\n",
       "      <td>0</td>\n",
       "      <td>0</td>\n",
       "      <td>0</td>\n",
       "      <td>0</td>\n",
       "      <td>0</td>\n",
       "      <td>1</td>\n",
       "      <td>0</td>\n",
       "      <td>0</td>\n",
       "      <td>5.0</td>\n",
       "      <td>5.0</td>\n",
       "      <td>10.0</td>\n",
       "      <td>1</td>\n",
       "      <td>1.0</td>\n",
       "      <td>14.142280</td>\n",
       "    </tr>\n",
       "    <tr>\n",
       "      <th>3</th>\n",
       "      <td>1</td>\n",
       "      <td>auto</td>\n",
       "      <td>лифтбек</td>\n",
       "      <td>1</td>\n",
       "      <td>all</td>\n",
       "      <td>31000</td>\n",
       "      <td>0</td>\n",
       "      <td>чёрный</td>\n",
       "      <td>AUDI</td>\n",
       "      <td>2014</td>\n",
       "      <td>RS7</td>\n",
       "      <td>3.665511e+06</td>\n",
       "      <td>4.0</td>\n",
       "      <td>560.0</td>\n",
       "      <td>2</td>\n",
       "      <td>5.0</td>\n",
       "      <td>1</td>\n",
       "      <td>1</td>\n",
       "      <td>0</td>\n",
       "      <td>0</td>\n",
       "      <td>0</td>\n",
       "      <td>23.0</td>\n",
       "      <td>1</td>\n",
       "      <td>0</td>\n",
       "      <td>0</td>\n",
       "      <td>0</td>\n",
       "      <td>0</td>\n",
       "      <td>0</td>\n",
       "      <td>0</td>\n",
       "      <td>0</td>\n",
       "      <td>0</td>\n",
       "      <td>0</td>\n",
       "      <td>0</td>\n",
       "      <td>0</td>\n",
       "      <td>liftback</td>\n",
       "      <td>0</td>\n",
       "      <td>0</td>\n",
       "      <td>0</td>\n",
       "      <td>1</td>\n",
       "      <td>0</td>\n",
       "      <td>0</td>\n",
       "      <td>0</td>\n",
       "      <td>0</td>\n",
       "      <td>0</td>\n",
       "      <td>1</td>\n",
       "      <td>0</td>\n",
       "      <td>0</td>\n",
       "      <td>5.0</td>\n",
       "      <td>9.0</td>\n",
       "      <td>4.0</td>\n",
       "      <td>3</td>\n",
       "      <td>1.0</td>\n",
       "      <td>15.114478</td>\n",
       "    </tr>\n",
       "    <tr>\n",
       "      <th>4</th>\n",
       "      <td>2</td>\n",
       "      <td>rob</td>\n",
       "      <td>седан</td>\n",
       "      <td>1</td>\n",
       "      <td>all</td>\n",
       "      <td>72000</td>\n",
       "      <td>0</td>\n",
       "      <td>белый</td>\n",
       "      <td>AUDI</td>\n",
       "      <td>2016</td>\n",
       "      <td>S6</td>\n",
       "      <td>2.642114e+06</td>\n",
       "      <td>4.0</td>\n",
       "      <td>450.0</td>\n",
       "      <td>2</td>\n",
       "      <td>4.0</td>\n",
       "      <td>1</td>\n",
       "      <td>0</td>\n",
       "      <td>0</td>\n",
       "      <td>1</td>\n",
       "      <td>0</td>\n",
       "      <td>20.0</td>\n",
       "      <td>1</td>\n",
       "      <td>0</td>\n",
       "      <td>0</td>\n",
       "      <td>0</td>\n",
       "      <td>0</td>\n",
       "      <td>0</td>\n",
       "      <td>0</td>\n",
       "      <td>0</td>\n",
       "      <td>0</td>\n",
       "      <td>0</td>\n",
       "      <td>0</td>\n",
       "      <td>0</td>\n",
       "      <td>sedan</td>\n",
       "      <td>0</td>\n",
       "      <td>0</td>\n",
       "      <td>0</td>\n",
       "      <td>0</td>\n",
       "      <td>0</td>\n",
       "      <td>0</td>\n",
       "      <td>0</td>\n",
       "      <td>1</td>\n",
       "      <td>0</td>\n",
       "      <td>1</td>\n",
       "      <td>0</td>\n",
       "      <td>0</td>\n",
       "      <td>6.0</td>\n",
       "      <td>9.0</td>\n",
       "      <td>8.0</td>\n",
       "      <td>2</td>\n",
       "      <td>1.0</td>\n",
       "      <td>14.787090</td>\n",
       "    </tr>\n",
       "  </tbody>\n",
       "</table>\n",
       "</div>"
      ],
      "text/plain": [
       "   owners vehicleTransmission   bodyType  vehicle_passport vehicle_drive  \\\n",
       "0       0                 rob      седан                 1         front   \n",
       "1       2                 rob  универсал                 1           all   \n",
       "2       2                 rob    лифтбек                 1           all   \n",
       "3       1                auto    лифтбек                 1           all   \n",
       "4       2                 rob      седан                 1           all   \n",
       "\n",
       "   mileage  steering       color brand  productionDate    model_name  \\\n",
       "0    13000         0       белый  AUDI            2019            A3   \n",
       "1   120000         0       синий  AUDI            2013           RS4   \n",
       "2    95000         0  коричневый  AUDI            2014  A5 SPORTBACK   \n",
       "3    31000         0      чёрный  AUDI            2014           RS7   \n",
       "4    72000         0       белый  AUDI            2016            S6   \n",
       "\n",
       "   vehicle_price  engineDisplacement  enginePower  fuelType  numberOfDoors  \\\n",
       "0   1.343154e+06                 1.4        150.0         2            4.0   \n",
       "1   1.819757e+06                 4.2        450.0         2            5.0   \n",
       "2   1.386482e+06                 2.0        220.0         2            5.0   \n",
       "3   3.665511e+06                 4.0        560.0         2            5.0   \n",
       "4   2.642114e+06                 4.0        450.0         2            4.0   \n",
       "\n",
       "   part  tmission_auto  tmission_mech  tmission_rob  tmission_var  \\\n",
       "0     1              0              0             1             0   \n",
       "1     1              0              0             1             0   \n",
       "2     1              0              0             1             0   \n",
       "3     1              1              0             0             0   \n",
       "4     1              0              0             1             0   \n",
       "\n",
       "   enginePower_cat  brand_AUDI  brand_BMW  brand_HONDA  brand_INFINITI  \\\n",
       "0              6.0           1          0            0               0   \n",
       "1             20.0           1          0            0               0   \n",
       "2             13.0           1          0            0               0   \n",
       "3             23.0           1          0            0               0   \n",
       "4             20.0           1          0            0               0   \n",
       "\n",
       "   brand_LEXUS  brand_MERCEDES  brand_MITSUBISHI  brand_NISSAN  brand_SKODA  \\\n",
       "0            0               0                 0             0            0   \n",
       "1            0               0                 0             0            0   \n",
       "2            0               0                 0             0            0   \n",
       "3            0               0                 0             0            0   \n",
       "4            0               0                 0             0            0   \n",
       "\n",
       "   brand_TOYOTA  brand_VOLKSWAGEN  brand_VOLVO bodyType_enlargement  \\\n",
       "0             0                 0            0                sedan   \n",
       "1             0                 0            0        station_wagon   \n",
       "2             0                 0            0             liftback   \n",
       "3             0                 0            0             liftback   \n",
       "4             0                 0            0                sedan   \n",
       "\n",
       "   body_compactvan  body_coupe  body_hatchback  body_liftback  body_minivan  \\\n",
       "0                0           0               0              0             0   \n",
       "1                0           0               0              0             0   \n",
       "2                0           0               0              1             0   \n",
       "3                0           0               0              1             0   \n",
       "4                0           0               0              0             0   \n",
       "\n",
       "   body_off_road  body_others  body_sedan  body_station_wagon  \\\n",
       "0              0            0           1                   0   \n",
       "1              0            0           0                   1   \n",
       "2              0            0           0                   0   \n",
       "3              0            0           0                   0   \n",
       "4              0            0           1                   0   \n",
       "\n",
       "   vehicle_drive_all  vehicle_drive_front  vehicle_drive_rear  \\\n",
       "0                  0                    1                   0   \n",
       "1                  1                    0                   0   \n",
       "2                  1                    0                   0   \n",
       "3                  1                    0                   0   \n",
       "4                  1                    0                   0   \n",
       "\n",
       "   productionDate_cat  engineDisplacement_cat  mileage_cat  color_code  \\\n",
       "0                 8.0                     2.0          2.0           2   \n",
       "1                 5.0                    10.0         12.0           2   \n",
       "2                 5.0                     5.0         10.0           1   \n",
       "3                 5.0                     9.0          4.0           3   \n",
       "4                 6.0                     9.0          8.0           2   \n",
       "\n",
       "   Transmission_cat  vehicle_price_log  \n",
       "0               1.0          14.110531  \n",
       "1               1.0          14.414214  \n",
       "2               1.0          14.142280  \n",
       "3               1.0          15.114478  \n",
       "4               1.0          14.787090  "
      ]
     },
     "execution_count": 233,
     "metadata": {},
     "output_type": "execute_result"
    }
   ],
   "source": [
    "union.head()"
   ]
  },
  {
   "cell_type": "markdown",
   "id": "0d50b78b",
   "metadata": {},
   "source": [
    "# **Обучение финальной модели**"
   ]
  },
  {
   "cell_type": "markdown",
   "id": "d0e73796",
   "metadata": {},
   "source": [
    "## Тестирование и сравнение моделей"
   ]
  },
  {
   "cell_type": "markdown",
   "id": "55782981",
   "metadata": {},
   "source": [
    "Теперь обучим остальные модели.\n",
    "\n",
    "Первоначальные показатели:\n",
    "\n",
    "|Модель|MAPE|\n",
    "|:-|:-\n",
    "|RandomForest       |19.5107\n",
    "|DecisionTree_bag   |19.5398\n",
    "|CatBoost           |20.3489\n",
    "|ExtraTrees         |20.7001\n",
    "|LGBM               |21.0173\n",
    "|KNeighbors_bag     |22.2228\n",
    "|KNeighbors         |22.4887\n",
    "|DecisionTree       |23.4363\n",
    "|GradientBoosting   |25.2751\n",
    "|LinearRegression   |80.5775\n",
    "\n",
    "Учитывая, что единичное дерево решений хуже, чем оно в бэггинге, а разница между KNeighbors и KNeighbors_bag не существенная, уберем из списка моделей DecisionTree и KNeighbors_bag. Также уберем и DecisionTree_bag, т.к. разницы с RandomForest практически нет."
   ]
  },
  {
   "cell_type": "code",
   "execution_count": 234,
   "id": "da767cbc",
   "metadata": {},
   "outputs": [],
   "source": [
    "estimators = {'LinearRegression':LinearRegression(),\n",
    "              'RandomForest': RandomForestRegressor(random_state=42,criterion='mae'),\n",
    "              'ExtraTrees': ExtraTreesRegressor(random_state=42,criterion='mae'),\n",
    "              'KNeighbors': KNeighborsRegressor(n_neighbors=10),\n",
    "              'GradientBoosting': GradientBoostingRegressor(random_state=42),\n",
    "              'CatBoost': CatBoostRegressor(iterations=100,random_state=42,silent=True),\n",
    "              'LGBM': lgb.LGBMRegressor(random_state=42)\n",
    "             }"
   ]
  },
  {
   "cell_type": "code",
   "execution_count": 235,
   "id": "bbdd375a",
   "metadata": {},
   "outputs": [],
   "source": [
    "def training_models_with_log(estimators_dict):\n",
    "    import time\n",
    "    t_begin = time.time()\n",
    "    all_mape = pd.DataFrame(columns=['mape'])\n",
    "    for key in estimators_dict.keys():\n",
    "        mape = models_mape_with_log(key)\n",
    "        all_mape = pd.concat([all_mape,\n",
    "                              pd.DataFrame([mape],index=[key],columns=['mape'])])\n",
    "    print('Время поиска: ',int((time.time()-t_begin)/60),'мин')\n",
    "    return all_mape\n",
    "\n",
    "def models_mape_with_log (est_key):\n",
    "    estimator = estimators[est_key]\n",
    "    model = estimator.fit(X_train, y_train)\n",
    "    y_pred = model.predict(X_test)\n",
    "    return mean_absolute_percentage_error(np.exp(y_test),np.exp(y_pred))*100"
   ]
  },
  {
   "cell_type": "code",
   "execution_count": 236,
   "id": "331663de",
   "metadata": {},
   "outputs": [
    {
     "name": "stdout",
     "output_type": "stream",
     "text": [
      "Время поиска:  53 мин\n"
     ]
    },
    {
     "data": {
      "text/html": [
       "<div>\n",
       "<style scoped>\n",
       "    .dataframe tbody tr th:only-of-type {\n",
       "        vertical-align: middle;\n",
       "    }\n",
       "\n",
       "    .dataframe tbody tr th {\n",
       "        vertical-align: top;\n",
       "    }\n",
       "\n",
       "    .dataframe thead th {\n",
       "        text-align: right;\n",
       "    }\n",
       "</style>\n",
       "<table border=\"1\" class=\"dataframe\">\n",
       "  <thead>\n",
       "    <tr style=\"text-align: right;\">\n",
       "      <th></th>\n",
       "      <th>mape</th>\n",
       "    </tr>\n",
       "  </thead>\n",
       "  <tbody>\n",
       "    <tr>\n",
       "      <th>CatBoost</th>\n",
       "      <td>15.992644</td>\n",
       "    </tr>\n",
       "    <tr>\n",
       "      <th>RandomForest</th>\n",
       "      <td>16.353554</td>\n",
       "    </tr>\n",
       "    <tr>\n",
       "      <th>LGBM</th>\n",
       "      <td>16.472720</td>\n",
       "    </tr>\n",
       "    <tr>\n",
       "      <th>ExtraTrees</th>\n",
       "      <td>16.892321</td>\n",
       "    </tr>\n",
       "    <tr>\n",
       "      <th>GradientBoosting</th>\n",
       "      <td>18.338699</td>\n",
       "    </tr>\n",
       "    <tr>\n",
       "      <th>KNeighbors</th>\n",
       "      <td>20.513172</td>\n",
       "    </tr>\n",
       "    <tr>\n",
       "      <th>LinearRegression</th>\n",
       "      <td>22.535078</td>\n",
       "    </tr>\n",
       "  </tbody>\n",
       "</table>\n",
       "</div>"
      ],
      "text/plain": [
       "                       mape\n",
       "CatBoost          15.992644\n",
       "RandomForest      16.353554\n",
       "LGBM              16.472720\n",
       "ExtraTrees        16.892321\n",
       "GradientBoosting  18.338699\n",
       "KNeighbors        20.513172\n",
       "LinearRegression  22.535078"
      ]
     },
     "execution_count": 236,
     "metadata": {},
     "output_type": "execute_result"
    }
   ],
   "source": [
    "X = union[union.part==1][model_columns].values\n",
    "Y = union[union.part==1].vehicle_price_log\n",
    "X_train,X_test,y_train,y_test = train_test_split(X,Y,test_size=0.2,random_state=42)\n",
    "\n",
    "all_mape_2 = training_models_with_log(estimators)\n",
    "all_mape_2.sort_values('mape')"
   ]
  },
  {
   "cell_type": "markdown",
   "id": "23c6bbd0",
   "metadata": {},
   "source": [
    "## Настройка гиперпараметров. Стекинг"
   ]
  },
  {
   "cell_type": "markdown",
   "id": "09336767",
   "metadata": {},
   "source": [
    "Видно, что после работы с признаками, результаты моделей существенной улучшились, особенно на линейной регрессии. \n",
    "Теперь, для обучения попробуем **стэкинг**.\n",
    "\n",
    "По результатам настройки гиперпараметров моделей и подбора комбинаций базовых и мета моделей, получилось следующее:"
   ]
  },
  {
   "cell_type": "code",
   "execution_count": 237,
   "id": "c9b3f224",
   "metadata": {},
   "outputs": [
    {
     "name": "stdout",
     "output_type": "stream",
     "text": [
      "MAPE: 14.975520618671506\n",
      "Время поиска:  6 мин\n"
     ]
    }
   ],
   "source": [
    "t_begin = time.time()\n",
    "X = union[union.part==1][model_columns].values\n",
    "Y = union[union.part==1].vehicle_price_log\n",
    "X_train,X_test,y_train,y_test = train_test_split(X,Y,test_size=0.2,random_state=42)\n",
    "\n",
    "cv = KFold(n_splits=5, shuffle=True,random_state=42)\n",
    "estimators = [('LR', LinearRegression()),\n",
    "              ('KNR', KNeighborsRegressor(n_neighbors=10,\n",
    "                                          weights='distance',\n",
    "                                          algorithm='ball_tree',\n",
    "                                          p=1)),\n",
    "              ('GBR', GradientBoostingRegressor(n_estimators=600,\n",
    "                                                loss='huber',\n",
    "                                                random_state=42,\n",
    "                                                learning_rate=0.4)),\n",
    "              ('LGBM', lgb.LGBMRegressor(n_estimators=2000,\n",
    "                                         learning_rate=0.04,\n",
    "                                         reg_alpha = 0.03,\n",
    "                                         reg_lambda = 1,\n",
    "                                         random_state=42)),\n",
    "              ('CBR', CatBoostRegressor(loss_function='RMSE',\n",
    "                                        learning_rate=0.1,\n",
    "                                        random_state=42,\n",
    "                                        silent=True))\n",
    "             ]\n",
    "final_estimator = RandomForestRegressor(n_estimators=200,\n",
    "                                        criterion='mae',\n",
    "                                        max_features='sqrt',\n",
    "                                        random_state=42,\n",
    "                                        n_jobs=-1)\n",
    "\n",
    "StR = StackingRegressor(estimators=estimators,\n",
    "                        final_estimator=final_estimator,\n",
    "                        cv=cv,\n",
    "                        n_jobs=-1,\n",
    "                        passthrough=True)\n",
    "StR.fit(X_train, y_train)\n",
    "y_pred = StR.predict(X_test)\n",
    "print('MAPE:',mean_absolute_percentage_error(np.exp(y_test),np.exp(y_pred))*100)\n",
    "print('Время поиска: ',int((time.time()-t_begin)/60),'мин')"
   ]
  },
  {
   "cell_type": "markdown",
   "id": "abf5cd72",
   "metadata": {},
   "source": [
    "И, напоследок, учитывая способность catboost работать с категориальными (текстовыми) данными, добавим в список признаков для обучения **model_name**"
   ]
  },
  {
   "cell_type": "code",
   "execution_count": 250,
   "id": "b5845999",
   "metadata": {},
   "outputs": [],
   "source": [
    "model_columns_cat = ['owners','vehicle_passport','steering','model_name',\n",
    "                 'fuelType', 'numberOfDoors','enginePower_cat','brand_AUDI',\n",
    "                 'brand_BMW','brand_HONDA', 'brand_INFINITI','brand_LEXUS',\n",
    "                 'brand_MERCEDES','brand_MITSUBISHI','brand_NISSAN',\n",
    "                 'brand_SKODA', 'brand_TOYOTA','brand_VOLKSWAGEN',\n",
    "                 'brand_VOLVO','body_coupe', 'body_hatchback','body_minivan',\n",
    "                 'body_off_road','body_others', 'body_sedan','body_station_wagon',\n",
    "                 'vehicle_drive_all','vehicle_drive_front','vehicle_drive_rear',\n",
    "                 'productionDate_cat','engineDisplacement_cat', 'mileage_cat',\n",
    "                 'color_code','Transmission_cat']"
   ]
  },
  {
   "cell_type": "code",
   "execution_count": 251,
   "id": "a6ba4190",
   "metadata": {},
   "outputs": [
    {
     "name": "stdout",
     "output_type": "stream",
     "text": [
      "MAPE: 14.128771257359695\n"
     ]
    }
   ],
   "source": [
    "X = union[union.part==1][model_columns_cat].values\n",
    "Y = union[union.part==1].vehicle_price_log\n",
    "X_train,X_test,y_train,y_test = train_test_split(X,Y,test_size=0.2,random_state=42)\n",
    "\n",
    "CBR = CatBoostRegressor(loss_function='MAPE',\n",
    "                        cat_features = [3],\n",
    "                        learning_rate=0.1,\n",
    "                        random_state=42,\n",
    "                        silent=True)\n",
    "cbr_model = CBR.fit(X_train, y_train)\n",
    "y_pred = cbr_model.predict(X_test)\n",
    "print('MAPE:',mean_absolute_percentage_error(np.exp(y_test),np.exp(y_pred))*100)"
   ]
  },
  {
   "cell_type": "markdown",
   "id": "502f1875",
   "metadata": {},
   "source": [
    "Единичная модель оказалась сильнеей стэкинга, оставим её для предсказания стоимости ТС"
   ]
  },
  {
   "cell_type": "markdown",
   "id": "292358ec",
   "metadata": {},
   "source": [
    "# Итоговое предсказание"
   ]
  },
  {
   "cell_type": "markdown",
   "id": "5999c982",
   "metadata": {},
   "source": [
    "Сформируем файл для kaggle"
   ]
  },
  {
   "cell_type": "code",
   "execution_count": 254,
   "id": "cdab7461",
   "metadata": {},
   "outputs": [],
   "source": [
    "submission = pd.read_csv('sample_submission.csv')"
   ]
  },
  {
   "cell_type": "code",
   "execution_count": 255,
   "id": "63733769",
   "metadata": {},
   "outputs": [],
   "source": [
    "final_prediction = cbr_model.predict(union[union.part==0][model_columns_cat].values)\n",
    "final_prediction = pd.Series(np.exp(final_prediction))\n",
    "submission.price = final_prediction\n",
    "submission.to_csv('submission.csv',index=False)"
   ]
  },
  {
   "cell_type": "markdown",
   "id": "e9a48063",
   "metadata": {},
   "source": [
    "# Заключение"
   ]
  },
  {
   "cell_type": "markdown",
   "id": "e38b36fa",
   "metadata": {},
   "source": [
    "Значение метрики на неразмеченных данных составило **16.88193**. \n",
    "При прогнозирование стоимости автомобилей в низком ценовом диапазоне такая погрешность могла быть приемлемой, но в случаях с дорогими автомобилями, например, более 10 млн. рублей, такое отклоненение может препятствовать достижению поставленной цели.\n",
    "\n",
    "Предположительно, уменьшение значения MAPE можно было бы достичь следующими способами:\n",
    "- более глубокое изучение имеющихся признаков,\n",
    "- более точная работа по настройке гиперпараметров моделей (параметры были настроены индивидуально для каждой модели, но в стекинге такая настройка не осуществлялась в связи с большими требованиями к вычислительным ресурсам),\n",
    "- обучение моделей на большем количестве размеченных экземпляров."
   ]
  }
 ],
 "metadata": {
  "accelerator": "GPU",
  "colab": {
   "collapsed_sections": [],
   "name": "Car price predict Colab.ipynb",
   "provenance": []
  },
  "hide_input": false,
  "kernelspec": {
   "display_name": "Python 3",
   "language": "python",
   "name": "python3"
  },
  "language_info": {
   "codemirror_mode": {
    "name": "ipython",
    "version": 3
   },
   "file_extension": ".py",
   "mimetype": "text/x-python",
   "name": "python",
   "nbconvert_exporter": "python",
   "pygments_lexer": "ipython3",
   "version": "3.8.8"
  },
  "varInspector": {
   "cols": {
    "lenName": 16,
    "lenType": 16,
    "lenVar": 40
   },
   "kernels_config": {
    "python": {
     "delete_cmd_postfix": "",
     "delete_cmd_prefix": "del ",
     "library": "var_list.py",
     "varRefreshCmd": "print(var_dic_list())"
    },
    "r": {
     "delete_cmd_postfix": ") ",
     "delete_cmd_prefix": "rm(",
     "library": "var_list.r",
     "varRefreshCmd": "cat(var_dic_list()) "
    }
   },
   "types_to_exclude": [
    "module",
    "function",
    "builtin_function_or_method",
    "instance",
    "_Feature"
   ],
   "window_display": true
  }
 },
 "nbformat": 4,
 "nbformat_minor": 5
}
